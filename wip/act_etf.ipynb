{
 "cells": [
  {
   "cell_type": "code",
   "execution_count": 1,
   "metadata": {},
   "outputs": [
    {
     "name": "stdout",
     "output_type": "stream",
     "text": [
      "shape: (18_752, 4)\n",
      "┌────────────┬─────────────┬────────────────┬────────────┐\n",
      "│ DATE       ┆ STRATEGY_ID ┆ ASSET_CLASS_ID ┆ WGT        │\n",
      "│ ---        ┆ ---         ┆ ---            ┆ ---        │\n",
      "│ str        ┆ str         ┆ str            ┆ f64        │\n",
      "╞════════════╪═════════════╪════════════════╪════════════╡\n",
      "│ 2000-03-01 ┆ NDB         ┆ INTLBOND       ┆ 1.0000e-12 │\n",
      "│ 2000-03-01 ┆ NDB         ┆ FRN            ┆ 0.043348   │\n",
      "│ 2000-03-01 ┆ NDB         ┆ TBILL          ┆ 0.0        │\n",
      "│ 2000-03-01 ┆ NDGI        ┆ USLG           ┆ 0.251856   │\n",
      "│ 2000-03-01 ┆ NDGI        ┆ USSM           ┆ 0.059764   │\n",
      "│ …          ┆ …           ┆ …              ┆ …          │\n",
      "│ 2000-03-01 ┆ NDB         ┆ MGDFUT         ┆ 0.080686   │\n",
      "│ 2000-03-01 ┆ NDB         ┆ AGG            ┆ 0.371721   │\n",
      "│ 2000-03-01 ┆ NDB         ┆ LTT            ┆ 0.0        │\n",
      "│ 2000-03-01 ┆ NDB         ┆ TIPS           ┆ 0.0        │\n",
      "│ 2000-03-01 ┆ NDB         ┆ HY             ┆ 0.0        │\n",
      "└────────────┴─────────────┴────────────────┴────────────┘\n"
     ]
    }
   ],
   "source": [
    "import polars as pl\n",
    "import plotly.express as px\n",
    "import pandas as pd\n",
    "\n",
    "df = pl.read_csv(\"aao.csv\")\n",
    "df= df.drop([\"MODE_TAG\", \"modified_at\", \"modified_by\"])\n",
    "print(df)"
   ]
  },
  {
   "cell_type": "code",
   "execution_count": 10,
   "metadata": {},
   "outputs": [
    {
     "name": "stdout",
     "output_type": "stream",
     "text": [
      "shape: (64, 3)\n",
      "┌─────────────┬────────────────┬────────────┐\n",
      "│ STRATEGY_ID ┆ ASSET_CLASS_ID ┆ WGT        │\n",
      "│ ---         ┆ ---            ┆ ---        │\n",
      "│ str         ┆ str            ┆ f64        │\n",
      "╞═════════════╪════════════════╪════════════╡\n",
      "│ NDCB        ┆ AGG            ┆ 0.479307   │\n",
      "│ NDLTG       ┆ FRN            ┆ 0.003458   │\n",
      "│ NDLTG       ┆ ABSRET         ┆ 5.4608e-18 │\n",
      "│ NDGI        ┆ LTT            ┆ 0.05905    │\n",
      "│ NDB         ┆ COMM           ┆ 0.001065   │\n",
      "│ …           ┆ …              ┆ …          │\n",
      "│ NDB         ┆ USSM           ┆ 0.068735   │\n",
      "│ NDLTG       ┆ USLG           ┆ 0.320246   │\n",
      "│ NDB         ┆ INTLSM         ┆ 0.003209   │\n",
      "│ NDGI        ┆ USSM           ┆ 0.083714   │\n",
      "│ NDGI        ┆ INTLLG         ┆ 0.1517     │\n",
      "└─────────────┴────────────────┴────────────┘\n"
     ]
    },
    {
     "data": {
      "application/vnd.plotly.v1+json": {
       "config": {
        "plotlyServerURL": "https://plot.ly"
       },
       "data": [
        {
         "alignmentgroup": "True",
         "hovertemplate": "ASSET_CLASS_ID=AGG<br>STRATEGY_ID=%{x}<br>WGT=%{y}<extra></extra>",
         "legendgroup": "AGG",
         "marker": {
          "color": "#636efa",
          "pattern": {
           "shape": ""
          }
         },
         "name": "AGG",
         "offsetgroup": "AGG",
         "orientation": "v",
         "showlegend": true,
         "textposition": "auto",
         "type": "bar",
         "x": [
          "NDCB",
          "NDLTG",
          "NDB",
          "NDGI"
         ],
         "xaxis": "x",
         "y": [
          0.47930725720841183,
          0.03665437592458032,
          0.31362677318027915,
          0.1421890204097738
         ],
         "yaxis": "y"
        },
        {
         "alignmentgroup": "True",
         "hovertemplate": "ASSET_CLASS_ID=FRN<br>STRATEGY_ID=%{x}<br>WGT=%{y}<extra></extra>",
         "legendgroup": "FRN",
         "marker": {
          "color": "#EF553B",
          "pattern": {
           "shape": ""
          }
         },
         "name": "FRN",
         "offsetgroup": "FRN",
         "orientation": "v",
         "showlegend": true,
         "textposition": "auto",
         "type": "bar",
         "x": [
          "NDLTG",
          "NDGI",
          "NDB",
          "NDCB"
         ],
         "xaxis": "x",
         "y": [
          0.003458042377863078,
          0.006697078527894872,
          0.011641490050372632,
          0.022500100936952986
         ],
         "yaxis": "y"
        },
        {
         "alignmentgroup": "True",
         "hovertemplate": "ASSET_CLASS_ID=ABSRET<br>STRATEGY_ID=%{x}<br>WGT=%{y}<extra></extra>",
         "legendgroup": "ABSRET",
         "marker": {
          "color": "#00cc96",
          "pattern": {
           "shape": ""
          }
         },
         "name": "ABSRET",
         "offsetgroup": "ABSRET",
         "orientation": "v",
         "showlegend": true,
         "textposition": "auto",
         "type": "bar",
         "x": [
          "NDLTG",
          "NDB",
          "NDGI",
          "NDCB"
         ],
         "xaxis": "x",
         "y": [
          5.460750853242322e-18,
          2.731126279863482e-14,
          8.191126279863483e-18,
          5.699634812286689e-13
         ],
         "yaxis": "y"
        },
        {
         "alignmentgroup": "True",
         "hovertemplate": "ASSET_CLASS_ID=LTT<br>STRATEGY_ID=%{x}<br>WGT=%{y}<extra></extra>",
         "legendgroup": "LTT",
         "marker": {
          "color": "#ab63fa",
          "pattern": {
           "shape": ""
          }
         },
         "name": "LTT",
         "offsetgroup": "LTT",
         "orientation": "v",
         "showlegend": true,
         "textposition": "auto",
         "type": "bar",
         "x": [
          "NDGI",
          "NDCB",
          "NDB",
          "NDLTG"
         ],
         "xaxis": "x",
         "y": [
          0.05905006730688572,
          0.04419368992001272,
          0.05808587440678455,
          0.052811563277905024
         ],
         "yaxis": "y"
        },
        {
         "alignmentgroup": "True",
         "hovertemplate": "ASSET_CLASS_ID=COMM<br>STRATEGY_ID=%{x}<br>WGT=%{y}<extra></extra>",
         "legendgroup": "COMM",
         "marker": {
          "color": "#FFA15A",
          "pattern": {
           "shape": ""
          }
         },
         "name": "COMM",
         "offsetgroup": "COMM",
         "orientation": "v",
         "showlegend": true,
         "textposition": "auto",
         "type": "bar",
         "x": [
          "NDB",
          "NDCB",
          "NDLTG",
          "NDGI"
         ],
         "xaxis": "x",
         "y": [
          0.0010653630493684797,
          0.016841397809190316,
          2.0477815699658707e-18,
          3.0716723549488057e-18
         ],
         "yaxis": "y"
        },
        {
         "alignmentgroup": "True",
         "hovertemplate": "ASSET_CLASS_ID=TIPS<br>STRATEGY_ID=%{x}<br>WGT=%{y}<extra></extra>",
         "legendgroup": "TIPS",
         "marker": {
          "color": "#19d3f3",
          "pattern": {
           "shape": ""
          }
         },
         "name": "TIPS",
         "offsetgroup": "TIPS",
         "orientation": "v",
         "showlegend": true,
         "textposition": "auto",
         "type": "bar",
         "x": [
          "NDLTG",
          "NDB",
          "NDCB",
          "NDGI"
         ],
         "xaxis": "x",
         "y": [
          0.000017556942235261398,
          0.0019125690857448477,
          0.0019473324312110154,
          0.0005747193984776287
         ],
         "yaxis": "y"
        },
        {
         "alignmentgroup": "True",
         "hovertemplate": "ASSET_CLASS_ID=MGDFUT<br>STRATEGY_ID=%{x}<br>WGT=%{y}<extra></extra>",
         "legendgroup": "MGDFUT",
         "marker": {
          "color": "#FF6692",
          "pattern": {
           "shape": ""
          }
         },
         "name": "MGDFUT",
         "offsetgroup": "MGDFUT",
         "orientation": "v",
         "showlegend": true,
         "textposition": "auto",
         "type": "bar",
         "x": [
          "NDGI",
          "NDLTG",
          "NDB",
          "NDCB"
         ],
         "xaxis": "x",
         "y": [
          0.03582965675757715,
          0.024956072976763517,
          0.04279125665422124,
          0.054835379662804176
         ],
         "yaxis": "y"
        },
        {
         "alignmentgroup": "True",
         "hovertemplate": "ASSET_CLASS_ID=REIT<br>STRATEGY_ID=%{x}<br>WGT=%{y}<extra></extra>",
         "legendgroup": "REIT",
         "marker": {
          "color": "#B6E880",
          "pattern": {
           "shape": ""
          }
         },
         "name": "REIT",
         "offsetgroup": "REIT",
         "orientation": "v",
         "showlegend": true,
         "textposition": "auto",
         "type": "bar",
         "x": [
          "NDLTG",
          "NDB",
          "NDCB",
          "NDGI"
         ],
         "xaxis": "x",
         "y": [
          0.09031918612363245,
          0.07661581375367799,
          0.04208165839409647,
          0.10511761252249996
         ],
         "yaxis": "y"
        },
        {
         "alignmentgroup": "True",
         "hovertemplate": "ASSET_CLASS_ID=EM<br>STRATEGY_ID=%{x}<br>WGT=%{y}<extra></extra>",
         "legendgroup": "EM",
         "marker": {
          "color": "#FF97FF",
          "pattern": {
           "shape": ""
          }
         },
         "name": "EM",
         "offsetgroup": "EM",
         "orientation": "v",
         "showlegend": true,
         "textposition": "auto",
         "type": "bar",
         "x": [
          "NDLTG",
          "NDGI",
          "NDCB",
          "NDB"
         ],
         "xaxis": "x",
         "y": [
          0.13795265999755205,
          0.07161964799395164,
          0.018704966051396196,
          0.041977552520438846
         ],
         "yaxis": "y"
        },
        {
         "alignmentgroup": "True",
         "hovertemplate": "ASSET_CLASS_ID=INTLLG<br>STRATEGY_ID=%{x}<br>WGT=%{y}<extra></extra>",
         "legendgroup": "INTLLG",
         "marker": {
          "color": "#FECB52",
          "pattern": {
           "shape": ""
          }
         },
         "name": "INTLLG",
         "offsetgroup": "INTLLG",
         "orientation": "v",
         "showlegend": true,
         "textposition": "auto",
         "type": "bar",
         "x": [
          "NDB",
          "NDLTG",
          "NDCB",
          "NDGI"
         ],
         "xaxis": "x",
         "y": [
          0.09950078681139685,
          0.15475561639563276,
          0.03241852470137044,
          0.15169950290263493
         ],
         "yaxis": "y"
        },
        {
         "alignmentgroup": "True",
         "hovertemplate": "ASSET_CLASS_ID=HY<br>STRATEGY_ID=%{x}<br>WGT=%{y}<extra></extra>",
         "legendgroup": "HY",
         "marker": {
          "color": "#636efa",
          "pattern": {
           "shape": ""
          }
         },
         "name": "HY",
         "offsetgroup": "HY",
         "orientation": "v",
         "showlegend": true,
         "textposition": "auto",
         "type": "bar",
         "x": [
          "NDCB",
          "NDGI",
          "NDB",
          "NDLTG"
         ],
         "xaxis": "x",
         "y": [
          0.03734803521848889,
          0.01555118405597243,
          0.02503957590779914,
          0.0102686401430814
         ],
         "yaxis": "y"
        },
        {
         "alignmentgroup": "True",
         "hovertemplate": "ASSET_CLASS_ID=INTLBOND<br>STRATEGY_ID=%{x}<br>WGT=%{y}<extra></extra>",
         "legendgroup": "INTLBOND",
         "marker": {
          "color": "#EF553B",
          "pattern": {
           "shape": ""
          }
         },
         "name": "INTLBOND",
         "offsetgroup": "INTLBOND",
         "orientation": "v",
         "showlegend": true,
         "textposition": "auto",
         "type": "bar",
         "x": [
          "NDGI",
          "NDCB",
          "NDLTG",
          "NDB"
         ],
         "xaxis": "x",
         "y": [
          2.5938737201365193e-13,
          3.481242320819113e-13,
          1.9112832764505118e-13,
          3.105808873720136e-13
         ],
         "yaxis": "y"
        },
        {
         "alignmentgroup": "True",
         "hovertemplate": "ASSET_CLASS_ID=USSM<br>STRATEGY_ID=%{x}<br>WGT=%{y}<extra></extra>",
         "legendgroup": "USSM",
         "marker": {
          "color": "#00cc96",
          "pattern": {
           "shape": ""
          }
         },
         "name": "USSM",
         "offsetgroup": "USSM",
         "orientation": "v",
         "showlegend": true,
         "textposition": "auto",
         "type": "bar",
         "x": [
          "NDCB",
          "NDLTG",
          "NDB",
          "NDGI"
         ],
         "xaxis": "x",
         "y": [
          0.07101898771526917,
          0.1490071494552541,
          0.068735240745219,
          0.08371379078514513
         ],
         "yaxis": "y"
        },
        {
         "alignmentgroup": "True",
         "hovertemplate": "ASSET_CLASS_ID=TBILL<br>STRATEGY_ID=%{x}<br>WGT=%{y}<extra></extra>",
         "legendgroup": "TBILL",
         "marker": {
          "color": "#ab63fa",
          "pattern": {
           "shape": ""
          }
         },
         "name": "TBILL",
         "offsetgroup": "TBILL",
         "orientation": "v",
         "showlegend": true,
         "textposition": "auto",
         "type": "bar",
         "x": [
          "NDCB",
          "NDLTG",
          "NDB",
          "NDGI"
         ],
         "xaxis": "x",
         "y": [
          0.0317615415319117,
          0.0011923096955741208,
          0.009625928639165511,
          0.004575316018552136
         ],
         "yaxis": "y"
        },
        {
         "alignmentgroup": "True",
         "hovertemplate": "ASSET_CLASS_ID=USLG<br>STRATEGY_ID=%{x}<br>WGT=%{y}<extra></extra>",
         "legendgroup": "USLG",
         "marker": {
          "color": "#FFA15A",
          "pattern": {
           "shape": ""
          }
         },
         "name": "USLG",
         "offsetgroup": "USLG",
         "orientation": "v",
         "showlegend": true,
         "textposition": "auto",
         "type": "bar",
         "x": [
          "NDB",
          "NDCB",
          "NDGI",
          "NDLTG"
         ],
         "xaxis": "x",
         "y": [
          0.2461728162660152,
          0.13834037528600876,
          0.31390131331747984,
          0.32024568221022104
         ],
         "yaxis": "y"
        },
        {
         "alignmentgroup": "True",
         "hovertemplate": "ASSET_CLASS_ID=INTLSM<br>STRATEGY_ID=%{x}<br>WGT=%{y}<extra></extra>",
         "legendgroup": "INTLSM",
         "marker": {
          "color": "#19d3f3",
          "pattern": {
           "shape": ""
          }
         },
         "name": "INTLSM",
         "offsetgroup": "INTLSM",
         "orientation": "v",
         "showlegend": true,
         "textposition": "auto",
         "type": "bar",
         "x": [
          "NDGI",
          "NDLTG",
          "NDCB",
          "NDB"
         ],
         "xaxis": "x",
         "y": [
          0.009481090002895456,
          0.0183611444795138,
          0.008700753131957256,
          0.0032089589291787552
         ],
         "yaxis": "y"
        }
       ],
       "layout": {
        "barmode": "relative",
        "legend": {
         "title": {
          "text": "ASSET_CLASS_ID"
         },
         "tracegroupgap": 0
        },
        "template": {
         "data": {
          "bar": [
           {
            "error_x": {
             "color": "#2a3f5f"
            },
            "error_y": {
             "color": "#2a3f5f"
            },
            "marker": {
             "line": {
              "color": "#E5ECF6",
              "width": 0.5
             },
             "pattern": {
              "fillmode": "overlay",
              "size": 10,
              "solidity": 0.2
             }
            },
            "type": "bar"
           }
          ],
          "barpolar": [
           {
            "marker": {
             "line": {
              "color": "#E5ECF6",
              "width": 0.5
             },
             "pattern": {
              "fillmode": "overlay",
              "size": 10,
              "solidity": 0.2
             }
            },
            "type": "barpolar"
           }
          ],
          "carpet": [
           {
            "aaxis": {
             "endlinecolor": "#2a3f5f",
             "gridcolor": "white",
             "linecolor": "white",
             "minorgridcolor": "white",
             "startlinecolor": "#2a3f5f"
            },
            "baxis": {
             "endlinecolor": "#2a3f5f",
             "gridcolor": "white",
             "linecolor": "white",
             "minorgridcolor": "white",
             "startlinecolor": "#2a3f5f"
            },
            "type": "carpet"
           }
          ],
          "choropleth": [
           {
            "colorbar": {
             "outlinewidth": 0,
             "ticks": ""
            },
            "type": "choropleth"
           }
          ],
          "contour": [
           {
            "colorbar": {
             "outlinewidth": 0,
             "ticks": ""
            },
            "colorscale": [
             [
              0,
              "#0d0887"
             ],
             [
              0.1111111111111111,
              "#46039f"
             ],
             [
              0.2222222222222222,
              "#7201a8"
             ],
             [
              0.3333333333333333,
              "#9c179e"
             ],
             [
              0.4444444444444444,
              "#bd3786"
             ],
             [
              0.5555555555555556,
              "#d8576b"
             ],
             [
              0.6666666666666666,
              "#ed7953"
             ],
             [
              0.7777777777777778,
              "#fb9f3a"
             ],
             [
              0.8888888888888888,
              "#fdca26"
             ],
             [
              1,
              "#f0f921"
             ]
            ],
            "type": "contour"
           }
          ],
          "contourcarpet": [
           {
            "colorbar": {
             "outlinewidth": 0,
             "ticks": ""
            },
            "type": "contourcarpet"
           }
          ],
          "heatmap": [
           {
            "colorbar": {
             "outlinewidth": 0,
             "ticks": ""
            },
            "colorscale": [
             [
              0,
              "#0d0887"
             ],
             [
              0.1111111111111111,
              "#46039f"
             ],
             [
              0.2222222222222222,
              "#7201a8"
             ],
             [
              0.3333333333333333,
              "#9c179e"
             ],
             [
              0.4444444444444444,
              "#bd3786"
             ],
             [
              0.5555555555555556,
              "#d8576b"
             ],
             [
              0.6666666666666666,
              "#ed7953"
             ],
             [
              0.7777777777777778,
              "#fb9f3a"
             ],
             [
              0.8888888888888888,
              "#fdca26"
             ],
             [
              1,
              "#f0f921"
             ]
            ],
            "type": "heatmap"
           }
          ],
          "heatmapgl": [
           {
            "colorbar": {
             "outlinewidth": 0,
             "ticks": ""
            },
            "colorscale": [
             [
              0,
              "#0d0887"
             ],
             [
              0.1111111111111111,
              "#46039f"
             ],
             [
              0.2222222222222222,
              "#7201a8"
             ],
             [
              0.3333333333333333,
              "#9c179e"
             ],
             [
              0.4444444444444444,
              "#bd3786"
             ],
             [
              0.5555555555555556,
              "#d8576b"
             ],
             [
              0.6666666666666666,
              "#ed7953"
             ],
             [
              0.7777777777777778,
              "#fb9f3a"
             ],
             [
              0.8888888888888888,
              "#fdca26"
             ],
             [
              1,
              "#f0f921"
             ]
            ],
            "type": "heatmapgl"
           }
          ],
          "histogram": [
           {
            "marker": {
             "pattern": {
              "fillmode": "overlay",
              "size": 10,
              "solidity": 0.2
             }
            },
            "type": "histogram"
           }
          ],
          "histogram2d": [
           {
            "colorbar": {
             "outlinewidth": 0,
             "ticks": ""
            },
            "colorscale": [
             [
              0,
              "#0d0887"
             ],
             [
              0.1111111111111111,
              "#46039f"
             ],
             [
              0.2222222222222222,
              "#7201a8"
             ],
             [
              0.3333333333333333,
              "#9c179e"
             ],
             [
              0.4444444444444444,
              "#bd3786"
             ],
             [
              0.5555555555555556,
              "#d8576b"
             ],
             [
              0.6666666666666666,
              "#ed7953"
             ],
             [
              0.7777777777777778,
              "#fb9f3a"
             ],
             [
              0.8888888888888888,
              "#fdca26"
             ],
             [
              1,
              "#f0f921"
             ]
            ],
            "type": "histogram2d"
           }
          ],
          "histogram2dcontour": [
           {
            "colorbar": {
             "outlinewidth": 0,
             "ticks": ""
            },
            "colorscale": [
             [
              0,
              "#0d0887"
             ],
             [
              0.1111111111111111,
              "#46039f"
             ],
             [
              0.2222222222222222,
              "#7201a8"
             ],
             [
              0.3333333333333333,
              "#9c179e"
             ],
             [
              0.4444444444444444,
              "#bd3786"
             ],
             [
              0.5555555555555556,
              "#d8576b"
             ],
             [
              0.6666666666666666,
              "#ed7953"
             ],
             [
              0.7777777777777778,
              "#fb9f3a"
             ],
             [
              0.8888888888888888,
              "#fdca26"
             ],
             [
              1,
              "#f0f921"
             ]
            ],
            "type": "histogram2dcontour"
           }
          ],
          "mesh3d": [
           {
            "colorbar": {
             "outlinewidth": 0,
             "ticks": ""
            },
            "type": "mesh3d"
           }
          ],
          "parcoords": [
           {
            "line": {
             "colorbar": {
              "outlinewidth": 0,
              "ticks": ""
             }
            },
            "type": "parcoords"
           }
          ],
          "pie": [
           {
            "automargin": true,
            "type": "pie"
           }
          ],
          "scatter": [
           {
            "fillpattern": {
             "fillmode": "overlay",
             "size": 10,
             "solidity": 0.2
            },
            "type": "scatter"
           }
          ],
          "scatter3d": [
           {
            "line": {
             "colorbar": {
              "outlinewidth": 0,
              "ticks": ""
             }
            },
            "marker": {
             "colorbar": {
              "outlinewidth": 0,
              "ticks": ""
             }
            },
            "type": "scatter3d"
           }
          ],
          "scattercarpet": [
           {
            "marker": {
             "colorbar": {
              "outlinewidth": 0,
              "ticks": ""
             }
            },
            "type": "scattercarpet"
           }
          ],
          "scattergeo": [
           {
            "marker": {
             "colorbar": {
              "outlinewidth": 0,
              "ticks": ""
             }
            },
            "type": "scattergeo"
           }
          ],
          "scattergl": [
           {
            "marker": {
             "colorbar": {
              "outlinewidth": 0,
              "ticks": ""
             }
            },
            "type": "scattergl"
           }
          ],
          "scattermapbox": [
           {
            "marker": {
             "colorbar": {
              "outlinewidth": 0,
              "ticks": ""
             }
            },
            "type": "scattermapbox"
           }
          ],
          "scatterpolar": [
           {
            "marker": {
             "colorbar": {
              "outlinewidth": 0,
              "ticks": ""
             }
            },
            "type": "scatterpolar"
           }
          ],
          "scatterpolargl": [
           {
            "marker": {
             "colorbar": {
              "outlinewidth": 0,
              "ticks": ""
             }
            },
            "type": "scatterpolargl"
           }
          ],
          "scatterternary": [
           {
            "marker": {
             "colorbar": {
              "outlinewidth": 0,
              "ticks": ""
             }
            },
            "type": "scatterternary"
           }
          ],
          "surface": [
           {
            "colorbar": {
             "outlinewidth": 0,
             "ticks": ""
            },
            "colorscale": [
             [
              0,
              "#0d0887"
             ],
             [
              0.1111111111111111,
              "#46039f"
             ],
             [
              0.2222222222222222,
              "#7201a8"
             ],
             [
              0.3333333333333333,
              "#9c179e"
             ],
             [
              0.4444444444444444,
              "#bd3786"
             ],
             [
              0.5555555555555556,
              "#d8576b"
             ],
             [
              0.6666666666666666,
              "#ed7953"
             ],
             [
              0.7777777777777778,
              "#fb9f3a"
             ],
             [
              0.8888888888888888,
              "#fdca26"
             ],
             [
              1,
              "#f0f921"
             ]
            ],
            "type": "surface"
           }
          ],
          "table": [
           {
            "cells": {
             "fill": {
              "color": "#EBF0F8"
             },
             "line": {
              "color": "white"
             }
            },
            "header": {
             "fill": {
              "color": "#C8D4E3"
             },
             "line": {
              "color": "white"
             }
            },
            "type": "table"
           }
          ]
         },
         "layout": {
          "annotationdefaults": {
           "arrowcolor": "#2a3f5f",
           "arrowhead": 0,
           "arrowwidth": 1
          },
          "autotypenumbers": "strict",
          "coloraxis": {
           "colorbar": {
            "outlinewidth": 0,
            "ticks": ""
           }
          },
          "colorscale": {
           "diverging": [
            [
             0,
             "#8e0152"
            ],
            [
             0.1,
             "#c51b7d"
            ],
            [
             0.2,
             "#de77ae"
            ],
            [
             0.3,
             "#f1b6da"
            ],
            [
             0.4,
             "#fde0ef"
            ],
            [
             0.5,
             "#f7f7f7"
            ],
            [
             0.6,
             "#e6f5d0"
            ],
            [
             0.7,
             "#b8e186"
            ],
            [
             0.8,
             "#7fbc41"
            ],
            [
             0.9,
             "#4d9221"
            ],
            [
             1,
             "#276419"
            ]
           ],
           "sequential": [
            [
             0,
             "#0d0887"
            ],
            [
             0.1111111111111111,
             "#46039f"
            ],
            [
             0.2222222222222222,
             "#7201a8"
            ],
            [
             0.3333333333333333,
             "#9c179e"
            ],
            [
             0.4444444444444444,
             "#bd3786"
            ],
            [
             0.5555555555555556,
             "#d8576b"
            ],
            [
             0.6666666666666666,
             "#ed7953"
            ],
            [
             0.7777777777777778,
             "#fb9f3a"
            ],
            [
             0.8888888888888888,
             "#fdca26"
            ],
            [
             1,
             "#f0f921"
            ]
           ],
           "sequentialminus": [
            [
             0,
             "#0d0887"
            ],
            [
             0.1111111111111111,
             "#46039f"
            ],
            [
             0.2222222222222222,
             "#7201a8"
            ],
            [
             0.3333333333333333,
             "#9c179e"
            ],
            [
             0.4444444444444444,
             "#bd3786"
            ],
            [
             0.5555555555555556,
             "#d8576b"
            ],
            [
             0.6666666666666666,
             "#ed7953"
            ],
            [
             0.7777777777777778,
             "#fb9f3a"
            ],
            [
             0.8888888888888888,
             "#fdca26"
            ],
            [
             1,
             "#f0f921"
            ]
           ]
          },
          "colorway": [
           "#636efa",
           "#EF553B",
           "#00cc96",
           "#ab63fa",
           "#FFA15A",
           "#19d3f3",
           "#FF6692",
           "#B6E880",
           "#FF97FF",
           "#FECB52"
          ],
          "font": {
           "color": "#2a3f5f"
          },
          "geo": {
           "bgcolor": "white",
           "lakecolor": "white",
           "landcolor": "#E5ECF6",
           "showlakes": true,
           "showland": true,
           "subunitcolor": "white"
          },
          "hoverlabel": {
           "align": "left"
          },
          "hovermode": "closest",
          "mapbox": {
           "style": "light"
          },
          "paper_bgcolor": "white",
          "plot_bgcolor": "#E5ECF6",
          "polar": {
           "angularaxis": {
            "gridcolor": "white",
            "linecolor": "white",
            "ticks": ""
           },
           "bgcolor": "#E5ECF6",
           "radialaxis": {
            "gridcolor": "white",
            "linecolor": "white",
            "ticks": ""
           }
          },
          "scene": {
           "xaxis": {
            "backgroundcolor": "#E5ECF6",
            "gridcolor": "white",
            "gridwidth": 2,
            "linecolor": "white",
            "showbackground": true,
            "ticks": "",
            "zerolinecolor": "white"
           },
           "yaxis": {
            "backgroundcolor": "#E5ECF6",
            "gridcolor": "white",
            "gridwidth": 2,
            "linecolor": "white",
            "showbackground": true,
            "ticks": "",
            "zerolinecolor": "white"
           },
           "zaxis": {
            "backgroundcolor": "#E5ECF6",
            "gridcolor": "white",
            "gridwidth": 2,
            "linecolor": "white",
            "showbackground": true,
            "ticks": "",
            "zerolinecolor": "white"
           }
          },
          "shapedefaults": {
           "line": {
            "color": "#2a3f5f"
           }
          },
          "ternary": {
           "aaxis": {
            "gridcolor": "white",
            "linecolor": "white",
            "ticks": ""
           },
           "baxis": {
            "gridcolor": "white",
            "linecolor": "white",
            "ticks": ""
           },
           "bgcolor": "#E5ECF6",
           "caxis": {
            "gridcolor": "white",
            "linecolor": "white",
            "ticks": ""
           }
          },
          "title": {
           "x": 0.05
          },
          "xaxis": {
           "automargin": true,
           "gridcolor": "white",
           "linecolor": "white",
           "ticks": "",
           "title": {
            "standoff": 15
           },
           "zerolinecolor": "white",
           "zerolinewidth": 2
          },
          "yaxis": {
           "automargin": true,
           "gridcolor": "white",
           "linecolor": "white",
           "ticks": "",
           "title": {
            "standoff": 15
           },
           "zerolinecolor": "white",
           "zerolinewidth": 2
          }
         }
        },
        "title": {
         "text": "Mean Target Allocation"
        },
        "xaxis": {
         "anchor": "y",
         "domain": [
          0,
          1
         ],
         "title": {
          "text": "STRATEGY_ID"
         }
        },
        "yaxis": {
         "anchor": "x",
         "domain": [
          0,
          1
         ],
         "title": {
          "text": "WGT"
         }
        }
       }
      },
      "text/html": [
       "<div>                            <div id=\"ec90304c-4ad7-4463-ac1e-bf7e7f31e76a\" class=\"plotly-graph-div\" style=\"height:525px; width:100%;\"></div>            <script type=\"text/javascript\">                require([\"plotly\"], function(Plotly) {                    window.PLOTLYENV=window.PLOTLYENV || {};                                    if (document.getElementById(\"ec90304c-4ad7-4463-ac1e-bf7e7f31e76a\")) {                    Plotly.newPlot(                        \"ec90304c-4ad7-4463-ac1e-bf7e7f31e76a\",                        [{\"alignmentgroup\":\"True\",\"hovertemplate\":\"ASSET_CLASS_ID=AGG\\u003cbr\\u003eSTRATEGY_ID=%{x}\\u003cbr\\u003eWGT=%{y}\\u003cextra\\u003e\\u003c\\u002fextra\\u003e\",\"legendgroup\":\"AGG\",\"marker\":{\"color\":\"#636efa\",\"pattern\":{\"shape\":\"\"}},\"name\":\"AGG\",\"offsetgroup\":\"AGG\",\"orientation\":\"v\",\"showlegend\":true,\"textposition\":\"auto\",\"x\":[\"NDCB\",\"NDLTG\",\"NDB\",\"NDGI\"],\"xaxis\":\"x\",\"y\":[0.47930725720841183,0.03665437592458032,0.31362677318027915,0.1421890204097738],\"yaxis\":\"y\",\"type\":\"bar\"},{\"alignmentgroup\":\"True\",\"hovertemplate\":\"ASSET_CLASS_ID=FRN\\u003cbr\\u003eSTRATEGY_ID=%{x}\\u003cbr\\u003eWGT=%{y}\\u003cextra\\u003e\\u003c\\u002fextra\\u003e\",\"legendgroup\":\"FRN\",\"marker\":{\"color\":\"#EF553B\",\"pattern\":{\"shape\":\"\"}},\"name\":\"FRN\",\"offsetgroup\":\"FRN\",\"orientation\":\"v\",\"showlegend\":true,\"textposition\":\"auto\",\"x\":[\"NDLTG\",\"NDGI\",\"NDB\",\"NDCB\"],\"xaxis\":\"x\",\"y\":[0.003458042377863078,0.006697078527894872,0.011641490050372632,0.022500100936952986],\"yaxis\":\"y\",\"type\":\"bar\"},{\"alignmentgroup\":\"True\",\"hovertemplate\":\"ASSET_CLASS_ID=ABSRET\\u003cbr\\u003eSTRATEGY_ID=%{x}\\u003cbr\\u003eWGT=%{y}\\u003cextra\\u003e\\u003c\\u002fextra\\u003e\",\"legendgroup\":\"ABSRET\",\"marker\":{\"color\":\"#00cc96\",\"pattern\":{\"shape\":\"\"}},\"name\":\"ABSRET\",\"offsetgroup\":\"ABSRET\",\"orientation\":\"v\",\"showlegend\":true,\"textposition\":\"auto\",\"x\":[\"NDLTG\",\"NDB\",\"NDGI\",\"NDCB\"],\"xaxis\":\"x\",\"y\":[5.460750853242322e-18,2.731126279863482e-14,8.191126279863483e-18,5.699634812286689e-13],\"yaxis\":\"y\",\"type\":\"bar\"},{\"alignmentgroup\":\"True\",\"hovertemplate\":\"ASSET_CLASS_ID=LTT\\u003cbr\\u003eSTRATEGY_ID=%{x}\\u003cbr\\u003eWGT=%{y}\\u003cextra\\u003e\\u003c\\u002fextra\\u003e\",\"legendgroup\":\"LTT\",\"marker\":{\"color\":\"#ab63fa\",\"pattern\":{\"shape\":\"\"}},\"name\":\"LTT\",\"offsetgroup\":\"LTT\",\"orientation\":\"v\",\"showlegend\":true,\"textposition\":\"auto\",\"x\":[\"NDGI\",\"NDCB\",\"NDB\",\"NDLTG\"],\"xaxis\":\"x\",\"y\":[0.05905006730688572,0.04419368992001272,0.05808587440678455,0.052811563277905024],\"yaxis\":\"y\",\"type\":\"bar\"},{\"alignmentgroup\":\"True\",\"hovertemplate\":\"ASSET_CLASS_ID=COMM\\u003cbr\\u003eSTRATEGY_ID=%{x}\\u003cbr\\u003eWGT=%{y}\\u003cextra\\u003e\\u003c\\u002fextra\\u003e\",\"legendgroup\":\"COMM\",\"marker\":{\"color\":\"#FFA15A\",\"pattern\":{\"shape\":\"\"}},\"name\":\"COMM\",\"offsetgroup\":\"COMM\",\"orientation\":\"v\",\"showlegend\":true,\"textposition\":\"auto\",\"x\":[\"NDB\",\"NDCB\",\"NDLTG\",\"NDGI\"],\"xaxis\":\"x\",\"y\":[0.0010653630493684797,0.016841397809190316,2.0477815699658707e-18,3.0716723549488057e-18],\"yaxis\":\"y\",\"type\":\"bar\"},{\"alignmentgroup\":\"True\",\"hovertemplate\":\"ASSET_CLASS_ID=TIPS\\u003cbr\\u003eSTRATEGY_ID=%{x}\\u003cbr\\u003eWGT=%{y}\\u003cextra\\u003e\\u003c\\u002fextra\\u003e\",\"legendgroup\":\"TIPS\",\"marker\":{\"color\":\"#19d3f3\",\"pattern\":{\"shape\":\"\"}},\"name\":\"TIPS\",\"offsetgroup\":\"TIPS\",\"orientation\":\"v\",\"showlegend\":true,\"textposition\":\"auto\",\"x\":[\"NDLTG\",\"NDB\",\"NDCB\",\"NDGI\"],\"xaxis\":\"x\",\"y\":[1.7556942235261398e-05,0.0019125690857448477,0.0019473324312110154,0.0005747193984776287],\"yaxis\":\"y\",\"type\":\"bar\"},{\"alignmentgroup\":\"True\",\"hovertemplate\":\"ASSET_CLASS_ID=MGDFUT\\u003cbr\\u003eSTRATEGY_ID=%{x}\\u003cbr\\u003eWGT=%{y}\\u003cextra\\u003e\\u003c\\u002fextra\\u003e\",\"legendgroup\":\"MGDFUT\",\"marker\":{\"color\":\"#FF6692\",\"pattern\":{\"shape\":\"\"}},\"name\":\"MGDFUT\",\"offsetgroup\":\"MGDFUT\",\"orientation\":\"v\",\"showlegend\":true,\"textposition\":\"auto\",\"x\":[\"NDGI\",\"NDLTG\",\"NDB\",\"NDCB\"],\"xaxis\":\"x\",\"y\":[0.03582965675757715,0.024956072976763517,0.04279125665422124,0.054835379662804176],\"yaxis\":\"y\",\"type\":\"bar\"},{\"alignmentgroup\":\"True\",\"hovertemplate\":\"ASSET_CLASS_ID=REIT\\u003cbr\\u003eSTRATEGY_ID=%{x}\\u003cbr\\u003eWGT=%{y}\\u003cextra\\u003e\\u003c\\u002fextra\\u003e\",\"legendgroup\":\"REIT\",\"marker\":{\"color\":\"#B6E880\",\"pattern\":{\"shape\":\"\"}},\"name\":\"REIT\",\"offsetgroup\":\"REIT\",\"orientation\":\"v\",\"showlegend\":true,\"textposition\":\"auto\",\"x\":[\"NDLTG\",\"NDB\",\"NDCB\",\"NDGI\"],\"xaxis\":\"x\",\"y\":[0.09031918612363245,0.07661581375367799,0.04208165839409647,0.10511761252249996],\"yaxis\":\"y\",\"type\":\"bar\"},{\"alignmentgroup\":\"True\",\"hovertemplate\":\"ASSET_CLASS_ID=EM\\u003cbr\\u003eSTRATEGY_ID=%{x}\\u003cbr\\u003eWGT=%{y}\\u003cextra\\u003e\\u003c\\u002fextra\\u003e\",\"legendgroup\":\"EM\",\"marker\":{\"color\":\"#FF97FF\",\"pattern\":{\"shape\":\"\"}},\"name\":\"EM\",\"offsetgroup\":\"EM\",\"orientation\":\"v\",\"showlegend\":true,\"textposition\":\"auto\",\"x\":[\"NDLTG\",\"NDGI\",\"NDCB\",\"NDB\"],\"xaxis\":\"x\",\"y\":[0.13795265999755205,0.07161964799395164,0.018704966051396196,0.041977552520438846],\"yaxis\":\"y\",\"type\":\"bar\"},{\"alignmentgroup\":\"True\",\"hovertemplate\":\"ASSET_CLASS_ID=INTLLG\\u003cbr\\u003eSTRATEGY_ID=%{x}\\u003cbr\\u003eWGT=%{y}\\u003cextra\\u003e\\u003c\\u002fextra\\u003e\",\"legendgroup\":\"INTLLG\",\"marker\":{\"color\":\"#FECB52\",\"pattern\":{\"shape\":\"\"}},\"name\":\"INTLLG\",\"offsetgroup\":\"INTLLG\",\"orientation\":\"v\",\"showlegend\":true,\"textposition\":\"auto\",\"x\":[\"NDB\",\"NDLTG\",\"NDCB\",\"NDGI\"],\"xaxis\":\"x\",\"y\":[0.09950078681139685,0.15475561639563276,0.03241852470137044,0.15169950290263493],\"yaxis\":\"y\",\"type\":\"bar\"},{\"alignmentgroup\":\"True\",\"hovertemplate\":\"ASSET_CLASS_ID=HY\\u003cbr\\u003eSTRATEGY_ID=%{x}\\u003cbr\\u003eWGT=%{y}\\u003cextra\\u003e\\u003c\\u002fextra\\u003e\",\"legendgroup\":\"HY\",\"marker\":{\"color\":\"#636efa\",\"pattern\":{\"shape\":\"\"}},\"name\":\"HY\",\"offsetgroup\":\"HY\",\"orientation\":\"v\",\"showlegend\":true,\"textposition\":\"auto\",\"x\":[\"NDCB\",\"NDGI\",\"NDB\",\"NDLTG\"],\"xaxis\":\"x\",\"y\":[0.03734803521848889,0.01555118405597243,0.02503957590779914,0.0102686401430814],\"yaxis\":\"y\",\"type\":\"bar\"},{\"alignmentgroup\":\"True\",\"hovertemplate\":\"ASSET_CLASS_ID=INTLBOND\\u003cbr\\u003eSTRATEGY_ID=%{x}\\u003cbr\\u003eWGT=%{y}\\u003cextra\\u003e\\u003c\\u002fextra\\u003e\",\"legendgroup\":\"INTLBOND\",\"marker\":{\"color\":\"#EF553B\",\"pattern\":{\"shape\":\"\"}},\"name\":\"INTLBOND\",\"offsetgroup\":\"INTLBOND\",\"orientation\":\"v\",\"showlegend\":true,\"textposition\":\"auto\",\"x\":[\"NDGI\",\"NDCB\",\"NDLTG\",\"NDB\"],\"xaxis\":\"x\",\"y\":[2.5938737201365193e-13,3.481242320819113e-13,1.9112832764505118e-13,3.105808873720136e-13],\"yaxis\":\"y\",\"type\":\"bar\"},{\"alignmentgroup\":\"True\",\"hovertemplate\":\"ASSET_CLASS_ID=USSM\\u003cbr\\u003eSTRATEGY_ID=%{x}\\u003cbr\\u003eWGT=%{y}\\u003cextra\\u003e\\u003c\\u002fextra\\u003e\",\"legendgroup\":\"USSM\",\"marker\":{\"color\":\"#00cc96\",\"pattern\":{\"shape\":\"\"}},\"name\":\"USSM\",\"offsetgroup\":\"USSM\",\"orientation\":\"v\",\"showlegend\":true,\"textposition\":\"auto\",\"x\":[\"NDCB\",\"NDLTG\",\"NDB\",\"NDGI\"],\"xaxis\":\"x\",\"y\":[0.07101898771526917,0.1490071494552541,0.068735240745219,0.08371379078514513],\"yaxis\":\"y\",\"type\":\"bar\"},{\"alignmentgroup\":\"True\",\"hovertemplate\":\"ASSET_CLASS_ID=TBILL\\u003cbr\\u003eSTRATEGY_ID=%{x}\\u003cbr\\u003eWGT=%{y}\\u003cextra\\u003e\\u003c\\u002fextra\\u003e\",\"legendgroup\":\"TBILL\",\"marker\":{\"color\":\"#ab63fa\",\"pattern\":{\"shape\":\"\"}},\"name\":\"TBILL\",\"offsetgroup\":\"TBILL\",\"orientation\":\"v\",\"showlegend\":true,\"textposition\":\"auto\",\"x\":[\"NDCB\",\"NDLTG\",\"NDB\",\"NDGI\"],\"xaxis\":\"x\",\"y\":[0.0317615415319117,0.0011923096955741208,0.009625928639165511,0.004575316018552136],\"yaxis\":\"y\",\"type\":\"bar\"},{\"alignmentgroup\":\"True\",\"hovertemplate\":\"ASSET_CLASS_ID=USLG\\u003cbr\\u003eSTRATEGY_ID=%{x}\\u003cbr\\u003eWGT=%{y}\\u003cextra\\u003e\\u003c\\u002fextra\\u003e\",\"legendgroup\":\"USLG\",\"marker\":{\"color\":\"#FFA15A\",\"pattern\":{\"shape\":\"\"}},\"name\":\"USLG\",\"offsetgroup\":\"USLG\",\"orientation\":\"v\",\"showlegend\":true,\"textposition\":\"auto\",\"x\":[\"NDB\",\"NDCB\",\"NDGI\",\"NDLTG\"],\"xaxis\":\"x\",\"y\":[0.2461728162660152,0.13834037528600876,0.31390131331747984,0.32024568221022104],\"yaxis\":\"y\",\"type\":\"bar\"},{\"alignmentgroup\":\"True\",\"hovertemplate\":\"ASSET_CLASS_ID=INTLSM\\u003cbr\\u003eSTRATEGY_ID=%{x}\\u003cbr\\u003eWGT=%{y}\\u003cextra\\u003e\\u003c\\u002fextra\\u003e\",\"legendgroup\":\"INTLSM\",\"marker\":{\"color\":\"#19d3f3\",\"pattern\":{\"shape\":\"\"}},\"name\":\"INTLSM\",\"offsetgroup\":\"INTLSM\",\"orientation\":\"v\",\"showlegend\":true,\"textposition\":\"auto\",\"x\":[\"NDGI\",\"NDLTG\",\"NDCB\",\"NDB\"],\"xaxis\":\"x\",\"y\":[0.009481090002895456,0.0183611444795138,0.008700753131957256,0.0032089589291787552],\"yaxis\":\"y\",\"type\":\"bar\"}],                        {\"template\":{\"data\":{\"histogram2dcontour\":[{\"type\":\"histogram2dcontour\",\"colorbar\":{\"outlinewidth\":0,\"ticks\":\"\"},\"colorscale\":[[0.0,\"#0d0887\"],[0.1111111111111111,\"#46039f\"],[0.2222222222222222,\"#7201a8\"],[0.3333333333333333,\"#9c179e\"],[0.4444444444444444,\"#bd3786\"],[0.5555555555555556,\"#d8576b\"],[0.6666666666666666,\"#ed7953\"],[0.7777777777777778,\"#fb9f3a\"],[0.8888888888888888,\"#fdca26\"],[1.0,\"#f0f921\"]]}],\"choropleth\":[{\"type\":\"choropleth\",\"colorbar\":{\"outlinewidth\":0,\"ticks\":\"\"}}],\"histogram2d\":[{\"type\":\"histogram2d\",\"colorbar\":{\"outlinewidth\":0,\"ticks\":\"\"},\"colorscale\":[[0.0,\"#0d0887\"],[0.1111111111111111,\"#46039f\"],[0.2222222222222222,\"#7201a8\"],[0.3333333333333333,\"#9c179e\"],[0.4444444444444444,\"#bd3786\"],[0.5555555555555556,\"#d8576b\"],[0.6666666666666666,\"#ed7953\"],[0.7777777777777778,\"#fb9f3a\"],[0.8888888888888888,\"#fdca26\"],[1.0,\"#f0f921\"]]}],\"heatmap\":[{\"type\":\"heatmap\",\"colorbar\":{\"outlinewidth\":0,\"ticks\":\"\"},\"colorscale\":[[0.0,\"#0d0887\"],[0.1111111111111111,\"#46039f\"],[0.2222222222222222,\"#7201a8\"],[0.3333333333333333,\"#9c179e\"],[0.4444444444444444,\"#bd3786\"],[0.5555555555555556,\"#d8576b\"],[0.6666666666666666,\"#ed7953\"],[0.7777777777777778,\"#fb9f3a\"],[0.8888888888888888,\"#fdca26\"],[1.0,\"#f0f921\"]]}],\"heatmapgl\":[{\"type\":\"heatmapgl\",\"colorbar\":{\"outlinewidth\":0,\"ticks\":\"\"},\"colorscale\":[[0.0,\"#0d0887\"],[0.1111111111111111,\"#46039f\"],[0.2222222222222222,\"#7201a8\"],[0.3333333333333333,\"#9c179e\"],[0.4444444444444444,\"#bd3786\"],[0.5555555555555556,\"#d8576b\"],[0.6666666666666666,\"#ed7953\"],[0.7777777777777778,\"#fb9f3a\"],[0.8888888888888888,\"#fdca26\"],[1.0,\"#f0f921\"]]}],\"contourcarpet\":[{\"type\":\"contourcarpet\",\"colorbar\":{\"outlinewidth\":0,\"ticks\":\"\"}}],\"contour\":[{\"type\":\"contour\",\"colorbar\":{\"outlinewidth\":0,\"ticks\":\"\"},\"colorscale\":[[0.0,\"#0d0887\"],[0.1111111111111111,\"#46039f\"],[0.2222222222222222,\"#7201a8\"],[0.3333333333333333,\"#9c179e\"],[0.4444444444444444,\"#bd3786\"],[0.5555555555555556,\"#d8576b\"],[0.6666666666666666,\"#ed7953\"],[0.7777777777777778,\"#fb9f3a\"],[0.8888888888888888,\"#fdca26\"],[1.0,\"#f0f921\"]]}],\"surface\":[{\"type\":\"surface\",\"colorbar\":{\"outlinewidth\":0,\"ticks\":\"\"},\"colorscale\":[[0.0,\"#0d0887\"],[0.1111111111111111,\"#46039f\"],[0.2222222222222222,\"#7201a8\"],[0.3333333333333333,\"#9c179e\"],[0.4444444444444444,\"#bd3786\"],[0.5555555555555556,\"#d8576b\"],[0.6666666666666666,\"#ed7953\"],[0.7777777777777778,\"#fb9f3a\"],[0.8888888888888888,\"#fdca26\"],[1.0,\"#f0f921\"]]}],\"mesh3d\":[{\"type\":\"mesh3d\",\"colorbar\":{\"outlinewidth\":0,\"ticks\":\"\"}}],\"scatter\":[{\"fillpattern\":{\"fillmode\":\"overlay\",\"size\":10,\"solidity\":0.2},\"type\":\"scatter\"}],\"parcoords\":[{\"type\":\"parcoords\",\"line\":{\"colorbar\":{\"outlinewidth\":0,\"ticks\":\"\"}}}],\"scatterpolargl\":[{\"type\":\"scatterpolargl\",\"marker\":{\"colorbar\":{\"outlinewidth\":0,\"ticks\":\"\"}}}],\"bar\":[{\"error_x\":{\"color\":\"#2a3f5f\"},\"error_y\":{\"color\":\"#2a3f5f\"},\"marker\":{\"line\":{\"color\":\"#E5ECF6\",\"width\":0.5},\"pattern\":{\"fillmode\":\"overlay\",\"size\":10,\"solidity\":0.2}},\"type\":\"bar\"}],\"scattergeo\":[{\"type\":\"scattergeo\",\"marker\":{\"colorbar\":{\"outlinewidth\":0,\"ticks\":\"\"}}}],\"scatterpolar\":[{\"type\":\"scatterpolar\",\"marker\":{\"colorbar\":{\"outlinewidth\":0,\"ticks\":\"\"}}}],\"histogram\":[{\"marker\":{\"pattern\":{\"fillmode\":\"overlay\",\"size\":10,\"solidity\":0.2}},\"type\":\"histogram\"}],\"scattergl\":[{\"type\":\"scattergl\",\"marker\":{\"colorbar\":{\"outlinewidth\":0,\"ticks\":\"\"}}}],\"scatter3d\":[{\"type\":\"scatter3d\",\"line\":{\"colorbar\":{\"outlinewidth\":0,\"ticks\":\"\"}},\"marker\":{\"colorbar\":{\"outlinewidth\":0,\"ticks\":\"\"}}}],\"scattermapbox\":[{\"type\":\"scattermapbox\",\"marker\":{\"colorbar\":{\"outlinewidth\":0,\"ticks\":\"\"}}}],\"scatterternary\":[{\"type\":\"scatterternary\",\"marker\":{\"colorbar\":{\"outlinewidth\":0,\"ticks\":\"\"}}}],\"scattercarpet\":[{\"type\":\"scattercarpet\",\"marker\":{\"colorbar\":{\"outlinewidth\":0,\"ticks\":\"\"}}}],\"carpet\":[{\"aaxis\":{\"endlinecolor\":\"#2a3f5f\",\"gridcolor\":\"white\",\"linecolor\":\"white\",\"minorgridcolor\":\"white\",\"startlinecolor\":\"#2a3f5f\"},\"baxis\":{\"endlinecolor\":\"#2a3f5f\",\"gridcolor\":\"white\",\"linecolor\":\"white\",\"minorgridcolor\":\"white\",\"startlinecolor\":\"#2a3f5f\"},\"type\":\"carpet\"}],\"table\":[{\"cells\":{\"fill\":{\"color\":\"#EBF0F8\"},\"line\":{\"color\":\"white\"}},\"header\":{\"fill\":{\"color\":\"#C8D4E3\"},\"line\":{\"color\":\"white\"}},\"type\":\"table\"}],\"barpolar\":[{\"marker\":{\"line\":{\"color\":\"#E5ECF6\",\"width\":0.5},\"pattern\":{\"fillmode\":\"overlay\",\"size\":10,\"solidity\":0.2}},\"type\":\"barpolar\"}],\"pie\":[{\"automargin\":true,\"type\":\"pie\"}]},\"layout\":{\"autotypenumbers\":\"strict\",\"colorway\":[\"#636efa\",\"#EF553B\",\"#00cc96\",\"#ab63fa\",\"#FFA15A\",\"#19d3f3\",\"#FF6692\",\"#B6E880\",\"#FF97FF\",\"#FECB52\"],\"font\":{\"color\":\"#2a3f5f\"},\"hovermode\":\"closest\",\"hoverlabel\":{\"align\":\"left\"},\"paper_bgcolor\":\"white\",\"plot_bgcolor\":\"#E5ECF6\",\"polar\":{\"bgcolor\":\"#E5ECF6\",\"angularaxis\":{\"gridcolor\":\"white\",\"linecolor\":\"white\",\"ticks\":\"\"},\"radialaxis\":{\"gridcolor\":\"white\",\"linecolor\":\"white\",\"ticks\":\"\"}},\"ternary\":{\"bgcolor\":\"#E5ECF6\",\"aaxis\":{\"gridcolor\":\"white\",\"linecolor\":\"white\",\"ticks\":\"\"},\"baxis\":{\"gridcolor\":\"white\",\"linecolor\":\"white\",\"ticks\":\"\"},\"caxis\":{\"gridcolor\":\"white\",\"linecolor\":\"white\",\"ticks\":\"\"}},\"coloraxis\":{\"colorbar\":{\"outlinewidth\":0,\"ticks\":\"\"}},\"colorscale\":{\"sequential\":[[0.0,\"#0d0887\"],[0.1111111111111111,\"#46039f\"],[0.2222222222222222,\"#7201a8\"],[0.3333333333333333,\"#9c179e\"],[0.4444444444444444,\"#bd3786\"],[0.5555555555555556,\"#d8576b\"],[0.6666666666666666,\"#ed7953\"],[0.7777777777777778,\"#fb9f3a\"],[0.8888888888888888,\"#fdca26\"],[1.0,\"#f0f921\"]],\"sequentialminus\":[[0.0,\"#0d0887\"],[0.1111111111111111,\"#46039f\"],[0.2222222222222222,\"#7201a8\"],[0.3333333333333333,\"#9c179e\"],[0.4444444444444444,\"#bd3786\"],[0.5555555555555556,\"#d8576b\"],[0.6666666666666666,\"#ed7953\"],[0.7777777777777778,\"#fb9f3a\"],[0.8888888888888888,\"#fdca26\"],[1.0,\"#f0f921\"]],\"diverging\":[[0,\"#8e0152\"],[0.1,\"#c51b7d\"],[0.2,\"#de77ae\"],[0.3,\"#f1b6da\"],[0.4,\"#fde0ef\"],[0.5,\"#f7f7f7\"],[0.6,\"#e6f5d0\"],[0.7,\"#b8e186\"],[0.8,\"#7fbc41\"],[0.9,\"#4d9221\"],[1,\"#276419\"]]},\"xaxis\":{\"gridcolor\":\"white\",\"linecolor\":\"white\",\"ticks\":\"\",\"title\":{\"standoff\":15},\"zerolinecolor\":\"white\",\"automargin\":true,\"zerolinewidth\":2},\"yaxis\":{\"gridcolor\":\"white\",\"linecolor\":\"white\",\"ticks\":\"\",\"title\":{\"standoff\":15},\"zerolinecolor\":\"white\",\"automargin\":true,\"zerolinewidth\":2},\"scene\":{\"xaxis\":{\"backgroundcolor\":\"#E5ECF6\",\"gridcolor\":\"white\",\"linecolor\":\"white\",\"showbackground\":true,\"ticks\":\"\",\"zerolinecolor\":\"white\",\"gridwidth\":2},\"yaxis\":{\"backgroundcolor\":\"#E5ECF6\",\"gridcolor\":\"white\",\"linecolor\":\"white\",\"showbackground\":true,\"ticks\":\"\",\"zerolinecolor\":\"white\",\"gridwidth\":2},\"zaxis\":{\"backgroundcolor\":\"#E5ECF6\",\"gridcolor\":\"white\",\"linecolor\":\"white\",\"showbackground\":true,\"ticks\":\"\",\"zerolinecolor\":\"white\",\"gridwidth\":2}},\"shapedefaults\":{\"line\":{\"color\":\"#2a3f5f\"}},\"annotationdefaults\":{\"arrowcolor\":\"#2a3f5f\",\"arrowhead\":0,\"arrowwidth\":1},\"geo\":{\"bgcolor\":\"white\",\"landcolor\":\"#E5ECF6\",\"subunitcolor\":\"white\",\"showland\":true,\"showlakes\":true,\"lakecolor\":\"white\"},\"title\":{\"x\":0.05},\"mapbox\":{\"style\":\"light\"}}},\"xaxis\":{\"anchor\":\"y\",\"domain\":[0.0,1.0],\"title\":{\"text\":\"STRATEGY_ID\"}},\"yaxis\":{\"anchor\":\"x\",\"domain\":[0.0,1.0],\"title\":{\"text\":\"WGT\"}},\"legend\":{\"title\":{\"text\":\"ASSET_CLASS_ID\"},\"tracegroupgap\":0},\"title\":{\"text\":\"Mean Target Allocation\"},\"barmode\":\"relative\"},                        {\"responsive\": true}                    ).then(function(){\n",
       "                            \n",
       "var gd = document.getElementById('ec90304c-4ad7-4463-ac1e-bf7e7f31e76a');\n",
       "var x = new MutationObserver(function (mutations, observer) {{\n",
       "        var display = window.getComputedStyle(gd).display;\n",
       "        if (!display || display === 'none') {{\n",
       "            console.log([gd, 'removed!']);\n",
       "            Plotly.purge(gd);\n",
       "            observer.disconnect();\n",
       "        }}\n",
       "}});\n",
       "\n",
       "// Listen for the removal of the full notebook cells\n",
       "var notebookContainer = gd.closest('#notebook-container');\n",
       "if (notebookContainer) {{\n",
       "    x.observe(notebookContainer, {childList: true});\n",
       "}}\n",
       "\n",
       "// Listen for the clearing of the current output cell\n",
       "var outputEl = gd.closest('.output');\n",
       "if (outputEl) {{\n",
       "    x.observe(outputEl, {childList: true});\n",
       "}}\n",
       "\n",
       "                        })                };                });            </script>        </div>"
      ]
     },
     "metadata": {},
     "output_type": "display_data"
    }
   ],
   "source": [
    "mean = df.group_by([\"STRATEGY_ID\",\"ASSET_CLASS_ID\"]).agg(pl.col(\"WGT\").mean())\n",
    "print(mean)\n",
    "mean = mean.to_pandas()\n",
    "fig = px.bar(mean, x='STRATEGY_ID', y='WGT', color='ASSET_CLASS_ID', title=\"Mean Target Allocation\")\n",
    "fig.write_html(\"mean.html\")\n",
    "fig\n",
    "fig2 = px.bar(mean, x='ASSET_CLASS_ID', y='WGT', color='STRATEGY_ID', title=\"Mean Target Allocation\")"
   ]
  },
  {
   "cell_type": "code",
   "execution_count": 12,
   "metadata": {},
   "outputs": [
    {
     "name": "stdout",
     "output_type": "stream",
     "text": [
      "shape: (64, 3)\n",
      "┌─────────────┬────────────────┬────────────┐\n",
      "│ STRATEGY_ID ┆ ASSET_CLASS_ID ┆ WGT        │\n",
      "│ ---         ┆ ---            ┆ ---        │\n",
      "│ str         ┆ str            ┆ f64        │\n",
      "╞═════════════╪════════════════╪════════════╡\n",
      "│ NDB         ┆ INTLSM         ┆ 0.006818   │\n",
      "│ NDB         ┆ INTLBOND       ┆ 4.6352e-13 │\n",
      "│ NDCB        ┆ REIT           ┆ 0.051386   │\n",
      "│ NDGI        ┆ USSM           ┆ 0.024638   │\n",
      "│ NDLTG       ┆ LTT            ┆ 0.021747   │\n",
      "│ …           ┆ …              ┆ …          │\n",
      "│ NDLTG       ┆ INTLSM         ┆ 0.026897   │\n",
      "│ NDCB        ┆ USSM           ┆ 0.020336   │\n",
      "│ NDB         ┆ FRN            ┆ 0.03195    │\n",
      "│ NDLTG       ┆ REIT           ┆ 0.061051   │\n",
      "│ NDCB        ┆ EM             ┆ 0.020522   │\n",
      "└─────────────┴────────────────┴────────────┘\n"
     ]
    },
    {
     "data": {
      "application/vnd.plotly.v1+json": {
       "config": {
        "plotlyServerURL": "https://plot.ly"
       },
       "data": [
        {
         "alignmentgroup": "True",
         "hovertemplate": "ASSET_CLASS_ID=INTLSM<br>STRATEGY_ID=%{x}<br>WGT=%{y}<extra></extra>",
         "legendgroup": "INTLSM",
         "marker": {
          "color": "#636efa",
          "pattern": {
           "shape": ""
          }
         },
         "name": "INTLSM",
         "offsetgroup": "INTLSM",
         "orientation": "v",
         "showlegend": true,
         "textposition": "auto",
         "type": "bar",
         "x": [
          "NDB",
          "NDCB",
          "NDGI",
          "NDLTG"
         ],
         "xaxis": "x",
         "y": [
          0.006818380616909882,
          0.010240149936494861,
          0.014978615627270537,
          0.02689678276606537
         ],
         "yaxis": "y"
        },
        {
         "alignmentgroup": "True",
         "hovertemplate": "ASSET_CLASS_ID=INTLBOND<br>STRATEGY_ID=%{x}<br>WGT=%{y}<extra></extra>",
         "legendgroup": "INTLBOND",
         "marker": {
          "color": "#EF553B",
          "pattern": {
           "shape": ""
          }
         },
         "name": "INTLBOND",
         "offsetgroup": "INTLBOND",
         "orientation": "v",
         "showlegend": true,
         "textposition": "auto",
         "type": "bar",
         "x": [
          "NDB",
          "NDGI",
          "NDCB",
          "NDLTG"
         ],
         "xaxis": "x",
         "y": [
          4.635216489933467e-13,
          4.390464062722024e-13,
          4.771870672857428e-13,
          3.938599772695829e-13
         ],
         "yaxis": "y"
        },
        {
         "alignmentgroup": "True",
         "hovertemplate": "ASSET_CLASS_ID=REIT<br>STRATEGY_ID=%{x}<br>WGT=%{y}<extra></extra>",
         "legendgroup": "REIT",
         "marker": {
          "color": "#00cc96",
          "pattern": {
           "shape": ""
          }
         },
         "name": "REIT",
         "offsetgroup": "REIT",
         "orientation": "v",
         "showlegend": true,
         "textposition": "auto",
         "type": "bar",
         "x": [
          "NDCB",
          "NDGI",
          "NDB",
          "NDLTG"
         ],
         "xaxis": "x",
         "y": [
          0.05138639844192767,
          0.06532967887226403,
          0.06618574779276086,
          0.06105065446464168
         ],
         "yaxis": "y"
        },
        {
         "alignmentgroup": "True",
         "hovertemplate": "ASSET_CLASS_ID=USSM<br>STRATEGY_ID=%{x}<br>WGT=%{y}<extra></extra>",
         "legendgroup": "USSM",
         "marker": {
          "color": "#ab63fa",
          "pattern": {
           "shape": ""
          }
         },
         "name": "USSM",
         "offsetgroup": "USSM",
         "orientation": "v",
         "showlegend": true,
         "textposition": "auto",
         "type": "bar",
         "x": [
          "NDGI",
          "NDB",
          "NDLTG",
          "NDCB"
         ],
         "xaxis": "x",
         "y": [
          0.024637863547730423,
          0.01968307797835623,
          0.04556650484524772,
          0.020335975387801977
         ],
         "yaxis": "y"
        },
        {
         "alignmentgroup": "True",
         "hovertemplate": "ASSET_CLASS_ID=LTT<br>STRATEGY_ID=%{x}<br>WGT=%{y}<extra></extra>",
         "legendgroup": "LTT",
         "marker": {
          "color": "#FFA15A",
          "pattern": {
           "shape": ""
          }
         },
         "name": "LTT",
         "offsetgroup": "LTT",
         "orientation": "v",
         "showlegend": true,
         "textposition": "auto",
         "type": "bar",
         "x": [
          "NDLTG",
          "NDB",
          "NDCB",
          "NDGI"
         ],
         "xaxis": "x",
         "y": [
          0.02174717422897317,
          0.02676979282562365,
          0.02848339591927389,
          0.025840345380200365
         ],
         "yaxis": "y"
        },
        {
         "alignmentgroup": "True",
         "hovertemplate": "ASSET_CLASS_ID=MGDFUT<br>STRATEGY_ID=%{x}<br>WGT=%{y}<extra></extra>",
         "legendgroup": "MGDFUT",
         "marker": {
          "color": "#19d3f3",
          "pattern": {
           "shape": ""
          }
         },
         "name": "MGDFUT",
         "offsetgroup": "MGDFUT",
         "orientation": "v",
         "showlegend": true,
         "textposition": "auto",
         "type": "bar",
         "x": [
          "NDLTG",
          "NDB",
          "NDCB",
          "NDGI"
         ],
         "xaxis": "x",
         "y": [
          0.02970014924568612,
          0.0346714045687692,
          0.03279572546820604,
          0.03295141846814765
         ],
         "yaxis": "y"
        },
        {
         "alignmentgroup": "True",
         "hovertemplate": "ASSET_CLASS_ID=INTLLG<br>STRATEGY_ID=%{x}<br>WGT=%{y}<extra></extra>",
         "legendgroup": "INTLLG",
         "marker": {
          "color": "#FF6692",
          "pattern": {
           "shape": ""
          }
         },
         "name": "INTLLG",
         "offsetgroup": "INTLLG",
         "orientation": "v",
         "showlegend": true,
         "textposition": "auto",
         "type": "bar",
         "x": [
          "NDB",
          "NDLTG",
          "NDGI",
          "NDCB"
         ],
         "xaxis": "x",
         "y": [
          0.025942288235185858,
          0.05438923773696556,
          0.027382803801974692,
          0.01792583200922517
         ],
         "yaxis": "y"
        },
        {
         "alignmentgroup": "True",
         "hovertemplate": "ASSET_CLASS_ID=FRN<br>STRATEGY_ID=%{x}<br>WGT=%{y}<extra></extra>",
         "legendgroup": "FRN",
         "marker": {
          "color": "#B6E880",
          "pattern": {
           "shape": ""
          }
         },
         "name": "FRN",
         "offsetgroup": "FRN",
         "orientation": "v",
         "showlegend": true,
         "textposition": "auto",
         "type": "bar",
         "x": [
          "NDCB",
          "NDLTG",
          "NDGI",
          "NDB"
         ],
         "xaxis": "x",
         "y": [
          0.04601550739529463,
          0.014989732746940413,
          0.022080631638322593,
          0.03194962164480845
         ],
         "yaxis": "y"
        },
        {
         "alignmentgroup": "True",
         "hovertemplate": "ASSET_CLASS_ID=ABSRET<br>STRATEGY_ID=%{x}<br>WGT=%{y}<extra></extra>",
         "legendgroup": "ABSRET",
         "marker": {
          "color": "#FF97FF",
          "pattern": {
           "shape": ""
          }
         },
         "name": "ABSRET",
         "offsetgroup": "ABSRET",
         "orientation": "v",
         "showlegend": true,
         "textposition": "auto",
         "type": "bar",
         "x": [
          "NDCB",
          "NDB",
          "NDLTG",
          "NDGI"
         ],
         "xaxis": "x",
         "y": [
          4.959186090950243e-13,
          1.6324460628855076e-13,
          2.276012484578968e-17,
          2.9859333281255993e-17
         ],
         "yaxis": "y"
        },
        {
         "alignmentgroup": "True",
         "hovertemplate": "ASSET_CLASS_ID=TBILL<br>STRATEGY_ID=%{x}<br>WGT=%{y}<extra></extra>",
         "legendgroup": "TBILL",
         "marker": {
          "color": "#FECB52",
          "pattern": {
           "shape": ""
          }
         },
         "name": "TBILL",
         "offsetgroup": "TBILL",
         "orientation": "v",
         "showlegend": true,
         "textposition": "auto",
         "type": "bar",
         "x": [
          "NDLTG",
          "NDGI",
          "NDCB",
          "NDB"
         ],
         "xaxis": "x",
         "y": [
          0.007792695258750369,
          0.020686466072554335,
          0.05918756716944322,
          0.030434938413818814
         ],
         "yaxis": "y"
        },
        {
         "alignmentgroup": "True",
         "hovertemplate": "ASSET_CLASS_ID=COMM<br>STRATEGY_ID=%{x}<br>WGT=%{y}<extra></extra>",
         "legendgroup": "COMM",
         "marker": {
          "color": "#636efa",
          "pattern": {
           "shape": ""
          }
         },
         "name": "COMM",
         "offsetgroup": "COMM",
         "orientation": "v",
         "showlegend": true,
         "textposition": "auto",
         "type": "bar",
         "x": [
          "NDCB",
          "NDB",
          "NDGI",
          "NDLTG"
         ],
         "xaxis": "x",
         "y": [
          0.013363195942698022,
          0.002676379528157147,
          1.728443504417748e-17,
          1.4187025118239186e-17
         ],
         "yaxis": "y"
        },
        {
         "alignmentgroup": "True",
         "hovertemplate": "ASSET_CLASS_ID=HY<br>STRATEGY_ID=%{x}<br>WGT=%{y}<extra></extra>",
         "legendgroup": "HY",
         "marker": {
          "color": "#EF553B",
          "pattern": {
           "shape": ""
          }
         },
         "name": "HY",
         "offsetgroup": "HY",
         "orientation": "v",
         "showlegend": true,
         "textposition": "auto",
         "type": "bar",
         "x": [
          "NDGI",
          "NDCB",
          "NDB",
          "NDLTG"
         ],
         "xaxis": "x",
         "y": [
          0.05126023582978394,
          0.0785925519997169,
          0.07293307295987413,
          0.03596763026935239
         ],
         "yaxis": "y"
        },
        {
         "alignmentgroup": "True",
         "hovertemplate": "ASSET_CLASS_ID=TIPS<br>STRATEGY_ID=%{x}<br>WGT=%{y}<extra></extra>",
         "legendgroup": "TIPS",
         "marker": {
          "color": "#00cc96",
          "pattern": {
           "shape": ""
          }
         },
         "name": "TIPS",
         "offsetgroup": "TIPS",
         "orientation": "v",
         "showlegend": true,
         "textposition": "auto",
         "type": "bar",
         "x": [
          "NDB",
          "NDLTG",
          "NDCB",
          "NDGI"
         ],
         "xaxis": "x",
         "y": [
          0.006811189142079447,
          0.00023888714623576966,
          0.008015248963875172,
          0.0025729880882778083
         ],
         "yaxis": "y"
        },
        {
         "alignmentgroup": "True",
         "hovertemplate": "ASSET_CLASS_ID=EM<br>STRATEGY_ID=%{x}<br>WGT=%{y}<extra></extra>",
         "legendgroup": "EM",
         "marker": {
          "color": "#ab63fa",
          "pattern": {
           "shape": ""
          }
         },
         "name": "EM",
         "offsetgroup": "EM",
         "orientation": "v",
         "showlegend": true,
         "textposition": "auto",
         "type": "bar",
         "x": [
          "NDLTG",
          "NDB",
          "NDGI",
          "NDCB"
         ],
         "xaxis": "x",
         "y": [
          0.056190064774728085,
          0.027874785461612747,
          0.031728954569156295,
          0.020522303962805962
         ],
         "yaxis": "y"
        },
        {
         "alignmentgroup": "True",
         "hovertemplate": "ASSET_CLASS_ID=AGG<br>STRATEGY_ID=%{x}<br>WGT=%{y}<extra></extra>",
         "legendgroup": "AGG",
         "marker": {
          "color": "#FFA15A",
          "pattern": {
           "shape": ""
          }
         },
         "name": "AGG",
         "offsetgroup": "AGG",
         "orientation": "v",
         "showlegend": true,
         "textposition": "auto",
         "type": "bar",
         "x": [
          "NDLTG",
          "NDGI",
          "NDCB",
          "NDB"
         ],
         "xaxis": "x",
         "y": [
          0.03177788739292217,
          0.04521205014147923,
          0.08158779092744392,
          0.06895032691746826
         ],
         "yaxis": "y"
        },
        {
         "alignmentgroup": "True",
         "hovertemplate": "ASSET_CLASS_ID=USLG<br>STRATEGY_ID=%{x}<br>WGT=%{y}<extra></extra>",
         "legendgroup": "USLG",
         "marker": {
          "color": "#19d3f3",
          "pattern": {
           "shape": ""
          }
         },
         "name": "USLG",
         "offsetgroup": "USLG",
         "orientation": "v",
         "showlegend": true,
         "textposition": "auto",
         "type": "bar",
         "x": [
          "NDGI",
          "NDCB",
          "NDB",
          "NDLTG"
         ],
         "xaxis": "x",
         "y": [
          0.026754785610082748,
          0.022392160084119286,
          0.02714453058687188,
          0.020744531070947182
         ],
         "yaxis": "y"
        }
       ],
       "layout": {
        "barmode": "relative",
        "legend": {
         "title": {
          "text": "ASSET_CLASS_ID"
         },
         "tracegroupgap": 0
        },
        "template": {
         "data": {
          "bar": [
           {
            "error_x": {
             "color": "#2a3f5f"
            },
            "error_y": {
             "color": "#2a3f5f"
            },
            "marker": {
             "line": {
              "color": "#E5ECF6",
              "width": 0.5
             },
             "pattern": {
              "fillmode": "overlay",
              "size": 10,
              "solidity": 0.2
             }
            },
            "type": "bar"
           }
          ],
          "barpolar": [
           {
            "marker": {
             "line": {
              "color": "#E5ECF6",
              "width": 0.5
             },
             "pattern": {
              "fillmode": "overlay",
              "size": 10,
              "solidity": 0.2
             }
            },
            "type": "barpolar"
           }
          ],
          "carpet": [
           {
            "aaxis": {
             "endlinecolor": "#2a3f5f",
             "gridcolor": "white",
             "linecolor": "white",
             "minorgridcolor": "white",
             "startlinecolor": "#2a3f5f"
            },
            "baxis": {
             "endlinecolor": "#2a3f5f",
             "gridcolor": "white",
             "linecolor": "white",
             "minorgridcolor": "white",
             "startlinecolor": "#2a3f5f"
            },
            "type": "carpet"
           }
          ],
          "choropleth": [
           {
            "colorbar": {
             "outlinewidth": 0,
             "ticks": ""
            },
            "type": "choropleth"
           }
          ],
          "contour": [
           {
            "colorbar": {
             "outlinewidth": 0,
             "ticks": ""
            },
            "colorscale": [
             [
              0,
              "#0d0887"
             ],
             [
              0.1111111111111111,
              "#46039f"
             ],
             [
              0.2222222222222222,
              "#7201a8"
             ],
             [
              0.3333333333333333,
              "#9c179e"
             ],
             [
              0.4444444444444444,
              "#bd3786"
             ],
             [
              0.5555555555555556,
              "#d8576b"
             ],
             [
              0.6666666666666666,
              "#ed7953"
             ],
             [
              0.7777777777777778,
              "#fb9f3a"
             ],
             [
              0.8888888888888888,
              "#fdca26"
             ],
             [
              1,
              "#f0f921"
             ]
            ],
            "type": "contour"
           }
          ],
          "contourcarpet": [
           {
            "colorbar": {
             "outlinewidth": 0,
             "ticks": ""
            },
            "type": "contourcarpet"
           }
          ],
          "heatmap": [
           {
            "colorbar": {
             "outlinewidth": 0,
             "ticks": ""
            },
            "colorscale": [
             [
              0,
              "#0d0887"
             ],
             [
              0.1111111111111111,
              "#46039f"
             ],
             [
              0.2222222222222222,
              "#7201a8"
             ],
             [
              0.3333333333333333,
              "#9c179e"
             ],
             [
              0.4444444444444444,
              "#bd3786"
             ],
             [
              0.5555555555555556,
              "#d8576b"
             ],
             [
              0.6666666666666666,
              "#ed7953"
             ],
             [
              0.7777777777777778,
              "#fb9f3a"
             ],
             [
              0.8888888888888888,
              "#fdca26"
             ],
             [
              1,
              "#f0f921"
             ]
            ],
            "type": "heatmap"
           }
          ],
          "heatmapgl": [
           {
            "colorbar": {
             "outlinewidth": 0,
             "ticks": ""
            },
            "colorscale": [
             [
              0,
              "#0d0887"
             ],
             [
              0.1111111111111111,
              "#46039f"
             ],
             [
              0.2222222222222222,
              "#7201a8"
             ],
             [
              0.3333333333333333,
              "#9c179e"
             ],
             [
              0.4444444444444444,
              "#bd3786"
             ],
             [
              0.5555555555555556,
              "#d8576b"
             ],
             [
              0.6666666666666666,
              "#ed7953"
             ],
             [
              0.7777777777777778,
              "#fb9f3a"
             ],
             [
              0.8888888888888888,
              "#fdca26"
             ],
             [
              1,
              "#f0f921"
             ]
            ],
            "type": "heatmapgl"
           }
          ],
          "histogram": [
           {
            "marker": {
             "pattern": {
              "fillmode": "overlay",
              "size": 10,
              "solidity": 0.2
             }
            },
            "type": "histogram"
           }
          ],
          "histogram2d": [
           {
            "colorbar": {
             "outlinewidth": 0,
             "ticks": ""
            },
            "colorscale": [
             [
              0,
              "#0d0887"
             ],
             [
              0.1111111111111111,
              "#46039f"
             ],
             [
              0.2222222222222222,
              "#7201a8"
             ],
             [
              0.3333333333333333,
              "#9c179e"
             ],
             [
              0.4444444444444444,
              "#bd3786"
             ],
             [
              0.5555555555555556,
              "#d8576b"
             ],
             [
              0.6666666666666666,
              "#ed7953"
             ],
             [
              0.7777777777777778,
              "#fb9f3a"
             ],
             [
              0.8888888888888888,
              "#fdca26"
             ],
             [
              1,
              "#f0f921"
             ]
            ],
            "type": "histogram2d"
           }
          ],
          "histogram2dcontour": [
           {
            "colorbar": {
             "outlinewidth": 0,
             "ticks": ""
            },
            "colorscale": [
             [
              0,
              "#0d0887"
             ],
             [
              0.1111111111111111,
              "#46039f"
             ],
             [
              0.2222222222222222,
              "#7201a8"
             ],
             [
              0.3333333333333333,
              "#9c179e"
             ],
             [
              0.4444444444444444,
              "#bd3786"
             ],
             [
              0.5555555555555556,
              "#d8576b"
             ],
             [
              0.6666666666666666,
              "#ed7953"
             ],
             [
              0.7777777777777778,
              "#fb9f3a"
             ],
             [
              0.8888888888888888,
              "#fdca26"
             ],
             [
              1,
              "#f0f921"
             ]
            ],
            "type": "histogram2dcontour"
           }
          ],
          "mesh3d": [
           {
            "colorbar": {
             "outlinewidth": 0,
             "ticks": ""
            },
            "type": "mesh3d"
           }
          ],
          "parcoords": [
           {
            "line": {
             "colorbar": {
              "outlinewidth": 0,
              "ticks": ""
             }
            },
            "type": "parcoords"
           }
          ],
          "pie": [
           {
            "automargin": true,
            "type": "pie"
           }
          ],
          "scatter": [
           {
            "fillpattern": {
             "fillmode": "overlay",
             "size": 10,
             "solidity": 0.2
            },
            "type": "scatter"
           }
          ],
          "scatter3d": [
           {
            "line": {
             "colorbar": {
              "outlinewidth": 0,
              "ticks": ""
             }
            },
            "marker": {
             "colorbar": {
              "outlinewidth": 0,
              "ticks": ""
             }
            },
            "type": "scatter3d"
           }
          ],
          "scattercarpet": [
           {
            "marker": {
             "colorbar": {
              "outlinewidth": 0,
              "ticks": ""
             }
            },
            "type": "scattercarpet"
           }
          ],
          "scattergeo": [
           {
            "marker": {
             "colorbar": {
              "outlinewidth": 0,
              "ticks": ""
             }
            },
            "type": "scattergeo"
           }
          ],
          "scattergl": [
           {
            "marker": {
             "colorbar": {
              "outlinewidth": 0,
              "ticks": ""
             }
            },
            "type": "scattergl"
           }
          ],
          "scattermapbox": [
           {
            "marker": {
             "colorbar": {
              "outlinewidth": 0,
              "ticks": ""
             }
            },
            "type": "scattermapbox"
           }
          ],
          "scatterpolar": [
           {
            "marker": {
             "colorbar": {
              "outlinewidth": 0,
              "ticks": ""
             }
            },
            "type": "scatterpolar"
           }
          ],
          "scatterpolargl": [
           {
            "marker": {
             "colorbar": {
              "outlinewidth": 0,
              "ticks": ""
             }
            },
            "type": "scatterpolargl"
           }
          ],
          "scatterternary": [
           {
            "marker": {
             "colorbar": {
              "outlinewidth": 0,
              "ticks": ""
             }
            },
            "type": "scatterternary"
           }
          ],
          "surface": [
           {
            "colorbar": {
             "outlinewidth": 0,
             "ticks": ""
            },
            "colorscale": [
             [
              0,
              "#0d0887"
             ],
             [
              0.1111111111111111,
              "#46039f"
             ],
             [
              0.2222222222222222,
              "#7201a8"
             ],
             [
              0.3333333333333333,
              "#9c179e"
             ],
             [
              0.4444444444444444,
              "#bd3786"
             ],
             [
              0.5555555555555556,
              "#d8576b"
             ],
             [
              0.6666666666666666,
              "#ed7953"
             ],
             [
              0.7777777777777778,
              "#fb9f3a"
             ],
             [
              0.8888888888888888,
              "#fdca26"
             ],
             [
              1,
              "#f0f921"
             ]
            ],
            "type": "surface"
           }
          ],
          "table": [
           {
            "cells": {
             "fill": {
              "color": "#EBF0F8"
             },
             "line": {
              "color": "white"
             }
            },
            "header": {
             "fill": {
              "color": "#C8D4E3"
             },
             "line": {
              "color": "white"
             }
            },
            "type": "table"
           }
          ]
         },
         "layout": {
          "annotationdefaults": {
           "arrowcolor": "#2a3f5f",
           "arrowhead": 0,
           "arrowwidth": 1
          },
          "autotypenumbers": "strict",
          "coloraxis": {
           "colorbar": {
            "outlinewidth": 0,
            "ticks": ""
           }
          },
          "colorscale": {
           "diverging": [
            [
             0,
             "#8e0152"
            ],
            [
             0.1,
             "#c51b7d"
            ],
            [
             0.2,
             "#de77ae"
            ],
            [
             0.3,
             "#f1b6da"
            ],
            [
             0.4,
             "#fde0ef"
            ],
            [
             0.5,
             "#f7f7f7"
            ],
            [
             0.6,
             "#e6f5d0"
            ],
            [
             0.7,
             "#b8e186"
            ],
            [
             0.8,
             "#7fbc41"
            ],
            [
             0.9,
             "#4d9221"
            ],
            [
             1,
             "#276419"
            ]
           ],
           "sequential": [
            [
             0,
             "#0d0887"
            ],
            [
             0.1111111111111111,
             "#46039f"
            ],
            [
             0.2222222222222222,
             "#7201a8"
            ],
            [
             0.3333333333333333,
             "#9c179e"
            ],
            [
             0.4444444444444444,
             "#bd3786"
            ],
            [
             0.5555555555555556,
             "#d8576b"
            ],
            [
             0.6666666666666666,
             "#ed7953"
            ],
            [
             0.7777777777777778,
             "#fb9f3a"
            ],
            [
             0.8888888888888888,
             "#fdca26"
            ],
            [
             1,
             "#f0f921"
            ]
           ],
           "sequentialminus": [
            [
             0,
             "#0d0887"
            ],
            [
             0.1111111111111111,
             "#46039f"
            ],
            [
             0.2222222222222222,
             "#7201a8"
            ],
            [
             0.3333333333333333,
             "#9c179e"
            ],
            [
             0.4444444444444444,
             "#bd3786"
            ],
            [
             0.5555555555555556,
             "#d8576b"
            ],
            [
             0.6666666666666666,
             "#ed7953"
            ],
            [
             0.7777777777777778,
             "#fb9f3a"
            ],
            [
             0.8888888888888888,
             "#fdca26"
            ],
            [
             1,
             "#f0f921"
            ]
           ]
          },
          "colorway": [
           "#636efa",
           "#EF553B",
           "#00cc96",
           "#ab63fa",
           "#FFA15A",
           "#19d3f3",
           "#FF6692",
           "#B6E880",
           "#FF97FF",
           "#FECB52"
          ],
          "font": {
           "color": "#2a3f5f"
          },
          "geo": {
           "bgcolor": "white",
           "lakecolor": "white",
           "landcolor": "#E5ECF6",
           "showlakes": true,
           "showland": true,
           "subunitcolor": "white"
          },
          "hoverlabel": {
           "align": "left"
          },
          "hovermode": "closest",
          "mapbox": {
           "style": "light"
          },
          "paper_bgcolor": "white",
          "plot_bgcolor": "#E5ECF6",
          "polar": {
           "angularaxis": {
            "gridcolor": "white",
            "linecolor": "white",
            "ticks": ""
           },
           "bgcolor": "#E5ECF6",
           "radialaxis": {
            "gridcolor": "white",
            "linecolor": "white",
            "ticks": ""
           }
          },
          "scene": {
           "xaxis": {
            "backgroundcolor": "#E5ECF6",
            "gridcolor": "white",
            "gridwidth": 2,
            "linecolor": "white",
            "showbackground": true,
            "ticks": "",
            "zerolinecolor": "white"
           },
           "yaxis": {
            "backgroundcolor": "#E5ECF6",
            "gridcolor": "white",
            "gridwidth": 2,
            "linecolor": "white",
            "showbackground": true,
            "ticks": "",
            "zerolinecolor": "white"
           },
           "zaxis": {
            "backgroundcolor": "#E5ECF6",
            "gridcolor": "white",
            "gridwidth": 2,
            "linecolor": "white",
            "showbackground": true,
            "ticks": "",
            "zerolinecolor": "white"
           }
          },
          "shapedefaults": {
           "line": {
            "color": "#2a3f5f"
           }
          },
          "ternary": {
           "aaxis": {
            "gridcolor": "white",
            "linecolor": "white",
            "ticks": ""
           },
           "baxis": {
            "gridcolor": "white",
            "linecolor": "white",
            "ticks": ""
           },
           "bgcolor": "#E5ECF6",
           "caxis": {
            "gridcolor": "white",
            "linecolor": "white",
            "ticks": ""
           }
          },
          "title": {
           "x": 0.05
          },
          "xaxis": {
           "automargin": true,
           "gridcolor": "white",
           "linecolor": "white",
           "ticks": "",
           "title": {
            "standoff": 15
           },
           "zerolinecolor": "white",
           "zerolinewidth": 2
          },
          "yaxis": {
           "automargin": true,
           "gridcolor": "white",
           "linecolor": "white",
           "ticks": "",
           "title": {
            "standoff": 15
           },
           "zerolinecolor": "white",
           "zerolinewidth": 2
          }
         }
        },
        "title": {
         "text": "Standard Deviation of Monthly Target Allocations 2000-2024"
        },
        "xaxis": {
         "anchor": "y",
         "domain": [
          0,
          1
         ],
         "title": {
          "text": "STRATEGY_ID"
         }
        },
        "yaxis": {
         "anchor": "x",
         "domain": [
          0,
          1
         ],
         "title": {
          "text": "WGT"
         }
        }
       }
      },
      "text/html": [
       "<div>                            <div id=\"db1fe5ca-9e69-4a2b-b2b1-4edfa74ba960\" class=\"plotly-graph-div\" style=\"height:525px; width:100%;\"></div>            <script type=\"text/javascript\">                require([\"plotly\"], function(Plotly) {                    window.PLOTLYENV=window.PLOTLYENV || {};                                    if (document.getElementById(\"db1fe5ca-9e69-4a2b-b2b1-4edfa74ba960\")) {                    Plotly.newPlot(                        \"db1fe5ca-9e69-4a2b-b2b1-4edfa74ba960\",                        [{\"alignmentgroup\":\"True\",\"hovertemplate\":\"ASSET_CLASS_ID=INTLSM\\u003cbr\\u003eSTRATEGY_ID=%{x}\\u003cbr\\u003eWGT=%{y}\\u003cextra\\u003e\\u003c\\u002fextra\\u003e\",\"legendgroup\":\"INTLSM\",\"marker\":{\"color\":\"#636efa\",\"pattern\":{\"shape\":\"\"}},\"name\":\"INTLSM\",\"offsetgroup\":\"INTLSM\",\"orientation\":\"v\",\"showlegend\":true,\"textposition\":\"auto\",\"x\":[\"NDB\",\"NDCB\",\"NDGI\",\"NDLTG\"],\"xaxis\":\"x\",\"y\":[0.006818380616909882,0.010240149936494861,0.014978615627270537,0.02689678276606537],\"yaxis\":\"y\",\"type\":\"bar\"},{\"alignmentgroup\":\"True\",\"hovertemplate\":\"ASSET_CLASS_ID=INTLBOND\\u003cbr\\u003eSTRATEGY_ID=%{x}\\u003cbr\\u003eWGT=%{y}\\u003cextra\\u003e\\u003c\\u002fextra\\u003e\",\"legendgroup\":\"INTLBOND\",\"marker\":{\"color\":\"#EF553B\",\"pattern\":{\"shape\":\"\"}},\"name\":\"INTLBOND\",\"offsetgroup\":\"INTLBOND\",\"orientation\":\"v\",\"showlegend\":true,\"textposition\":\"auto\",\"x\":[\"NDB\",\"NDGI\",\"NDCB\",\"NDLTG\"],\"xaxis\":\"x\",\"y\":[4.635216489933467e-13,4.390464062722024e-13,4.771870672857428e-13,3.938599772695829e-13],\"yaxis\":\"y\",\"type\":\"bar\"},{\"alignmentgroup\":\"True\",\"hovertemplate\":\"ASSET_CLASS_ID=REIT\\u003cbr\\u003eSTRATEGY_ID=%{x}\\u003cbr\\u003eWGT=%{y}\\u003cextra\\u003e\\u003c\\u002fextra\\u003e\",\"legendgroup\":\"REIT\",\"marker\":{\"color\":\"#00cc96\",\"pattern\":{\"shape\":\"\"}},\"name\":\"REIT\",\"offsetgroup\":\"REIT\",\"orientation\":\"v\",\"showlegend\":true,\"textposition\":\"auto\",\"x\":[\"NDCB\",\"NDGI\",\"NDB\",\"NDLTG\"],\"xaxis\":\"x\",\"y\":[0.05138639844192767,0.06532967887226403,0.06618574779276086,0.06105065446464168],\"yaxis\":\"y\",\"type\":\"bar\"},{\"alignmentgroup\":\"True\",\"hovertemplate\":\"ASSET_CLASS_ID=USSM\\u003cbr\\u003eSTRATEGY_ID=%{x}\\u003cbr\\u003eWGT=%{y}\\u003cextra\\u003e\\u003c\\u002fextra\\u003e\",\"legendgroup\":\"USSM\",\"marker\":{\"color\":\"#ab63fa\",\"pattern\":{\"shape\":\"\"}},\"name\":\"USSM\",\"offsetgroup\":\"USSM\",\"orientation\":\"v\",\"showlegend\":true,\"textposition\":\"auto\",\"x\":[\"NDGI\",\"NDB\",\"NDLTG\",\"NDCB\"],\"xaxis\":\"x\",\"y\":[0.024637863547730423,0.01968307797835623,0.04556650484524772,0.020335975387801977],\"yaxis\":\"y\",\"type\":\"bar\"},{\"alignmentgroup\":\"True\",\"hovertemplate\":\"ASSET_CLASS_ID=LTT\\u003cbr\\u003eSTRATEGY_ID=%{x}\\u003cbr\\u003eWGT=%{y}\\u003cextra\\u003e\\u003c\\u002fextra\\u003e\",\"legendgroup\":\"LTT\",\"marker\":{\"color\":\"#FFA15A\",\"pattern\":{\"shape\":\"\"}},\"name\":\"LTT\",\"offsetgroup\":\"LTT\",\"orientation\":\"v\",\"showlegend\":true,\"textposition\":\"auto\",\"x\":[\"NDLTG\",\"NDB\",\"NDCB\",\"NDGI\"],\"xaxis\":\"x\",\"y\":[0.02174717422897317,0.02676979282562365,0.02848339591927389,0.025840345380200365],\"yaxis\":\"y\",\"type\":\"bar\"},{\"alignmentgroup\":\"True\",\"hovertemplate\":\"ASSET_CLASS_ID=MGDFUT\\u003cbr\\u003eSTRATEGY_ID=%{x}\\u003cbr\\u003eWGT=%{y}\\u003cextra\\u003e\\u003c\\u002fextra\\u003e\",\"legendgroup\":\"MGDFUT\",\"marker\":{\"color\":\"#19d3f3\",\"pattern\":{\"shape\":\"\"}},\"name\":\"MGDFUT\",\"offsetgroup\":\"MGDFUT\",\"orientation\":\"v\",\"showlegend\":true,\"textposition\":\"auto\",\"x\":[\"NDLTG\",\"NDB\",\"NDCB\",\"NDGI\"],\"xaxis\":\"x\",\"y\":[0.02970014924568612,0.0346714045687692,0.03279572546820604,0.03295141846814765],\"yaxis\":\"y\",\"type\":\"bar\"},{\"alignmentgroup\":\"True\",\"hovertemplate\":\"ASSET_CLASS_ID=INTLLG\\u003cbr\\u003eSTRATEGY_ID=%{x}\\u003cbr\\u003eWGT=%{y}\\u003cextra\\u003e\\u003c\\u002fextra\\u003e\",\"legendgroup\":\"INTLLG\",\"marker\":{\"color\":\"#FF6692\",\"pattern\":{\"shape\":\"\"}},\"name\":\"INTLLG\",\"offsetgroup\":\"INTLLG\",\"orientation\":\"v\",\"showlegend\":true,\"textposition\":\"auto\",\"x\":[\"NDB\",\"NDLTG\",\"NDGI\",\"NDCB\"],\"xaxis\":\"x\",\"y\":[0.025942288235185858,0.05438923773696556,0.027382803801974692,0.01792583200922517],\"yaxis\":\"y\",\"type\":\"bar\"},{\"alignmentgroup\":\"True\",\"hovertemplate\":\"ASSET_CLASS_ID=FRN\\u003cbr\\u003eSTRATEGY_ID=%{x}\\u003cbr\\u003eWGT=%{y}\\u003cextra\\u003e\\u003c\\u002fextra\\u003e\",\"legendgroup\":\"FRN\",\"marker\":{\"color\":\"#B6E880\",\"pattern\":{\"shape\":\"\"}},\"name\":\"FRN\",\"offsetgroup\":\"FRN\",\"orientation\":\"v\",\"showlegend\":true,\"textposition\":\"auto\",\"x\":[\"NDCB\",\"NDLTG\",\"NDGI\",\"NDB\"],\"xaxis\":\"x\",\"y\":[0.04601550739529463,0.014989732746940413,0.022080631638322593,0.03194962164480845],\"yaxis\":\"y\",\"type\":\"bar\"},{\"alignmentgroup\":\"True\",\"hovertemplate\":\"ASSET_CLASS_ID=ABSRET\\u003cbr\\u003eSTRATEGY_ID=%{x}\\u003cbr\\u003eWGT=%{y}\\u003cextra\\u003e\\u003c\\u002fextra\\u003e\",\"legendgroup\":\"ABSRET\",\"marker\":{\"color\":\"#FF97FF\",\"pattern\":{\"shape\":\"\"}},\"name\":\"ABSRET\",\"offsetgroup\":\"ABSRET\",\"orientation\":\"v\",\"showlegend\":true,\"textposition\":\"auto\",\"x\":[\"NDCB\",\"NDB\",\"NDLTG\",\"NDGI\"],\"xaxis\":\"x\",\"y\":[4.959186090950243e-13,1.6324460628855076e-13,2.276012484578968e-17,2.9859333281255993e-17],\"yaxis\":\"y\",\"type\":\"bar\"},{\"alignmentgroup\":\"True\",\"hovertemplate\":\"ASSET_CLASS_ID=TBILL\\u003cbr\\u003eSTRATEGY_ID=%{x}\\u003cbr\\u003eWGT=%{y}\\u003cextra\\u003e\\u003c\\u002fextra\\u003e\",\"legendgroup\":\"TBILL\",\"marker\":{\"color\":\"#FECB52\",\"pattern\":{\"shape\":\"\"}},\"name\":\"TBILL\",\"offsetgroup\":\"TBILL\",\"orientation\":\"v\",\"showlegend\":true,\"textposition\":\"auto\",\"x\":[\"NDLTG\",\"NDGI\",\"NDCB\",\"NDB\"],\"xaxis\":\"x\",\"y\":[0.007792695258750369,0.020686466072554335,0.05918756716944322,0.030434938413818814],\"yaxis\":\"y\",\"type\":\"bar\"},{\"alignmentgroup\":\"True\",\"hovertemplate\":\"ASSET_CLASS_ID=COMM\\u003cbr\\u003eSTRATEGY_ID=%{x}\\u003cbr\\u003eWGT=%{y}\\u003cextra\\u003e\\u003c\\u002fextra\\u003e\",\"legendgroup\":\"COMM\",\"marker\":{\"color\":\"#636efa\",\"pattern\":{\"shape\":\"\"}},\"name\":\"COMM\",\"offsetgroup\":\"COMM\",\"orientation\":\"v\",\"showlegend\":true,\"textposition\":\"auto\",\"x\":[\"NDCB\",\"NDB\",\"NDGI\",\"NDLTG\"],\"xaxis\":\"x\",\"y\":[0.013363195942698022,0.002676379528157147,1.728443504417748e-17,1.4187025118239186e-17],\"yaxis\":\"y\",\"type\":\"bar\"},{\"alignmentgroup\":\"True\",\"hovertemplate\":\"ASSET_CLASS_ID=HY\\u003cbr\\u003eSTRATEGY_ID=%{x}\\u003cbr\\u003eWGT=%{y}\\u003cextra\\u003e\\u003c\\u002fextra\\u003e\",\"legendgroup\":\"HY\",\"marker\":{\"color\":\"#EF553B\",\"pattern\":{\"shape\":\"\"}},\"name\":\"HY\",\"offsetgroup\":\"HY\",\"orientation\":\"v\",\"showlegend\":true,\"textposition\":\"auto\",\"x\":[\"NDGI\",\"NDCB\",\"NDB\",\"NDLTG\"],\"xaxis\":\"x\",\"y\":[0.05126023582978394,0.0785925519997169,0.07293307295987413,0.03596763026935239],\"yaxis\":\"y\",\"type\":\"bar\"},{\"alignmentgroup\":\"True\",\"hovertemplate\":\"ASSET_CLASS_ID=TIPS\\u003cbr\\u003eSTRATEGY_ID=%{x}\\u003cbr\\u003eWGT=%{y}\\u003cextra\\u003e\\u003c\\u002fextra\\u003e\",\"legendgroup\":\"TIPS\",\"marker\":{\"color\":\"#00cc96\",\"pattern\":{\"shape\":\"\"}},\"name\":\"TIPS\",\"offsetgroup\":\"TIPS\",\"orientation\":\"v\",\"showlegend\":true,\"textposition\":\"auto\",\"x\":[\"NDB\",\"NDLTG\",\"NDCB\",\"NDGI\"],\"xaxis\":\"x\",\"y\":[0.006811189142079447,0.00023888714623576966,0.008015248963875172,0.0025729880882778083],\"yaxis\":\"y\",\"type\":\"bar\"},{\"alignmentgroup\":\"True\",\"hovertemplate\":\"ASSET_CLASS_ID=EM\\u003cbr\\u003eSTRATEGY_ID=%{x}\\u003cbr\\u003eWGT=%{y}\\u003cextra\\u003e\\u003c\\u002fextra\\u003e\",\"legendgroup\":\"EM\",\"marker\":{\"color\":\"#ab63fa\",\"pattern\":{\"shape\":\"\"}},\"name\":\"EM\",\"offsetgroup\":\"EM\",\"orientation\":\"v\",\"showlegend\":true,\"textposition\":\"auto\",\"x\":[\"NDLTG\",\"NDB\",\"NDGI\",\"NDCB\"],\"xaxis\":\"x\",\"y\":[0.056190064774728085,0.027874785461612747,0.031728954569156295,0.020522303962805962],\"yaxis\":\"y\",\"type\":\"bar\"},{\"alignmentgroup\":\"True\",\"hovertemplate\":\"ASSET_CLASS_ID=AGG\\u003cbr\\u003eSTRATEGY_ID=%{x}\\u003cbr\\u003eWGT=%{y}\\u003cextra\\u003e\\u003c\\u002fextra\\u003e\",\"legendgroup\":\"AGG\",\"marker\":{\"color\":\"#FFA15A\",\"pattern\":{\"shape\":\"\"}},\"name\":\"AGG\",\"offsetgroup\":\"AGG\",\"orientation\":\"v\",\"showlegend\":true,\"textposition\":\"auto\",\"x\":[\"NDLTG\",\"NDGI\",\"NDCB\",\"NDB\"],\"xaxis\":\"x\",\"y\":[0.03177788739292217,0.04521205014147923,0.08158779092744392,0.06895032691746826],\"yaxis\":\"y\",\"type\":\"bar\"},{\"alignmentgroup\":\"True\",\"hovertemplate\":\"ASSET_CLASS_ID=USLG\\u003cbr\\u003eSTRATEGY_ID=%{x}\\u003cbr\\u003eWGT=%{y}\\u003cextra\\u003e\\u003c\\u002fextra\\u003e\",\"legendgroup\":\"USLG\",\"marker\":{\"color\":\"#19d3f3\",\"pattern\":{\"shape\":\"\"}},\"name\":\"USLG\",\"offsetgroup\":\"USLG\",\"orientation\":\"v\",\"showlegend\":true,\"textposition\":\"auto\",\"x\":[\"NDGI\",\"NDCB\",\"NDB\",\"NDLTG\"],\"xaxis\":\"x\",\"y\":[0.026754785610082748,0.022392160084119286,0.02714453058687188,0.020744531070947182],\"yaxis\":\"y\",\"type\":\"bar\"}],                        {\"template\":{\"data\":{\"histogram2dcontour\":[{\"type\":\"histogram2dcontour\",\"colorbar\":{\"outlinewidth\":0,\"ticks\":\"\"},\"colorscale\":[[0.0,\"#0d0887\"],[0.1111111111111111,\"#46039f\"],[0.2222222222222222,\"#7201a8\"],[0.3333333333333333,\"#9c179e\"],[0.4444444444444444,\"#bd3786\"],[0.5555555555555556,\"#d8576b\"],[0.6666666666666666,\"#ed7953\"],[0.7777777777777778,\"#fb9f3a\"],[0.8888888888888888,\"#fdca26\"],[1.0,\"#f0f921\"]]}],\"choropleth\":[{\"type\":\"choropleth\",\"colorbar\":{\"outlinewidth\":0,\"ticks\":\"\"}}],\"histogram2d\":[{\"type\":\"histogram2d\",\"colorbar\":{\"outlinewidth\":0,\"ticks\":\"\"},\"colorscale\":[[0.0,\"#0d0887\"],[0.1111111111111111,\"#46039f\"],[0.2222222222222222,\"#7201a8\"],[0.3333333333333333,\"#9c179e\"],[0.4444444444444444,\"#bd3786\"],[0.5555555555555556,\"#d8576b\"],[0.6666666666666666,\"#ed7953\"],[0.7777777777777778,\"#fb9f3a\"],[0.8888888888888888,\"#fdca26\"],[1.0,\"#f0f921\"]]}],\"heatmap\":[{\"type\":\"heatmap\",\"colorbar\":{\"outlinewidth\":0,\"ticks\":\"\"},\"colorscale\":[[0.0,\"#0d0887\"],[0.1111111111111111,\"#46039f\"],[0.2222222222222222,\"#7201a8\"],[0.3333333333333333,\"#9c179e\"],[0.4444444444444444,\"#bd3786\"],[0.5555555555555556,\"#d8576b\"],[0.6666666666666666,\"#ed7953\"],[0.7777777777777778,\"#fb9f3a\"],[0.8888888888888888,\"#fdca26\"],[1.0,\"#f0f921\"]]}],\"heatmapgl\":[{\"type\":\"heatmapgl\",\"colorbar\":{\"outlinewidth\":0,\"ticks\":\"\"},\"colorscale\":[[0.0,\"#0d0887\"],[0.1111111111111111,\"#46039f\"],[0.2222222222222222,\"#7201a8\"],[0.3333333333333333,\"#9c179e\"],[0.4444444444444444,\"#bd3786\"],[0.5555555555555556,\"#d8576b\"],[0.6666666666666666,\"#ed7953\"],[0.7777777777777778,\"#fb9f3a\"],[0.8888888888888888,\"#fdca26\"],[1.0,\"#f0f921\"]]}],\"contourcarpet\":[{\"type\":\"contourcarpet\",\"colorbar\":{\"outlinewidth\":0,\"ticks\":\"\"}}],\"contour\":[{\"type\":\"contour\",\"colorbar\":{\"outlinewidth\":0,\"ticks\":\"\"},\"colorscale\":[[0.0,\"#0d0887\"],[0.1111111111111111,\"#46039f\"],[0.2222222222222222,\"#7201a8\"],[0.3333333333333333,\"#9c179e\"],[0.4444444444444444,\"#bd3786\"],[0.5555555555555556,\"#d8576b\"],[0.6666666666666666,\"#ed7953\"],[0.7777777777777778,\"#fb9f3a\"],[0.8888888888888888,\"#fdca26\"],[1.0,\"#f0f921\"]]}],\"surface\":[{\"type\":\"surface\",\"colorbar\":{\"outlinewidth\":0,\"ticks\":\"\"},\"colorscale\":[[0.0,\"#0d0887\"],[0.1111111111111111,\"#46039f\"],[0.2222222222222222,\"#7201a8\"],[0.3333333333333333,\"#9c179e\"],[0.4444444444444444,\"#bd3786\"],[0.5555555555555556,\"#d8576b\"],[0.6666666666666666,\"#ed7953\"],[0.7777777777777778,\"#fb9f3a\"],[0.8888888888888888,\"#fdca26\"],[1.0,\"#f0f921\"]]}],\"mesh3d\":[{\"type\":\"mesh3d\",\"colorbar\":{\"outlinewidth\":0,\"ticks\":\"\"}}],\"scatter\":[{\"fillpattern\":{\"fillmode\":\"overlay\",\"size\":10,\"solidity\":0.2},\"type\":\"scatter\"}],\"parcoords\":[{\"type\":\"parcoords\",\"line\":{\"colorbar\":{\"outlinewidth\":0,\"ticks\":\"\"}}}],\"scatterpolargl\":[{\"type\":\"scatterpolargl\",\"marker\":{\"colorbar\":{\"outlinewidth\":0,\"ticks\":\"\"}}}],\"bar\":[{\"error_x\":{\"color\":\"#2a3f5f\"},\"error_y\":{\"color\":\"#2a3f5f\"},\"marker\":{\"line\":{\"color\":\"#E5ECF6\",\"width\":0.5},\"pattern\":{\"fillmode\":\"overlay\",\"size\":10,\"solidity\":0.2}},\"type\":\"bar\"}],\"scattergeo\":[{\"type\":\"scattergeo\",\"marker\":{\"colorbar\":{\"outlinewidth\":0,\"ticks\":\"\"}}}],\"scatterpolar\":[{\"type\":\"scatterpolar\",\"marker\":{\"colorbar\":{\"outlinewidth\":0,\"ticks\":\"\"}}}],\"histogram\":[{\"marker\":{\"pattern\":{\"fillmode\":\"overlay\",\"size\":10,\"solidity\":0.2}},\"type\":\"histogram\"}],\"scattergl\":[{\"type\":\"scattergl\",\"marker\":{\"colorbar\":{\"outlinewidth\":0,\"ticks\":\"\"}}}],\"scatter3d\":[{\"type\":\"scatter3d\",\"line\":{\"colorbar\":{\"outlinewidth\":0,\"ticks\":\"\"}},\"marker\":{\"colorbar\":{\"outlinewidth\":0,\"ticks\":\"\"}}}],\"scattermapbox\":[{\"type\":\"scattermapbox\",\"marker\":{\"colorbar\":{\"outlinewidth\":0,\"ticks\":\"\"}}}],\"scatterternary\":[{\"type\":\"scatterternary\",\"marker\":{\"colorbar\":{\"outlinewidth\":0,\"ticks\":\"\"}}}],\"scattercarpet\":[{\"type\":\"scattercarpet\",\"marker\":{\"colorbar\":{\"outlinewidth\":0,\"ticks\":\"\"}}}],\"carpet\":[{\"aaxis\":{\"endlinecolor\":\"#2a3f5f\",\"gridcolor\":\"white\",\"linecolor\":\"white\",\"minorgridcolor\":\"white\",\"startlinecolor\":\"#2a3f5f\"},\"baxis\":{\"endlinecolor\":\"#2a3f5f\",\"gridcolor\":\"white\",\"linecolor\":\"white\",\"minorgridcolor\":\"white\",\"startlinecolor\":\"#2a3f5f\"},\"type\":\"carpet\"}],\"table\":[{\"cells\":{\"fill\":{\"color\":\"#EBF0F8\"},\"line\":{\"color\":\"white\"}},\"header\":{\"fill\":{\"color\":\"#C8D4E3\"},\"line\":{\"color\":\"white\"}},\"type\":\"table\"}],\"barpolar\":[{\"marker\":{\"line\":{\"color\":\"#E5ECF6\",\"width\":0.5},\"pattern\":{\"fillmode\":\"overlay\",\"size\":10,\"solidity\":0.2}},\"type\":\"barpolar\"}],\"pie\":[{\"automargin\":true,\"type\":\"pie\"}]},\"layout\":{\"autotypenumbers\":\"strict\",\"colorway\":[\"#636efa\",\"#EF553B\",\"#00cc96\",\"#ab63fa\",\"#FFA15A\",\"#19d3f3\",\"#FF6692\",\"#B6E880\",\"#FF97FF\",\"#FECB52\"],\"font\":{\"color\":\"#2a3f5f\"},\"hovermode\":\"closest\",\"hoverlabel\":{\"align\":\"left\"},\"paper_bgcolor\":\"white\",\"plot_bgcolor\":\"#E5ECF6\",\"polar\":{\"bgcolor\":\"#E5ECF6\",\"angularaxis\":{\"gridcolor\":\"white\",\"linecolor\":\"white\",\"ticks\":\"\"},\"radialaxis\":{\"gridcolor\":\"white\",\"linecolor\":\"white\",\"ticks\":\"\"}},\"ternary\":{\"bgcolor\":\"#E5ECF6\",\"aaxis\":{\"gridcolor\":\"white\",\"linecolor\":\"white\",\"ticks\":\"\"},\"baxis\":{\"gridcolor\":\"white\",\"linecolor\":\"white\",\"ticks\":\"\"},\"caxis\":{\"gridcolor\":\"white\",\"linecolor\":\"white\",\"ticks\":\"\"}},\"coloraxis\":{\"colorbar\":{\"outlinewidth\":0,\"ticks\":\"\"}},\"colorscale\":{\"sequential\":[[0.0,\"#0d0887\"],[0.1111111111111111,\"#46039f\"],[0.2222222222222222,\"#7201a8\"],[0.3333333333333333,\"#9c179e\"],[0.4444444444444444,\"#bd3786\"],[0.5555555555555556,\"#d8576b\"],[0.6666666666666666,\"#ed7953\"],[0.7777777777777778,\"#fb9f3a\"],[0.8888888888888888,\"#fdca26\"],[1.0,\"#f0f921\"]],\"sequentialminus\":[[0.0,\"#0d0887\"],[0.1111111111111111,\"#46039f\"],[0.2222222222222222,\"#7201a8\"],[0.3333333333333333,\"#9c179e\"],[0.4444444444444444,\"#bd3786\"],[0.5555555555555556,\"#d8576b\"],[0.6666666666666666,\"#ed7953\"],[0.7777777777777778,\"#fb9f3a\"],[0.8888888888888888,\"#fdca26\"],[1.0,\"#f0f921\"]],\"diverging\":[[0,\"#8e0152\"],[0.1,\"#c51b7d\"],[0.2,\"#de77ae\"],[0.3,\"#f1b6da\"],[0.4,\"#fde0ef\"],[0.5,\"#f7f7f7\"],[0.6,\"#e6f5d0\"],[0.7,\"#b8e186\"],[0.8,\"#7fbc41\"],[0.9,\"#4d9221\"],[1,\"#276419\"]]},\"xaxis\":{\"gridcolor\":\"white\",\"linecolor\":\"white\",\"ticks\":\"\",\"title\":{\"standoff\":15},\"zerolinecolor\":\"white\",\"automargin\":true,\"zerolinewidth\":2},\"yaxis\":{\"gridcolor\":\"white\",\"linecolor\":\"white\",\"ticks\":\"\",\"title\":{\"standoff\":15},\"zerolinecolor\":\"white\",\"automargin\":true,\"zerolinewidth\":2},\"scene\":{\"xaxis\":{\"backgroundcolor\":\"#E5ECF6\",\"gridcolor\":\"white\",\"linecolor\":\"white\",\"showbackground\":true,\"ticks\":\"\",\"zerolinecolor\":\"white\",\"gridwidth\":2},\"yaxis\":{\"backgroundcolor\":\"#E5ECF6\",\"gridcolor\":\"white\",\"linecolor\":\"white\",\"showbackground\":true,\"ticks\":\"\",\"zerolinecolor\":\"white\",\"gridwidth\":2},\"zaxis\":{\"backgroundcolor\":\"#E5ECF6\",\"gridcolor\":\"white\",\"linecolor\":\"white\",\"showbackground\":true,\"ticks\":\"\",\"zerolinecolor\":\"white\",\"gridwidth\":2}},\"shapedefaults\":{\"line\":{\"color\":\"#2a3f5f\"}},\"annotationdefaults\":{\"arrowcolor\":\"#2a3f5f\",\"arrowhead\":0,\"arrowwidth\":1},\"geo\":{\"bgcolor\":\"white\",\"landcolor\":\"#E5ECF6\",\"subunitcolor\":\"white\",\"showland\":true,\"showlakes\":true,\"lakecolor\":\"white\"},\"title\":{\"x\":0.05},\"mapbox\":{\"style\":\"light\"}}},\"xaxis\":{\"anchor\":\"y\",\"domain\":[0.0,1.0],\"title\":{\"text\":\"STRATEGY_ID\"}},\"yaxis\":{\"anchor\":\"x\",\"domain\":[0.0,1.0],\"title\":{\"text\":\"WGT\"}},\"legend\":{\"title\":{\"text\":\"ASSET_CLASS_ID\"},\"tracegroupgap\":0},\"title\":{\"text\":\"Standard Deviation of Monthly Target Allocations 2000-2024\"},\"barmode\":\"relative\"},                        {\"responsive\": true}                    ).then(function(){\n",
       "                            \n",
       "var gd = document.getElementById('db1fe5ca-9e69-4a2b-b2b1-4edfa74ba960');\n",
       "var x = new MutationObserver(function (mutations, observer) {{\n",
       "        var display = window.getComputedStyle(gd).display;\n",
       "        if (!display || display === 'none') {{\n",
       "            console.log([gd, 'removed!']);\n",
       "            Plotly.purge(gd);\n",
       "            observer.disconnect();\n",
       "        }}\n",
       "}});\n",
       "\n",
       "// Listen for the removal of the full notebook cells\n",
       "var notebookContainer = gd.closest('#notebook-container');\n",
       "if (notebookContainer) {{\n",
       "    x.observe(notebookContainer, {childList: true});\n",
       "}}\n",
       "\n",
       "// Listen for the clearing of the current output cell\n",
       "var outputEl = gd.closest('.output');\n",
       "if (outputEl) {{\n",
       "    x.observe(outputEl, {childList: true});\n",
       "}}\n",
       "\n",
       "                        })                };                });            </script>        </div>"
      ]
     },
     "metadata": {},
     "output_type": "display_data"
    }
   ],
   "source": [
    "std = df.group_by([\"STRATEGY_ID\",\"ASSET_CLASS_ID\"]).agg(pl.col(\"WGT\").std())\n",
    "print(std)\n",
    "std = std.to_pandas()\n",
    "fig = px.bar(std, x='STRATEGY_ID', y='WGT', color='ASSET_CLASS_ID', title=\"Standard Deviation of Monthly Target Allocations 2000-2024\")\n",
    "fig.write_html(\"std.html\")\n",
    "fig"
   ]
  },
  {
   "cell_type": "code",
   "execution_count": 22,
   "metadata": {},
   "outputs": [
    {
     "name": "stdout",
     "output_type": "stream",
     "text": [
      "shape: (8, 3)\n",
      "┌─────────────┬────────────────┬──────────┐\n",
      "│ STRATEGY_ID ┆ ASSET_CLASS_ID ┆ split    │\n",
      "│ ---         ┆ ---            ┆ ---      │\n",
      "│ str         ┆ str            ┆ f64      │\n",
      "╞═════════════╪════════════════╪══════════╡\n",
      "│ NDLTG       ┆ USLG           ┆ 0.689097 │\n",
      "│ NDLTG       ┆ USSM           ┆ 0.310903 │\n",
      "│ NDCB        ┆ USSM           ┆ 0.337554 │\n",
      "│ NDGI        ┆ USSM           ┆ 0.20733  │\n",
      "│ NDCB        ┆ USLG           ┆ 0.662446 │\n",
      "│ NDB         ┆ USLG           ┆ 0.784402 │\n",
      "│ NDB         ┆ USSM           ┆ 0.215598 │\n",
      "│ NDGI        ┆ USLG           ┆ 0.79267  │\n",
      "└─────────────┴────────────────┴──────────┘\n"
     ]
    },
    {
     "data": {
      "application/vnd.plotly.v1+json": {
       "config": {
        "plotlyServerURL": "https://plot.ly"
       },
       "data": [
        {
         "alignmentgroup": "True",
         "hovertemplate": "ASSET_CLASS_ID=USLG<br>STRATEGY_ID=%{x}<br>split=%{y}<extra></extra>",
         "legendgroup": "USLG",
         "marker": {
          "color": "#636efa",
          "pattern": {
           "shape": ""
          }
         },
         "name": "USLG",
         "offsetgroup": "USLG",
         "orientation": "v",
         "showlegend": true,
         "textposition": "auto",
         "type": "bar",
         "x": [
          "NDLTG",
          "NDCB",
          "NDB",
          "NDGI"
         ],
         "xaxis": "x",
         "y": [
          0.6890971252150085,
          0.6624462888322938,
          0.784402289139356,
          0.7926697169206673
         ],
         "yaxis": "y"
        },
        {
         "alignmentgroup": "True",
         "hovertemplate": "ASSET_CLASS_ID=USSM<br>STRATEGY_ID=%{x}<br>split=%{y}<extra></extra>",
         "legendgroup": "USSM",
         "marker": {
          "color": "#EF553B",
          "pattern": {
           "shape": ""
          }
         },
         "name": "USSM",
         "offsetgroup": "USSM",
         "orientation": "v",
         "showlegend": true,
         "textposition": "auto",
         "type": "bar",
         "x": [
          "NDLTG",
          "NDCB",
          "NDGI",
          "NDB"
         ],
         "xaxis": "x",
         "y": [
          0.3109028747849914,
          0.33755371116770616,
          0.2073302830793326,
          0.215597710860644
         ],
         "yaxis": "y"
        }
       ],
       "layout": {
        "barmode": "relative",
        "legend": {
         "title": {
          "text": "ASSET_CLASS_ID"
         },
         "tracegroupgap": 0
        },
        "template": {
         "data": {
          "bar": [
           {
            "error_x": {
             "color": "#2a3f5f"
            },
            "error_y": {
             "color": "#2a3f5f"
            },
            "marker": {
             "line": {
              "color": "#E5ECF6",
              "width": 0.5
             },
             "pattern": {
              "fillmode": "overlay",
              "size": 10,
              "solidity": 0.2
             }
            },
            "type": "bar"
           }
          ],
          "barpolar": [
           {
            "marker": {
             "line": {
              "color": "#E5ECF6",
              "width": 0.5
             },
             "pattern": {
              "fillmode": "overlay",
              "size": 10,
              "solidity": 0.2
             }
            },
            "type": "barpolar"
           }
          ],
          "carpet": [
           {
            "aaxis": {
             "endlinecolor": "#2a3f5f",
             "gridcolor": "white",
             "linecolor": "white",
             "minorgridcolor": "white",
             "startlinecolor": "#2a3f5f"
            },
            "baxis": {
             "endlinecolor": "#2a3f5f",
             "gridcolor": "white",
             "linecolor": "white",
             "minorgridcolor": "white",
             "startlinecolor": "#2a3f5f"
            },
            "type": "carpet"
           }
          ],
          "choropleth": [
           {
            "colorbar": {
             "outlinewidth": 0,
             "ticks": ""
            },
            "type": "choropleth"
           }
          ],
          "contour": [
           {
            "colorbar": {
             "outlinewidth": 0,
             "ticks": ""
            },
            "colorscale": [
             [
              0,
              "#0d0887"
             ],
             [
              0.1111111111111111,
              "#46039f"
             ],
             [
              0.2222222222222222,
              "#7201a8"
             ],
             [
              0.3333333333333333,
              "#9c179e"
             ],
             [
              0.4444444444444444,
              "#bd3786"
             ],
             [
              0.5555555555555556,
              "#d8576b"
             ],
             [
              0.6666666666666666,
              "#ed7953"
             ],
             [
              0.7777777777777778,
              "#fb9f3a"
             ],
             [
              0.8888888888888888,
              "#fdca26"
             ],
             [
              1,
              "#f0f921"
             ]
            ],
            "type": "contour"
           }
          ],
          "contourcarpet": [
           {
            "colorbar": {
             "outlinewidth": 0,
             "ticks": ""
            },
            "type": "contourcarpet"
           }
          ],
          "heatmap": [
           {
            "colorbar": {
             "outlinewidth": 0,
             "ticks": ""
            },
            "colorscale": [
             [
              0,
              "#0d0887"
             ],
             [
              0.1111111111111111,
              "#46039f"
             ],
             [
              0.2222222222222222,
              "#7201a8"
             ],
             [
              0.3333333333333333,
              "#9c179e"
             ],
             [
              0.4444444444444444,
              "#bd3786"
             ],
             [
              0.5555555555555556,
              "#d8576b"
             ],
             [
              0.6666666666666666,
              "#ed7953"
             ],
             [
              0.7777777777777778,
              "#fb9f3a"
             ],
             [
              0.8888888888888888,
              "#fdca26"
             ],
             [
              1,
              "#f0f921"
             ]
            ],
            "type": "heatmap"
           }
          ],
          "heatmapgl": [
           {
            "colorbar": {
             "outlinewidth": 0,
             "ticks": ""
            },
            "colorscale": [
             [
              0,
              "#0d0887"
             ],
             [
              0.1111111111111111,
              "#46039f"
             ],
             [
              0.2222222222222222,
              "#7201a8"
             ],
             [
              0.3333333333333333,
              "#9c179e"
             ],
             [
              0.4444444444444444,
              "#bd3786"
             ],
             [
              0.5555555555555556,
              "#d8576b"
             ],
             [
              0.6666666666666666,
              "#ed7953"
             ],
             [
              0.7777777777777778,
              "#fb9f3a"
             ],
             [
              0.8888888888888888,
              "#fdca26"
             ],
             [
              1,
              "#f0f921"
             ]
            ],
            "type": "heatmapgl"
           }
          ],
          "histogram": [
           {
            "marker": {
             "pattern": {
              "fillmode": "overlay",
              "size": 10,
              "solidity": 0.2
             }
            },
            "type": "histogram"
           }
          ],
          "histogram2d": [
           {
            "colorbar": {
             "outlinewidth": 0,
             "ticks": ""
            },
            "colorscale": [
             [
              0,
              "#0d0887"
             ],
             [
              0.1111111111111111,
              "#46039f"
             ],
             [
              0.2222222222222222,
              "#7201a8"
             ],
             [
              0.3333333333333333,
              "#9c179e"
             ],
             [
              0.4444444444444444,
              "#bd3786"
             ],
             [
              0.5555555555555556,
              "#d8576b"
             ],
             [
              0.6666666666666666,
              "#ed7953"
             ],
             [
              0.7777777777777778,
              "#fb9f3a"
             ],
             [
              0.8888888888888888,
              "#fdca26"
             ],
             [
              1,
              "#f0f921"
             ]
            ],
            "type": "histogram2d"
           }
          ],
          "histogram2dcontour": [
           {
            "colorbar": {
             "outlinewidth": 0,
             "ticks": ""
            },
            "colorscale": [
             [
              0,
              "#0d0887"
             ],
             [
              0.1111111111111111,
              "#46039f"
             ],
             [
              0.2222222222222222,
              "#7201a8"
             ],
             [
              0.3333333333333333,
              "#9c179e"
             ],
             [
              0.4444444444444444,
              "#bd3786"
             ],
             [
              0.5555555555555556,
              "#d8576b"
             ],
             [
              0.6666666666666666,
              "#ed7953"
             ],
             [
              0.7777777777777778,
              "#fb9f3a"
             ],
             [
              0.8888888888888888,
              "#fdca26"
             ],
             [
              1,
              "#f0f921"
             ]
            ],
            "type": "histogram2dcontour"
           }
          ],
          "mesh3d": [
           {
            "colorbar": {
             "outlinewidth": 0,
             "ticks": ""
            },
            "type": "mesh3d"
           }
          ],
          "parcoords": [
           {
            "line": {
             "colorbar": {
              "outlinewidth": 0,
              "ticks": ""
             }
            },
            "type": "parcoords"
           }
          ],
          "pie": [
           {
            "automargin": true,
            "type": "pie"
           }
          ],
          "scatter": [
           {
            "fillpattern": {
             "fillmode": "overlay",
             "size": 10,
             "solidity": 0.2
            },
            "type": "scatter"
           }
          ],
          "scatter3d": [
           {
            "line": {
             "colorbar": {
              "outlinewidth": 0,
              "ticks": ""
             }
            },
            "marker": {
             "colorbar": {
              "outlinewidth": 0,
              "ticks": ""
             }
            },
            "type": "scatter3d"
           }
          ],
          "scattercarpet": [
           {
            "marker": {
             "colorbar": {
              "outlinewidth": 0,
              "ticks": ""
             }
            },
            "type": "scattercarpet"
           }
          ],
          "scattergeo": [
           {
            "marker": {
             "colorbar": {
              "outlinewidth": 0,
              "ticks": ""
             }
            },
            "type": "scattergeo"
           }
          ],
          "scattergl": [
           {
            "marker": {
             "colorbar": {
              "outlinewidth": 0,
              "ticks": ""
             }
            },
            "type": "scattergl"
           }
          ],
          "scattermapbox": [
           {
            "marker": {
             "colorbar": {
              "outlinewidth": 0,
              "ticks": ""
             }
            },
            "type": "scattermapbox"
           }
          ],
          "scatterpolar": [
           {
            "marker": {
             "colorbar": {
              "outlinewidth": 0,
              "ticks": ""
             }
            },
            "type": "scatterpolar"
           }
          ],
          "scatterpolargl": [
           {
            "marker": {
             "colorbar": {
              "outlinewidth": 0,
              "ticks": ""
             }
            },
            "type": "scatterpolargl"
           }
          ],
          "scatterternary": [
           {
            "marker": {
             "colorbar": {
              "outlinewidth": 0,
              "ticks": ""
             }
            },
            "type": "scatterternary"
           }
          ],
          "surface": [
           {
            "colorbar": {
             "outlinewidth": 0,
             "ticks": ""
            },
            "colorscale": [
             [
              0,
              "#0d0887"
             ],
             [
              0.1111111111111111,
              "#46039f"
             ],
             [
              0.2222222222222222,
              "#7201a8"
             ],
             [
              0.3333333333333333,
              "#9c179e"
             ],
             [
              0.4444444444444444,
              "#bd3786"
             ],
             [
              0.5555555555555556,
              "#d8576b"
             ],
             [
              0.6666666666666666,
              "#ed7953"
             ],
             [
              0.7777777777777778,
              "#fb9f3a"
             ],
             [
              0.8888888888888888,
              "#fdca26"
             ],
             [
              1,
              "#f0f921"
             ]
            ],
            "type": "surface"
           }
          ],
          "table": [
           {
            "cells": {
             "fill": {
              "color": "#EBF0F8"
             },
             "line": {
              "color": "white"
             }
            },
            "header": {
             "fill": {
              "color": "#C8D4E3"
             },
             "line": {
              "color": "white"
             }
            },
            "type": "table"
           }
          ]
         },
         "layout": {
          "annotationdefaults": {
           "arrowcolor": "#2a3f5f",
           "arrowhead": 0,
           "arrowwidth": 1
          },
          "autotypenumbers": "strict",
          "coloraxis": {
           "colorbar": {
            "outlinewidth": 0,
            "ticks": ""
           }
          },
          "colorscale": {
           "diverging": [
            [
             0,
             "#8e0152"
            ],
            [
             0.1,
             "#c51b7d"
            ],
            [
             0.2,
             "#de77ae"
            ],
            [
             0.3,
             "#f1b6da"
            ],
            [
             0.4,
             "#fde0ef"
            ],
            [
             0.5,
             "#f7f7f7"
            ],
            [
             0.6,
             "#e6f5d0"
            ],
            [
             0.7,
             "#b8e186"
            ],
            [
             0.8,
             "#7fbc41"
            ],
            [
             0.9,
             "#4d9221"
            ],
            [
             1,
             "#276419"
            ]
           ],
           "sequential": [
            [
             0,
             "#0d0887"
            ],
            [
             0.1111111111111111,
             "#46039f"
            ],
            [
             0.2222222222222222,
             "#7201a8"
            ],
            [
             0.3333333333333333,
             "#9c179e"
            ],
            [
             0.4444444444444444,
             "#bd3786"
            ],
            [
             0.5555555555555556,
             "#d8576b"
            ],
            [
             0.6666666666666666,
             "#ed7953"
            ],
            [
             0.7777777777777778,
             "#fb9f3a"
            ],
            [
             0.8888888888888888,
             "#fdca26"
            ],
            [
             1,
             "#f0f921"
            ]
           ],
           "sequentialminus": [
            [
             0,
             "#0d0887"
            ],
            [
             0.1111111111111111,
             "#46039f"
            ],
            [
             0.2222222222222222,
             "#7201a8"
            ],
            [
             0.3333333333333333,
             "#9c179e"
            ],
            [
             0.4444444444444444,
             "#bd3786"
            ],
            [
             0.5555555555555556,
             "#d8576b"
            ],
            [
             0.6666666666666666,
             "#ed7953"
            ],
            [
             0.7777777777777778,
             "#fb9f3a"
            ],
            [
             0.8888888888888888,
             "#fdca26"
            ],
            [
             1,
             "#f0f921"
            ]
           ]
          },
          "colorway": [
           "#636efa",
           "#EF553B",
           "#00cc96",
           "#ab63fa",
           "#FFA15A",
           "#19d3f3",
           "#FF6692",
           "#B6E880",
           "#FF97FF",
           "#FECB52"
          ],
          "font": {
           "color": "#2a3f5f"
          },
          "geo": {
           "bgcolor": "white",
           "lakecolor": "white",
           "landcolor": "#E5ECF6",
           "showlakes": true,
           "showland": true,
           "subunitcolor": "white"
          },
          "hoverlabel": {
           "align": "left"
          },
          "hovermode": "closest",
          "mapbox": {
           "style": "light"
          },
          "paper_bgcolor": "white",
          "plot_bgcolor": "#E5ECF6",
          "polar": {
           "angularaxis": {
            "gridcolor": "white",
            "linecolor": "white",
            "ticks": ""
           },
           "bgcolor": "#E5ECF6",
           "radialaxis": {
            "gridcolor": "white",
            "linecolor": "white",
            "ticks": ""
           }
          },
          "scene": {
           "xaxis": {
            "backgroundcolor": "#E5ECF6",
            "gridcolor": "white",
            "gridwidth": 2,
            "linecolor": "white",
            "showbackground": true,
            "ticks": "",
            "zerolinecolor": "white"
           },
           "yaxis": {
            "backgroundcolor": "#E5ECF6",
            "gridcolor": "white",
            "gridwidth": 2,
            "linecolor": "white",
            "showbackground": true,
            "ticks": "",
            "zerolinecolor": "white"
           },
           "zaxis": {
            "backgroundcolor": "#E5ECF6",
            "gridcolor": "white",
            "gridwidth": 2,
            "linecolor": "white",
            "showbackground": true,
            "ticks": "",
            "zerolinecolor": "white"
           }
          },
          "shapedefaults": {
           "line": {
            "color": "#2a3f5f"
           }
          },
          "ternary": {
           "aaxis": {
            "gridcolor": "white",
            "linecolor": "white",
            "ticks": ""
           },
           "baxis": {
            "gridcolor": "white",
            "linecolor": "white",
            "ticks": ""
           },
           "bgcolor": "#E5ECF6",
           "caxis": {
            "gridcolor": "white",
            "linecolor": "white",
            "ticks": ""
           }
          },
          "title": {
           "x": 0.05
          },
          "xaxis": {
           "automargin": true,
           "gridcolor": "white",
           "linecolor": "white",
           "ticks": "",
           "title": {
            "standoff": 15
           },
           "zerolinecolor": "white",
           "zerolinewidth": 2
          },
          "yaxis": {
           "automargin": true,
           "gridcolor": "white",
           "linecolor": "white",
           "ticks": "",
           "title": {
            "standoff": 15
           },
           "zerolinecolor": "white",
           "zerolinewidth": 2
          }
         }
        },
        "title": {
         "text": "Mean US Large and Small Cap Allocation"
        },
        "xaxis": {
         "anchor": "y",
         "domain": [
          0,
          1
         ],
         "title": {
          "text": "STRATEGY_ID"
         }
        },
        "yaxis": {
         "anchor": "x",
         "domain": [
          0,
          1
         ],
         "title": {
          "text": "split"
         }
        }
       }
      },
      "text/html": [
       "<div>                            <div id=\"191ba0a7-a0bd-496e-93b0-0e3b09cb95d2\" class=\"plotly-graph-div\" style=\"height:525px; width:100%;\"></div>            <script type=\"text/javascript\">                require([\"plotly\"], function(Plotly) {                    window.PLOTLYENV=window.PLOTLYENV || {};                                    if (document.getElementById(\"191ba0a7-a0bd-496e-93b0-0e3b09cb95d2\")) {                    Plotly.newPlot(                        \"191ba0a7-a0bd-496e-93b0-0e3b09cb95d2\",                        [{\"alignmentgroup\":\"True\",\"hovertemplate\":\"ASSET_CLASS_ID=USLG\\u003cbr\\u003eSTRATEGY_ID=%{x}\\u003cbr\\u003esplit=%{y}\\u003cextra\\u003e\\u003c\\u002fextra\\u003e\",\"legendgroup\":\"USLG\",\"marker\":{\"color\":\"#636efa\",\"pattern\":{\"shape\":\"\"}},\"name\":\"USLG\",\"offsetgroup\":\"USLG\",\"orientation\":\"v\",\"showlegend\":true,\"textposition\":\"auto\",\"x\":[\"NDLTG\",\"NDCB\",\"NDB\",\"NDGI\"],\"xaxis\":\"x\",\"y\":[0.6890971252150085,0.6624462888322938,0.784402289139356,0.7926697169206673],\"yaxis\":\"y\",\"type\":\"bar\"},{\"alignmentgroup\":\"True\",\"hovertemplate\":\"ASSET_CLASS_ID=USSM\\u003cbr\\u003eSTRATEGY_ID=%{x}\\u003cbr\\u003esplit=%{y}\\u003cextra\\u003e\\u003c\\u002fextra\\u003e\",\"legendgroup\":\"USSM\",\"marker\":{\"color\":\"#EF553B\",\"pattern\":{\"shape\":\"\"}},\"name\":\"USSM\",\"offsetgroup\":\"USSM\",\"orientation\":\"v\",\"showlegend\":true,\"textposition\":\"auto\",\"x\":[\"NDLTG\",\"NDCB\",\"NDGI\",\"NDB\"],\"xaxis\":\"x\",\"y\":[0.3109028747849914,0.33755371116770616,0.2073302830793326,0.215597710860644],\"yaxis\":\"y\",\"type\":\"bar\"}],                        {\"template\":{\"data\":{\"histogram2dcontour\":[{\"type\":\"histogram2dcontour\",\"colorbar\":{\"outlinewidth\":0,\"ticks\":\"\"},\"colorscale\":[[0.0,\"#0d0887\"],[0.1111111111111111,\"#46039f\"],[0.2222222222222222,\"#7201a8\"],[0.3333333333333333,\"#9c179e\"],[0.4444444444444444,\"#bd3786\"],[0.5555555555555556,\"#d8576b\"],[0.6666666666666666,\"#ed7953\"],[0.7777777777777778,\"#fb9f3a\"],[0.8888888888888888,\"#fdca26\"],[1.0,\"#f0f921\"]]}],\"choropleth\":[{\"type\":\"choropleth\",\"colorbar\":{\"outlinewidth\":0,\"ticks\":\"\"}}],\"histogram2d\":[{\"type\":\"histogram2d\",\"colorbar\":{\"outlinewidth\":0,\"ticks\":\"\"},\"colorscale\":[[0.0,\"#0d0887\"],[0.1111111111111111,\"#46039f\"],[0.2222222222222222,\"#7201a8\"],[0.3333333333333333,\"#9c179e\"],[0.4444444444444444,\"#bd3786\"],[0.5555555555555556,\"#d8576b\"],[0.6666666666666666,\"#ed7953\"],[0.7777777777777778,\"#fb9f3a\"],[0.8888888888888888,\"#fdca26\"],[1.0,\"#f0f921\"]]}],\"heatmap\":[{\"type\":\"heatmap\",\"colorbar\":{\"outlinewidth\":0,\"ticks\":\"\"},\"colorscale\":[[0.0,\"#0d0887\"],[0.1111111111111111,\"#46039f\"],[0.2222222222222222,\"#7201a8\"],[0.3333333333333333,\"#9c179e\"],[0.4444444444444444,\"#bd3786\"],[0.5555555555555556,\"#d8576b\"],[0.6666666666666666,\"#ed7953\"],[0.7777777777777778,\"#fb9f3a\"],[0.8888888888888888,\"#fdca26\"],[1.0,\"#f0f921\"]]}],\"heatmapgl\":[{\"type\":\"heatmapgl\",\"colorbar\":{\"outlinewidth\":0,\"ticks\":\"\"},\"colorscale\":[[0.0,\"#0d0887\"],[0.1111111111111111,\"#46039f\"],[0.2222222222222222,\"#7201a8\"],[0.3333333333333333,\"#9c179e\"],[0.4444444444444444,\"#bd3786\"],[0.5555555555555556,\"#d8576b\"],[0.6666666666666666,\"#ed7953\"],[0.7777777777777778,\"#fb9f3a\"],[0.8888888888888888,\"#fdca26\"],[1.0,\"#f0f921\"]]}],\"contourcarpet\":[{\"type\":\"contourcarpet\",\"colorbar\":{\"outlinewidth\":0,\"ticks\":\"\"}}],\"contour\":[{\"type\":\"contour\",\"colorbar\":{\"outlinewidth\":0,\"ticks\":\"\"},\"colorscale\":[[0.0,\"#0d0887\"],[0.1111111111111111,\"#46039f\"],[0.2222222222222222,\"#7201a8\"],[0.3333333333333333,\"#9c179e\"],[0.4444444444444444,\"#bd3786\"],[0.5555555555555556,\"#d8576b\"],[0.6666666666666666,\"#ed7953\"],[0.7777777777777778,\"#fb9f3a\"],[0.8888888888888888,\"#fdca26\"],[1.0,\"#f0f921\"]]}],\"surface\":[{\"type\":\"surface\",\"colorbar\":{\"outlinewidth\":0,\"ticks\":\"\"},\"colorscale\":[[0.0,\"#0d0887\"],[0.1111111111111111,\"#46039f\"],[0.2222222222222222,\"#7201a8\"],[0.3333333333333333,\"#9c179e\"],[0.4444444444444444,\"#bd3786\"],[0.5555555555555556,\"#d8576b\"],[0.6666666666666666,\"#ed7953\"],[0.7777777777777778,\"#fb9f3a\"],[0.8888888888888888,\"#fdca26\"],[1.0,\"#f0f921\"]]}],\"mesh3d\":[{\"type\":\"mesh3d\",\"colorbar\":{\"outlinewidth\":0,\"ticks\":\"\"}}],\"scatter\":[{\"fillpattern\":{\"fillmode\":\"overlay\",\"size\":10,\"solidity\":0.2},\"type\":\"scatter\"}],\"parcoords\":[{\"type\":\"parcoords\",\"line\":{\"colorbar\":{\"outlinewidth\":0,\"ticks\":\"\"}}}],\"scatterpolargl\":[{\"type\":\"scatterpolargl\",\"marker\":{\"colorbar\":{\"outlinewidth\":0,\"ticks\":\"\"}}}],\"bar\":[{\"error_x\":{\"color\":\"#2a3f5f\"},\"error_y\":{\"color\":\"#2a3f5f\"},\"marker\":{\"line\":{\"color\":\"#E5ECF6\",\"width\":0.5},\"pattern\":{\"fillmode\":\"overlay\",\"size\":10,\"solidity\":0.2}},\"type\":\"bar\"}],\"scattergeo\":[{\"type\":\"scattergeo\",\"marker\":{\"colorbar\":{\"outlinewidth\":0,\"ticks\":\"\"}}}],\"scatterpolar\":[{\"type\":\"scatterpolar\",\"marker\":{\"colorbar\":{\"outlinewidth\":0,\"ticks\":\"\"}}}],\"histogram\":[{\"marker\":{\"pattern\":{\"fillmode\":\"overlay\",\"size\":10,\"solidity\":0.2}},\"type\":\"histogram\"}],\"scattergl\":[{\"type\":\"scattergl\",\"marker\":{\"colorbar\":{\"outlinewidth\":0,\"ticks\":\"\"}}}],\"scatter3d\":[{\"type\":\"scatter3d\",\"line\":{\"colorbar\":{\"outlinewidth\":0,\"ticks\":\"\"}},\"marker\":{\"colorbar\":{\"outlinewidth\":0,\"ticks\":\"\"}}}],\"scattermapbox\":[{\"type\":\"scattermapbox\",\"marker\":{\"colorbar\":{\"outlinewidth\":0,\"ticks\":\"\"}}}],\"scatterternary\":[{\"type\":\"scatterternary\",\"marker\":{\"colorbar\":{\"outlinewidth\":0,\"ticks\":\"\"}}}],\"scattercarpet\":[{\"type\":\"scattercarpet\",\"marker\":{\"colorbar\":{\"outlinewidth\":0,\"ticks\":\"\"}}}],\"carpet\":[{\"aaxis\":{\"endlinecolor\":\"#2a3f5f\",\"gridcolor\":\"white\",\"linecolor\":\"white\",\"minorgridcolor\":\"white\",\"startlinecolor\":\"#2a3f5f\"},\"baxis\":{\"endlinecolor\":\"#2a3f5f\",\"gridcolor\":\"white\",\"linecolor\":\"white\",\"minorgridcolor\":\"white\",\"startlinecolor\":\"#2a3f5f\"},\"type\":\"carpet\"}],\"table\":[{\"cells\":{\"fill\":{\"color\":\"#EBF0F8\"},\"line\":{\"color\":\"white\"}},\"header\":{\"fill\":{\"color\":\"#C8D4E3\"},\"line\":{\"color\":\"white\"}},\"type\":\"table\"}],\"barpolar\":[{\"marker\":{\"line\":{\"color\":\"#E5ECF6\",\"width\":0.5},\"pattern\":{\"fillmode\":\"overlay\",\"size\":10,\"solidity\":0.2}},\"type\":\"barpolar\"}],\"pie\":[{\"automargin\":true,\"type\":\"pie\"}]},\"layout\":{\"autotypenumbers\":\"strict\",\"colorway\":[\"#636efa\",\"#EF553B\",\"#00cc96\",\"#ab63fa\",\"#FFA15A\",\"#19d3f3\",\"#FF6692\",\"#B6E880\",\"#FF97FF\",\"#FECB52\"],\"font\":{\"color\":\"#2a3f5f\"},\"hovermode\":\"closest\",\"hoverlabel\":{\"align\":\"left\"},\"paper_bgcolor\":\"white\",\"plot_bgcolor\":\"#E5ECF6\",\"polar\":{\"bgcolor\":\"#E5ECF6\",\"angularaxis\":{\"gridcolor\":\"white\",\"linecolor\":\"white\",\"ticks\":\"\"},\"radialaxis\":{\"gridcolor\":\"white\",\"linecolor\":\"white\",\"ticks\":\"\"}},\"ternary\":{\"bgcolor\":\"#E5ECF6\",\"aaxis\":{\"gridcolor\":\"white\",\"linecolor\":\"white\",\"ticks\":\"\"},\"baxis\":{\"gridcolor\":\"white\",\"linecolor\":\"white\",\"ticks\":\"\"},\"caxis\":{\"gridcolor\":\"white\",\"linecolor\":\"white\",\"ticks\":\"\"}},\"coloraxis\":{\"colorbar\":{\"outlinewidth\":0,\"ticks\":\"\"}},\"colorscale\":{\"sequential\":[[0.0,\"#0d0887\"],[0.1111111111111111,\"#46039f\"],[0.2222222222222222,\"#7201a8\"],[0.3333333333333333,\"#9c179e\"],[0.4444444444444444,\"#bd3786\"],[0.5555555555555556,\"#d8576b\"],[0.6666666666666666,\"#ed7953\"],[0.7777777777777778,\"#fb9f3a\"],[0.8888888888888888,\"#fdca26\"],[1.0,\"#f0f921\"]],\"sequentialminus\":[[0.0,\"#0d0887\"],[0.1111111111111111,\"#46039f\"],[0.2222222222222222,\"#7201a8\"],[0.3333333333333333,\"#9c179e\"],[0.4444444444444444,\"#bd3786\"],[0.5555555555555556,\"#d8576b\"],[0.6666666666666666,\"#ed7953\"],[0.7777777777777778,\"#fb9f3a\"],[0.8888888888888888,\"#fdca26\"],[1.0,\"#f0f921\"]],\"diverging\":[[0,\"#8e0152\"],[0.1,\"#c51b7d\"],[0.2,\"#de77ae\"],[0.3,\"#f1b6da\"],[0.4,\"#fde0ef\"],[0.5,\"#f7f7f7\"],[0.6,\"#e6f5d0\"],[0.7,\"#b8e186\"],[0.8,\"#7fbc41\"],[0.9,\"#4d9221\"],[1,\"#276419\"]]},\"xaxis\":{\"gridcolor\":\"white\",\"linecolor\":\"white\",\"ticks\":\"\",\"title\":{\"standoff\":15},\"zerolinecolor\":\"white\",\"automargin\":true,\"zerolinewidth\":2},\"yaxis\":{\"gridcolor\":\"white\",\"linecolor\":\"white\",\"ticks\":\"\",\"title\":{\"standoff\":15},\"zerolinecolor\":\"white\",\"automargin\":true,\"zerolinewidth\":2},\"scene\":{\"xaxis\":{\"backgroundcolor\":\"#E5ECF6\",\"gridcolor\":\"white\",\"linecolor\":\"white\",\"showbackground\":true,\"ticks\":\"\",\"zerolinecolor\":\"white\",\"gridwidth\":2},\"yaxis\":{\"backgroundcolor\":\"#E5ECF6\",\"gridcolor\":\"white\",\"linecolor\":\"white\",\"showbackground\":true,\"ticks\":\"\",\"zerolinecolor\":\"white\",\"gridwidth\":2},\"zaxis\":{\"backgroundcolor\":\"#E5ECF6\",\"gridcolor\":\"white\",\"linecolor\":\"white\",\"showbackground\":true,\"ticks\":\"\",\"zerolinecolor\":\"white\",\"gridwidth\":2}},\"shapedefaults\":{\"line\":{\"color\":\"#2a3f5f\"}},\"annotationdefaults\":{\"arrowcolor\":\"#2a3f5f\",\"arrowhead\":0,\"arrowwidth\":1},\"geo\":{\"bgcolor\":\"white\",\"landcolor\":\"#E5ECF6\",\"subunitcolor\":\"white\",\"showland\":true,\"showlakes\":true,\"lakecolor\":\"white\"},\"title\":{\"x\":0.05},\"mapbox\":{\"style\":\"light\"}}},\"xaxis\":{\"anchor\":\"y\",\"domain\":[0.0,1.0],\"title\":{\"text\":\"STRATEGY_ID\"}},\"yaxis\":{\"anchor\":\"x\",\"domain\":[0.0,1.0],\"title\":{\"text\":\"split\"}},\"legend\":{\"title\":{\"text\":\"ASSET_CLASS_ID\"},\"tracegroupgap\":0},\"title\":{\"text\":\"Mean US Large and Small Cap Allocation\"},\"barmode\":\"relative\"},                        {\"responsive\": true}                    ).then(function(){\n",
       "                            \n",
       "var gd = document.getElementById('191ba0a7-a0bd-496e-93b0-0e3b09cb95d2');\n",
       "var x = new MutationObserver(function (mutations, observer) {{\n",
       "        var display = window.getComputedStyle(gd).display;\n",
       "        if (!display || display === 'none') {{\n",
       "            console.log([gd, 'removed!']);\n",
       "            Plotly.purge(gd);\n",
       "            observer.disconnect();\n",
       "        }}\n",
       "}});\n",
       "\n",
       "// Listen for the removal of the full notebook cells\n",
       "var notebookContainer = gd.closest('#notebook-container');\n",
       "if (notebookContainer) {{\n",
       "    x.observe(notebookContainer, {childList: true});\n",
       "}}\n",
       "\n",
       "// Listen for the clearing of the current output cell\n",
       "var outputEl = gd.closest('.output');\n",
       "if (outputEl) {{\n",
       "    x.observe(outputEl, {childList: true});\n",
       "}}\n",
       "\n",
       "                        })                };                });            </script>        </div>"
      ]
     },
     "metadata": {},
     "output_type": "display_data"
    }
   ],
   "source": [
    "us = df.filter(pl.col(\"ASSET_CLASS_ID\").is_in([\"USLG\",\"USSM\"]))\n",
    "summed = us.group_by([\"STRATEGY_ID\", \"DATE\"]).agg(pl.col(\"WGT\").sum())\n",
    "us = us.join(summed, on=[\"STRATEGY_ID\", \"DATE\"],\n",
    "                how=\"inner\",)\n",
    "us = us.with_columns((pl.col(\"WGT\") / pl.col(\"WGT_right\")).alias(\"split\"))\n",
    "us_mean = us.group_by([\"STRATEGY_ID\", \"ASSET_CLASS_ID\"]).agg(pl.col(\"split\").mean())\n",
    "print(us_mean)\n",
    "to_plot = us_mean.to_pandas()\n",
    "fig = px.bar(to_plot, x='STRATEGY_ID', y='split', color='ASSET_CLASS_ID', title=\"Mean US Large and Small Cap Allocation\")\n",
    "fig.write_html(\"us.html\")\n",
    "fig"
   ]
  },
  {
   "cell_type": "code",
   "execution_count": 30,
   "metadata": {},
   "outputs": [
    {
     "data": {
      "application/vnd.plotly.v1+json": {
       "config": {
        "plotlyServerURL": "https://plot.ly"
       },
       "data": [
        {
         "alignmentgroup": "True",
         "hovertemplate": "ASSET_CLASS_ID=USLG<br>DATE=%{x}<br>split=%{y}<extra></extra>",
         "legendgroup": "USLG",
         "marker": {
          "color": "#636efa",
          "pattern": {
           "shape": ""
          }
         },
         "name": "USLG",
         "offsetgroup": "USLG",
         "orientation": "v",
         "showlegend": true,
         "textposition": "auto",
         "type": "bar",
         "x": [
          "2000-04-01",
          "2000-05-01",
          "2000-06-01",
          "2000-07-01",
          "2000-08-01",
          "2000-09-01",
          "2000-10-01",
          "2000-11-01",
          "2000-12-01",
          "2001-01-01",
          "2001-02-01",
          "2001-03-01",
          "2001-04-01",
          "2001-05-01",
          "2001-06-01",
          "2001-07-01",
          "2001-08-01",
          "2001-09-01",
          "2001-10-01",
          "2001-11-01",
          "2001-12-01",
          "2002-01-01",
          "2002-02-01",
          "2002-03-01",
          "2002-04-01",
          "2002-05-01",
          "2002-06-01",
          "2002-07-01",
          "2002-08-01",
          "2002-09-01",
          "2002-10-01",
          "2002-11-01",
          "2002-12-01",
          "2003-01-01",
          "2003-02-01",
          "2003-03-01",
          "2003-04-01",
          "2003-05-01",
          "2003-06-01",
          "2003-07-01",
          "2003-08-01",
          "2003-09-01",
          "2003-10-01",
          "2003-11-01",
          "2003-12-01",
          "2004-01-01",
          "2004-02-01",
          "2004-03-01",
          "2004-04-01",
          "2004-05-01",
          "2004-06-01",
          "2004-07-01",
          "2004-08-01",
          "2004-09-01",
          "2004-10-01",
          "2004-11-01",
          "2004-12-01",
          "2005-01-01",
          "2005-02-01",
          "2005-03-01",
          "2005-04-01",
          "2005-05-01",
          "2005-06-01",
          "2005-07-01",
          "2005-08-01",
          "2005-09-01",
          "2005-10-01",
          "2005-11-01",
          "2005-12-01",
          "2006-01-01",
          "2006-02-01",
          "2006-03-01",
          "2006-04-01",
          "2006-05-01",
          "2006-06-01",
          "2006-07-01",
          "2006-08-01",
          "2006-09-01",
          "2006-10-01",
          "2006-11-01",
          "2006-12-01",
          "2007-01-01",
          "2007-02-01",
          "2007-03-01",
          "2007-04-01",
          "2007-05-01",
          "2007-06-01",
          "2007-07-01",
          "2007-08-01",
          "2007-09-01",
          "2007-10-01",
          "2007-11-01",
          "2007-12-01",
          "2008-01-01",
          "2008-02-01",
          "2008-03-01",
          "2008-04-01",
          "2008-05-01",
          "2008-06-01",
          "2008-07-01",
          "2008-08-01",
          "2008-09-01",
          "2008-10-01",
          "2008-11-01",
          "2008-12-01",
          "2009-01-01",
          "2009-02-01",
          "2009-03-01",
          "2009-04-01",
          "2009-05-01",
          "2009-06-01",
          "2009-07-01",
          "2009-08-01",
          "2009-09-01",
          "2009-10-01",
          "2009-11-01",
          "2009-12-01",
          "2010-01-01",
          "2010-02-01",
          "2010-03-01",
          "2010-04-01",
          "2010-05-01",
          "2010-06-01",
          "2010-07-01",
          "2010-08-01",
          "2010-09-01",
          "2010-10-01",
          "2010-11-01",
          "2010-12-01",
          "2011-01-01",
          "2011-02-01",
          "2011-03-01",
          "2011-04-01",
          "2011-05-01",
          "2011-06-01",
          "2011-07-01",
          "2011-08-01",
          "2011-09-01",
          "2011-10-01",
          "2011-11-01",
          "2011-12-01",
          "2012-01-01",
          "2012-02-01",
          "2012-03-01",
          "2012-04-01",
          "2012-05-01",
          "2012-06-01",
          "2012-07-01",
          "2012-08-01",
          "2012-09-01",
          "2012-10-01",
          "2012-11-01",
          "2012-12-01",
          "2013-01-01",
          "2013-02-01",
          "2013-03-01",
          "2013-04-01",
          "2013-05-01",
          "2013-06-01",
          "2013-07-01",
          "2013-08-01",
          "2013-09-01",
          "2013-10-01",
          "2013-11-01",
          "2013-12-01",
          "2014-01-01",
          "2014-02-01",
          "2014-03-01",
          "2014-04-01",
          "2014-05-01",
          "2014-06-01",
          "2014-07-01",
          "2014-08-01",
          "2014-09-01",
          "2014-10-01",
          "2014-11-01",
          "2014-12-01",
          "2015-01-01",
          "2015-02-01",
          "2015-03-01",
          "2015-04-01",
          "2015-05-01",
          "2015-06-01",
          "2015-07-01",
          "2015-08-01",
          "2015-09-01",
          "2015-10-01",
          "2015-11-01",
          "2015-12-01",
          "2016-01-01",
          "2016-02-01",
          "2016-03-01",
          "2016-04-01",
          "2016-05-01",
          "2016-06-01",
          "2016-07-01",
          "2016-08-01",
          "2016-09-01",
          "2016-10-01",
          "2016-11-01",
          "2016-12-01",
          "2017-01-01",
          "2017-02-01",
          "2017-03-01",
          "2017-04-01",
          "2017-05-01",
          "2017-06-01",
          "2017-07-01",
          "2017-08-01",
          "2017-09-01",
          "2017-10-01",
          "2017-11-01",
          "2017-12-01",
          "2018-01-01",
          "2018-02-01",
          "2018-03-01",
          "2018-04-01",
          "2018-05-01",
          "2018-06-01",
          "2018-07-01",
          "2018-08-01",
          "2018-09-01",
          "2018-10-01",
          "2018-11-01",
          "2018-12-01",
          "2019-01-01",
          "2019-02-01",
          "2019-03-01",
          "2019-04-01",
          "2019-05-01",
          "2019-06-01",
          "2019-07-01",
          "2019-08-01",
          "2019-09-01",
          "2019-10-01",
          "2019-11-01",
          "2019-12-01",
          "2020-01-01",
          "2020-02-01",
          "2020-03-01",
          "2020-04-01",
          "2020-05-01",
          "2020-06-01",
          "2020-07-01",
          "2020-08-01",
          "2020-09-01",
          "2020-10-01",
          "2020-11-01",
          "2020-12-01",
          "2021-01-01",
          "2021-02-01",
          "2021-03-01",
          "2021-04-01",
          "2021-05-01",
          "2021-06-01",
          "2021-07-01",
          "2021-08-01",
          "2021-09-01",
          "2021-10-01",
          "2021-11-01",
          "2021-12-01",
          "2022-01-01",
          "2022-02-01",
          "2022-03-01",
          "2022-04-01",
          "2022-05-01",
          "2022-06-01",
          "2022-07-01",
          "2022-08-01",
          "2022-09-01",
          "2022-10-01",
          "2022-11-01",
          "2022-12-01",
          "2023-01-01",
          "2023-02-01",
          "2023-03-01",
          "2023-04-01",
          "2023-05-01",
          "2023-06-01",
          "2023-07-01",
          "2023-08-01",
          "2023-09-01",
          "2023-10-01",
          "2023-11-01",
          "2023-12-01",
          "2024-01-01",
          "2024-02-01",
          "2024-03-01",
          "2024-04-01",
          "2024-05-01",
          "2000-01-01",
          "2000-02-01",
          "2000-03-01"
         ],
         "xaxis": "x",
         "y": [
          0.7614512313074902,
          0.7542113051501228,
          0.7488518336341519,
          0.7541656133560855,
          0.7503949964017389,
          0.7671129398180678,
          0.7732800822661337,
          0.7867390160397617,
          0.7757000078411167,
          0.79466038799969,
          0.7956759781677065,
          0.7989763461745018,
          0.7988253167311411,
          0.8016025379863327,
          0.8040365420546345,
          0.8099574225390609,
          0.8171439670240986,
          0.8282212949286286,
          0.8155975461351133,
          0.8247231494455886,
          0.8248012412512925,
          0.8429223563087054,
          0.8541209320102396,
          0.8526266914709472,
          0.8580387176632862,
          0.8676711922916789,
          0.864085049268238,
          0.8602067981580629,
          0.8262025950125107,
          0.8043205367475821,
          0.7932446885282838,
          0.7862337452457513,
          0.7809715965769043,
          0.7767504725933309,
          0.7718390113438477,
          0.7596066914297225,
          0.7541149281721189,
          0.7553997963904613,
          0.7605546681571558,
          0.7653008194889448,
          0.7730817692339289,
          0.7835659048597337,
          0.777428191674329,
          0.7858147727506164,
          0.791687271421279,
          0.7893788565841698,
          0.7859159843613079,
          0.7838462651706074,
          0.7829240662990218,
          0.7922566978321232,
          0.791217391620722,
          0.7957508247520934,
          0.7916740278453287,
          0.7816333317552359,
          0.7846500634217226,
          0.7830332517595782,
          0.7894682058922329,
          0.7907368242641016,
          0.7949307621104004,
          0.797396961336498,
          0.7972717797573242,
          0.7862256889769568,
          0.7872840903856999,
          0.7913985759923494,
          0.7951876267456245,
          0.7958719028161413,
          0.7947437165394386,
          0.7928572527977182,
          0.7952852503432251,
          0.7956179054249097,
          0.8003296798777412,
          0.8020257409076645,
          0.8070830960750973,
          0.8098541877129567,
          0.8098738590200864,
          0.8092514871382968,
          0.801918633763428,
          0.7971665883298326,
          0.7957825162445111,
          0.798532046338999,
          0.7998623620266007,
          0.7986428317616093,
          0.796123192375174,
          0.7945064552828242,
          0.7940227717176752,
          0.791586537701238,
          0.7923243187686889,
          0.7969701500228339,
          0.7963852027079292,
          0.7921409375863692,
          0.7866007057788273,
          0.783954122785172,
          0.7766014100563607,
          0.7762241714335928,
          0.7731954420173975,
          0.773136343400763,
          0.7702395332708791,
          0.7666887612290598,
          0.769821285349857,
          0.7694318716848654,
          0.7656724469316775,
          0.7665165745475482,
          0.7720207416491973,
          0.7939139665753487,
          0.8156771524023595,
          0.8324210725404104,
          0.8221987834256668,
          0.8324220744357061,
          0.8313391481509369,
          0.820885287517287,
          0.8036255714970407,
          0.7988641430107056,
          0.795471276863997,
          0.7796557392793628,
          0.7696858458261597,
          0.7565159228263556,
          0.7390916792577783,
          0.7433829417015263,
          0.7453294644911707,
          0.7468123081823903,
          0.7470790077046926,
          0.7508584085848959,
          0.754568578583764,
          0.7476087278367454,
          0.742850495931513,
          0.7155904585211003,
          0.7160460938333305,
          0.7145122475527089,
          0.7235043565830648,
          0.7329633083430457,
          0.7358873729397862,
          0.7368654820346209,
          0.741379005414611,
          0.7383079902538353,
          0.7353589186014677,
          0.7371236042082684,
          0.7328818576073357,
          0.7197332168501118,
          0.7025050809830913,
          0.7124401326384535,
          0.7185228240937039,
          0.7221545069662089,
          0.7263662192814018,
          0.7252120226360721,
          0.7244244807731978,
          0.7219573003213342,
          0.7211131041764832,
          0.7202971966564304,
          0.7164253626687604,
          0.7166533253046858,
          0.7167963881891386,
          0.7165141234803327,
          0.7277155591984938,
          0.7374843512990116,
          0.7432140706848791,
          0.7460082464562919,
          0.7478699645741004,
          0.7433019359104714,
          0.7433546930782233,
          0.7456864700493637,
          0.7491116484103769,
          0.7506785203118347,
          0.7552789760450589,
          0.7561702200865132,
          0.7582338225068752,
          0.7578982030952034,
          0.756186293899756,
          0.7563172633309895,
          0.7553492041555958,
          0.7510238565217794,
          0.7463892934200518,
          0.7464129664281269,
          0.7414489090001997,
          0.740080535572283,
          0.734609205065755,
          0.7377599213760012,
          0.736819160579593,
          0.7413071148994311,
          0.7426972805064955,
          0.7436476477068575,
          0.7470754431486263,
          0.7442390167325734,
          0.7436803657915173,
          0.7488854295603634,
          0.749251410590042,
          0.7480857337012251,
          0.7519505123998429,
          0.7505468000880763,
          0.7595776305790709,
          0.7639470164302115,
          0.7734110340689633,
          0.7836783195851614,
          0.7876068307347929,
          0.7911251967048174,
          0.7954860149108273,
          0.8002945311510161,
          0.8044239304292425,
          0.8042589962589233,
          0.8055727122903493,
          0.8039872471664843,
          0.8150181759086234,
          0.8208726405841849,
          0.8175733237165774,
          0.8150924856902722,
          0.8161799126479804,
          0.8162075056577716,
          0.8139614530750836,
          0.8160992086320651,
          0.8163258042750905,
          0.8117820067502292,
          0.815845196176524,
          0.8178645270436211,
          0.8199893459127566,
          0.8195595848260385,
          0.8182669780860702,
          0.8225287752460724,
          0.8308410055748907,
          0.8325386822934345,
          0.8389603754122887,
          0.8434763411544562,
          0.8477529276484354,
          0.8592143774955078,
          0.8635387112563969,
          0.8720976800197271,
          0.8776353531449691,
          0.8918978906403963,
          0.880755339318067,
          0.8809902384931709,
          0.8753393835050898,
          0.8716869044944556,
          0.8569555548408376,
          0.8488794097174475,
          0.8454180715900679,
          0.8455488327598748,
          0.8543118120770801,
          0.8620631293443229,
          0.8715239048608749,
          0.87412408951909,
          0.8707267394954286,
          0.8712495146107015,
          0.8545483035150444,
          0.8584875045408569,
          0.8636595415047603,
          0.8732778395225984,
          0.8637522788878359,
          0.844749174963363,
          0.8248997190176272,
          0.8201712829822495,
          0.8183139733571749,
          0.8134072861283846,
          0.80948437454229,
          0.8100987111596102,
          0.8076646872258716,
          0.8006144564576563,
          0.7957175810930429,
          0.7901993026585573,
          0.7821879337191849,
          0.7764186129284874,
          0.7767874984113758,
          0.7757655066548199,
          0.7741031225395185,
          0.77042561896783,
          0.7674335432053353,
          0.7716975133725261,
          0.7715466747903589,
          0.7882335620918272,
          0.8072707658518685,
          0.8207670231042575,
          0.8213948844349485,
          0.8211730039552962,
          0.8184257602863328,
          0.8057098272952086,
          0.7910657810813252,
          0.7867338151355718,
          0.7766552673263272,
          0.7765497888008573,
          0.7686136529328592,
          0.7532530034728366,
          0.7352305872033497,
          0.730894953144875,
          0.7298144846337107,
          0.7226818681868858,
          0.7125061646048659,
          0.7026107926053897,
          0.6979296105140192,
          0.7036522276348143,
          0.6972240394070304,
          0.6904285263172408,
          0.6856647052025904,
          0.677119381665805,
          0.811145598513055,
          0.7708039743718818,
          0.7763180850544098
         ],
         "yaxis": "y"
        },
        {
         "alignmentgroup": "True",
         "hovertemplate": "ASSET_CLASS_ID=USSM<br>DATE=%{x}<br>split=%{y}<extra></extra>",
         "legendgroup": "USSM",
         "marker": {
          "color": "#EF553B",
          "pattern": {
           "shape": ""
          }
         },
         "name": "USSM",
         "offsetgroup": "USSM",
         "orientation": "v",
         "showlegend": true,
         "textposition": "auto",
         "type": "bar",
         "x": [
          "2000-04-01",
          "2000-05-01",
          "2000-06-01",
          "2000-07-01",
          "2000-08-01",
          "2000-09-01",
          "2000-10-01",
          "2000-11-01",
          "2000-12-01",
          "2001-01-01",
          "2001-02-01",
          "2001-03-01",
          "2001-04-01",
          "2001-05-01",
          "2001-06-01",
          "2001-07-01",
          "2001-08-01",
          "2001-09-01",
          "2001-10-01",
          "2001-11-01",
          "2001-12-01",
          "2002-01-01",
          "2002-02-01",
          "2002-03-01",
          "2002-04-01",
          "2002-05-01",
          "2002-06-01",
          "2002-07-01",
          "2002-08-01",
          "2002-09-01",
          "2002-10-01",
          "2002-11-01",
          "2002-12-01",
          "2003-01-01",
          "2003-02-01",
          "2003-03-01",
          "2003-04-01",
          "2003-05-01",
          "2003-06-01",
          "2003-07-01",
          "2003-08-01",
          "2003-09-01",
          "2003-10-01",
          "2003-11-01",
          "2003-12-01",
          "2004-01-01",
          "2004-02-01",
          "2004-03-01",
          "2004-04-01",
          "2004-05-01",
          "2004-06-01",
          "2004-07-01",
          "2004-08-01",
          "2004-09-01",
          "2004-10-01",
          "2004-11-01",
          "2004-12-01",
          "2005-01-01",
          "2005-02-01",
          "2005-03-01",
          "2005-04-01",
          "2005-05-01",
          "2005-06-01",
          "2005-07-01",
          "2005-08-01",
          "2005-09-01",
          "2005-10-01",
          "2005-11-01",
          "2005-12-01",
          "2006-01-01",
          "2006-02-01",
          "2006-03-01",
          "2006-04-01",
          "2006-05-01",
          "2006-06-01",
          "2006-07-01",
          "2006-08-01",
          "2006-09-01",
          "2006-10-01",
          "2006-11-01",
          "2006-12-01",
          "2007-01-01",
          "2007-02-01",
          "2007-03-01",
          "2007-04-01",
          "2007-05-01",
          "2007-06-01",
          "2007-07-01",
          "2007-08-01",
          "2007-09-01",
          "2007-10-01",
          "2007-11-01",
          "2007-12-01",
          "2008-01-01",
          "2008-02-01",
          "2008-03-01",
          "2008-04-01",
          "2008-05-01",
          "2008-06-01",
          "2008-07-01",
          "2008-08-01",
          "2008-09-01",
          "2008-10-01",
          "2008-11-01",
          "2008-12-01",
          "2009-01-01",
          "2009-02-01",
          "2009-03-01",
          "2009-04-01",
          "2009-05-01",
          "2009-06-01",
          "2009-07-01",
          "2009-08-01",
          "2009-09-01",
          "2009-10-01",
          "2009-11-01",
          "2009-12-01",
          "2010-01-01",
          "2010-02-01",
          "2010-03-01",
          "2010-04-01",
          "2010-05-01",
          "2010-06-01",
          "2010-07-01",
          "2010-08-01",
          "2010-09-01",
          "2010-10-01",
          "2010-11-01",
          "2010-12-01",
          "2011-01-01",
          "2011-02-01",
          "2011-03-01",
          "2011-04-01",
          "2011-05-01",
          "2011-06-01",
          "2011-07-01",
          "2011-08-01",
          "2011-09-01",
          "2011-10-01",
          "2011-11-01",
          "2011-12-01",
          "2012-01-01",
          "2012-02-01",
          "2012-03-01",
          "2012-04-01",
          "2012-05-01",
          "2012-06-01",
          "2012-07-01",
          "2012-08-01",
          "2012-09-01",
          "2012-10-01",
          "2012-11-01",
          "2012-12-01",
          "2013-01-01",
          "2013-02-01",
          "2013-03-01",
          "2013-04-01",
          "2013-05-01",
          "2013-06-01",
          "2013-07-01",
          "2013-08-01",
          "2013-09-01",
          "2013-10-01",
          "2013-11-01",
          "2013-12-01",
          "2014-01-01",
          "2014-02-01",
          "2014-03-01",
          "2014-04-01",
          "2014-05-01",
          "2014-06-01",
          "2014-07-01",
          "2014-08-01",
          "2014-09-01",
          "2014-10-01",
          "2014-11-01",
          "2014-12-01",
          "2015-01-01",
          "2015-02-01",
          "2015-03-01",
          "2015-04-01",
          "2015-05-01",
          "2015-06-01",
          "2015-07-01",
          "2015-08-01",
          "2015-09-01",
          "2015-10-01",
          "2015-11-01",
          "2015-12-01",
          "2016-01-01",
          "2016-02-01",
          "2016-03-01",
          "2016-04-01",
          "2016-05-01",
          "2016-06-01",
          "2016-07-01",
          "2016-08-01",
          "2016-09-01",
          "2016-10-01",
          "2016-11-01",
          "2016-12-01",
          "2017-01-01",
          "2017-02-01",
          "2017-03-01",
          "2017-04-01",
          "2017-05-01",
          "2017-06-01",
          "2017-07-01",
          "2017-08-01",
          "2017-09-01",
          "2017-10-01",
          "2017-11-01",
          "2017-12-01",
          "2018-01-01",
          "2018-02-01",
          "2018-03-01",
          "2018-04-01",
          "2018-05-01",
          "2018-06-01",
          "2018-07-01",
          "2018-08-01",
          "2018-09-01",
          "2018-10-01",
          "2018-11-01",
          "2018-12-01",
          "2019-01-01",
          "2019-02-01",
          "2019-03-01",
          "2019-04-01",
          "2019-05-01",
          "2019-06-01",
          "2019-07-01",
          "2019-08-01",
          "2019-09-01",
          "2019-10-01",
          "2019-11-01",
          "2019-12-01",
          "2020-01-01",
          "2020-02-01",
          "2020-03-01",
          "2020-04-01",
          "2020-05-01",
          "2020-06-01",
          "2020-07-01",
          "2020-08-01",
          "2020-09-01",
          "2020-10-01",
          "2020-11-01",
          "2020-12-01",
          "2021-01-01",
          "2021-02-01",
          "2021-03-01",
          "2021-04-01",
          "2021-05-01",
          "2021-06-01",
          "2021-07-01",
          "2021-08-01",
          "2021-09-01",
          "2021-10-01",
          "2021-11-01",
          "2021-12-01",
          "2022-01-01",
          "2022-02-01",
          "2022-03-01",
          "2022-04-01",
          "2022-05-01",
          "2022-06-01",
          "2022-07-01",
          "2022-08-01",
          "2022-09-01",
          "2022-10-01",
          "2022-11-01",
          "2022-12-01",
          "2023-01-01",
          "2023-02-01",
          "2023-03-01",
          "2023-04-01",
          "2023-05-01",
          "2023-06-01",
          "2023-07-01",
          "2023-08-01",
          "2023-09-01",
          "2023-10-01",
          "2023-11-01",
          "2023-12-01",
          "2024-01-01",
          "2024-02-01",
          "2024-03-01",
          "2024-04-01",
          "2024-05-01",
          "2000-01-01",
          "2000-02-01",
          "2000-03-01"
         ],
         "xaxis": "x",
         "y": [
          0.2385487686925098,
          0.24578869484987712,
          0.2511481663658482,
          0.24583438664391455,
          0.2496050035982611,
          0.23288706018193217,
          0.22671991773386638,
          0.2132609839602384,
          0.22429999215888335,
          0.20533961200031,
          0.20432402183229353,
          0.20102365382549836,
          0.20117468326885898,
          0.19839746201366726,
          0.19596345794536557,
          0.19004257746093914,
          0.18285603297590142,
          0.17177870507137133,
          0.18440245386488674,
          0.17527685055441147,
          0.17519875874870744,
          0.15707764369129454,
          0.14587906798976036,
          0.1473733085290529,
          0.14196128233671387,
          0.13232880770832106,
          0.13591495073176196,
          0.13979320184193716,
          0.1737974049874893,
          0.19567946325241797,
          0.20675531147171627,
          0.21376625475424862,
          0.2190284034230958,
          0.2232495274066692,
          0.2281609886561523,
          0.24039330857027758,
          0.24588507182788105,
          0.24460020360953863,
          0.23944533184284422,
          0.23469918051105526,
          0.22691823076607098,
          0.21643409514026637,
          0.2225718083256711,
          0.21418522724938358,
          0.20831272857872105,
          0.2106211434158302,
          0.21408401563869203,
          0.21615373482939257,
          0.21707593370097825,
          0.20774330216787687,
          0.20878260837927803,
          0.20424917524790667,
          0.20832597215467127,
          0.21836666824476417,
          0.2153499365782774,
          0.21696674824042192,
          0.21053179410776707,
          0.20926317573589845,
          0.20506923788959963,
          0.20260303866350213,
          0.20272822024267573,
          0.21377431102304317,
          0.21271590961430023,
          0.20860142400765053,
          0.20481237325437565,
          0.20412809718385871,
          0.20525628346056127,
          0.2071427472022817,
          0.20471474965677508,
          0.20438209457509018,
          0.1996703201222589,
          0.19797425909233538,
          0.1929169039249028,
          0.19014581228704325,
          0.1901261409799137,
          0.1907485128617032,
          0.19808136623657205,
          0.20283341167016736,
          0.20421748375548895,
          0.20146795366100115,
          0.20013763797339934,
          0.20135716823839073,
          0.20387680762482602,
          0.20549354471717585,
          0.20597722828232481,
          0.20841346229876198,
          0.20767568123131108,
          0.2030298499771661,
          0.20361479729207083,
          0.20785906241363078,
          0.2133992942211727,
          0.216045877214828,
          0.22339858994363931,
          0.22377582856640713,
          0.2268045579826024,
          0.22686365659923702,
          0.22976046672912084,
          0.23331123877094026,
          0.23017871465014306,
          0.23056812831513454,
          0.2343275530683225,
          0.2334834254524518,
          0.22797925835080277,
          0.20608603342465132,
          0.18432284759764048,
          0.1675789274595895,
          0.1778012165743333,
          0.16757792556429382,
          0.16866085184906318,
          0.1791147124827131,
          0.1963744285029593,
          0.20113585698929443,
          0.20452872313600295,
          0.2203442607206372,
          0.2303141541738402,
          0.24348407717364443,
          0.2609083207422217,
          0.2566170582984736,
          0.2546705355088294,
          0.25318769181760964,
          0.25292099229530735,
          0.249141591415104,
          0.24543142141623597,
          0.2523912721632547,
          0.25714950406848697,
          0.2844095414788997,
          0.28395390616666955,
          0.28548775244729113,
          0.27649564341693517,
          0.26703669165695443,
          0.2641126270602137,
          0.2631345179653791,
          0.258620994585389,
          0.2616920097461647,
          0.2646410813985324,
          0.2628763957917316,
          0.26711814239266424,
          0.2802667831498881,
          0.29749491901690867,
          0.28755986736154654,
          0.2814771759062962,
          0.27784549303379114,
          0.2736337807185983,
          0.2747879773639279,
          0.2755755192268023,
          0.2780426996786658,
          0.27888689582351683,
          0.27970280334356956,
          0.2835746373312396,
          0.28334667469531416,
          0.2832036118108614,
          0.28348587651966733,
          0.27228444080150616,
          0.2625156487009883,
          0.25678592931512084,
          0.2539917535437081,
          0.25213003542589957,
          0.25669806408952844,
          0.2566453069217766,
          0.2543135299506363,
          0.25088835158962314,
          0.24932147968816523,
          0.24472102395494114,
          0.24382977991348675,
          0.2417661774931248,
          0.24210179690479655,
          0.24381370610024403,
          0.24368273666901044,
          0.2446507958444042,
          0.24897614347822053,
          0.2536107065799482,
          0.25358703357187296,
          0.25855109099980034,
          0.2599194644277169,
          0.265390794934245,
          0.26224007862399873,
          0.2631808394204071,
          0.2586928851005688,
          0.2573027194935045,
          0.25635235229314246,
          0.2529245568513738,
          0.2557609832674266,
          0.25631963420848264,
          0.25111457043963664,
          0.25074858940995803,
          0.25191426629877495,
          0.24804948760015716,
          0.24945319991192363,
          0.24042236942092915,
          0.23605298356978846,
          0.22658896593103667,
          0.2163216804148385,
          0.21239316926520718,
          0.2088748032951826,
          0.20451398508917276,
          0.19970546884898385,
          0.19557606957075754,
          0.19574100374107675,
          0.1944272877096508,
          0.19601275283351563,
          0.18498182409137667,
          0.1791273594158151,
          0.18242667628342255,
          0.18490751430972793,
          0.18382008735201968,
          0.18379249434222847,
          0.18603854692491636,
          0.18390079136793497,
          0.18367419572490945,
          0.1882179932497709,
          0.184154803823476,
          0.18213547295637883,
          0.18001065408724348,
          0.18044041517396148,
          0.1817330219139298,
          0.17747122475392757,
          0.16915899442510923,
          0.16746131770656547,
          0.16103962458771134,
          0.15652365884554373,
          0.15224707235156473,
          0.14078562250449211,
          0.1364612887436031,
          0.1279023199802729,
          0.12236464685503087,
          0.10810210935960363,
          0.119244660681933,
          0.119009761506829,
          0.12466061649491016,
          0.1283130955055443,
          0.14304444515916237,
          0.1511205902825526,
          0.1545819284099321,
          0.15445116724012528,
          0.14568818792291993,
          0.13793687065567717,
          0.12847609513912517,
          0.1258759104809101,
          0.12927326050457147,
          0.12875048538929842,
          0.14545169648495562,
          0.14151249545914316,
          0.13634045849523968,
          0.12672216047740154,
          0.13624772111216416,
          0.15525082503663692,
          0.17510028098237287,
          0.17982871701775044,
          0.18168602664282502,
          0.18659271387161536,
          0.19051562545770986,
          0.18990128884038976,
          0.19233531277412833,
          0.19938554354234375,
          0.20428241890695711,
          0.20980069734144266,
          0.21781206628081506,
          0.22358138707151273,
          0.22321250158862416,
          0.22423449334518006,
          0.22589687746048148,
          0.22957438103216996,
          0.2325664567946647,
          0.22830248662747393,
          0.22845332520964107,
          0.21176643790817273,
          0.19272923414813148,
          0.1792329768957425,
          0.1786051155650515,
          0.17882699604470373,
          0.18157423971366715,
          0.19429017270479138,
          0.20893421891867475,
          0.21326618486442817,
          0.22334473267367286,
          0.22345021119914263,
          0.23138634706714076,
          0.24674699652716334,
          0.26476941279665034,
          0.2691050468551251,
          0.27018551536628926,
          0.2773181318131142,
          0.28749383539513407,
          0.2973892073946104,
          0.3020703894859807,
          0.29634777236518584,
          0.30277596059296963,
          0.3095714736827591,
          0.3143352947974097,
          0.3228806183341949,
          0.1888544014869451,
          0.22919602562811828,
          0.22368191494559028
         ],
         "yaxis": "y"
        }
       ],
       "layout": {
        "barmode": "relative",
        "legend": {
         "title": {
          "text": "ASSET_CLASS_ID"
         },
         "tracegroupgap": 0
        },
        "template": {
         "data": {
          "bar": [
           {
            "error_x": {
             "color": "#2a3f5f"
            },
            "error_y": {
             "color": "#2a3f5f"
            },
            "marker": {
             "line": {
              "color": "#E5ECF6",
              "width": 0.5
             },
             "pattern": {
              "fillmode": "overlay",
              "size": 10,
              "solidity": 0.2
             }
            },
            "type": "bar"
           }
          ],
          "barpolar": [
           {
            "marker": {
             "line": {
              "color": "#E5ECF6",
              "width": 0.5
             },
             "pattern": {
              "fillmode": "overlay",
              "size": 10,
              "solidity": 0.2
             }
            },
            "type": "barpolar"
           }
          ],
          "carpet": [
           {
            "aaxis": {
             "endlinecolor": "#2a3f5f",
             "gridcolor": "white",
             "linecolor": "white",
             "minorgridcolor": "white",
             "startlinecolor": "#2a3f5f"
            },
            "baxis": {
             "endlinecolor": "#2a3f5f",
             "gridcolor": "white",
             "linecolor": "white",
             "minorgridcolor": "white",
             "startlinecolor": "#2a3f5f"
            },
            "type": "carpet"
           }
          ],
          "choropleth": [
           {
            "colorbar": {
             "outlinewidth": 0,
             "ticks": ""
            },
            "type": "choropleth"
           }
          ],
          "contour": [
           {
            "colorbar": {
             "outlinewidth": 0,
             "ticks": ""
            },
            "colorscale": [
             [
              0,
              "#0d0887"
             ],
             [
              0.1111111111111111,
              "#46039f"
             ],
             [
              0.2222222222222222,
              "#7201a8"
             ],
             [
              0.3333333333333333,
              "#9c179e"
             ],
             [
              0.4444444444444444,
              "#bd3786"
             ],
             [
              0.5555555555555556,
              "#d8576b"
             ],
             [
              0.6666666666666666,
              "#ed7953"
             ],
             [
              0.7777777777777778,
              "#fb9f3a"
             ],
             [
              0.8888888888888888,
              "#fdca26"
             ],
             [
              1,
              "#f0f921"
             ]
            ],
            "type": "contour"
           }
          ],
          "contourcarpet": [
           {
            "colorbar": {
             "outlinewidth": 0,
             "ticks": ""
            },
            "type": "contourcarpet"
           }
          ],
          "heatmap": [
           {
            "colorbar": {
             "outlinewidth": 0,
             "ticks": ""
            },
            "colorscale": [
             [
              0,
              "#0d0887"
             ],
             [
              0.1111111111111111,
              "#46039f"
             ],
             [
              0.2222222222222222,
              "#7201a8"
             ],
             [
              0.3333333333333333,
              "#9c179e"
             ],
             [
              0.4444444444444444,
              "#bd3786"
             ],
             [
              0.5555555555555556,
              "#d8576b"
             ],
             [
              0.6666666666666666,
              "#ed7953"
             ],
             [
              0.7777777777777778,
              "#fb9f3a"
             ],
             [
              0.8888888888888888,
              "#fdca26"
             ],
             [
              1,
              "#f0f921"
             ]
            ],
            "type": "heatmap"
           }
          ],
          "heatmapgl": [
           {
            "colorbar": {
             "outlinewidth": 0,
             "ticks": ""
            },
            "colorscale": [
             [
              0,
              "#0d0887"
             ],
             [
              0.1111111111111111,
              "#46039f"
             ],
             [
              0.2222222222222222,
              "#7201a8"
             ],
             [
              0.3333333333333333,
              "#9c179e"
             ],
             [
              0.4444444444444444,
              "#bd3786"
             ],
             [
              0.5555555555555556,
              "#d8576b"
             ],
             [
              0.6666666666666666,
              "#ed7953"
             ],
             [
              0.7777777777777778,
              "#fb9f3a"
             ],
             [
              0.8888888888888888,
              "#fdca26"
             ],
             [
              1,
              "#f0f921"
             ]
            ],
            "type": "heatmapgl"
           }
          ],
          "histogram": [
           {
            "marker": {
             "pattern": {
              "fillmode": "overlay",
              "size": 10,
              "solidity": 0.2
             }
            },
            "type": "histogram"
           }
          ],
          "histogram2d": [
           {
            "colorbar": {
             "outlinewidth": 0,
             "ticks": ""
            },
            "colorscale": [
             [
              0,
              "#0d0887"
             ],
             [
              0.1111111111111111,
              "#46039f"
             ],
             [
              0.2222222222222222,
              "#7201a8"
             ],
             [
              0.3333333333333333,
              "#9c179e"
             ],
             [
              0.4444444444444444,
              "#bd3786"
             ],
             [
              0.5555555555555556,
              "#d8576b"
             ],
             [
              0.6666666666666666,
              "#ed7953"
             ],
             [
              0.7777777777777778,
              "#fb9f3a"
             ],
             [
              0.8888888888888888,
              "#fdca26"
             ],
             [
              1,
              "#f0f921"
             ]
            ],
            "type": "histogram2d"
           }
          ],
          "histogram2dcontour": [
           {
            "colorbar": {
             "outlinewidth": 0,
             "ticks": ""
            },
            "colorscale": [
             [
              0,
              "#0d0887"
             ],
             [
              0.1111111111111111,
              "#46039f"
             ],
             [
              0.2222222222222222,
              "#7201a8"
             ],
             [
              0.3333333333333333,
              "#9c179e"
             ],
             [
              0.4444444444444444,
              "#bd3786"
             ],
             [
              0.5555555555555556,
              "#d8576b"
             ],
             [
              0.6666666666666666,
              "#ed7953"
             ],
             [
              0.7777777777777778,
              "#fb9f3a"
             ],
             [
              0.8888888888888888,
              "#fdca26"
             ],
             [
              1,
              "#f0f921"
             ]
            ],
            "type": "histogram2dcontour"
           }
          ],
          "mesh3d": [
           {
            "colorbar": {
             "outlinewidth": 0,
             "ticks": ""
            },
            "type": "mesh3d"
           }
          ],
          "parcoords": [
           {
            "line": {
             "colorbar": {
              "outlinewidth": 0,
              "ticks": ""
             }
            },
            "type": "parcoords"
           }
          ],
          "pie": [
           {
            "automargin": true,
            "type": "pie"
           }
          ],
          "scatter": [
           {
            "fillpattern": {
             "fillmode": "overlay",
             "size": 10,
             "solidity": 0.2
            },
            "type": "scatter"
           }
          ],
          "scatter3d": [
           {
            "line": {
             "colorbar": {
              "outlinewidth": 0,
              "ticks": ""
             }
            },
            "marker": {
             "colorbar": {
              "outlinewidth": 0,
              "ticks": ""
             }
            },
            "type": "scatter3d"
           }
          ],
          "scattercarpet": [
           {
            "marker": {
             "colorbar": {
              "outlinewidth": 0,
              "ticks": ""
             }
            },
            "type": "scattercarpet"
           }
          ],
          "scattergeo": [
           {
            "marker": {
             "colorbar": {
              "outlinewidth": 0,
              "ticks": ""
             }
            },
            "type": "scattergeo"
           }
          ],
          "scattergl": [
           {
            "marker": {
             "colorbar": {
              "outlinewidth": 0,
              "ticks": ""
             }
            },
            "type": "scattergl"
           }
          ],
          "scattermapbox": [
           {
            "marker": {
             "colorbar": {
              "outlinewidth": 0,
              "ticks": ""
             }
            },
            "type": "scattermapbox"
           }
          ],
          "scatterpolar": [
           {
            "marker": {
             "colorbar": {
              "outlinewidth": 0,
              "ticks": ""
             }
            },
            "type": "scatterpolar"
           }
          ],
          "scatterpolargl": [
           {
            "marker": {
             "colorbar": {
              "outlinewidth": 0,
              "ticks": ""
             }
            },
            "type": "scatterpolargl"
           }
          ],
          "scatterternary": [
           {
            "marker": {
             "colorbar": {
              "outlinewidth": 0,
              "ticks": ""
             }
            },
            "type": "scatterternary"
           }
          ],
          "surface": [
           {
            "colorbar": {
             "outlinewidth": 0,
             "ticks": ""
            },
            "colorscale": [
             [
              0,
              "#0d0887"
             ],
             [
              0.1111111111111111,
              "#46039f"
             ],
             [
              0.2222222222222222,
              "#7201a8"
             ],
             [
              0.3333333333333333,
              "#9c179e"
             ],
             [
              0.4444444444444444,
              "#bd3786"
             ],
             [
              0.5555555555555556,
              "#d8576b"
             ],
             [
              0.6666666666666666,
              "#ed7953"
             ],
             [
              0.7777777777777778,
              "#fb9f3a"
             ],
             [
              0.8888888888888888,
              "#fdca26"
             ],
             [
              1,
              "#f0f921"
             ]
            ],
            "type": "surface"
           }
          ],
          "table": [
           {
            "cells": {
             "fill": {
              "color": "#EBF0F8"
             },
             "line": {
              "color": "white"
             }
            },
            "header": {
             "fill": {
              "color": "#C8D4E3"
             },
             "line": {
              "color": "white"
             }
            },
            "type": "table"
           }
          ]
         },
         "layout": {
          "annotationdefaults": {
           "arrowcolor": "#2a3f5f",
           "arrowhead": 0,
           "arrowwidth": 1
          },
          "autotypenumbers": "strict",
          "coloraxis": {
           "colorbar": {
            "outlinewidth": 0,
            "ticks": ""
           }
          },
          "colorscale": {
           "diverging": [
            [
             0,
             "#8e0152"
            ],
            [
             0.1,
             "#c51b7d"
            ],
            [
             0.2,
             "#de77ae"
            ],
            [
             0.3,
             "#f1b6da"
            ],
            [
             0.4,
             "#fde0ef"
            ],
            [
             0.5,
             "#f7f7f7"
            ],
            [
             0.6,
             "#e6f5d0"
            ],
            [
             0.7,
             "#b8e186"
            ],
            [
             0.8,
             "#7fbc41"
            ],
            [
             0.9,
             "#4d9221"
            ],
            [
             1,
             "#276419"
            ]
           ],
           "sequential": [
            [
             0,
             "#0d0887"
            ],
            [
             0.1111111111111111,
             "#46039f"
            ],
            [
             0.2222222222222222,
             "#7201a8"
            ],
            [
             0.3333333333333333,
             "#9c179e"
            ],
            [
             0.4444444444444444,
             "#bd3786"
            ],
            [
             0.5555555555555556,
             "#d8576b"
            ],
            [
             0.6666666666666666,
             "#ed7953"
            ],
            [
             0.7777777777777778,
             "#fb9f3a"
            ],
            [
             0.8888888888888888,
             "#fdca26"
            ],
            [
             1,
             "#f0f921"
            ]
           ],
           "sequentialminus": [
            [
             0,
             "#0d0887"
            ],
            [
             0.1111111111111111,
             "#46039f"
            ],
            [
             0.2222222222222222,
             "#7201a8"
            ],
            [
             0.3333333333333333,
             "#9c179e"
            ],
            [
             0.4444444444444444,
             "#bd3786"
            ],
            [
             0.5555555555555556,
             "#d8576b"
            ],
            [
             0.6666666666666666,
             "#ed7953"
            ],
            [
             0.7777777777777778,
             "#fb9f3a"
            ],
            [
             0.8888888888888888,
             "#fdca26"
            ],
            [
             1,
             "#f0f921"
            ]
           ]
          },
          "colorway": [
           "#636efa",
           "#EF553B",
           "#00cc96",
           "#ab63fa",
           "#FFA15A",
           "#19d3f3",
           "#FF6692",
           "#B6E880",
           "#FF97FF",
           "#FECB52"
          ],
          "font": {
           "color": "#2a3f5f"
          },
          "geo": {
           "bgcolor": "white",
           "lakecolor": "white",
           "landcolor": "#E5ECF6",
           "showlakes": true,
           "showland": true,
           "subunitcolor": "white"
          },
          "hoverlabel": {
           "align": "left"
          },
          "hovermode": "closest",
          "mapbox": {
           "style": "light"
          },
          "paper_bgcolor": "white",
          "plot_bgcolor": "#E5ECF6",
          "polar": {
           "angularaxis": {
            "gridcolor": "white",
            "linecolor": "white",
            "ticks": ""
           },
           "bgcolor": "#E5ECF6",
           "radialaxis": {
            "gridcolor": "white",
            "linecolor": "white",
            "ticks": ""
           }
          },
          "scene": {
           "xaxis": {
            "backgroundcolor": "#E5ECF6",
            "gridcolor": "white",
            "gridwidth": 2,
            "linecolor": "white",
            "showbackground": true,
            "ticks": "",
            "zerolinecolor": "white"
           },
           "yaxis": {
            "backgroundcolor": "#E5ECF6",
            "gridcolor": "white",
            "gridwidth": 2,
            "linecolor": "white",
            "showbackground": true,
            "ticks": "",
            "zerolinecolor": "white"
           },
           "zaxis": {
            "backgroundcolor": "#E5ECF6",
            "gridcolor": "white",
            "gridwidth": 2,
            "linecolor": "white",
            "showbackground": true,
            "ticks": "",
            "zerolinecolor": "white"
           }
          },
          "shapedefaults": {
           "line": {
            "color": "#2a3f5f"
           }
          },
          "ternary": {
           "aaxis": {
            "gridcolor": "white",
            "linecolor": "white",
            "ticks": ""
           },
           "baxis": {
            "gridcolor": "white",
            "linecolor": "white",
            "ticks": ""
           },
           "bgcolor": "#E5ECF6",
           "caxis": {
            "gridcolor": "white",
            "linecolor": "white",
            "ticks": ""
           }
          },
          "title": {
           "x": 0.05
          },
          "xaxis": {
           "automargin": true,
           "gridcolor": "white",
           "linecolor": "white",
           "ticks": "",
           "title": {
            "standoff": 15
           },
           "zerolinecolor": "white",
           "zerolinewidth": 2
          },
          "yaxis": {
           "automargin": true,
           "gridcolor": "white",
           "linecolor": "white",
           "ticks": "",
           "title": {
            "standoff": 15
           },
           "zerolinecolor": "white",
           "zerolinewidth": 2
          }
         }
        },
        "title": {
         "text": "Mean US Large and Small Cap Allocation"
        },
        "xaxis": {
         "anchor": "y",
         "domain": [
          0,
          1
         ],
         "title": {
          "text": "DATE"
         }
        },
        "yaxis": {
         "anchor": "x",
         "domain": [
          0,
          1
         ],
         "title": {
          "text": "split"
         }
        }
       }
      },
      "text/html": [
       "<div>                            <div id=\"00df7eae-6eff-4bdc-8c04-6985a062c47d\" class=\"plotly-graph-div\" style=\"height:525px; width:100%;\"></div>            <script type=\"text/javascript\">                require([\"plotly\"], function(Plotly) {                    window.PLOTLYENV=window.PLOTLYENV || {};                                    if (document.getElementById(\"00df7eae-6eff-4bdc-8c04-6985a062c47d\")) {                    Plotly.newPlot(                        \"00df7eae-6eff-4bdc-8c04-6985a062c47d\",                        [{\"alignmentgroup\":\"True\",\"hovertemplate\":\"ASSET_CLASS_ID=USLG\\u003cbr\\u003eDATE=%{x}\\u003cbr\\u003esplit=%{y}\\u003cextra\\u003e\\u003c\\u002fextra\\u003e\",\"legendgroup\":\"USLG\",\"marker\":{\"color\":\"#636efa\",\"pattern\":{\"shape\":\"\"}},\"name\":\"USLG\",\"offsetgroup\":\"USLG\",\"orientation\":\"v\",\"showlegend\":true,\"textposition\":\"auto\",\"x\":[\"2000-04-01\",\"2000-05-01\",\"2000-06-01\",\"2000-07-01\",\"2000-08-01\",\"2000-09-01\",\"2000-10-01\",\"2000-11-01\",\"2000-12-01\",\"2001-01-01\",\"2001-02-01\",\"2001-03-01\",\"2001-04-01\",\"2001-05-01\",\"2001-06-01\",\"2001-07-01\",\"2001-08-01\",\"2001-09-01\",\"2001-10-01\",\"2001-11-01\",\"2001-12-01\",\"2002-01-01\",\"2002-02-01\",\"2002-03-01\",\"2002-04-01\",\"2002-05-01\",\"2002-06-01\",\"2002-07-01\",\"2002-08-01\",\"2002-09-01\",\"2002-10-01\",\"2002-11-01\",\"2002-12-01\",\"2003-01-01\",\"2003-02-01\",\"2003-03-01\",\"2003-04-01\",\"2003-05-01\",\"2003-06-01\",\"2003-07-01\",\"2003-08-01\",\"2003-09-01\",\"2003-10-01\",\"2003-11-01\",\"2003-12-01\",\"2004-01-01\",\"2004-02-01\",\"2004-03-01\",\"2004-04-01\",\"2004-05-01\",\"2004-06-01\",\"2004-07-01\",\"2004-08-01\",\"2004-09-01\",\"2004-10-01\",\"2004-11-01\",\"2004-12-01\",\"2005-01-01\",\"2005-02-01\",\"2005-03-01\",\"2005-04-01\",\"2005-05-01\",\"2005-06-01\",\"2005-07-01\",\"2005-08-01\",\"2005-09-01\",\"2005-10-01\",\"2005-11-01\",\"2005-12-01\",\"2006-01-01\",\"2006-02-01\",\"2006-03-01\",\"2006-04-01\",\"2006-05-01\",\"2006-06-01\",\"2006-07-01\",\"2006-08-01\",\"2006-09-01\",\"2006-10-01\",\"2006-11-01\",\"2006-12-01\",\"2007-01-01\",\"2007-02-01\",\"2007-03-01\",\"2007-04-01\",\"2007-05-01\",\"2007-06-01\",\"2007-07-01\",\"2007-08-01\",\"2007-09-01\",\"2007-10-01\",\"2007-11-01\",\"2007-12-01\",\"2008-01-01\",\"2008-02-01\",\"2008-03-01\",\"2008-04-01\",\"2008-05-01\",\"2008-06-01\",\"2008-07-01\",\"2008-08-01\",\"2008-09-01\",\"2008-10-01\",\"2008-11-01\",\"2008-12-01\",\"2009-01-01\",\"2009-02-01\",\"2009-03-01\",\"2009-04-01\",\"2009-05-01\",\"2009-06-01\",\"2009-07-01\",\"2009-08-01\",\"2009-09-01\",\"2009-10-01\",\"2009-11-01\",\"2009-12-01\",\"2010-01-01\",\"2010-02-01\",\"2010-03-01\",\"2010-04-01\",\"2010-05-01\",\"2010-06-01\",\"2010-07-01\",\"2010-08-01\",\"2010-09-01\",\"2010-10-01\",\"2010-11-01\",\"2010-12-01\",\"2011-01-01\",\"2011-02-01\",\"2011-03-01\",\"2011-04-01\",\"2011-05-01\",\"2011-06-01\",\"2011-07-01\",\"2011-08-01\",\"2011-09-01\",\"2011-10-01\",\"2011-11-01\",\"2011-12-01\",\"2012-01-01\",\"2012-02-01\",\"2012-03-01\",\"2012-04-01\",\"2012-05-01\",\"2012-06-01\",\"2012-07-01\",\"2012-08-01\",\"2012-09-01\",\"2012-10-01\",\"2012-11-01\",\"2012-12-01\",\"2013-01-01\",\"2013-02-01\",\"2013-03-01\",\"2013-04-01\",\"2013-05-01\",\"2013-06-01\",\"2013-07-01\",\"2013-08-01\",\"2013-09-01\",\"2013-10-01\",\"2013-11-01\",\"2013-12-01\",\"2014-01-01\",\"2014-02-01\",\"2014-03-01\",\"2014-04-01\",\"2014-05-01\",\"2014-06-01\",\"2014-07-01\",\"2014-08-01\",\"2014-09-01\",\"2014-10-01\",\"2014-11-01\",\"2014-12-01\",\"2015-01-01\",\"2015-02-01\",\"2015-03-01\",\"2015-04-01\",\"2015-05-01\",\"2015-06-01\",\"2015-07-01\",\"2015-08-01\",\"2015-09-01\",\"2015-10-01\",\"2015-11-01\",\"2015-12-01\",\"2016-01-01\",\"2016-02-01\",\"2016-03-01\",\"2016-04-01\",\"2016-05-01\",\"2016-06-01\",\"2016-07-01\",\"2016-08-01\",\"2016-09-01\",\"2016-10-01\",\"2016-11-01\",\"2016-12-01\",\"2017-01-01\",\"2017-02-01\",\"2017-03-01\",\"2017-04-01\",\"2017-05-01\",\"2017-06-01\",\"2017-07-01\",\"2017-08-01\",\"2017-09-01\",\"2017-10-01\",\"2017-11-01\",\"2017-12-01\",\"2018-01-01\",\"2018-02-01\",\"2018-03-01\",\"2018-04-01\",\"2018-05-01\",\"2018-06-01\",\"2018-07-01\",\"2018-08-01\",\"2018-09-01\",\"2018-10-01\",\"2018-11-01\",\"2018-12-01\",\"2019-01-01\",\"2019-02-01\",\"2019-03-01\",\"2019-04-01\",\"2019-05-01\",\"2019-06-01\",\"2019-07-01\",\"2019-08-01\",\"2019-09-01\",\"2019-10-01\",\"2019-11-01\",\"2019-12-01\",\"2020-01-01\",\"2020-02-01\",\"2020-03-01\",\"2020-04-01\",\"2020-05-01\",\"2020-06-01\",\"2020-07-01\",\"2020-08-01\",\"2020-09-01\",\"2020-10-01\",\"2020-11-01\",\"2020-12-01\",\"2021-01-01\",\"2021-02-01\",\"2021-03-01\",\"2021-04-01\",\"2021-05-01\",\"2021-06-01\",\"2021-07-01\",\"2021-08-01\",\"2021-09-01\",\"2021-10-01\",\"2021-11-01\",\"2021-12-01\",\"2022-01-01\",\"2022-02-01\",\"2022-03-01\",\"2022-04-01\",\"2022-05-01\",\"2022-06-01\",\"2022-07-01\",\"2022-08-01\",\"2022-09-01\",\"2022-10-01\",\"2022-11-01\",\"2022-12-01\",\"2023-01-01\",\"2023-02-01\",\"2023-03-01\",\"2023-04-01\",\"2023-05-01\",\"2023-06-01\",\"2023-07-01\",\"2023-08-01\",\"2023-09-01\",\"2023-10-01\",\"2023-11-01\",\"2023-12-01\",\"2024-01-01\",\"2024-02-01\",\"2024-03-01\",\"2024-04-01\",\"2024-05-01\",\"2000-01-01\",\"2000-02-01\",\"2000-03-01\"],\"xaxis\":\"x\",\"y\":[0.7614512313074902,0.7542113051501228,0.7488518336341519,0.7541656133560855,0.7503949964017389,0.7671129398180678,0.7732800822661337,0.7867390160397617,0.7757000078411167,0.79466038799969,0.7956759781677065,0.7989763461745018,0.7988253167311411,0.8016025379863327,0.8040365420546345,0.8099574225390609,0.8171439670240986,0.8282212949286286,0.8155975461351133,0.8247231494455886,0.8248012412512925,0.8429223563087054,0.8541209320102396,0.8526266914709472,0.8580387176632862,0.8676711922916789,0.864085049268238,0.8602067981580629,0.8262025950125107,0.8043205367475821,0.7932446885282838,0.7862337452457513,0.7809715965769043,0.7767504725933309,0.7718390113438477,0.7596066914297225,0.7541149281721189,0.7553997963904613,0.7605546681571558,0.7653008194889448,0.7730817692339289,0.7835659048597337,0.777428191674329,0.7858147727506164,0.791687271421279,0.7893788565841698,0.7859159843613079,0.7838462651706074,0.7829240662990218,0.7922566978321232,0.791217391620722,0.7957508247520934,0.7916740278453287,0.7816333317552359,0.7846500634217226,0.7830332517595782,0.7894682058922329,0.7907368242641016,0.7949307621104004,0.797396961336498,0.7972717797573242,0.7862256889769568,0.7872840903856999,0.7913985759923494,0.7951876267456245,0.7958719028161413,0.7947437165394386,0.7928572527977182,0.7952852503432251,0.7956179054249097,0.8003296798777412,0.8020257409076645,0.8070830960750973,0.8098541877129567,0.8098738590200864,0.8092514871382968,0.801918633763428,0.7971665883298326,0.7957825162445111,0.798532046338999,0.7998623620266007,0.7986428317616093,0.796123192375174,0.7945064552828242,0.7940227717176752,0.791586537701238,0.7923243187686889,0.7969701500228339,0.7963852027079292,0.7921409375863692,0.7866007057788273,0.783954122785172,0.7766014100563607,0.7762241714335928,0.7731954420173975,0.773136343400763,0.7702395332708791,0.7666887612290598,0.769821285349857,0.7694318716848654,0.7656724469316775,0.7665165745475482,0.7720207416491973,0.7939139665753487,0.8156771524023595,0.8324210725404104,0.8221987834256668,0.8324220744357061,0.8313391481509369,0.820885287517287,0.8036255714970407,0.7988641430107056,0.795471276863997,0.7796557392793628,0.7696858458261597,0.7565159228263556,0.7390916792577783,0.7433829417015263,0.7453294644911707,0.7468123081823903,0.7470790077046926,0.7508584085848959,0.754568578583764,0.7476087278367454,0.742850495931513,0.7155904585211003,0.7160460938333305,0.7145122475527089,0.7235043565830648,0.7329633083430457,0.7358873729397862,0.7368654820346209,0.741379005414611,0.7383079902538353,0.7353589186014677,0.7371236042082684,0.7328818576073357,0.7197332168501118,0.7025050809830913,0.7124401326384535,0.7185228240937039,0.7221545069662089,0.7263662192814018,0.7252120226360721,0.7244244807731978,0.7219573003213342,0.7211131041764832,0.7202971966564304,0.7164253626687604,0.7166533253046858,0.7167963881891386,0.7165141234803327,0.7277155591984938,0.7374843512990116,0.7432140706848791,0.7460082464562919,0.7478699645741004,0.7433019359104714,0.7433546930782233,0.7456864700493637,0.7491116484103769,0.7506785203118347,0.7552789760450589,0.7561702200865132,0.7582338225068752,0.7578982030952034,0.756186293899756,0.7563172633309895,0.7553492041555958,0.7510238565217794,0.7463892934200518,0.7464129664281269,0.7414489090001997,0.740080535572283,0.734609205065755,0.7377599213760012,0.736819160579593,0.7413071148994311,0.7426972805064955,0.7436476477068575,0.7470754431486263,0.7442390167325734,0.7436803657915173,0.7488854295603634,0.749251410590042,0.7480857337012251,0.7519505123998429,0.7505468000880763,0.7595776305790709,0.7639470164302115,0.7734110340689633,0.7836783195851614,0.7876068307347929,0.7911251967048174,0.7954860149108273,0.8002945311510161,0.8044239304292425,0.8042589962589233,0.8055727122903493,0.8039872471664843,0.8150181759086234,0.8208726405841849,0.8175733237165774,0.8150924856902722,0.8161799126479804,0.8162075056577716,0.8139614530750836,0.8160992086320651,0.8163258042750905,0.8117820067502292,0.815845196176524,0.8178645270436211,0.8199893459127566,0.8195595848260385,0.8182669780860702,0.8225287752460724,0.8308410055748907,0.8325386822934345,0.8389603754122887,0.8434763411544562,0.8477529276484354,0.8592143774955078,0.8635387112563969,0.8720976800197271,0.8776353531449691,0.8918978906403963,0.880755339318067,0.8809902384931709,0.8753393835050898,0.8716869044944556,0.8569555548408376,0.8488794097174475,0.8454180715900679,0.8455488327598748,0.8543118120770801,0.8620631293443229,0.8715239048608749,0.87412408951909,0.8707267394954286,0.8712495146107015,0.8545483035150444,0.8584875045408569,0.8636595415047603,0.8732778395225984,0.8637522788878359,0.844749174963363,0.8248997190176272,0.8201712829822495,0.8183139733571749,0.8134072861283846,0.80948437454229,0.8100987111596102,0.8076646872258716,0.8006144564576563,0.7957175810930429,0.7901993026585573,0.7821879337191849,0.7764186129284874,0.7767874984113758,0.7757655066548199,0.7741031225395185,0.77042561896783,0.7674335432053353,0.7716975133725261,0.7715466747903589,0.7882335620918272,0.8072707658518685,0.8207670231042575,0.8213948844349485,0.8211730039552962,0.8184257602863328,0.8057098272952086,0.7910657810813252,0.7867338151355718,0.7766552673263272,0.7765497888008573,0.7686136529328592,0.7532530034728366,0.7352305872033497,0.730894953144875,0.7298144846337107,0.7226818681868858,0.7125061646048659,0.7026107926053897,0.6979296105140192,0.7036522276348143,0.6972240394070304,0.6904285263172408,0.6856647052025904,0.677119381665805,0.811145598513055,0.7708039743718818,0.7763180850544098],\"yaxis\":\"y\",\"type\":\"bar\"},{\"alignmentgroup\":\"True\",\"hovertemplate\":\"ASSET_CLASS_ID=USSM\\u003cbr\\u003eDATE=%{x}\\u003cbr\\u003esplit=%{y}\\u003cextra\\u003e\\u003c\\u002fextra\\u003e\",\"legendgroup\":\"USSM\",\"marker\":{\"color\":\"#EF553B\",\"pattern\":{\"shape\":\"\"}},\"name\":\"USSM\",\"offsetgroup\":\"USSM\",\"orientation\":\"v\",\"showlegend\":true,\"textposition\":\"auto\",\"x\":[\"2000-04-01\",\"2000-05-01\",\"2000-06-01\",\"2000-07-01\",\"2000-08-01\",\"2000-09-01\",\"2000-10-01\",\"2000-11-01\",\"2000-12-01\",\"2001-01-01\",\"2001-02-01\",\"2001-03-01\",\"2001-04-01\",\"2001-05-01\",\"2001-06-01\",\"2001-07-01\",\"2001-08-01\",\"2001-09-01\",\"2001-10-01\",\"2001-11-01\",\"2001-12-01\",\"2002-01-01\",\"2002-02-01\",\"2002-03-01\",\"2002-04-01\",\"2002-05-01\",\"2002-06-01\",\"2002-07-01\",\"2002-08-01\",\"2002-09-01\",\"2002-10-01\",\"2002-11-01\",\"2002-12-01\",\"2003-01-01\",\"2003-02-01\",\"2003-03-01\",\"2003-04-01\",\"2003-05-01\",\"2003-06-01\",\"2003-07-01\",\"2003-08-01\",\"2003-09-01\",\"2003-10-01\",\"2003-11-01\",\"2003-12-01\",\"2004-01-01\",\"2004-02-01\",\"2004-03-01\",\"2004-04-01\",\"2004-05-01\",\"2004-06-01\",\"2004-07-01\",\"2004-08-01\",\"2004-09-01\",\"2004-10-01\",\"2004-11-01\",\"2004-12-01\",\"2005-01-01\",\"2005-02-01\",\"2005-03-01\",\"2005-04-01\",\"2005-05-01\",\"2005-06-01\",\"2005-07-01\",\"2005-08-01\",\"2005-09-01\",\"2005-10-01\",\"2005-11-01\",\"2005-12-01\",\"2006-01-01\",\"2006-02-01\",\"2006-03-01\",\"2006-04-01\",\"2006-05-01\",\"2006-06-01\",\"2006-07-01\",\"2006-08-01\",\"2006-09-01\",\"2006-10-01\",\"2006-11-01\",\"2006-12-01\",\"2007-01-01\",\"2007-02-01\",\"2007-03-01\",\"2007-04-01\",\"2007-05-01\",\"2007-06-01\",\"2007-07-01\",\"2007-08-01\",\"2007-09-01\",\"2007-10-01\",\"2007-11-01\",\"2007-12-01\",\"2008-01-01\",\"2008-02-01\",\"2008-03-01\",\"2008-04-01\",\"2008-05-01\",\"2008-06-01\",\"2008-07-01\",\"2008-08-01\",\"2008-09-01\",\"2008-10-01\",\"2008-11-01\",\"2008-12-01\",\"2009-01-01\",\"2009-02-01\",\"2009-03-01\",\"2009-04-01\",\"2009-05-01\",\"2009-06-01\",\"2009-07-01\",\"2009-08-01\",\"2009-09-01\",\"2009-10-01\",\"2009-11-01\",\"2009-12-01\",\"2010-01-01\",\"2010-02-01\",\"2010-03-01\",\"2010-04-01\",\"2010-05-01\",\"2010-06-01\",\"2010-07-01\",\"2010-08-01\",\"2010-09-01\",\"2010-10-01\",\"2010-11-01\",\"2010-12-01\",\"2011-01-01\",\"2011-02-01\",\"2011-03-01\",\"2011-04-01\",\"2011-05-01\",\"2011-06-01\",\"2011-07-01\",\"2011-08-01\",\"2011-09-01\",\"2011-10-01\",\"2011-11-01\",\"2011-12-01\",\"2012-01-01\",\"2012-02-01\",\"2012-03-01\",\"2012-04-01\",\"2012-05-01\",\"2012-06-01\",\"2012-07-01\",\"2012-08-01\",\"2012-09-01\",\"2012-10-01\",\"2012-11-01\",\"2012-12-01\",\"2013-01-01\",\"2013-02-01\",\"2013-03-01\",\"2013-04-01\",\"2013-05-01\",\"2013-06-01\",\"2013-07-01\",\"2013-08-01\",\"2013-09-01\",\"2013-10-01\",\"2013-11-01\",\"2013-12-01\",\"2014-01-01\",\"2014-02-01\",\"2014-03-01\",\"2014-04-01\",\"2014-05-01\",\"2014-06-01\",\"2014-07-01\",\"2014-08-01\",\"2014-09-01\",\"2014-10-01\",\"2014-11-01\",\"2014-12-01\",\"2015-01-01\",\"2015-02-01\",\"2015-03-01\",\"2015-04-01\",\"2015-05-01\",\"2015-06-01\",\"2015-07-01\",\"2015-08-01\",\"2015-09-01\",\"2015-10-01\",\"2015-11-01\",\"2015-12-01\",\"2016-01-01\",\"2016-02-01\",\"2016-03-01\",\"2016-04-01\",\"2016-05-01\",\"2016-06-01\",\"2016-07-01\",\"2016-08-01\",\"2016-09-01\",\"2016-10-01\",\"2016-11-01\",\"2016-12-01\",\"2017-01-01\",\"2017-02-01\",\"2017-03-01\",\"2017-04-01\",\"2017-05-01\",\"2017-06-01\",\"2017-07-01\",\"2017-08-01\",\"2017-09-01\",\"2017-10-01\",\"2017-11-01\",\"2017-12-01\",\"2018-01-01\",\"2018-02-01\",\"2018-03-01\",\"2018-04-01\",\"2018-05-01\",\"2018-06-01\",\"2018-07-01\",\"2018-08-01\",\"2018-09-01\",\"2018-10-01\",\"2018-11-01\",\"2018-12-01\",\"2019-01-01\",\"2019-02-01\",\"2019-03-01\",\"2019-04-01\",\"2019-05-01\",\"2019-06-01\",\"2019-07-01\",\"2019-08-01\",\"2019-09-01\",\"2019-10-01\",\"2019-11-01\",\"2019-12-01\",\"2020-01-01\",\"2020-02-01\",\"2020-03-01\",\"2020-04-01\",\"2020-05-01\",\"2020-06-01\",\"2020-07-01\",\"2020-08-01\",\"2020-09-01\",\"2020-10-01\",\"2020-11-01\",\"2020-12-01\",\"2021-01-01\",\"2021-02-01\",\"2021-03-01\",\"2021-04-01\",\"2021-05-01\",\"2021-06-01\",\"2021-07-01\",\"2021-08-01\",\"2021-09-01\",\"2021-10-01\",\"2021-11-01\",\"2021-12-01\",\"2022-01-01\",\"2022-02-01\",\"2022-03-01\",\"2022-04-01\",\"2022-05-01\",\"2022-06-01\",\"2022-07-01\",\"2022-08-01\",\"2022-09-01\",\"2022-10-01\",\"2022-11-01\",\"2022-12-01\",\"2023-01-01\",\"2023-02-01\",\"2023-03-01\",\"2023-04-01\",\"2023-05-01\",\"2023-06-01\",\"2023-07-01\",\"2023-08-01\",\"2023-09-01\",\"2023-10-01\",\"2023-11-01\",\"2023-12-01\",\"2024-01-01\",\"2024-02-01\",\"2024-03-01\",\"2024-04-01\",\"2024-05-01\",\"2000-01-01\",\"2000-02-01\",\"2000-03-01\"],\"xaxis\":\"x\",\"y\":[0.2385487686925098,0.24578869484987712,0.2511481663658482,0.24583438664391455,0.2496050035982611,0.23288706018193217,0.22671991773386638,0.2132609839602384,0.22429999215888335,0.20533961200031,0.20432402183229353,0.20102365382549836,0.20117468326885898,0.19839746201366726,0.19596345794536557,0.19004257746093914,0.18285603297590142,0.17177870507137133,0.18440245386488674,0.17527685055441147,0.17519875874870744,0.15707764369129454,0.14587906798976036,0.1473733085290529,0.14196128233671387,0.13232880770832106,0.13591495073176196,0.13979320184193716,0.1737974049874893,0.19567946325241797,0.20675531147171627,0.21376625475424862,0.2190284034230958,0.2232495274066692,0.2281609886561523,0.24039330857027758,0.24588507182788105,0.24460020360953863,0.23944533184284422,0.23469918051105526,0.22691823076607098,0.21643409514026637,0.2225718083256711,0.21418522724938358,0.20831272857872105,0.2106211434158302,0.21408401563869203,0.21615373482939257,0.21707593370097825,0.20774330216787687,0.20878260837927803,0.20424917524790667,0.20832597215467127,0.21836666824476417,0.2153499365782774,0.21696674824042192,0.21053179410776707,0.20926317573589845,0.20506923788959963,0.20260303866350213,0.20272822024267573,0.21377431102304317,0.21271590961430023,0.20860142400765053,0.20481237325437565,0.20412809718385871,0.20525628346056127,0.2071427472022817,0.20471474965677508,0.20438209457509018,0.1996703201222589,0.19797425909233538,0.1929169039249028,0.19014581228704325,0.1901261409799137,0.1907485128617032,0.19808136623657205,0.20283341167016736,0.20421748375548895,0.20146795366100115,0.20013763797339934,0.20135716823839073,0.20387680762482602,0.20549354471717585,0.20597722828232481,0.20841346229876198,0.20767568123131108,0.2030298499771661,0.20361479729207083,0.20785906241363078,0.2133992942211727,0.216045877214828,0.22339858994363931,0.22377582856640713,0.2268045579826024,0.22686365659923702,0.22976046672912084,0.23331123877094026,0.23017871465014306,0.23056812831513454,0.2343275530683225,0.2334834254524518,0.22797925835080277,0.20608603342465132,0.18432284759764048,0.1675789274595895,0.1778012165743333,0.16757792556429382,0.16866085184906318,0.1791147124827131,0.1963744285029593,0.20113585698929443,0.20452872313600295,0.2203442607206372,0.2303141541738402,0.24348407717364443,0.2609083207422217,0.2566170582984736,0.2546705355088294,0.25318769181760964,0.25292099229530735,0.249141591415104,0.24543142141623597,0.2523912721632547,0.25714950406848697,0.2844095414788997,0.28395390616666955,0.28548775244729113,0.27649564341693517,0.26703669165695443,0.2641126270602137,0.2631345179653791,0.258620994585389,0.2616920097461647,0.2646410813985324,0.2628763957917316,0.26711814239266424,0.2802667831498881,0.29749491901690867,0.28755986736154654,0.2814771759062962,0.27784549303379114,0.2736337807185983,0.2747879773639279,0.2755755192268023,0.2780426996786658,0.27888689582351683,0.27970280334356956,0.2835746373312396,0.28334667469531416,0.2832036118108614,0.28348587651966733,0.27228444080150616,0.2625156487009883,0.25678592931512084,0.2539917535437081,0.25213003542589957,0.25669806408952844,0.2566453069217766,0.2543135299506363,0.25088835158962314,0.24932147968816523,0.24472102395494114,0.24382977991348675,0.2417661774931248,0.24210179690479655,0.24381370610024403,0.24368273666901044,0.2446507958444042,0.24897614347822053,0.2536107065799482,0.25358703357187296,0.25855109099980034,0.2599194644277169,0.265390794934245,0.26224007862399873,0.2631808394204071,0.2586928851005688,0.2573027194935045,0.25635235229314246,0.2529245568513738,0.2557609832674266,0.25631963420848264,0.25111457043963664,0.25074858940995803,0.25191426629877495,0.24804948760015716,0.24945319991192363,0.24042236942092915,0.23605298356978846,0.22658896593103667,0.2163216804148385,0.21239316926520718,0.2088748032951826,0.20451398508917276,0.19970546884898385,0.19557606957075754,0.19574100374107675,0.1944272877096508,0.19601275283351563,0.18498182409137667,0.1791273594158151,0.18242667628342255,0.18490751430972793,0.18382008735201968,0.18379249434222847,0.18603854692491636,0.18390079136793497,0.18367419572490945,0.1882179932497709,0.184154803823476,0.18213547295637883,0.18001065408724348,0.18044041517396148,0.1817330219139298,0.17747122475392757,0.16915899442510923,0.16746131770656547,0.16103962458771134,0.15652365884554373,0.15224707235156473,0.14078562250449211,0.1364612887436031,0.1279023199802729,0.12236464685503087,0.10810210935960363,0.119244660681933,0.119009761506829,0.12466061649491016,0.1283130955055443,0.14304444515916237,0.1511205902825526,0.1545819284099321,0.15445116724012528,0.14568818792291993,0.13793687065567717,0.12847609513912517,0.1258759104809101,0.12927326050457147,0.12875048538929842,0.14545169648495562,0.14151249545914316,0.13634045849523968,0.12672216047740154,0.13624772111216416,0.15525082503663692,0.17510028098237287,0.17982871701775044,0.18168602664282502,0.18659271387161536,0.19051562545770986,0.18990128884038976,0.19233531277412833,0.19938554354234375,0.20428241890695711,0.20980069734144266,0.21781206628081506,0.22358138707151273,0.22321250158862416,0.22423449334518006,0.22589687746048148,0.22957438103216996,0.2325664567946647,0.22830248662747393,0.22845332520964107,0.21176643790817273,0.19272923414813148,0.1792329768957425,0.1786051155650515,0.17882699604470373,0.18157423971366715,0.19429017270479138,0.20893421891867475,0.21326618486442817,0.22334473267367286,0.22345021119914263,0.23138634706714076,0.24674699652716334,0.26476941279665034,0.2691050468551251,0.27018551536628926,0.2773181318131142,0.28749383539513407,0.2973892073946104,0.3020703894859807,0.29634777236518584,0.30277596059296963,0.3095714736827591,0.3143352947974097,0.3228806183341949,0.1888544014869451,0.22919602562811828,0.22368191494559028],\"yaxis\":\"y\",\"type\":\"bar\"}],                        {\"template\":{\"data\":{\"histogram2dcontour\":[{\"type\":\"histogram2dcontour\",\"colorbar\":{\"outlinewidth\":0,\"ticks\":\"\"},\"colorscale\":[[0.0,\"#0d0887\"],[0.1111111111111111,\"#46039f\"],[0.2222222222222222,\"#7201a8\"],[0.3333333333333333,\"#9c179e\"],[0.4444444444444444,\"#bd3786\"],[0.5555555555555556,\"#d8576b\"],[0.6666666666666666,\"#ed7953\"],[0.7777777777777778,\"#fb9f3a\"],[0.8888888888888888,\"#fdca26\"],[1.0,\"#f0f921\"]]}],\"choropleth\":[{\"type\":\"choropleth\",\"colorbar\":{\"outlinewidth\":0,\"ticks\":\"\"}}],\"histogram2d\":[{\"type\":\"histogram2d\",\"colorbar\":{\"outlinewidth\":0,\"ticks\":\"\"},\"colorscale\":[[0.0,\"#0d0887\"],[0.1111111111111111,\"#46039f\"],[0.2222222222222222,\"#7201a8\"],[0.3333333333333333,\"#9c179e\"],[0.4444444444444444,\"#bd3786\"],[0.5555555555555556,\"#d8576b\"],[0.6666666666666666,\"#ed7953\"],[0.7777777777777778,\"#fb9f3a\"],[0.8888888888888888,\"#fdca26\"],[1.0,\"#f0f921\"]]}],\"heatmap\":[{\"type\":\"heatmap\",\"colorbar\":{\"outlinewidth\":0,\"ticks\":\"\"},\"colorscale\":[[0.0,\"#0d0887\"],[0.1111111111111111,\"#46039f\"],[0.2222222222222222,\"#7201a8\"],[0.3333333333333333,\"#9c179e\"],[0.4444444444444444,\"#bd3786\"],[0.5555555555555556,\"#d8576b\"],[0.6666666666666666,\"#ed7953\"],[0.7777777777777778,\"#fb9f3a\"],[0.8888888888888888,\"#fdca26\"],[1.0,\"#f0f921\"]]}],\"heatmapgl\":[{\"type\":\"heatmapgl\",\"colorbar\":{\"outlinewidth\":0,\"ticks\":\"\"},\"colorscale\":[[0.0,\"#0d0887\"],[0.1111111111111111,\"#46039f\"],[0.2222222222222222,\"#7201a8\"],[0.3333333333333333,\"#9c179e\"],[0.4444444444444444,\"#bd3786\"],[0.5555555555555556,\"#d8576b\"],[0.6666666666666666,\"#ed7953\"],[0.7777777777777778,\"#fb9f3a\"],[0.8888888888888888,\"#fdca26\"],[1.0,\"#f0f921\"]]}],\"contourcarpet\":[{\"type\":\"contourcarpet\",\"colorbar\":{\"outlinewidth\":0,\"ticks\":\"\"}}],\"contour\":[{\"type\":\"contour\",\"colorbar\":{\"outlinewidth\":0,\"ticks\":\"\"},\"colorscale\":[[0.0,\"#0d0887\"],[0.1111111111111111,\"#46039f\"],[0.2222222222222222,\"#7201a8\"],[0.3333333333333333,\"#9c179e\"],[0.4444444444444444,\"#bd3786\"],[0.5555555555555556,\"#d8576b\"],[0.6666666666666666,\"#ed7953\"],[0.7777777777777778,\"#fb9f3a\"],[0.8888888888888888,\"#fdca26\"],[1.0,\"#f0f921\"]]}],\"surface\":[{\"type\":\"surface\",\"colorbar\":{\"outlinewidth\":0,\"ticks\":\"\"},\"colorscale\":[[0.0,\"#0d0887\"],[0.1111111111111111,\"#46039f\"],[0.2222222222222222,\"#7201a8\"],[0.3333333333333333,\"#9c179e\"],[0.4444444444444444,\"#bd3786\"],[0.5555555555555556,\"#d8576b\"],[0.6666666666666666,\"#ed7953\"],[0.7777777777777778,\"#fb9f3a\"],[0.8888888888888888,\"#fdca26\"],[1.0,\"#f0f921\"]]}],\"mesh3d\":[{\"type\":\"mesh3d\",\"colorbar\":{\"outlinewidth\":0,\"ticks\":\"\"}}],\"scatter\":[{\"fillpattern\":{\"fillmode\":\"overlay\",\"size\":10,\"solidity\":0.2},\"type\":\"scatter\"}],\"parcoords\":[{\"type\":\"parcoords\",\"line\":{\"colorbar\":{\"outlinewidth\":0,\"ticks\":\"\"}}}],\"scatterpolargl\":[{\"type\":\"scatterpolargl\",\"marker\":{\"colorbar\":{\"outlinewidth\":0,\"ticks\":\"\"}}}],\"bar\":[{\"error_x\":{\"color\":\"#2a3f5f\"},\"error_y\":{\"color\":\"#2a3f5f\"},\"marker\":{\"line\":{\"color\":\"#E5ECF6\",\"width\":0.5},\"pattern\":{\"fillmode\":\"overlay\",\"size\":10,\"solidity\":0.2}},\"type\":\"bar\"}],\"scattergeo\":[{\"type\":\"scattergeo\",\"marker\":{\"colorbar\":{\"outlinewidth\":0,\"ticks\":\"\"}}}],\"scatterpolar\":[{\"type\":\"scatterpolar\",\"marker\":{\"colorbar\":{\"outlinewidth\":0,\"ticks\":\"\"}}}],\"histogram\":[{\"marker\":{\"pattern\":{\"fillmode\":\"overlay\",\"size\":10,\"solidity\":0.2}},\"type\":\"histogram\"}],\"scattergl\":[{\"type\":\"scattergl\",\"marker\":{\"colorbar\":{\"outlinewidth\":0,\"ticks\":\"\"}}}],\"scatter3d\":[{\"type\":\"scatter3d\",\"line\":{\"colorbar\":{\"outlinewidth\":0,\"ticks\":\"\"}},\"marker\":{\"colorbar\":{\"outlinewidth\":0,\"ticks\":\"\"}}}],\"scattermapbox\":[{\"type\":\"scattermapbox\",\"marker\":{\"colorbar\":{\"outlinewidth\":0,\"ticks\":\"\"}}}],\"scatterternary\":[{\"type\":\"scatterternary\",\"marker\":{\"colorbar\":{\"outlinewidth\":0,\"ticks\":\"\"}}}],\"scattercarpet\":[{\"type\":\"scattercarpet\",\"marker\":{\"colorbar\":{\"outlinewidth\":0,\"ticks\":\"\"}}}],\"carpet\":[{\"aaxis\":{\"endlinecolor\":\"#2a3f5f\",\"gridcolor\":\"white\",\"linecolor\":\"white\",\"minorgridcolor\":\"white\",\"startlinecolor\":\"#2a3f5f\"},\"baxis\":{\"endlinecolor\":\"#2a3f5f\",\"gridcolor\":\"white\",\"linecolor\":\"white\",\"minorgridcolor\":\"white\",\"startlinecolor\":\"#2a3f5f\"},\"type\":\"carpet\"}],\"table\":[{\"cells\":{\"fill\":{\"color\":\"#EBF0F8\"},\"line\":{\"color\":\"white\"}},\"header\":{\"fill\":{\"color\":\"#C8D4E3\"},\"line\":{\"color\":\"white\"}},\"type\":\"table\"}],\"barpolar\":[{\"marker\":{\"line\":{\"color\":\"#E5ECF6\",\"width\":0.5},\"pattern\":{\"fillmode\":\"overlay\",\"size\":10,\"solidity\":0.2}},\"type\":\"barpolar\"}],\"pie\":[{\"automargin\":true,\"type\":\"pie\"}]},\"layout\":{\"autotypenumbers\":\"strict\",\"colorway\":[\"#636efa\",\"#EF553B\",\"#00cc96\",\"#ab63fa\",\"#FFA15A\",\"#19d3f3\",\"#FF6692\",\"#B6E880\",\"#FF97FF\",\"#FECB52\"],\"font\":{\"color\":\"#2a3f5f\"},\"hovermode\":\"closest\",\"hoverlabel\":{\"align\":\"left\"},\"paper_bgcolor\":\"white\",\"plot_bgcolor\":\"#E5ECF6\",\"polar\":{\"bgcolor\":\"#E5ECF6\",\"angularaxis\":{\"gridcolor\":\"white\",\"linecolor\":\"white\",\"ticks\":\"\"},\"radialaxis\":{\"gridcolor\":\"white\",\"linecolor\":\"white\",\"ticks\":\"\"}},\"ternary\":{\"bgcolor\":\"#E5ECF6\",\"aaxis\":{\"gridcolor\":\"white\",\"linecolor\":\"white\",\"ticks\":\"\"},\"baxis\":{\"gridcolor\":\"white\",\"linecolor\":\"white\",\"ticks\":\"\"},\"caxis\":{\"gridcolor\":\"white\",\"linecolor\":\"white\",\"ticks\":\"\"}},\"coloraxis\":{\"colorbar\":{\"outlinewidth\":0,\"ticks\":\"\"}},\"colorscale\":{\"sequential\":[[0.0,\"#0d0887\"],[0.1111111111111111,\"#46039f\"],[0.2222222222222222,\"#7201a8\"],[0.3333333333333333,\"#9c179e\"],[0.4444444444444444,\"#bd3786\"],[0.5555555555555556,\"#d8576b\"],[0.6666666666666666,\"#ed7953\"],[0.7777777777777778,\"#fb9f3a\"],[0.8888888888888888,\"#fdca26\"],[1.0,\"#f0f921\"]],\"sequentialminus\":[[0.0,\"#0d0887\"],[0.1111111111111111,\"#46039f\"],[0.2222222222222222,\"#7201a8\"],[0.3333333333333333,\"#9c179e\"],[0.4444444444444444,\"#bd3786\"],[0.5555555555555556,\"#d8576b\"],[0.6666666666666666,\"#ed7953\"],[0.7777777777777778,\"#fb9f3a\"],[0.8888888888888888,\"#fdca26\"],[1.0,\"#f0f921\"]],\"diverging\":[[0,\"#8e0152\"],[0.1,\"#c51b7d\"],[0.2,\"#de77ae\"],[0.3,\"#f1b6da\"],[0.4,\"#fde0ef\"],[0.5,\"#f7f7f7\"],[0.6,\"#e6f5d0\"],[0.7,\"#b8e186\"],[0.8,\"#7fbc41\"],[0.9,\"#4d9221\"],[1,\"#276419\"]]},\"xaxis\":{\"gridcolor\":\"white\",\"linecolor\":\"white\",\"ticks\":\"\",\"title\":{\"standoff\":15},\"zerolinecolor\":\"white\",\"automargin\":true,\"zerolinewidth\":2},\"yaxis\":{\"gridcolor\":\"white\",\"linecolor\":\"white\",\"ticks\":\"\",\"title\":{\"standoff\":15},\"zerolinecolor\":\"white\",\"automargin\":true,\"zerolinewidth\":2},\"scene\":{\"xaxis\":{\"backgroundcolor\":\"#E5ECF6\",\"gridcolor\":\"white\",\"linecolor\":\"white\",\"showbackground\":true,\"ticks\":\"\",\"zerolinecolor\":\"white\",\"gridwidth\":2},\"yaxis\":{\"backgroundcolor\":\"#E5ECF6\",\"gridcolor\":\"white\",\"linecolor\":\"white\",\"showbackground\":true,\"ticks\":\"\",\"zerolinecolor\":\"white\",\"gridwidth\":2},\"zaxis\":{\"backgroundcolor\":\"#E5ECF6\",\"gridcolor\":\"white\",\"linecolor\":\"white\",\"showbackground\":true,\"ticks\":\"\",\"zerolinecolor\":\"white\",\"gridwidth\":2}},\"shapedefaults\":{\"line\":{\"color\":\"#2a3f5f\"}},\"annotationdefaults\":{\"arrowcolor\":\"#2a3f5f\",\"arrowhead\":0,\"arrowwidth\":1},\"geo\":{\"bgcolor\":\"white\",\"landcolor\":\"#E5ECF6\",\"subunitcolor\":\"white\",\"showland\":true,\"showlakes\":true,\"lakecolor\":\"white\"},\"title\":{\"x\":0.05},\"mapbox\":{\"style\":\"light\"}}},\"xaxis\":{\"anchor\":\"y\",\"domain\":[0.0,1.0],\"title\":{\"text\":\"DATE\"}},\"yaxis\":{\"anchor\":\"x\",\"domain\":[0.0,1.0],\"title\":{\"text\":\"split\"}},\"legend\":{\"title\":{\"text\":\"ASSET_CLASS_ID\"},\"tracegroupgap\":0},\"title\":{\"text\":\"Mean US Large and Small Cap Allocation\"},\"barmode\":\"relative\"},                        {\"responsive\": true}                    ).then(function(){\n",
       "                            \n",
       "var gd = document.getElementById('00df7eae-6eff-4bdc-8c04-6985a062c47d');\n",
       "var x = new MutationObserver(function (mutations, observer) {{\n",
       "        var display = window.getComputedStyle(gd).display;\n",
       "        if (!display || display === 'none') {{\n",
       "            console.log([gd, 'removed!']);\n",
       "            Plotly.purge(gd);\n",
       "            observer.disconnect();\n",
       "        }}\n",
       "}});\n",
       "\n",
       "// Listen for the removal of the full notebook cells\n",
       "var notebookContainer = gd.closest('#notebook-container');\n",
       "if (notebookContainer) {{\n",
       "    x.observe(notebookContainer, {childList: true});\n",
       "}}\n",
       "\n",
       "// Listen for the clearing of the current output cell\n",
       "var outputEl = gd.closest('.output');\n",
       "if (outputEl) {{\n",
       "    x.observe(outputEl, {childList: true});\n",
       "}}\n",
       "\n",
       "                        })                };                });            </script>        </div>"
      ]
     },
     "metadata": {},
     "output_type": "display_data"
    }
   ],
   "source": [
    "ndb = us.filter(pl.col(\"STRATEGY_ID\").is_in([\"NDB\"]))\n",
    "to_plot = ndb.to_pandas()\n",
    "fig = px.bar(to_plot, x='DATE', y='split', color='ASSET_CLASS_ID', title=\"Mean US Large and Small Cap Allocation\")\n",
    "fig"
   ]
  },
  {
   "cell_type": "code",
   "execution_count": 55,
   "metadata": {},
   "outputs": [
    {
     "data": {
      "application/vnd.plotly.v1+json": {
       "config": {
        "plotlyServerURL": "https://plot.ly"
       },
       "data": [
        {
         "alignmentgroup": "True",
         "hovertemplate": "DATE=%{x}<br>diff=%{y}<extra></extra>",
         "legendgroup": "",
         "marker": {
          "color": "#636efa",
          "pattern": {
           "shape": ""
          }
         },
         "name": "",
         "offsetgroup": "",
         "orientation": "v",
         "showlegend": false,
         "textposition": "auto",
         "type": "bar",
         "x": [
          "2000-10-01",
          "2018-08-01",
          "2002-06-01",
          "2021-01-01",
          "2019-09-01",
          "2020-01-01",
          "2003-01-01",
          "2012-01-01",
          "2017-04-01",
          "2024-02-01",
          "2012-03-01",
          "2011-03-01",
          "2022-09-01",
          "2002-11-01",
          "2021-06-01",
          "2003-12-01",
          "2020-11-01",
          "2009-12-01",
          "2007-03-01",
          "2008-01-01",
          "2003-06-01",
          "2023-10-01",
          "2018-10-01",
          "2015-07-01",
          "2014-02-01",
          "2006-07-01",
          "2020-02-01",
          "2022-04-01",
          "2007-12-01",
          "2019-05-01",
          "2002-10-01",
          "2009-03-01",
          "2017-06-01",
          "2006-02-01",
          "2013-05-01",
          "2006-11-01",
          "2014-03-01",
          "2003-04-01",
          "2020-03-01",
          "2003-05-01",
          "2002-03-01",
          "2004-08-01",
          "2011-11-01",
          "2022-12-01",
          "2021-04-01",
          "2023-11-01",
          "2020-08-01",
          "2016-07-01",
          "2002-04-01",
          "2022-03-01",
          "2000-01-01",
          "2016-08-01",
          "2005-11-01",
          "2007-11-01",
          "2021-03-01",
          "2010-01-01",
          "2013-10-01",
          "2009-06-01",
          "2022-01-01",
          "2004-02-01",
          "2006-01-01",
          "2019-06-01",
          "2007-04-01",
          "2019-04-01",
          "2010-10-01",
          "2006-06-01",
          "2019-02-01",
          "2014-06-01",
          "2006-04-01",
          "2021-02-01",
          "2001-04-01",
          "2016-03-01",
          "2007-08-01",
          "2014-01-01",
          "2012-09-01",
          "2011-07-01",
          "2017-07-01",
          "2023-05-01",
          "2014-11-01",
          "2007-07-01",
          "2008-10-01",
          "2021-08-01",
          "2005-10-01",
          "2000-06-01",
          "2008-08-01",
          "2021-07-01",
          "2005-09-01",
          "2018-03-01",
          "2002-05-01",
          "2013-09-01",
          "2015-10-01",
          "2001-10-01",
          "2015-06-01",
          "2002-01-01",
          "2012-05-01",
          "2011-04-01",
          "2013-11-01",
          "2008-05-01",
          "2013-01-01",
          "2000-12-01",
          "2017-03-01",
          "2020-09-01",
          "2018-05-01",
          "2023-12-01",
          "2010-07-01",
          "2001-01-01",
          "2024-05-01",
          "2004-11-01",
          "2011-05-01",
          "2020-07-01",
          "2022-05-01",
          "2012-10-01",
          "2005-04-01",
          "2005-01-01",
          "2005-03-01",
          "2023-08-01",
          "2005-08-01",
          "2023-07-01",
          "2022-02-01",
          "2003-02-01",
          "2017-02-01",
          "2010-08-01",
          "2010-06-01",
          "2014-08-01",
          "2012-06-01",
          "2008-07-01",
          "2014-10-01",
          "2021-09-01",
          "2003-11-01",
          "2013-03-01",
          "2015-08-01",
          "2023-03-01",
          "2004-01-01",
          "2010-09-01",
          "2015-03-01",
          "2024-01-01",
          "2016-04-01",
          "2009-07-01",
          "2004-09-01",
          "2013-08-01",
          "2017-10-01",
          "2008-02-01",
          "2005-06-01",
          "2000-03-01",
          "2006-10-01",
          "2017-05-01",
          "2007-02-01",
          "2019-10-01",
          "2010-04-01",
          "2023-06-01",
          "2020-10-01",
          "2023-01-01",
          "2012-11-01",
          "2013-06-01",
          "2009-08-01",
          "2001-02-01",
          "2005-12-01",
          "2011-09-01",
          "2016-02-01",
          "2010-12-01",
          "2009-09-01",
          "2011-12-01",
          "2020-05-01",
          "2009-02-01",
          "2024-04-01",
          "2023-04-01",
          "2010-03-01",
          "2006-03-01",
          "2002-08-01",
          "2021-05-01",
          "2009-01-01",
          "2011-02-01",
          "2019-08-01",
          "2010-05-01",
          "2005-05-01",
          "2015-05-01",
          "2018-02-01",
          "2003-03-01",
          "2001-11-01",
          "2024-03-01",
          "2007-05-01",
          "2023-09-01",
          "2001-07-01",
          "2015-09-01",
          "2009-05-01",
          "2008-09-01",
          "2017-09-01",
          "2008-03-01",
          "2014-05-01",
          "2005-02-01",
          "2013-12-01",
          "2018-06-01",
          "2012-08-01",
          "2016-09-01",
          "2002-12-01",
          "2006-08-01",
          "2001-03-01",
          "2020-04-01",
          "2002-07-01",
          "2018-01-01",
          "2010-02-01",
          "2019-11-01",
          "2021-10-01",
          "2008-11-01",
          "2012-04-01",
          "2004-03-01",
          "2015-02-01",
          "2006-12-01",
          "2006-09-01",
          "2017-11-01",
          "2013-07-01",
          "2011-08-01",
          "2017-01-01",
          "2018-12-01",
          "2002-09-01",
          "2004-05-01",
          "2002-02-01",
          "2011-06-01",
          "2001-05-01",
          "2018-09-01",
          "2019-12-01",
          "2016-12-01",
          "2009-10-01",
          "2000-09-01",
          "2019-01-01",
          "2019-03-01",
          "2007-09-01",
          "2022-08-01",
          "2003-09-01",
          "2015-01-01",
          "2015-11-01",
          "2011-01-01",
          "2000-07-01",
          "2022-11-01",
          "2003-10-01",
          "2006-05-01",
          "2004-04-01",
          "2004-07-01",
          "2014-09-01",
          "2017-08-01",
          "2018-07-01",
          "2000-08-01",
          "2013-02-01",
          "2010-11-01",
          "2008-12-01",
          "2005-07-01",
          "2001-08-01",
          "2021-11-01",
          "2004-12-01",
          "2023-02-01",
          "2004-06-01",
          "2004-10-01",
          "2012-07-01",
          "2016-01-01",
          "2019-07-01",
          "2000-02-01",
          "2012-02-01",
          "2008-06-01",
          "2009-11-01",
          "2016-11-01",
          "2011-10-01",
          "2015-04-01",
          "2022-10-01",
          "2003-08-01",
          "2016-05-01",
          "2018-04-01",
          "2001-06-01",
          "2009-04-01",
          "2014-04-01",
          "2022-07-01",
          "2022-06-01",
          "2008-04-01",
          "2003-07-01",
          "2018-11-01",
          "2020-12-01",
          "2007-06-01",
          "2000-04-01",
          "2007-01-01",
          "2016-06-01",
          "2016-10-01",
          "2020-06-01",
          "2014-12-01",
          "2001-09-01",
          "2000-05-01",
          "2012-12-01",
          "2000-11-01",
          "2013-04-01",
          "2014-07-01",
          "2017-12-01",
          "2015-12-01",
          "2007-10-01",
          "2001-12-01",
          "2021-12-01"
         ],
         "xaxis": "x",
         "y": [
          0.23785964881373745,
          0.12163723512283942,
          0.127514833367238,
          0.1356843388948178,
          0.1132991394595666,
          0.11792587893605289,
          0.12436387951018402,
          0.19285911821838753,
          0.10107495442246606,
          0.14621380527358174,
          0.18242249300652602,
          0.1649520512056839,
          0.19173826652323533,
          0.14335266295609106,
          0.17995562340348847,
          0.10176496076976116,
          0.12236899961072589,
          0.2128687477800958,
          0.09854639107728291,
          0.10648763322772714,
          0.09130347853579468,
          0.13695055733107275,
          0.12003068091292335,
          0.12802505814666576,
          0.12587554271818024,
          0.09433344138164523,
          0.1257500645575369,
          0.1509516552287521,
          0.10909361275216078,
          0.10057249038823746,
          0.14189113885205906,
          0.27987908007655493,
          0.10668569733121802,
          0.10503905158292137,
          0.12213983764574277,
          0.10100965106548765,
          0.12601410140830205,
          0.10448308148002639,
          0.13851377371542994,
          0.09851446765553495,
          0.14617959710676842,
          0.10144024867795454,
          0.20081117440653673,
          0.1687141392386594,
          0.16175500787109165,
          0.1404830622640325,
          0.10729456336675791,
          0.15278607595489435,
          0.14033740475683298,
          0.15265280809991955,
          0.14719272894984514,
          0.1520046744006387,
          0.10707143340519643,
          0.11093318323675483,
          0.1470552487990927,
          0.20122033364810332,
          0.12403994653783723,
          0.22520589882394826,
          0.1471633277785085,
          0.10197926231122634,
          0.10665233684423514,
          0.09991652432012699,
          0.09622442331665093,
          0.09924222923769277,
          0.21194258179083647,
          0.095757487369445,
          0.09341052944261996,
          0.12270659586749377,
          0.10088089373946607,
          0.13823658503864178,
          0.17806132450901613,
          0.14811323755516814,
          0.1078615633956429,
          0.12706529042746606,
          0.18244033327923048,
          0.16470567276957093,
          0.10757316760816527,
          0.1507834516587826,
          0.12167183193981124,
          0.10242379313380268,
          0.1746635908715939,
          0.18479524429154093,
          0.1092239959673812,
          0.2724601919356243,
          0.1485891806745545,
          0.18275655455649864,
          0.11118719200414084,
          0.12241670090770562,
          0.1315425369480745,
          0.12257463795251489,
          0.14275008405315048,
          0.16566587997420468,
          0.12582588625405033,
          0.1507328342216383,
          0.17479407031259442,
          0.1619662409908459,
          0.12459078690273728,
          0.11135843495854769,
          0.11681569728493091,
          0.23337944521438392,
          0.1018794981928457,
          0.10905162617458775,
          0.12265065161367072,
          0.14428348086996945,
          0.2309922263722456,
          0.2110083535983922,
          0.1568532429284356,
          0.10849071703581459,
          0.16878260209110674,
          0.10506781815812771,
          0.16011841321112785,
          0.1766322966438817,
          0.10736742233666308,
          0.11065731559029934,
          0.10955288730726498,
          0.14172637937650046,
          0.1119582701337315,
          0.14249767992097584,
          0.1467756256707723,
          0.11247284425572779,
          0.10612720596139935,
          0.20907396184406568,
          0.20324398867760962,
          0.12134572452899761,
          0.1835656362007877,
          0.11336388681870069,
          0.11978095743731276,
          0.1830731679431663,
          0.10098971519815392,
          0.12329382352009532,
          0.12881503762077984,
          0.15824871080443004,
          0.10144793448746048,
          0.23003338623067182,
          0.12636411852741958,
          0.14002680871868867,
          0.1493889419780281,
          0.2062236554435931,
          0.10152666089834705,
          0.12288263527005305,
          0.11282637426526321,
          0.11047873677701048,
          0.10845023218870253,
          0.2321194786928188,
          0.09644226827374669,
          0.10317023196265829,
          0.10011403162061239,
          0.11318695443555804,
          0.20780852606652567,
          0.14337707422760537,
          0.11658808466161574,
          0.16796362333479642,
          0.17150061572529895,
          0.12107970849515903,
          0.2078420286453354,
          0.20156915887475746,
          0.10712350129351755,
          0.20178234132514794,
          0.14380255285778143,
          0.19906471332444575,
          0.20297575063188555,
          0.1977879991368251,
          0.10340171438464552,
          0.28252262325325694,
          0.15483510936567357,
          0.1574985870708372,
          0.20435742143069524,
          0.1033553747838003,
          0.1375078920575158,
          0.17519917754284164,
          0.26858663245217473,
          0.16864179512994737,
          0.10744225943767205,
          0.20596094163288725,
          0.10532088188671185,
          0.1261461812326381,
          0.12888131815081183,
          0.10842675663328183,
          0.1615796679777478,
          0.15161739170005517,
          0.09287660465301917,
          0.1395025969292274,
          0.1781600044510918,
          0.1297987560094892,
          0.2345822447268564,
          0.15749534646903796,
          0.11152544309430668,
          0.11888928266502607,
          0.12397878194874468,
          0.11120663657428342,
          0.12531876745074488,
          0.12334469630621203,
          0.18617939610755385,
          0.1451397668345682,
          0.13720363509064626,
          0.09118002849998275,
          0.1884410045124978,
          0.14061551110448445,
          0.12394971007680944,
          0.12602778601446785,
          0.19813775693993851,
          0.107321120233828,
          0.1699393863459252,
          0.18200211804199196,
          0.17696528494757935,
          0.10370291502451623,
          0.12569099869233924,
          0.10276044722670619,
          0.09151930916568674,
          0.11635156547454584,
          0.12175669539695244,
          0.1673691525544394,
          0.11380260826209898,
          0.09892527451832034,
          0.14308134984020082,
          0.10947184664214626,
          0.14680904428747676,
          0.17169085694968578,
          0.17937051162229245,
          0.1200756312577802,
          0.1087587372715546,
          0.12632063533989657,
          0.20346379694162298,
          0.24637790432793727,
          0.09972635355494852,
          0.09485521388797358,
          0.11031751473559048,
          0.1901191185436174,
          0.09822191880821385,
          0.12478090707082945,
          0.12825930895927928,
          0.1830319221860599,
          0.2653678890760389,
          0.18094507671564375,
          0.09759968329205093,
          0.09686684334056705,
          0.10622279210941987,
          0.10403835621347879,
          0.12159363000298862,
          0.11020252365501337,
          0.12180955868721732,
          0.25485739787623063,
          0.12093378335430327,
          0.20796528577224171,
          0.2449053019284939,
          0.11145569528137689,
          0.17365546829579714,
          0.16484834635547685,
          0.11087593086699254,
          0.15827373865726757,
          0.10659563217319024,
          0.10597048451401792,
          0.18238521588154688,
          0.137366432211794,
          0.10314172248795672,
          0.18468289896665857,
          0.1838001711056475,
          0.10654337768055,
          0.19861081768821798,
          0.13525180581022678,
          0.23605149482153798,
          0.12766600378477833,
          0.19193198856001392,
          0.09558278020672684,
          0.1495167437077326,
          0.11579048261992875,
          0.1820223630896599,
          0.3125943871650252,
          0.12559848322414302,
          0.18423184438041418,
          0.17225859125051135,
          0.12469132767149138,
          0.09323420205890653,
          0.11405112537172535,
          0.12637032415780292,
          0.09511207097527019,
          0.26962747038891266,
          0.10186200273047497,
          0.150906360013761,
          0.1406847045744577,
          0.0998850333307395,
          0.12219215191156596,
          0.16319283889649472,
          0.2725812806112138,
          0.12911243596791933,
          0.23068576487061176,
          0.12462979991273826,
          0.12289112697841476,
          0.12117412997396615,
          0.13361843900392345,
          0.11118057070420062,
          0.15862527307637087,
          0.14752422317718794
         ],
         "yaxis": "y"
        }
       ],
       "layout": {
        "barmode": "relative",
        "legend": {
         "tracegroupgap": 0
        },
        "template": {
         "data": {
          "bar": [
           {
            "error_x": {
             "color": "#2a3f5f"
            },
            "error_y": {
             "color": "#2a3f5f"
            },
            "marker": {
             "line": {
              "color": "#E5ECF6",
              "width": 0.5
             },
             "pattern": {
              "fillmode": "overlay",
              "size": 10,
              "solidity": 0.2
             }
            },
            "type": "bar"
           }
          ],
          "barpolar": [
           {
            "marker": {
             "line": {
              "color": "#E5ECF6",
              "width": 0.5
             },
             "pattern": {
              "fillmode": "overlay",
              "size": 10,
              "solidity": 0.2
             }
            },
            "type": "barpolar"
           }
          ],
          "carpet": [
           {
            "aaxis": {
             "endlinecolor": "#2a3f5f",
             "gridcolor": "white",
             "linecolor": "white",
             "minorgridcolor": "white",
             "startlinecolor": "#2a3f5f"
            },
            "baxis": {
             "endlinecolor": "#2a3f5f",
             "gridcolor": "white",
             "linecolor": "white",
             "minorgridcolor": "white",
             "startlinecolor": "#2a3f5f"
            },
            "type": "carpet"
           }
          ],
          "choropleth": [
           {
            "colorbar": {
             "outlinewidth": 0,
             "ticks": ""
            },
            "type": "choropleth"
           }
          ],
          "contour": [
           {
            "colorbar": {
             "outlinewidth": 0,
             "ticks": ""
            },
            "colorscale": [
             [
              0,
              "#0d0887"
             ],
             [
              0.1111111111111111,
              "#46039f"
             ],
             [
              0.2222222222222222,
              "#7201a8"
             ],
             [
              0.3333333333333333,
              "#9c179e"
             ],
             [
              0.4444444444444444,
              "#bd3786"
             ],
             [
              0.5555555555555556,
              "#d8576b"
             ],
             [
              0.6666666666666666,
              "#ed7953"
             ],
             [
              0.7777777777777778,
              "#fb9f3a"
             ],
             [
              0.8888888888888888,
              "#fdca26"
             ],
             [
              1,
              "#f0f921"
             ]
            ],
            "type": "contour"
           }
          ],
          "contourcarpet": [
           {
            "colorbar": {
             "outlinewidth": 0,
             "ticks": ""
            },
            "type": "contourcarpet"
           }
          ],
          "heatmap": [
           {
            "colorbar": {
             "outlinewidth": 0,
             "ticks": ""
            },
            "colorscale": [
             [
              0,
              "#0d0887"
             ],
             [
              0.1111111111111111,
              "#46039f"
             ],
             [
              0.2222222222222222,
              "#7201a8"
             ],
             [
              0.3333333333333333,
              "#9c179e"
             ],
             [
              0.4444444444444444,
              "#bd3786"
             ],
             [
              0.5555555555555556,
              "#d8576b"
             ],
             [
              0.6666666666666666,
              "#ed7953"
             ],
             [
              0.7777777777777778,
              "#fb9f3a"
             ],
             [
              0.8888888888888888,
              "#fdca26"
             ],
             [
              1,
              "#f0f921"
             ]
            ],
            "type": "heatmap"
           }
          ],
          "heatmapgl": [
           {
            "colorbar": {
             "outlinewidth": 0,
             "ticks": ""
            },
            "colorscale": [
             [
              0,
              "#0d0887"
             ],
             [
              0.1111111111111111,
              "#46039f"
             ],
             [
              0.2222222222222222,
              "#7201a8"
             ],
             [
              0.3333333333333333,
              "#9c179e"
             ],
             [
              0.4444444444444444,
              "#bd3786"
             ],
             [
              0.5555555555555556,
              "#d8576b"
             ],
             [
              0.6666666666666666,
              "#ed7953"
             ],
             [
              0.7777777777777778,
              "#fb9f3a"
             ],
             [
              0.8888888888888888,
              "#fdca26"
             ],
             [
              1,
              "#f0f921"
             ]
            ],
            "type": "heatmapgl"
           }
          ],
          "histogram": [
           {
            "marker": {
             "pattern": {
              "fillmode": "overlay",
              "size": 10,
              "solidity": 0.2
             }
            },
            "type": "histogram"
           }
          ],
          "histogram2d": [
           {
            "colorbar": {
             "outlinewidth": 0,
             "ticks": ""
            },
            "colorscale": [
             [
              0,
              "#0d0887"
             ],
             [
              0.1111111111111111,
              "#46039f"
             ],
             [
              0.2222222222222222,
              "#7201a8"
             ],
             [
              0.3333333333333333,
              "#9c179e"
             ],
             [
              0.4444444444444444,
              "#bd3786"
             ],
             [
              0.5555555555555556,
              "#d8576b"
             ],
             [
              0.6666666666666666,
              "#ed7953"
             ],
             [
              0.7777777777777778,
              "#fb9f3a"
             ],
             [
              0.8888888888888888,
              "#fdca26"
             ],
             [
              1,
              "#f0f921"
             ]
            ],
            "type": "histogram2d"
           }
          ],
          "histogram2dcontour": [
           {
            "colorbar": {
             "outlinewidth": 0,
             "ticks": ""
            },
            "colorscale": [
             [
              0,
              "#0d0887"
             ],
             [
              0.1111111111111111,
              "#46039f"
             ],
             [
              0.2222222222222222,
              "#7201a8"
             ],
             [
              0.3333333333333333,
              "#9c179e"
             ],
             [
              0.4444444444444444,
              "#bd3786"
             ],
             [
              0.5555555555555556,
              "#d8576b"
             ],
             [
              0.6666666666666666,
              "#ed7953"
             ],
             [
              0.7777777777777778,
              "#fb9f3a"
             ],
             [
              0.8888888888888888,
              "#fdca26"
             ],
             [
              1,
              "#f0f921"
             ]
            ],
            "type": "histogram2dcontour"
           }
          ],
          "mesh3d": [
           {
            "colorbar": {
             "outlinewidth": 0,
             "ticks": ""
            },
            "type": "mesh3d"
           }
          ],
          "parcoords": [
           {
            "line": {
             "colorbar": {
              "outlinewidth": 0,
              "ticks": ""
             }
            },
            "type": "parcoords"
           }
          ],
          "pie": [
           {
            "automargin": true,
            "type": "pie"
           }
          ],
          "scatter": [
           {
            "fillpattern": {
             "fillmode": "overlay",
             "size": 10,
             "solidity": 0.2
            },
            "type": "scatter"
           }
          ],
          "scatter3d": [
           {
            "line": {
             "colorbar": {
              "outlinewidth": 0,
              "ticks": ""
             }
            },
            "marker": {
             "colorbar": {
              "outlinewidth": 0,
              "ticks": ""
             }
            },
            "type": "scatter3d"
           }
          ],
          "scattercarpet": [
           {
            "marker": {
             "colorbar": {
              "outlinewidth": 0,
              "ticks": ""
             }
            },
            "type": "scattercarpet"
           }
          ],
          "scattergeo": [
           {
            "marker": {
             "colorbar": {
              "outlinewidth": 0,
              "ticks": ""
             }
            },
            "type": "scattergeo"
           }
          ],
          "scattergl": [
           {
            "marker": {
             "colorbar": {
              "outlinewidth": 0,
              "ticks": ""
             }
            },
            "type": "scattergl"
           }
          ],
          "scattermapbox": [
           {
            "marker": {
             "colorbar": {
              "outlinewidth": 0,
              "ticks": ""
             }
            },
            "type": "scattermapbox"
           }
          ],
          "scatterpolar": [
           {
            "marker": {
             "colorbar": {
              "outlinewidth": 0,
              "ticks": ""
             }
            },
            "type": "scatterpolar"
           }
          ],
          "scatterpolargl": [
           {
            "marker": {
             "colorbar": {
              "outlinewidth": 0,
              "ticks": ""
             }
            },
            "type": "scatterpolargl"
           }
          ],
          "scatterternary": [
           {
            "marker": {
             "colorbar": {
              "outlinewidth": 0,
              "ticks": ""
             }
            },
            "type": "scatterternary"
           }
          ],
          "surface": [
           {
            "colorbar": {
             "outlinewidth": 0,
             "ticks": ""
            },
            "colorscale": [
             [
              0,
              "#0d0887"
             ],
             [
              0.1111111111111111,
              "#46039f"
             ],
             [
              0.2222222222222222,
              "#7201a8"
             ],
             [
              0.3333333333333333,
              "#9c179e"
             ],
             [
              0.4444444444444444,
              "#bd3786"
             ],
             [
              0.5555555555555556,
              "#d8576b"
             ],
             [
              0.6666666666666666,
              "#ed7953"
             ],
             [
              0.7777777777777778,
              "#fb9f3a"
             ],
             [
              0.8888888888888888,
              "#fdca26"
             ],
             [
              1,
              "#f0f921"
             ]
            ],
            "type": "surface"
           }
          ],
          "table": [
           {
            "cells": {
             "fill": {
              "color": "#EBF0F8"
             },
             "line": {
              "color": "white"
             }
            },
            "header": {
             "fill": {
              "color": "#C8D4E3"
             },
             "line": {
              "color": "white"
             }
            },
            "type": "table"
           }
          ]
         },
         "layout": {
          "annotationdefaults": {
           "arrowcolor": "#2a3f5f",
           "arrowhead": 0,
           "arrowwidth": 1
          },
          "autotypenumbers": "strict",
          "coloraxis": {
           "colorbar": {
            "outlinewidth": 0,
            "ticks": ""
           }
          },
          "colorscale": {
           "diverging": [
            [
             0,
             "#8e0152"
            ],
            [
             0.1,
             "#c51b7d"
            ],
            [
             0.2,
             "#de77ae"
            ],
            [
             0.3,
             "#f1b6da"
            ],
            [
             0.4,
             "#fde0ef"
            ],
            [
             0.5,
             "#f7f7f7"
            ],
            [
             0.6,
             "#e6f5d0"
            ],
            [
             0.7,
             "#b8e186"
            ],
            [
             0.8,
             "#7fbc41"
            ],
            [
             0.9,
             "#4d9221"
            ],
            [
             1,
             "#276419"
            ]
           ],
           "sequential": [
            [
             0,
             "#0d0887"
            ],
            [
             0.1111111111111111,
             "#46039f"
            ],
            [
             0.2222222222222222,
             "#7201a8"
            ],
            [
             0.3333333333333333,
             "#9c179e"
            ],
            [
             0.4444444444444444,
             "#bd3786"
            ],
            [
             0.5555555555555556,
             "#d8576b"
            ],
            [
             0.6666666666666666,
             "#ed7953"
            ],
            [
             0.7777777777777778,
             "#fb9f3a"
            ],
            [
             0.8888888888888888,
             "#fdca26"
            ],
            [
             1,
             "#f0f921"
            ]
           ],
           "sequentialminus": [
            [
             0,
             "#0d0887"
            ],
            [
             0.1111111111111111,
             "#46039f"
            ],
            [
             0.2222222222222222,
             "#7201a8"
            ],
            [
             0.3333333333333333,
             "#9c179e"
            ],
            [
             0.4444444444444444,
             "#bd3786"
            ],
            [
             0.5555555555555556,
             "#d8576b"
            ],
            [
             0.6666666666666666,
             "#ed7953"
            ],
            [
             0.7777777777777778,
             "#fb9f3a"
            ],
            [
             0.8888888888888888,
             "#fdca26"
            ],
            [
             1,
             "#f0f921"
            ]
           ]
          },
          "colorway": [
           "#636efa",
           "#EF553B",
           "#00cc96",
           "#ab63fa",
           "#FFA15A",
           "#19d3f3",
           "#FF6692",
           "#B6E880",
           "#FF97FF",
           "#FECB52"
          ],
          "font": {
           "color": "#2a3f5f"
          },
          "geo": {
           "bgcolor": "white",
           "lakecolor": "white",
           "landcolor": "#E5ECF6",
           "showlakes": true,
           "showland": true,
           "subunitcolor": "white"
          },
          "hoverlabel": {
           "align": "left"
          },
          "hovermode": "closest",
          "mapbox": {
           "style": "light"
          },
          "paper_bgcolor": "white",
          "plot_bgcolor": "#E5ECF6",
          "polar": {
           "angularaxis": {
            "gridcolor": "white",
            "linecolor": "white",
            "ticks": ""
           },
           "bgcolor": "#E5ECF6",
           "radialaxis": {
            "gridcolor": "white",
            "linecolor": "white",
            "ticks": ""
           }
          },
          "scene": {
           "xaxis": {
            "backgroundcolor": "#E5ECF6",
            "gridcolor": "white",
            "gridwidth": 2,
            "linecolor": "white",
            "showbackground": true,
            "ticks": "",
            "zerolinecolor": "white"
           },
           "yaxis": {
            "backgroundcolor": "#E5ECF6",
            "gridcolor": "white",
            "gridwidth": 2,
            "linecolor": "white",
            "showbackground": true,
            "ticks": "",
            "zerolinecolor": "white"
           },
           "zaxis": {
            "backgroundcolor": "#E5ECF6",
            "gridcolor": "white",
            "gridwidth": 2,
            "linecolor": "white",
            "showbackground": true,
            "ticks": "",
            "zerolinecolor": "white"
           }
          },
          "shapedefaults": {
           "line": {
            "color": "#2a3f5f"
           }
          },
          "ternary": {
           "aaxis": {
            "gridcolor": "white",
            "linecolor": "white",
            "ticks": ""
           },
           "baxis": {
            "gridcolor": "white",
            "linecolor": "white",
            "ticks": ""
           },
           "bgcolor": "#E5ECF6",
           "caxis": {
            "gridcolor": "white",
            "linecolor": "white",
            "ticks": ""
           }
          },
          "title": {
           "x": 0.05
          },
          "xaxis": {
           "automargin": true,
           "gridcolor": "white",
           "linecolor": "white",
           "ticks": "",
           "title": {
            "standoff": 15
           },
           "zerolinecolor": "white",
           "zerolinewidth": 2
          },
          "yaxis": {
           "automargin": true,
           "gridcolor": "white",
           "linecolor": "white",
           "ticks": "",
           "title": {
            "standoff": 15
           },
           "zerolinecolor": "white",
           "zerolinewidth": 2
          }
         }
        },
        "title": {
         "text": "USLG / USSM Allocation Range"
        },
        "xaxis": {
         "anchor": "y",
         "domain": [
          0,
          1
         ],
         "title": {
          "text": "DATE"
         }
        },
        "yaxis": {
         "anchor": "x",
         "domain": [
          0,
          1
         ],
         "title": {
          "text": "diff"
         }
        }
       }
      },
      "text/html": [
       "<div>                            <div id=\"a2793331-3267-4b8b-9c7d-6ad46f88ddbe\" class=\"plotly-graph-div\" style=\"height:525px; width:100%;\"></div>            <script type=\"text/javascript\">                require([\"plotly\"], function(Plotly) {                    window.PLOTLYENV=window.PLOTLYENV || {};                                    if (document.getElementById(\"a2793331-3267-4b8b-9c7d-6ad46f88ddbe\")) {                    Plotly.newPlot(                        \"a2793331-3267-4b8b-9c7d-6ad46f88ddbe\",                        [{\"alignmentgroup\":\"True\",\"hovertemplate\":\"DATE=%{x}\\u003cbr\\u003ediff=%{y}\\u003cextra\\u003e\\u003c\\u002fextra\\u003e\",\"legendgroup\":\"\",\"marker\":{\"color\":\"#636efa\",\"pattern\":{\"shape\":\"\"}},\"name\":\"\",\"offsetgroup\":\"\",\"orientation\":\"v\",\"showlegend\":false,\"textposition\":\"auto\",\"x\":[\"2000-10-01\",\"2018-08-01\",\"2002-06-01\",\"2021-01-01\",\"2019-09-01\",\"2020-01-01\",\"2003-01-01\",\"2012-01-01\",\"2017-04-01\",\"2024-02-01\",\"2012-03-01\",\"2011-03-01\",\"2022-09-01\",\"2002-11-01\",\"2021-06-01\",\"2003-12-01\",\"2020-11-01\",\"2009-12-01\",\"2007-03-01\",\"2008-01-01\",\"2003-06-01\",\"2023-10-01\",\"2018-10-01\",\"2015-07-01\",\"2014-02-01\",\"2006-07-01\",\"2020-02-01\",\"2022-04-01\",\"2007-12-01\",\"2019-05-01\",\"2002-10-01\",\"2009-03-01\",\"2017-06-01\",\"2006-02-01\",\"2013-05-01\",\"2006-11-01\",\"2014-03-01\",\"2003-04-01\",\"2020-03-01\",\"2003-05-01\",\"2002-03-01\",\"2004-08-01\",\"2011-11-01\",\"2022-12-01\",\"2021-04-01\",\"2023-11-01\",\"2020-08-01\",\"2016-07-01\",\"2002-04-01\",\"2022-03-01\",\"2000-01-01\",\"2016-08-01\",\"2005-11-01\",\"2007-11-01\",\"2021-03-01\",\"2010-01-01\",\"2013-10-01\",\"2009-06-01\",\"2022-01-01\",\"2004-02-01\",\"2006-01-01\",\"2019-06-01\",\"2007-04-01\",\"2019-04-01\",\"2010-10-01\",\"2006-06-01\",\"2019-02-01\",\"2014-06-01\",\"2006-04-01\",\"2021-02-01\",\"2001-04-01\",\"2016-03-01\",\"2007-08-01\",\"2014-01-01\",\"2012-09-01\",\"2011-07-01\",\"2017-07-01\",\"2023-05-01\",\"2014-11-01\",\"2007-07-01\",\"2008-10-01\",\"2021-08-01\",\"2005-10-01\",\"2000-06-01\",\"2008-08-01\",\"2021-07-01\",\"2005-09-01\",\"2018-03-01\",\"2002-05-01\",\"2013-09-01\",\"2015-10-01\",\"2001-10-01\",\"2015-06-01\",\"2002-01-01\",\"2012-05-01\",\"2011-04-01\",\"2013-11-01\",\"2008-05-01\",\"2013-01-01\",\"2000-12-01\",\"2017-03-01\",\"2020-09-01\",\"2018-05-01\",\"2023-12-01\",\"2010-07-01\",\"2001-01-01\",\"2024-05-01\",\"2004-11-01\",\"2011-05-01\",\"2020-07-01\",\"2022-05-01\",\"2012-10-01\",\"2005-04-01\",\"2005-01-01\",\"2005-03-01\",\"2023-08-01\",\"2005-08-01\",\"2023-07-01\",\"2022-02-01\",\"2003-02-01\",\"2017-02-01\",\"2010-08-01\",\"2010-06-01\",\"2014-08-01\",\"2012-06-01\",\"2008-07-01\",\"2014-10-01\",\"2021-09-01\",\"2003-11-01\",\"2013-03-01\",\"2015-08-01\",\"2023-03-01\",\"2004-01-01\",\"2010-09-01\",\"2015-03-01\",\"2024-01-01\",\"2016-04-01\",\"2009-07-01\",\"2004-09-01\",\"2013-08-01\",\"2017-10-01\",\"2008-02-01\",\"2005-06-01\",\"2000-03-01\",\"2006-10-01\",\"2017-05-01\",\"2007-02-01\",\"2019-10-01\",\"2010-04-01\",\"2023-06-01\",\"2020-10-01\",\"2023-01-01\",\"2012-11-01\",\"2013-06-01\",\"2009-08-01\",\"2001-02-01\",\"2005-12-01\",\"2011-09-01\",\"2016-02-01\",\"2010-12-01\",\"2009-09-01\",\"2011-12-01\",\"2020-05-01\",\"2009-02-01\",\"2024-04-01\",\"2023-04-01\",\"2010-03-01\",\"2006-03-01\",\"2002-08-01\",\"2021-05-01\",\"2009-01-01\",\"2011-02-01\",\"2019-08-01\",\"2010-05-01\",\"2005-05-01\",\"2015-05-01\",\"2018-02-01\",\"2003-03-01\",\"2001-11-01\",\"2024-03-01\",\"2007-05-01\",\"2023-09-01\",\"2001-07-01\",\"2015-09-01\",\"2009-05-01\",\"2008-09-01\",\"2017-09-01\",\"2008-03-01\",\"2014-05-01\",\"2005-02-01\",\"2013-12-01\",\"2018-06-01\",\"2012-08-01\",\"2016-09-01\",\"2002-12-01\",\"2006-08-01\",\"2001-03-01\",\"2020-04-01\",\"2002-07-01\",\"2018-01-01\",\"2010-02-01\",\"2019-11-01\",\"2021-10-01\",\"2008-11-01\",\"2012-04-01\",\"2004-03-01\",\"2015-02-01\",\"2006-12-01\",\"2006-09-01\",\"2017-11-01\",\"2013-07-01\",\"2011-08-01\",\"2017-01-01\",\"2018-12-01\",\"2002-09-01\",\"2004-05-01\",\"2002-02-01\",\"2011-06-01\",\"2001-05-01\",\"2018-09-01\",\"2019-12-01\",\"2016-12-01\",\"2009-10-01\",\"2000-09-01\",\"2019-01-01\",\"2019-03-01\",\"2007-09-01\",\"2022-08-01\",\"2003-09-01\",\"2015-01-01\",\"2015-11-01\",\"2011-01-01\",\"2000-07-01\",\"2022-11-01\",\"2003-10-01\",\"2006-05-01\",\"2004-04-01\",\"2004-07-01\",\"2014-09-01\",\"2017-08-01\",\"2018-07-01\",\"2000-08-01\",\"2013-02-01\",\"2010-11-01\",\"2008-12-01\",\"2005-07-01\",\"2001-08-01\",\"2021-11-01\",\"2004-12-01\",\"2023-02-01\",\"2004-06-01\",\"2004-10-01\",\"2012-07-01\",\"2016-01-01\",\"2019-07-01\",\"2000-02-01\",\"2012-02-01\",\"2008-06-01\",\"2009-11-01\",\"2016-11-01\",\"2011-10-01\",\"2015-04-01\",\"2022-10-01\",\"2003-08-01\",\"2016-05-01\",\"2018-04-01\",\"2001-06-01\",\"2009-04-01\",\"2014-04-01\",\"2022-07-01\",\"2022-06-01\",\"2008-04-01\",\"2003-07-01\",\"2018-11-01\",\"2020-12-01\",\"2007-06-01\",\"2000-04-01\",\"2007-01-01\",\"2016-06-01\",\"2016-10-01\",\"2020-06-01\",\"2014-12-01\",\"2001-09-01\",\"2000-05-01\",\"2012-12-01\",\"2000-11-01\",\"2013-04-01\",\"2014-07-01\",\"2017-12-01\",\"2015-12-01\",\"2007-10-01\",\"2001-12-01\",\"2021-12-01\"],\"xaxis\":\"x\",\"y\":[0.23785964881373745,0.12163723512283942,0.127514833367238,0.1356843388948178,0.1132991394595666,0.11792587893605289,0.12436387951018402,0.19285911821838753,0.10107495442246606,0.14621380527358174,0.18242249300652602,0.1649520512056839,0.19173826652323533,0.14335266295609106,0.17995562340348847,0.10176496076976116,0.12236899961072589,0.2128687477800958,0.09854639107728291,0.10648763322772714,0.09130347853579468,0.13695055733107275,0.12003068091292335,0.12802505814666576,0.12587554271818024,0.09433344138164523,0.1257500645575369,0.1509516552287521,0.10909361275216078,0.10057249038823746,0.14189113885205906,0.27987908007655493,0.10668569733121802,0.10503905158292137,0.12213983764574277,0.10100965106548765,0.12601410140830205,0.10448308148002639,0.13851377371542994,0.09851446765553495,0.14617959710676842,0.10144024867795454,0.20081117440653673,0.1687141392386594,0.16175500787109165,0.1404830622640325,0.10729456336675791,0.15278607595489435,0.14033740475683298,0.15265280809991955,0.14719272894984514,0.1520046744006387,0.10707143340519643,0.11093318323675483,0.1470552487990927,0.20122033364810332,0.12403994653783723,0.22520589882394826,0.1471633277785085,0.10197926231122634,0.10665233684423514,0.09991652432012699,0.09622442331665093,0.09924222923769277,0.21194258179083647,0.095757487369445,0.09341052944261996,0.12270659586749377,0.10088089373946607,0.13823658503864178,0.17806132450901613,0.14811323755516814,0.1078615633956429,0.12706529042746606,0.18244033327923048,0.16470567276957093,0.10757316760816527,0.1507834516587826,0.12167183193981124,0.10242379313380268,0.1746635908715939,0.18479524429154093,0.1092239959673812,0.2724601919356243,0.1485891806745545,0.18275655455649864,0.11118719200414084,0.12241670090770562,0.1315425369480745,0.12257463795251489,0.14275008405315048,0.16566587997420468,0.12582588625405033,0.1507328342216383,0.17479407031259442,0.1619662409908459,0.12459078690273728,0.11135843495854769,0.11681569728493091,0.23337944521438392,0.1018794981928457,0.10905162617458775,0.12265065161367072,0.14428348086996945,0.2309922263722456,0.2110083535983922,0.1568532429284356,0.10849071703581459,0.16878260209110674,0.10506781815812771,0.16011841321112785,0.1766322966438817,0.10736742233666308,0.11065731559029934,0.10955288730726498,0.14172637937650046,0.1119582701337315,0.14249767992097584,0.1467756256707723,0.11247284425572779,0.10612720596139935,0.20907396184406568,0.20324398867760962,0.12134572452899761,0.1835656362007877,0.11336388681870069,0.11978095743731276,0.1830731679431663,0.10098971519815392,0.12329382352009532,0.12881503762077984,0.15824871080443004,0.10144793448746048,0.23003338623067182,0.12636411852741958,0.14002680871868867,0.1493889419780281,0.2062236554435931,0.10152666089834705,0.12288263527005305,0.11282637426526321,0.11047873677701048,0.10845023218870253,0.2321194786928188,0.09644226827374669,0.10317023196265829,0.10011403162061239,0.11318695443555804,0.20780852606652567,0.14337707422760537,0.11658808466161574,0.16796362333479642,0.17150061572529895,0.12107970849515903,0.2078420286453354,0.20156915887475746,0.10712350129351755,0.20178234132514794,0.14380255285778143,0.19906471332444575,0.20297575063188555,0.1977879991368251,0.10340171438464552,0.28252262325325694,0.15483510936567357,0.1574985870708372,0.20435742143069524,0.1033553747838003,0.1375078920575158,0.17519917754284164,0.26858663245217473,0.16864179512994737,0.10744225943767205,0.20596094163288725,0.10532088188671185,0.1261461812326381,0.12888131815081183,0.10842675663328183,0.1615796679777478,0.15161739170005517,0.09287660465301917,0.1395025969292274,0.1781600044510918,0.1297987560094892,0.2345822447268564,0.15749534646903796,0.11152544309430668,0.11888928266502607,0.12397878194874468,0.11120663657428342,0.12531876745074488,0.12334469630621203,0.18617939610755385,0.1451397668345682,0.13720363509064626,0.09118002849998275,0.1884410045124978,0.14061551110448445,0.12394971007680944,0.12602778601446785,0.19813775693993851,0.107321120233828,0.1699393863459252,0.18200211804199196,0.17696528494757935,0.10370291502451623,0.12569099869233924,0.10276044722670619,0.09151930916568674,0.11635156547454584,0.12175669539695244,0.1673691525544394,0.11380260826209898,0.09892527451832034,0.14308134984020082,0.10947184664214626,0.14680904428747676,0.17169085694968578,0.17937051162229245,0.1200756312577802,0.1087587372715546,0.12632063533989657,0.20346379694162298,0.24637790432793727,0.09972635355494852,0.09485521388797358,0.11031751473559048,0.1901191185436174,0.09822191880821385,0.12478090707082945,0.12825930895927928,0.1830319221860599,0.2653678890760389,0.18094507671564375,0.09759968329205093,0.09686684334056705,0.10622279210941987,0.10403835621347879,0.12159363000298862,0.11020252365501337,0.12180955868721732,0.25485739787623063,0.12093378335430327,0.20796528577224171,0.2449053019284939,0.11145569528137689,0.17365546829579714,0.16484834635547685,0.11087593086699254,0.15827373865726757,0.10659563217319024,0.10597048451401792,0.18238521588154688,0.137366432211794,0.10314172248795672,0.18468289896665857,0.1838001711056475,0.10654337768055,0.19861081768821798,0.13525180581022678,0.23605149482153798,0.12766600378477833,0.19193198856001392,0.09558278020672684,0.1495167437077326,0.11579048261992875,0.1820223630896599,0.3125943871650252,0.12559848322414302,0.18423184438041418,0.17225859125051135,0.12469132767149138,0.09323420205890653,0.11405112537172535,0.12637032415780292,0.09511207097527019,0.26962747038891266,0.10186200273047497,0.150906360013761,0.1406847045744577,0.0998850333307395,0.12219215191156596,0.16319283889649472,0.2725812806112138,0.12911243596791933,0.23068576487061176,0.12462979991273826,0.12289112697841476,0.12117412997396615,0.13361843900392345,0.11118057070420062,0.15862527307637087,0.14752422317718794],\"yaxis\":\"y\",\"type\":\"bar\"}],                        {\"template\":{\"data\":{\"histogram2dcontour\":[{\"type\":\"histogram2dcontour\",\"colorbar\":{\"outlinewidth\":0,\"ticks\":\"\"},\"colorscale\":[[0.0,\"#0d0887\"],[0.1111111111111111,\"#46039f\"],[0.2222222222222222,\"#7201a8\"],[0.3333333333333333,\"#9c179e\"],[0.4444444444444444,\"#bd3786\"],[0.5555555555555556,\"#d8576b\"],[0.6666666666666666,\"#ed7953\"],[0.7777777777777778,\"#fb9f3a\"],[0.8888888888888888,\"#fdca26\"],[1.0,\"#f0f921\"]]}],\"choropleth\":[{\"type\":\"choropleth\",\"colorbar\":{\"outlinewidth\":0,\"ticks\":\"\"}}],\"histogram2d\":[{\"type\":\"histogram2d\",\"colorbar\":{\"outlinewidth\":0,\"ticks\":\"\"},\"colorscale\":[[0.0,\"#0d0887\"],[0.1111111111111111,\"#46039f\"],[0.2222222222222222,\"#7201a8\"],[0.3333333333333333,\"#9c179e\"],[0.4444444444444444,\"#bd3786\"],[0.5555555555555556,\"#d8576b\"],[0.6666666666666666,\"#ed7953\"],[0.7777777777777778,\"#fb9f3a\"],[0.8888888888888888,\"#fdca26\"],[1.0,\"#f0f921\"]]}],\"heatmap\":[{\"type\":\"heatmap\",\"colorbar\":{\"outlinewidth\":0,\"ticks\":\"\"},\"colorscale\":[[0.0,\"#0d0887\"],[0.1111111111111111,\"#46039f\"],[0.2222222222222222,\"#7201a8\"],[0.3333333333333333,\"#9c179e\"],[0.4444444444444444,\"#bd3786\"],[0.5555555555555556,\"#d8576b\"],[0.6666666666666666,\"#ed7953\"],[0.7777777777777778,\"#fb9f3a\"],[0.8888888888888888,\"#fdca26\"],[1.0,\"#f0f921\"]]}],\"heatmapgl\":[{\"type\":\"heatmapgl\",\"colorbar\":{\"outlinewidth\":0,\"ticks\":\"\"},\"colorscale\":[[0.0,\"#0d0887\"],[0.1111111111111111,\"#46039f\"],[0.2222222222222222,\"#7201a8\"],[0.3333333333333333,\"#9c179e\"],[0.4444444444444444,\"#bd3786\"],[0.5555555555555556,\"#d8576b\"],[0.6666666666666666,\"#ed7953\"],[0.7777777777777778,\"#fb9f3a\"],[0.8888888888888888,\"#fdca26\"],[1.0,\"#f0f921\"]]}],\"contourcarpet\":[{\"type\":\"contourcarpet\",\"colorbar\":{\"outlinewidth\":0,\"ticks\":\"\"}}],\"contour\":[{\"type\":\"contour\",\"colorbar\":{\"outlinewidth\":0,\"ticks\":\"\"},\"colorscale\":[[0.0,\"#0d0887\"],[0.1111111111111111,\"#46039f\"],[0.2222222222222222,\"#7201a8\"],[0.3333333333333333,\"#9c179e\"],[0.4444444444444444,\"#bd3786\"],[0.5555555555555556,\"#d8576b\"],[0.6666666666666666,\"#ed7953\"],[0.7777777777777778,\"#fb9f3a\"],[0.8888888888888888,\"#fdca26\"],[1.0,\"#f0f921\"]]}],\"surface\":[{\"type\":\"surface\",\"colorbar\":{\"outlinewidth\":0,\"ticks\":\"\"},\"colorscale\":[[0.0,\"#0d0887\"],[0.1111111111111111,\"#46039f\"],[0.2222222222222222,\"#7201a8\"],[0.3333333333333333,\"#9c179e\"],[0.4444444444444444,\"#bd3786\"],[0.5555555555555556,\"#d8576b\"],[0.6666666666666666,\"#ed7953\"],[0.7777777777777778,\"#fb9f3a\"],[0.8888888888888888,\"#fdca26\"],[1.0,\"#f0f921\"]]}],\"mesh3d\":[{\"type\":\"mesh3d\",\"colorbar\":{\"outlinewidth\":0,\"ticks\":\"\"}}],\"scatter\":[{\"fillpattern\":{\"fillmode\":\"overlay\",\"size\":10,\"solidity\":0.2},\"type\":\"scatter\"}],\"parcoords\":[{\"type\":\"parcoords\",\"line\":{\"colorbar\":{\"outlinewidth\":0,\"ticks\":\"\"}}}],\"scatterpolargl\":[{\"type\":\"scatterpolargl\",\"marker\":{\"colorbar\":{\"outlinewidth\":0,\"ticks\":\"\"}}}],\"bar\":[{\"error_x\":{\"color\":\"#2a3f5f\"},\"error_y\":{\"color\":\"#2a3f5f\"},\"marker\":{\"line\":{\"color\":\"#E5ECF6\",\"width\":0.5},\"pattern\":{\"fillmode\":\"overlay\",\"size\":10,\"solidity\":0.2}},\"type\":\"bar\"}],\"scattergeo\":[{\"type\":\"scattergeo\",\"marker\":{\"colorbar\":{\"outlinewidth\":0,\"ticks\":\"\"}}}],\"scatterpolar\":[{\"type\":\"scatterpolar\",\"marker\":{\"colorbar\":{\"outlinewidth\":0,\"ticks\":\"\"}}}],\"histogram\":[{\"marker\":{\"pattern\":{\"fillmode\":\"overlay\",\"size\":10,\"solidity\":0.2}},\"type\":\"histogram\"}],\"scattergl\":[{\"type\":\"scattergl\",\"marker\":{\"colorbar\":{\"outlinewidth\":0,\"ticks\":\"\"}}}],\"scatter3d\":[{\"type\":\"scatter3d\",\"line\":{\"colorbar\":{\"outlinewidth\":0,\"ticks\":\"\"}},\"marker\":{\"colorbar\":{\"outlinewidth\":0,\"ticks\":\"\"}}}],\"scattermapbox\":[{\"type\":\"scattermapbox\",\"marker\":{\"colorbar\":{\"outlinewidth\":0,\"ticks\":\"\"}}}],\"scatterternary\":[{\"type\":\"scatterternary\",\"marker\":{\"colorbar\":{\"outlinewidth\":0,\"ticks\":\"\"}}}],\"scattercarpet\":[{\"type\":\"scattercarpet\",\"marker\":{\"colorbar\":{\"outlinewidth\":0,\"ticks\":\"\"}}}],\"carpet\":[{\"aaxis\":{\"endlinecolor\":\"#2a3f5f\",\"gridcolor\":\"white\",\"linecolor\":\"white\",\"minorgridcolor\":\"white\",\"startlinecolor\":\"#2a3f5f\"},\"baxis\":{\"endlinecolor\":\"#2a3f5f\",\"gridcolor\":\"white\",\"linecolor\":\"white\",\"minorgridcolor\":\"white\",\"startlinecolor\":\"#2a3f5f\"},\"type\":\"carpet\"}],\"table\":[{\"cells\":{\"fill\":{\"color\":\"#EBF0F8\"},\"line\":{\"color\":\"white\"}},\"header\":{\"fill\":{\"color\":\"#C8D4E3\"},\"line\":{\"color\":\"white\"}},\"type\":\"table\"}],\"barpolar\":[{\"marker\":{\"line\":{\"color\":\"#E5ECF6\",\"width\":0.5},\"pattern\":{\"fillmode\":\"overlay\",\"size\":10,\"solidity\":0.2}},\"type\":\"barpolar\"}],\"pie\":[{\"automargin\":true,\"type\":\"pie\"}]},\"layout\":{\"autotypenumbers\":\"strict\",\"colorway\":[\"#636efa\",\"#EF553B\",\"#00cc96\",\"#ab63fa\",\"#FFA15A\",\"#19d3f3\",\"#FF6692\",\"#B6E880\",\"#FF97FF\",\"#FECB52\"],\"font\":{\"color\":\"#2a3f5f\"},\"hovermode\":\"closest\",\"hoverlabel\":{\"align\":\"left\"},\"paper_bgcolor\":\"white\",\"plot_bgcolor\":\"#E5ECF6\",\"polar\":{\"bgcolor\":\"#E5ECF6\",\"angularaxis\":{\"gridcolor\":\"white\",\"linecolor\":\"white\",\"ticks\":\"\"},\"radialaxis\":{\"gridcolor\":\"white\",\"linecolor\":\"white\",\"ticks\":\"\"}},\"ternary\":{\"bgcolor\":\"#E5ECF6\",\"aaxis\":{\"gridcolor\":\"white\",\"linecolor\":\"white\",\"ticks\":\"\"},\"baxis\":{\"gridcolor\":\"white\",\"linecolor\":\"white\",\"ticks\":\"\"},\"caxis\":{\"gridcolor\":\"white\",\"linecolor\":\"white\",\"ticks\":\"\"}},\"coloraxis\":{\"colorbar\":{\"outlinewidth\":0,\"ticks\":\"\"}},\"colorscale\":{\"sequential\":[[0.0,\"#0d0887\"],[0.1111111111111111,\"#46039f\"],[0.2222222222222222,\"#7201a8\"],[0.3333333333333333,\"#9c179e\"],[0.4444444444444444,\"#bd3786\"],[0.5555555555555556,\"#d8576b\"],[0.6666666666666666,\"#ed7953\"],[0.7777777777777778,\"#fb9f3a\"],[0.8888888888888888,\"#fdca26\"],[1.0,\"#f0f921\"]],\"sequentialminus\":[[0.0,\"#0d0887\"],[0.1111111111111111,\"#46039f\"],[0.2222222222222222,\"#7201a8\"],[0.3333333333333333,\"#9c179e\"],[0.4444444444444444,\"#bd3786\"],[0.5555555555555556,\"#d8576b\"],[0.6666666666666666,\"#ed7953\"],[0.7777777777777778,\"#fb9f3a\"],[0.8888888888888888,\"#fdca26\"],[1.0,\"#f0f921\"]],\"diverging\":[[0,\"#8e0152\"],[0.1,\"#c51b7d\"],[0.2,\"#de77ae\"],[0.3,\"#f1b6da\"],[0.4,\"#fde0ef\"],[0.5,\"#f7f7f7\"],[0.6,\"#e6f5d0\"],[0.7,\"#b8e186\"],[0.8,\"#7fbc41\"],[0.9,\"#4d9221\"],[1,\"#276419\"]]},\"xaxis\":{\"gridcolor\":\"white\",\"linecolor\":\"white\",\"ticks\":\"\",\"title\":{\"standoff\":15},\"zerolinecolor\":\"white\",\"automargin\":true,\"zerolinewidth\":2},\"yaxis\":{\"gridcolor\":\"white\",\"linecolor\":\"white\",\"ticks\":\"\",\"title\":{\"standoff\":15},\"zerolinecolor\":\"white\",\"automargin\":true,\"zerolinewidth\":2},\"scene\":{\"xaxis\":{\"backgroundcolor\":\"#E5ECF6\",\"gridcolor\":\"white\",\"linecolor\":\"white\",\"showbackground\":true,\"ticks\":\"\",\"zerolinecolor\":\"white\",\"gridwidth\":2},\"yaxis\":{\"backgroundcolor\":\"#E5ECF6\",\"gridcolor\":\"white\",\"linecolor\":\"white\",\"showbackground\":true,\"ticks\":\"\",\"zerolinecolor\":\"white\",\"gridwidth\":2},\"zaxis\":{\"backgroundcolor\":\"#E5ECF6\",\"gridcolor\":\"white\",\"linecolor\":\"white\",\"showbackground\":true,\"ticks\":\"\",\"zerolinecolor\":\"white\",\"gridwidth\":2}},\"shapedefaults\":{\"line\":{\"color\":\"#2a3f5f\"}},\"annotationdefaults\":{\"arrowcolor\":\"#2a3f5f\",\"arrowhead\":0,\"arrowwidth\":1},\"geo\":{\"bgcolor\":\"white\",\"landcolor\":\"#E5ECF6\",\"subunitcolor\":\"white\",\"showland\":true,\"showlakes\":true,\"lakecolor\":\"white\"},\"title\":{\"x\":0.05},\"mapbox\":{\"style\":\"light\"}}},\"xaxis\":{\"anchor\":\"y\",\"domain\":[0.0,1.0],\"title\":{\"text\":\"DATE\"}},\"yaxis\":{\"anchor\":\"x\",\"domain\":[0.0,1.0],\"title\":{\"text\":\"diff\"}},\"legend\":{\"tracegroupgap\":0},\"title\":{\"text\":\"USLG \\u002f USSM Allocation Range\"},\"barmode\":\"relative\"},                        {\"responsive\": true}                    ).then(function(){\n",
       "                            \n",
       "var gd = document.getElementById('a2793331-3267-4b8b-9c7d-6ad46f88ddbe');\n",
       "var x = new MutationObserver(function (mutations, observer) {{\n",
       "        var display = window.getComputedStyle(gd).display;\n",
       "        if (!display || display === 'none') {{\n",
       "            console.log([gd, 'removed!']);\n",
       "            Plotly.purge(gd);\n",
       "            observer.disconnect();\n",
       "        }}\n",
       "}});\n",
       "\n",
       "// Listen for the removal of the full notebook cells\n",
       "var notebookContainer = gd.closest('#notebook-container');\n",
       "if (notebookContainer) {{\n",
       "    x.observe(notebookContainer, {childList: true});\n",
       "}}\n",
       "\n",
       "// Listen for the clearing of the current output cell\n",
       "var outputEl = gd.closest('.output');\n",
       "if (outputEl) {{\n",
       "    x.observe(outputEl, {childList: true});\n",
       "}}\n",
       "\n",
       "                        })                };                });            </script>        </div>"
      ]
     },
     "metadata": {},
     "output_type": "display_data"
    }
   ],
   "source": [
    "min = us.filter(pl.col(\"ASSET_CLASS_ID\").is_in([\"USLG\"]))\n",
    "min = min.group_by([\"DATE\"]).agg(pl.col(\"split\").min())\n",
    "\n",
    "max = us.filter(pl.col(\"ASSET_CLASS_ID\").is_in([\"USLG\"]))\n",
    "max = max.group_by([\"DATE\"]).agg(pl.col(\"split\").max())\n",
    "\n",
    "diff = min.join(max, on=[\"DATE\"], how=\"inner\")\n",
    "diff = diff.with_columns((pl.col(\"split_right\") - pl.col(\"split\")).alias(\"diff\"))\n",
    "diff.sort(\"DATE\")\n",
    "diff = diff.to_pandas()\n",
    "fig = px.bar(diff, x='DATE', y='diff', title=\"USLG / USSM Allocation Range\")   \n",
    "fig"
   ]
  },
  {
   "cell_type": "code",
   "execution_count": 23,
   "metadata": {},
   "outputs": [
    {
     "name": "stdout",
     "output_type": "stream",
     "text": [
      "shape: (8, 3)\n",
      "┌─────────────┬────────────────┬──────────┐\n",
      "│ STRATEGY_ID ┆ ASSET_CLASS_ID ┆ split    │\n",
      "│ ---         ┆ ---            ┆ ---      │\n",
      "│ str         ┆ str            ┆ f64      │\n",
      "╞═════════════╪════════════════╪══════════╡\n",
      "│ NDGI        ┆ USSM           ┆ 0.04403  │\n",
      "│ NDLTG       ┆ USSM           ┆ 0.067454 │\n",
      "│ NDB         ┆ USLG           ┆ 0.043092 │\n",
      "│ NDCB        ┆ USLG           ┆ 0.067373 │\n",
      "│ NDLTG       ┆ USLG           ┆ 0.067454 │\n",
      "│ NDCB        ┆ USSM           ┆ 0.067373 │\n",
      "│ NDGI        ┆ USLG           ┆ 0.04403  │\n",
      "│ NDB         ┆ USSM           ┆ 0.043092 │\n",
      "└─────────────┴────────────────┴──────────┘\n"
     ]
    },
    {
     "data": {
      "application/vnd.plotly.v1+json": {
       "config": {
        "plotlyServerURL": "https://plot.ly"
       },
       "data": [
        {
         "alignmentgroup": "True",
         "hovertemplate": "ASSET_CLASS_ID=USSM<br>STRATEGY_ID=%{x}<br>split=%{y}<extra></extra>",
         "legendgroup": "USSM",
         "marker": {
          "color": "#636efa",
          "pattern": {
           "shape": ""
          }
         },
         "name": "USSM",
         "offsetgroup": "USSM",
         "orientation": "v",
         "showlegend": true,
         "textposition": "auto",
         "type": "bar",
         "x": [
          "NDGI",
          "NDLTG",
          "NDCB",
          "NDB"
         ],
         "xaxis": "x",
         "y": [
          0.04403026129004458,
          0.06745397188750697,
          0.06737287444899233,
          0.04309235661464404
         ],
         "yaxis": "y"
        },
        {
         "alignmentgroup": "True",
         "hovertemplate": "ASSET_CLASS_ID=USLG<br>STRATEGY_ID=%{x}<br>split=%{y}<extra></extra>",
         "legendgroup": "USLG",
         "marker": {
          "color": "#EF553B",
          "pattern": {
           "shape": ""
          }
         },
         "name": "USLG",
         "offsetgroup": "USLG",
         "orientation": "v",
         "showlegend": true,
         "textposition": "auto",
         "type": "bar",
         "x": [
          "NDB",
          "NDCB",
          "NDLTG",
          "NDGI"
         ],
         "xaxis": "x",
         "y": [
          0.04309235661464403,
          0.06737287444899231,
          0.06745397188750701,
          0.04403026129004461
         ],
         "yaxis": "y"
        }
       ],
       "layout": {
        "barmode": "relative",
        "legend": {
         "title": {
          "text": "ASSET_CLASS_ID"
         },
         "tracegroupgap": 0
        },
        "template": {
         "data": {
          "bar": [
           {
            "error_x": {
             "color": "#2a3f5f"
            },
            "error_y": {
             "color": "#2a3f5f"
            },
            "marker": {
             "line": {
              "color": "#E5ECF6",
              "width": 0.5
             },
             "pattern": {
              "fillmode": "overlay",
              "size": 10,
              "solidity": 0.2
             }
            },
            "type": "bar"
           }
          ],
          "barpolar": [
           {
            "marker": {
             "line": {
              "color": "#E5ECF6",
              "width": 0.5
             },
             "pattern": {
              "fillmode": "overlay",
              "size": 10,
              "solidity": 0.2
             }
            },
            "type": "barpolar"
           }
          ],
          "carpet": [
           {
            "aaxis": {
             "endlinecolor": "#2a3f5f",
             "gridcolor": "white",
             "linecolor": "white",
             "minorgridcolor": "white",
             "startlinecolor": "#2a3f5f"
            },
            "baxis": {
             "endlinecolor": "#2a3f5f",
             "gridcolor": "white",
             "linecolor": "white",
             "minorgridcolor": "white",
             "startlinecolor": "#2a3f5f"
            },
            "type": "carpet"
           }
          ],
          "choropleth": [
           {
            "colorbar": {
             "outlinewidth": 0,
             "ticks": ""
            },
            "type": "choropleth"
           }
          ],
          "contour": [
           {
            "colorbar": {
             "outlinewidth": 0,
             "ticks": ""
            },
            "colorscale": [
             [
              0,
              "#0d0887"
             ],
             [
              0.1111111111111111,
              "#46039f"
             ],
             [
              0.2222222222222222,
              "#7201a8"
             ],
             [
              0.3333333333333333,
              "#9c179e"
             ],
             [
              0.4444444444444444,
              "#bd3786"
             ],
             [
              0.5555555555555556,
              "#d8576b"
             ],
             [
              0.6666666666666666,
              "#ed7953"
             ],
             [
              0.7777777777777778,
              "#fb9f3a"
             ],
             [
              0.8888888888888888,
              "#fdca26"
             ],
             [
              1,
              "#f0f921"
             ]
            ],
            "type": "contour"
           }
          ],
          "contourcarpet": [
           {
            "colorbar": {
             "outlinewidth": 0,
             "ticks": ""
            },
            "type": "contourcarpet"
           }
          ],
          "heatmap": [
           {
            "colorbar": {
             "outlinewidth": 0,
             "ticks": ""
            },
            "colorscale": [
             [
              0,
              "#0d0887"
             ],
             [
              0.1111111111111111,
              "#46039f"
             ],
             [
              0.2222222222222222,
              "#7201a8"
             ],
             [
              0.3333333333333333,
              "#9c179e"
             ],
             [
              0.4444444444444444,
              "#bd3786"
             ],
             [
              0.5555555555555556,
              "#d8576b"
             ],
             [
              0.6666666666666666,
              "#ed7953"
             ],
             [
              0.7777777777777778,
              "#fb9f3a"
             ],
             [
              0.8888888888888888,
              "#fdca26"
             ],
             [
              1,
              "#f0f921"
             ]
            ],
            "type": "heatmap"
           }
          ],
          "heatmapgl": [
           {
            "colorbar": {
             "outlinewidth": 0,
             "ticks": ""
            },
            "colorscale": [
             [
              0,
              "#0d0887"
             ],
             [
              0.1111111111111111,
              "#46039f"
             ],
             [
              0.2222222222222222,
              "#7201a8"
             ],
             [
              0.3333333333333333,
              "#9c179e"
             ],
             [
              0.4444444444444444,
              "#bd3786"
             ],
             [
              0.5555555555555556,
              "#d8576b"
             ],
             [
              0.6666666666666666,
              "#ed7953"
             ],
             [
              0.7777777777777778,
              "#fb9f3a"
             ],
             [
              0.8888888888888888,
              "#fdca26"
             ],
             [
              1,
              "#f0f921"
             ]
            ],
            "type": "heatmapgl"
           }
          ],
          "histogram": [
           {
            "marker": {
             "pattern": {
              "fillmode": "overlay",
              "size": 10,
              "solidity": 0.2
             }
            },
            "type": "histogram"
           }
          ],
          "histogram2d": [
           {
            "colorbar": {
             "outlinewidth": 0,
             "ticks": ""
            },
            "colorscale": [
             [
              0,
              "#0d0887"
             ],
             [
              0.1111111111111111,
              "#46039f"
             ],
             [
              0.2222222222222222,
              "#7201a8"
             ],
             [
              0.3333333333333333,
              "#9c179e"
             ],
             [
              0.4444444444444444,
              "#bd3786"
             ],
             [
              0.5555555555555556,
              "#d8576b"
             ],
             [
              0.6666666666666666,
              "#ed7953"
             ],
             [
              0.7777777777777778,
              "#fb9f3a"
             ],
             [
              0.8888888888888888,
              "#fdca26"
             ],
             [
              1,
              "#f0f921"
             ]
            ],
            "type": "histogram2d"
           }
          ],
          "histogram2dcontour": [
           {
            "colorbar": {
             "outlinewidth": 0,
             "ticks": ""
            },
            "colorscale": [
             [
              0,
              "#0d0887"
             ],
             [
              0.1111111111111111,
              "#46039f"
             ],
             [
              0.2222222222222222,
              "#7201a8"
             ],
             [
              0.3333333333333333,
              "#9c179e"
             ],
             [
              0.4444444444444444,
              "#bd3786"
             ],
             [
              0.5555555555555556,
              "#d8576b"
             ],
             [
              0.6666666666666666,
              "#ed7953"
             ],
             [
              0.7777777777777778,
              "#fb9f3a"
             ],
             [
              0.8888888888888888,
              "#fdca26"
             ],
             [
              1,
              "#f0f921"
             ]
            ],
            "type": "histogram2dcontour"
           }
          ],
          "mesh3d": [
           {
            "colorbar": {
             "outlinewidth": 0,
             "ticks": ""
            },
            "type": "mesh3d"
           }
          ],
          "parcoords": [
           {
            "line": {
             "colorbar": {
              "outlinewidth": 0,
              "ticks": ""
             }
            },
            "type": "parcoords"
           }
          ],
          "pie": [
           {
            "automargin": true,
            "type": "pie"
           }
          ],
          "scatter": [
           {
            "fillpattern": {
             "fillmode": "overlay",
             "size": 10,
             "solidity": 0.2
            },
            "type": "scatter"
           }
          ],
          "scatter3d": [
           {
            "line": {
             "colorbar": {
              "outlinewidth": 0,
              "ticks": ""
             }
            },
            "marker": {
             "colorbar": {
              "outlinewidth": 0,
              "ticks": ""
             }
            },
            "type": "scatter3d"
           }
          ],
          "scattercarpet": [
           {
            "marker": {
             "colorbar": {
              "outlinewidth": 0,
              "ticks": ""
             }
            },
            "type": "scattercarpet"
           }
          ],
          "scattergeo": [
           {
            "marker": {
             "colorbar": {
              "outlinewidth": 0,
              "ticks": ""
             }
            },
            "type": "scattergeo"
           }
          ],
          "scattergl": [
           {
            "marker": {
             "colorbar": {
              "outlinewidth": 0,
              "ticks": ""
             }
            },
            "type": "scattergl"
           }
          ],
          "scattermapbox": [
           {
            "marker": {
             "colorbar": {
              "outlinewidth": 0,
              "ticks": ""
             }
            },
            "type": "scattermapbox"
           }
          ],
          "scatterpolar": [
           {
            "marker": {
             "colorbar": {
              "outlinewidth": 0,
              "ticks": ""
             }
            },
            "type": "scatterpolar"
           }
          ],
          "scatterpolargl": [
           {
            "marker": {
             "colorbar": {
              "outlinewidth": 0,
              "ticks": ""
             }
            },
            "type": "scatterpolargl"
           }
          ],
          "scatterternary": [
           {
            "marker": {
             "colorbar": {
              "outlinewidth": 0,
              "ticks": ""
             }
            },
            "type": "scatterternary"
           }
          ],
          "surface": [
           {
            "colorbar": {
             "outlinewidth": 0,
             "ticks": ""
            },
            "colorscale": [
             [
              0,
              "#0d0887"
             ],
             [
              0.1111111111111111,
              "#46039f"
             ],
             [
              0.2222222222222222,
              "#7201a8"
             ],
             [
              0.3333333333333333,
              "#9c179e"
             ],
             [
              0.4444444444444444,
              "#bd3786"
             ],
             [
              0.5555555555555556,
              "#d8576b"
             ],
             [
              0.6666666666666666,
              "#ed7953"
             ],
             [
              0.7777777777777778,
              "#fb9f3a"
             ],
             [
              0.8888888888888888,
              "#fdca26"
             ],
             [
              1,
              "#f0f921"
             ]
            ],
            "type": "surface"
           }
          ],
          "table": [
           {
            "cells": {
             "fill": {
              "color": "#EBF0F8"
             },
             "line": {
              "color": "white"
             }
            },
            "header": {
             "fill": {
              "color": "#C8D4E3"
             },
             "line": {
              "color": "white"
             }
            },
            "type": "table"
           }
          ]
         },
         "layout": {
          "annotationdefaults": {
           "arrowcolor": "#2a3f5f",
           "arrowhead": 0,
           "arrowwidth": 1
          },
          "autotypenumbers": "strict",
          "coloraxis": {
           "colorbar": {
            "outlinewidth": 0,
            "ticks": ""
           }
          },
          "colorscale": {
           "diverging": [
            [
             0,
             "#8e0152"
            ],
            [
             0.1,
             "#c51b7d"
            ],
            [
             0.2,
             "#de77ae"
            ],
            [
             0.3,
             "#f1b6da"
            ],
            [
             0.4,
             "#fde0ef"
            ],
            [
             0.5,
             "#f7f7f7"
            ],
            [
             0.6,
             "#e6f5d0"
            ],
            [
             0.7,
             "#b8e186"
            ],
            [
             0.8,
             "#7fbc41"
            ],
            [
             0.9,
             "#4d9221"
            ],
            [
             1,
             "#276419"
            ]
           ],
           "sequential": [
            [
             0,
             "#0d0887"
            ],
            [
             0.1111111111111111,
             "#46039f"
            ],
            [
             0.2222222222222222,
             "#7201a8"
            ],
            [
             0.3333333333333333,
             "#9c179e"
            ],
            [
             0.4444444444444444,
             "#bd3786"
            ],
            [
             0.5555555555555556,
             "#d8576b"
            ],
            [
             0.6666666666666666,
             "#ed7953"
            ],
            [
             0.7777777777777778,
             "#fb9f3a"
            ],
            [
             0.8888888888888888,
             "#fdca26"
            ],
            [
             1,
             "#f0f921"
            ]
           ],
           "sequentialminus": [
            [
             0,
             "#0d0887"
            ],
            [
             0.1111111111111111,
             "#46039f"
            ],
            [
             0.2222222222222222,
             "#7201a8"
            ],
            [
             0.3333333333333333,
             "#9c179e"
            ],
            [
             0.4444444444444444,
             "#bd3786"
            ],
            [
             0.5555555555555556,
             "#d8576b"
            ],
            [
             0.6666666666666666,
             "#ed7953"
            ],
            [
             0.7777777777777778,
             "#fb9f3a"
            ],
            [
             0.8888888888888888,
             "#fdca26"
            ],
            [
             1,
             "#f0f921"
            ]
           ]
          },
          "colorway": [
           "#636efa",
           "#EF553B",
           "#00cc96",
           "#ab63fa",
           "#FFA15A",
           "#19d3f3",
           "#FF6692",
           "#B6E880",
           "#FF97FF",
           "#FECB52"
          ],
          "font": {
           "color": "#2a3f5f"
          },
          "geo": {
           "bgcolor": "white",
           "lakecolor": "white",
           "landcolor": "#E5ECF6",
           "showlakes": true,
           "showland": true,
           "subunitcolor": "white"
          },
          "hoverlabel": {
           "align": "left"
          },
          "hovermode": "closest",
          "mapbox": {
           "style": "light"
          },
          "paper_bgcolor": "white",
          "plot_bgcolor": "#E5ECF6",
          "polar": {
           "angularaxis": {
            "gridcolor": "white",
            "linecolor": "white",
            "ticks": ""
           },
           "bgcolor": "#E5ECF6",
           "radialaxis": {
            "gridcolor": "white",
            "linecolor": "white",
            "ticks": ""
           }
          },
          "scene": {
           "xaxis": {
            "backgroundcolor": "#E5ECF6",
            "gridcolor": "white",
            "gridwidth": 2,
            "linecolor": "white",
            "showbackground": true,
            "ticks": "",
            "zerolinecolor": "white"
           },
           "yaxis": {
            "backgroundcolor": "#E5ECF6",
            "gridcolor": "white",
            "gridwidth": 2,
            "linecolor": "white",
            "showbackground": true,
            "ticks": "",
            "zerolinecolor": "white"
           },
           "zaxis": {
            "backgroundcolor": "#E5ECF6",
            "gridcolor": "white",
            "gridwidth": 2,
            "linecolor": "white",
            "showbackground": true,
            "ticks": "",
            "zerolinecolor": "white"
           }
          },
          "shapedefaults": {
           "line": {
            "color": "#2a3f5f"
           }
          },
          "ternary": {
           "aaxis": {
            "gridcolor": "white",
            "linecolor": "white",
            "ticks": ""
           },
           "baxis": {
            "gridcolor": "white",
            "linecolor": "white",
            "ticks": ""
           },
           "bgcolor": "#E5ECF6",
           "caxis": {
            "gridcolor": "white",
            "linecolor": "white",
            "ticks": ""
           }
          },
          "title": {
           "x": 0.05
          },
          "xaxis": {
           "automargin": true,
           "gridcolor": "white",
           "linecolor": "white",
           "ticks": "",
           "title": {
            "standoff": 15
           },
           "zerolinecolor": "white",
           "zerolinewidth": 2
          },
          "yaxis": {
           "automargin": true,
           "gridcolor": "white",
           "linecolor": "white",
           "ticks": "",
           "title": {
            "standoff": 15
           },
           "zerolinecolor": "white",
           "zerolinewidth": 2
          }
         }
        },
        "title": {
         "text": "Standard Deviation of US Large and Small Cap Allocation"
        },
        "xaxis": {
         "anchor": "y",
         "domain": [
          0,
          1
         ],
         "title": {
          "text": "STRATEGY_ID"
         }
        },
        "yaxis": {
         "anchor": "x",
         "domain": [
          0,
          1
         ],
         "title": {
          "text": "split"
         }
        }
       }
      },
      "text/html": [
       "<div>                            <div id=\"bd3c31cd-75e8-45be-a0db-bc123cb5ec5d\" class=\"plotly-graph-div\" style=\"height:525px; width:100%;\"></div>            <script type=\"text/javascript\">                require([\"plotly\"], function(Plotly) {                    window.PLOTLYENV=window.PLOTLYENV || {};                                    if (document.getElementById(\"bd3c31cd-75e8-45be-a0db-bc123cb5ec5d\")) {                    Plotly.newPlot(                        \"bd3c31cd-75e8-45be-a0db-bc123cb5ec5d\",                        [{\"alignmentgroup\":\"True\",\"hovertemplate\":\"ASSET_CLASS_ID=USSM\\u003cbr\\u003eSTRATEGY_ID=%{x}\\u003cbr\\u003esplit=%{y}\\u003cextra\\u003e\\u003c\\u002fextra\\u003e\",\"legendgroup\":\"USSM\",\"marker\":{\"color\":\"#636efa\",\"pattern\":{\"shape\":\"\"}},\"name\":\"USSM\",\"offsetgroup\":\"USSM\",\"orientation\":\"v\",\"showlegend\":true,\"textposition\":\"auto\",\"x\":[\"NDGI\",\"NDLTG\",\"NDCB\",\"NDB\"],\"xaxis\":\"x\",\"y\":[0.04403026129004458,0.06745397188750697,0.06737287444899233,0.04309235661464404],\"yaxis\":\"y\",\"type\":\"bar\"},{\"alignmentgroup\":\"True\",\"hovertemplate\":\"ASSET_CLASS_ID=USLG\\u003cbr\\u003eSTRATEGY_ID=%{x}\\u003cbr\\u003esplit=%{y}\\u003cextra\\u003e\\u003c\\u002fextra\\u003e\",\"legendgroup\":\"USLG\",\"marker\":{\"color\":\"#EF553B\",\"pattern\":{\"shape\":\"\"}},\"name\":\"USLG\",\"offsetgroup\":\"USLG\",\"orientation\":\"v\",\"showlegend\":true,\"textposition\":\"auto\",\"x\":[\"NDB\",\"NDCB\",\"NDLTG\",\"NDGI\"],\"xaxis\":\"x\",\"y\":[0.04309235661464403,0.06737287444899231,0.06745397188750701,0.04403026129004461],\"yaxis\":\"y\",\"type\":\"bar\"}],                        {\"template\":{\"data\":{\"histogram2dcontour\":[{\"type\":\"histogram2dcontour\",\"colorbar\":{\"outlinewidth\":0,\"ticks\":\"\"},\"colorscale\":[[0.0,\"#0d0887\"],[0.1111111111111111,\"#46039f\"],[0.2222222222222222,\"#7201a8\"],[0.3333333333333333,\"#9c179e\"],[0.4444444444444444,\"#bd3786\"],[0.5555555555555556,\"#d8576b\"],[0.6666666666666666,\"#ed7953\"],[0.7777777777777778,\"#fb9f3a\"],[0.8888888888888888,\"#fdca26\"],[1.0,\"#f0f921\"]]}],\"choropleth\":[{\"type\":\"choropleth\",\"colorbar\":{\"outlinewidth\":0,\"ticks\":\"\"}}],\"histogram2d\":[{\"type\":\"histogram2d\",\"colorbar\":{\"outlinewidth\":0,\"ticks\":\"\"},\"colorscale\":[[0.0,\"#0d0887\"],[0.1111111111111111,\"#46039f\"],[0.2222222222222222,\"#7201a8\"],[0.3333333333333333,\"#9c179e\"],[0.4444444444444444,\"#bd3786\"],[0.5555555555555556,\"#d8576b\"],[0.6666666666666666,\"#ed7953\"],[0.7777777777777778,\"#fb9f3a\"],[0.8888888888888888,\"#fdca26\"],[1.0,\"#f0f921\"]]}],\"heatmap\":[{\"type\":\"heatmap\",\"colorbar\":{\"outlinewidth\":0,\"ticks\":\"\"},\"colorscale\":[[0.0,\"#0d0887\"],[0.1111111111111111,\"#46039f\"],[0.2222222222222222,\"#7201a8\"],[0.3333333333333333,\"#9c179e\"],[0.4444444444444444,\"#bd3786\"],[0.5555555555555556,\"#d8576b\"],[0.6666666666666666,\"#ed7953\"],[0.7777777777777778,\"#fb9f3a\"],[0.8888888888888888,\"#fdca26\"],[1.0,\"#f0f921\"]]}],\"heatmapgl\":[{\"type\":\"heatmapgl\",\"colorbar\":{\"outlinewidth\":0,\"ticks\":\"\"},\"colorscale\":[[0.0,\"#0d0887\"],[0.1111111111111111,\"#46039f\"],[0.2222222222222222,\"#7201a8\"],[0.3333333333333333,\"#9c179e\"],[0.4444444444444444,\"#bd3786\"],[0.5555555555555556,\"#d8576b\"],[0.6666666666666666,\"#ed7953\"],[0.7777777777777778,\"#fb9f3a\"],[0.8888888888888888,\"#fdca26\"],[1.0,\"#f0f921\"]]}],\"contourcarpet\":[{\"type\":\"contourcarpet\",\"colorbar\":{\"outlinewidth\":0,\"ticks\":\"\"}}],\"contour\":[{\"type\":\"contour\",\"colorbar\":{\"outlinewidth\":0,\"ticks\":\"\"},\"colorscale\":[[0.0,\"#0d0887\"],[0.1111111111111111,\"#46039f\"],[0.2222222222222222,\"#7201a8\"],[0.3333333333333333,\"#9c179e\"],[0.4444444444444444,\"#bd3786\"],[0.5555555555555556,\"#d8576b\"],[0.6666666666666666,\"#ed7953\"],[0.7777777777777778,\"#fb9f3a\"],[0.8888888888888888,\"#fdca26\"],[1.0,\"#f0f921\"]]}],\"surface\":[{\"type\":\"surface\",\"colorbar\":{\"outlinewidth\":0,\"ticks\":\"\"},\"colorscale\":[[0.0,\"#0d0887\"],[0.1111111111111111,\"#46039f\"],[0.2222222222222222,\"#7201a8\"],[0.3333333333333333,\"#9c179e\"],[0.4444444444444444,\"#bd3786\"],[0.5555555555555556,\"#d8576b\"],[0.6666666666666666,\"#ed7953\"],[0.7777777777777778,\"#fb9f3a\"],[0.8888888888888888,\"#fdca26\"],[1.0,\"#f0f921\"]]}],\"mesh3d\":[{\"type\":\"mesh3d\",\"colorbar\":{\"outlinewidth\":0,\"ticks\":\"\"}}],\"scatter\":[{\"fillpattern\":{\"fillmode\":\"overlay\",\"size\":10,\"solidity\":0.2},\"type\":\"scatter\"}],\"parcoords\":[{\"type\":\"parcoords\",\"line\":{\"colorbar\":{\"outlinewidth\":0,\"ticks\":\"\"}}}],\"scatterpolargl\":[{\"type\":\"scatterpolargl\",\"marker\":{\"colorbar\":{\"outlinewidth\":0,\"ticks\":\"\"}}}],\"bar\":[{\"error_x\":{\"color\":\"#2a3f5f\"},\"error_y\":{\"color\":\"#2a3f5f\"},\"marker\":{\"line\":{\"color\":\"#E5ECF6\",\"width\":0.5},\"pattern\":{\"fillmode\":\"overlay\",\"size\":10,\"solidity\":0.2}},\"type\":\"bar\"}],\"scattergeo\":[{\"type\":\"scattergeo\",\"marker\":{\"colorbar\":{\"outlinewidth\":0,\"ticks\":\"\"}}}],\"scatterpolar\":[{\"type\":\"scatterpolar\",\"marker\":{\"colorbar\":{\"outlinewidth\":0,\"ticks\":\"\"}}}],\"histogram\":[{\"marker\":{\"pattern\":{\"fillmode\":\"overlay\",\"size\":10,\"solidity\":0.2}},\"type\":\"histogram\"}],\"scattergl\":[{\"type\":\"scattergl\",\"marker\":{\"colorbar\":{\"outlinewidth\":0,\"ticks\":\"\"}}}],\"scatter3d\":[{\"type\":\"scatter3d\",\"line\":{\"colorbar\":{\"outlinewidth\":0,\"ticks\":\"\"}},\"marker\":{\"colorbar\":{\"outlinewidth\":0,\"ticks\":\"\"}}}],\"scattermapbox\":[{\"type\":\"scattermapbox\",\"marker\":{\"colorbar\":{\"outlinewidth\":0,\"ticks\":\"\"}}}],\"scatterternary\":[{\"type\":\"scatterternary\",\"marker\":{\"colorbar\":{\"outlinewidth\":0,\"ticks\":\"\"}}}],\"scattercarpet\":[{\"type\":\"scattercarpet\",\"marker\":{\"colorbar\":{\"outlinewidth\":0,\"ticks\":\"\"}}}],\"carpet\":[{\"aaxis\":{\"endlinecolor\":\"#2a3f5f\",\"gridcolor\":\"white\",\"linecolor\":\"white\",\"minorgridcolor\":\"white\",\"startlinecolor\":\"#2a3f5f\"},\"baxis\":{\"endlinecolor\":\"#2a3f5f\",\"gridcolor\":\"white\",\"linecolor\":\"white\",\"minorgridcolor\":\"white\",\"startlinecolor\":\"#2a3f5f\"},\"type\":\"carpet\"}],\"table\":[{\"cells\":{\"fill\":{\"color\":\"#EBF0F8\"},\"line\":{\"color\":\"white\"}},\"header\":{\"fill\":{\"color\":\"#C8D4E3\"},\"line\":{\"color\":\"white\"}},\"type\":\"table\"}],\"barpolar\":[{\"marker\":{\"line\":{\"color\":\"#E5ECF6\",\"width\":0.5},\"pattern\":{\"fillmode\":\"overlay\",\"size\":10,\"solidity\":0.2}},\"type\":\"barpolar\"}],\"pie\":[{\"automargin\":true,\"type\":\"pie\"}]},\"layout\":{\"autotypenumbers\":\"strict\",\"colorway\":[\"#636efa\",\"#EF553B\",\"#00cc96\",\"#ab63fa\",\"#FFA15A\",\"#19d3f3\",\"#FF6692\",\"#B6E880\",\"#FF97FF\",\"#FECB52\"],\"font\":{\"color\":\"#2a3f5f\"},\"hovermode\":\"closest\",\"hoverlabel\":{\"align\":\"left\"},\"paper_bgcolor\":\"white\",\"plot_bgcolor\":\"#E5ECF6\",\"polar\":{\"bgcolor\":\"#E5ECF6\",\"angularaxis\":{\"gridcolor\":\"white\",\"linecolor\":\"white\",\"ticks\":\"\"},\"radialaxis\":{\"gridcolor\":\"white\",\"linecolor\":\"white\",\"ticks\":\"\"}},\"ternary\":{\"bgcolor\":\"#E5ECF6\",\"aaxis\":{\"gridcolor\":\"white\",\"linecolor\":\"white\",\"ticks\":\"\"},\"baxis\":{\"gridcolor\":\"white\",\"linecolor\":\"white\",\"ticks\":\"\"},\"caxis\":{\"gridcolor\":\"white\",\"linecolor\":\"white\",\"ticks\":\"\"}},\"coloraxis\":{\"colorbar\":{\"outlinewidth\":0,\"ticks\":\"\"}},\"colorscale\":{\"sequential\":[[0.0,\"#0d0887\"],[0.1111111111111111,\"#46039f\"],[0.2222222222222222,\"#7201a8\"],[0.3333333333333333,\"#9c179e\"],[0.4444444444444444,\"#bd3786\"],[0.5555555555555556,\"#d8576b\"],[0.6666666666666666,\"#ed7953\"],[0.7777777777777778,\"#fb9f3a\"],[0.8888888888888888,\"#fdca26\"],[1.0,\"#f0f921\"]],\"sequentialminus\":[[0.0,\"#0d0887\"],[0.1111111111111111,\"#46039f\"],[0.2222222222222222,\"#7201a8\"],[0.3333333333333333,\"#9c179e\"],[0.4444444444444444,\"#bd3786\"],[0.5555555555555556,\"#d8576b\"],[0.6666666666666666,\"#ed7953\"],[0.7777777777777778,\"#fb9f3a\"],[0.8888888888888888,\"#fdca26\"],[1.0,\"#f0f921\"]],\"diverging\":[[0,\"#8e0152\"],[0.1,\"#c51b7d\"],[0.2,\"#de77ae\"],[0.3,\"#f1b6da\"],[0.4,\"#fde0ef\"],[0.5,\"#f7f7f7\"],[0.6,\"#e6f5d0\"],[0.7,\"#b8e186\"],[0.8,\"#7fbc41\"],[0.9,\"#4d9221\"],[1,\"#276419\"]]},\"xaxis\":{\"gridcolor\":\"white\",\"linecolor\":\"white\",\"ticks\":\"\",\"title\":{\"standoff\":15},\"zerolinecolor\":\"white\",\"automargin\":true,\"zerolinewidth\":2},\"yaxis\":{\"gridcolor\":\"white\",\"linecolor\":\"white\",\"ticks\":\"\",\"title\":{\"standoff\":15},\"zerolinecolor\":\"white\",\"automargin\":true,\"zerolinewidth\":2},\"scene\":{\"xaxis\":{\"backgroundcolor\":\"#E5ECF6\",\"gridcolor\":\"white\",\"linecolor\":\"white\",\"showbackground\":true,\"ticks\":\"\",\"zerolinecolor\":\"white\",\"gridwidth\":2},\"yaxis\":{\"backgroundcolor\":\"#E5ECF6\",\"gridcolor\":\"white\",\"linecolor\":\"white\",\"showbackground\":true,\"ticks\":\"\",\"zerolinecolor\":\"white\",\"gridwidth\":2},\"zaxis\":{\"backgroundcolor\":\"#E5ECF6\",\"gridcolor\":\"white\",\"linecolor\":\"white\",\"showbackground\":true,\"ticks\":\"\",\"zerolinecolor\":\"white\",\"gridwidth\":2}},\"shapedefaults\":{\"line\":{\"color\":\"#2a3f5f\"}},\"annotationdefaults\":{\"arrowcolor\":\"#2a3f5f\",\"arrowhead\":0,\"arrowwidth\":1},\"geo\":{\"bgcolor\":\"white\",\"landcolor\":\"#E5ECF6\",\"subunitcolor\":\"white\",\"showland\":true,\"showlakes\":true,\"lakecolor\":\"white\"},\"title\":{\"x\":0.05},\"mapbox\":{\"style\":\"light\"}}},\"xaxis\":{\"anchor\":\"y\",\"domain\":[0.0,1.0],\"title\":{\"text\":\"STRATEGY_ID\"}},\"yaxis\":{\"anchor\":\"x\",\"domain\":[0.0,1.0],\"title\":{\"text\":\"split\"}},\"legend\":{\"title\":{\"text\":\"ASSET_CLASS_ID\"},\"tracegroupgap\":0},\"title\":{\"text\":\"Standard Deviation of US Large and Small Cap Allocation\"},\"barmode\":\"relative\"},                        {\"responsive\": true}                    ).then(function(){\n",
       "                            \n",
       "var gd = document.getElementById('bd3c31cd-75e8-45be-a0db-bc123cb5ec5d');\n",
       "var x = new MutationObserver(function (mutations, observer) {{\n",
       "        var display = window.getComputedStyle(gd).display;\n",
       "        if (!display || display === 'none') {{\n",
       "            console.log([gd, 'removed!']);\n",
       "            Plotly.purge(gd);\n",
       "            observer.disconnect();\n",
       "        }}\n",
       "}});\n",
       "\n",
       "// Listen for the removal of the full notebook cells\n",
       "var notebookContainer = gd.closest('#notebook-container');\n",
       "if (notebookContainer) {{\n",
       "    x.observe(notebookContainer, {childList: true});\n",
       "}}\n",
       "\n",
       "// Listen for the clearing of the current output cell\n",
       "var outputEl = gd.closest('.output');\n",
       "if (outputEl) {{\n",
       "    x.observe(outputEl, {childList: true});\n",
       "}}\n",
       "\n",
       "                        })                };                });            </script>        </div>"
      ]
     },
     "metadata": {},
     "output_type": "display_data"
    }
   ],
   "source": [
    "us_std = us.group_by([\"STRATEGY_ID\",\"ASSET_CLASS_ID\"]).agg(pl.col(\"split\").std())\n",
    "print(us_std)\n",
    "us_std = us_std.to_pandas()\n",
    "fig = px.bar(us_std, x='STRATEGY_ID', y='split', color='ASSET_CLASS_ID', title=\"Standard Deviation of US Large and Small Cap Allocation\")\n",
    "fig.write_html(\"us_std.html\")\n",
    "fig"
   ]
  },
  {
   "cell_type": "code",
   "execution_count": 40,
   "metadata": {},
   "outputs": [
    {
     "data": {
      "text/html": [
       "<div><style>\n",
       ".dataframe > thead > tr,\n",
       ".dataframe > tbody > tr {\n",
       "  text-align: right;\n",
       "  white-space: pre-wrap;\n",
       "}\n",
       "</style>\n",
       "<small>shape: (8, 4)</small><table border=\"1\" class=\"dataframe\"><thead><tr><th>DATE</th><th>STRATEGY_ID</th><th>ASSET_CLASS_ID</th><th>WGT</th></tr><tr><td>str</td><td>str</td><td>str</td><td>f64</td></tr></thead><tbody><tr><td>&quot;2024-05-01&quot;</td><td>&quot;NDCB&quot;</td><td>&quot;USLG&quot;</td><td>0.099549</td></tr><tr><td>&quot;2024-05-01&quot;</td><td>&quot;NDCB&quot;</td><td>&quot;USSM&quot;</td><td>0.084868</td></tr><tr><td>&quot;2024-05-01&quot;</td><td>&quot;NDB&quot;</td><td>&quot;USLG&quot;</td><td>0.198896</td></tr><tr><td>&quot;2024-05-01&quot;</td><td>&quot;NDB&quot;</td><td>&quot;USSM&quot;</td><td>0.094842</td></tr><tr><td>&quot;2024-05-01&quot;</td><td>&quot;NDGI&quot;</td><td>&quot;USLG&quot;</td><td>0.262292</td></tr><tr><td>&quot;2024-05-01&quot;</td><td>&quot;NDGI&quot;</td><td>&quot;USSM&quot;</td><td>0.114209</td></tr><tr><td>&quot;2024-05-01&quot;</td><td>&quot;NDLTG&quot;</td><td>&quot;USLG&quot;</td><td>0.263341</td></tr><tr><td>&quot;2024-05-01&quot;</td><td>&quot;NDLTG&quot;</td><td>&quot;USSM&quot;</td><td>0.20048</td></tr></tbody></table></div>"
      ],
      "text/plain": [
       "shape: (8, 4)\n",
       "┌────────────┬─────────────┬────────────────┬──────────┐\n",
       "│ DATE       ┆ STRATEGY_ID ┆ ASSET_CLASS_ID ┆ WGT      │\n",
       "│ ---        ┆ ---         ┆ ---            ┆ ---      │\n",
       "│ str        ┆ str         ┆ str            ┆ f64      │\n",
       "╞════════════╪═════════════╪════════════════╪══════════╡\n",
       "│ 2024-05-01 ┆ NDCB        ┆ USLG           ┆ 0.099549 │\n",
       "│ 2024-05-01 ┆ NDCB        ┆ USSM           ┆ 0.084868 │\n",
       "│ 2024-05-01 ┆ NDB         ┆ USLG           ┆ 0.198896 │\n",
       "│ 2024-05-01 ┆ NDB         ┆ USSM           ┆ 0.094842 │\n",
       "│ 2024-05-01 ┆ NDGI        ┆ USLG           ┆ 0.262292 │\n",
       "│ 2024-05-01 ┆ NDGI        ┆ USSM           ┆ 0.114209 │\n",
       "│ 2024-05-01 ┆ NDLTG       ┆ USLG           ┆ 0.263341 │\n",
       "│ 2024-05-01 ┆ NDLTG       ┆ USSM           ┆ 0.20048  │\n",
       "└────────────┴─────────────┴────────────────┴──────────┘"
      ]
     },
     "execution_count": 40,
     "metadata": {},
     "output_type": "execute_result"
    }
   ],
   "source": [
    "df.filter(pl.col(\"DATE\").is_in([\"2024-05-01\"])).filter(pl.col(\"ASSET_CLASS_ID\").is_in([\"USLG\",\"USSM\"]))"
   ]
  },
  {
   "cell_type": "code",
   "execution_count": 69,
   "metadata": {},
   "outputs": [
    {
     "name": "stdout",
     "output_type": "stream",
     "text": [
      "shape: (5, 6)\n",
      "┌────────────┬─────────────┬────────────────┬──────────┬───────────┬──────────┐\n",
      "│ DATE       ┆ STRATEGY_ID ┆ ASSET_CLASS_ID ┆ WGT      ┆ WGT_right ┆ split    │\n",
      "│ ---        ┆ ---         ┆ ---            ┆ ---      ┆ ---       ┆ ---      │\n",
      "│ str        ┆ str         ┆ str            ┆ f64      ┆ f64       ┆ f64      │\n",
      "╞════════════╪═════════════╪════════════════╪══════════╪═══════════╪══════════╡\n",
      "│ 2022-08-01 ┆ NDB         ┆ AGG            ┆ 0.251263 ┆ 0.40222   ┆ 0.624692 │\n",
      "│ 2022-08-01 ┆ NDB         ┆ LTT            ┆ 0.032002 ┆ 0.40222   ┆ 0.079563 │\n",
      "│ 2022-08-01 ┆ NDB         ┆ HY             ┆ 0.0      ┆ 0.40222   ┆ 0.0      │\n",
      "│ 2022-08-01 ┆ NDB         ┆ FRN            ┆ 0.066404 ┆ 0.40222   ┆ 0.165094 │\n",
      "│ 2022-08-01 ┆ NDB         ┆ TBILL          ┆ 0.05255  ┆ 0.40222   ┆ 0.130651 │\n",
      "└────────────┴─────────────┴────────────────┴──────────┴───────────┴──────────┘\n",
      "shape: (20, 3)\n",
      "┌─────────────┬────────────────┬──────────┐\n",
      "│ STRATEGY_ID ┆ ASSET_CLASS_ID ┆ split    │\n",
      "│ ---         ┆ ---            ┆ ---      │\n",
      "│ str         ┆ str            ┆ f64      │\n",
      "╞═════════════╪════════════════╪══════════╡\n",
      "│ NDB         ┆ AGG            ┆ 0.753844 │\n",
      "│ NDCB        ┆ TBILL          ┆ 0.048772 │\n",
      "│ NDLTG       ┆ HY             ┆ 0.070927 │\n",
      "│ NDLTG       ┆ LTT            ┆ 0.563368 │\n",
      "│ NDCB        ┆ AGG            ┆ 0.784671 │\n",
      "│ …           ┆ …              ┆ …        │\n",
      "│ NDB         ┆ LTT            ┆ 0.139011 │\n",
      "│ NDB         ┆ FRN            ┆ 0.028644 │\n",
      "│ NDCB        ┆ LTT            ┆ 0.071664 │\n",
      "│ NDGI        ┆ FRN            ┆ 0.032815 │\n",
      "│ NDB         ┆ TBILL          ┆ 0.02261  │\n",
      "└─────────────┴────────────────┴──────────┘\n"
     ]
    },
    {
     "data": {
      "application/vnd.plotly.v1+json": {
       "config": {
        "plotlyServerURL": "https://plot.ly"
       },
       "data": [
        {
         "alignmentgroup": "True",
         "hovertemplate": "ASSET_CLASS_ID=AGG<br>STRATEGY_ID=%{x}<br>split=%{y}<extra></extra>",
         "legendgroup": "AGG",
         "marker": {
          "color": "#636efa",
          "pattern": {
           "shape": ""
          }
         },
         "name": "AGG",
         "offsetgroup": "AGG",
         "orientation": "v",
         "showlegend": true,
         "textposition": "auto",
         "type": "bar",
         "x": [
          "NDB",
          "NDCB",
          "NDLTG",
          "NDGI"
         ],
         "xaxis": "x",
         "y": [
          0.7538441767111174,
          0.7846712637557758,
          0.3140464704484081,
          0.6260778847675554
         ],
         "yaxis": "y"
        },
        {
         "alignmentgroup": "True",
         "hovertemplate": "ASSET_CLASS_ID=TBILL<br>STRATEGY_ID=%{x}<br>split=%{y}<extra></extra>",
         "legendgroup": "TBILL",
         "marker": {
          "color": "#EF553B",
          "pattern": {
           "shape": ""
          }
         },
         "name": "TBILL",
         "offsetgroup": "TBILL",
         "orientation": "v",
         "showlegend": true,
         "textposition": "auto",
         "type": "bar",
         "x": [
          "NDCB",
          "NDGI",
          "NDLTG",
          "NDB"
         ],
         "xaxis": "x",
         "y": [
          0.0487721266108328,
          0.01999082254986439,
          0.014588866963668167,
          0.022609643742205122
         ],
         "yaxis": "y"
        },
        {
         "alignmentgroup": "True",
         "hovertemplate": "ASSET_CLASS_ID=HY<br>STRATEGY_ID=%{x}<br>split=%{y}<extra></extra>",
         "legendgroup": "HY",
         "marker": {
          "color": "#00cc96",
          "pattern": {
           "shape": ""
          }
         },
         "name": "HY",
         "offsetgroup": "HY",
         "orientation": "v",
         "showlegend": true,
         "textposition": "auto",
         "type": "bar",
         "x": [
          "NDLTG",
          "NDGI",
          "NDB",
          "NDCB"
         ],
         "xaxis": "x",
         "y": [
          0.0709272832072761,
          0.06077156039999458,
          0.05589187905420619,
          0.05861157679368714
         ],
         "yaxis": "y"
        },
        {
         "alignmentgroup": "True",
         "hovertemplate": "ASSET_CLASS_ID=LTT<br>STRATEGY_ID=%{x}<br>split=%{y}<extra></extra>",
         "legendgroup": "LTT",
         "marker": {
          "color": "#ab63fa",
          "pattern": {
           "shape": ""
          }
         },
         "name": "LTT",
         "offsetgroup": "LTT",
         "orientation": "v",
         "showlegend": true,
         "textposition": "auto",
         "type": "bar",
         "x": [
          "NDLTG",
          "NDGI",
          "NDB",
          "NDCB"
         ],
         "xaxis": "x",
         "y": [
          0.5633682903257657,
          0.2603445079054369,
          0.1390105043110581,
          0.07166444527056488
         ],
         "yaxis": "y"
        },
        {
         "alignmentgroup": "True",
         "hovertemplate": "ASSET_CLASS_ID=FRN<br>STRATEGY_ID=%{x}<br>split=%{y}<extra></extra>",
         "legendgroup": "FRN",
         "marker": {
          "color": "#FFA15A",
          "pattern": {
           "shape": ""
          }
         },
         "name": "FRN",
         "offsetgroup": "FRN",
         "orientation": "v",
         "showlegend": true,
         "textposition": "auto",
         "type": "bar",
         "x": [
          "NDLTG",
          "NDCB",
          "NDB",
          "NDGI"
         ],
         "xaxis": "x",
         "y": [
          0.0370690890548818,
          0.036280587569139225,
          0.028643796181413172,
          0.03281522437714877
         ],
         "yaxis": "y"
        }
       ],
       "layout": {
        "barmode": "relative",
        "legend": {
         "title": {
          "text": "ASSET_CLASS_ID"
         },
         "tracegroupgap": 0
        },
        "template": {
         "data": {
          "bar": [
           {
            "error_x": {
             "color": "#2a3f5f"
            },
            "error_y": {
             "color": "#2a3f5f"
            },
            "marker": {
             "line": {
              "color": "#E5ECF6",
              "width": 0.5
             },
             "pattern": {
              "fillmode": "overlay",
              "size": 10,
              "solidity": 0.2
             }
            },
            "type": "bar"
           }
          ],
          "barpolar": [
           {
            "marker": {
             "line": {
              "color": "#E5ECF6",
              "width": 0.5
             },
             "pattern": {
              "fillmode": "overlay",
              "size": 10,
              "solidity": 0.2
             }
            },
            "type": "barpolar"
           }
          ],
          "carpet": [
           {
            "aaxis": {
             "endlinecolor": "#2a3f5f",
             "gridcolor": "white",
             "linecolor": "white",
             "minorgridcolor": "white",
             "startlinecolor": "#2a3f5f"
            },
            "baxis": {
             "endlinecolor": "#2a3f5f",
             "gridcolor": "white",
             "linecolor": "white",
             "minorgridcolor": "white",
             "startlinecolor": "#2a3f5f"
            },
            "type": "carpet"
           }
          ],
          "choropleth": [
           {
            "colorbar": {
             "outlinewidth": 0,
             "ticks": ""
            },
            "type": "choropleth"
           }
          ],
          "contour": [
           {
            "colorbar": {
             "outlinewidth": 0,
             "ticks": ""
            },
            "colorscale": [
             [
              0,
              "#0d0887"
             ],
             [
              0.1111111111111111,
              "#46039f"
             ],
             [
              0.2222222222222222,
              "#7201a8"
             ],
             [
              0.3333333333333333,
              "#9c179e"
             ],
             [
              0.4444444444444444,
              "#bd3786"
             ],
             [
              0.5555555555555556,
              "#d8576b"
             ],
             [
              0.6666666666666666,
              "#ed7953"
             ],
             [
              0.7777777777777778,
              "#fb9f3a"
             ],
             [
              0.8888888888888888,
              "#fdca26"
             ],
             [
              1,
              "#f0f921"
             ]
            ],
            "type": "contour"
           }
          ],
          "contourcarpet": [
           {
            "colorbar": {
             "outlinewidth": 0,
             "ticks": ""
            },
            "type": "contourcarpet"
           }
          ],
          "heatmap": [
           {
            "colorbar": {
             "outlinewidth": 0,
             "ticks": ""
            },
            "colorscale": [
             [
              0,
              "#0d0887"
             ],
             [
              0.1111111111111111,
              "#46039f"
             ],
             [
              0.2222222222222222,
              "#7201a8"
             ],
             [
              0.3333333333333333,
              "#9c179e"
             ],
             [
              0.4444444444444444,
              "#bd3786"
             ],
             [
              0.5555555555555556,
              "#d8576b"
             ],
             [
              0.6666666666666666,
              "#ed7953"
             ],
             [
              0.7777777777777778,
              "#fb9f3a"
             ],
             [
              0.8888888888888888,
              "#fdca26"
             ],
             [
              1,
              "#f0f921"
             ]
            ],
            "type": "heatmap"
           }
          ],
          "heatmapgl": [
           {
            "colorbar": {
             "outlinewidth": 0,
             "ticks": ""
            },
            "colorscale": [
             [
              0,
              "#0d0887"
             ],
             [
              0.1111111111111111,
              "#46039f"
             ],
             [
              0.2222222222222222,
              "#7201a8"
             ],
             [
              0.3333333333333333,
              "#9c179e"
             ],
             [
              0.4444444444444444,
              "#bd3786"
             ],
             [
              0.5555555555555556,
              "#d8576b"
             ],
             [
              0.6666666666666666,
              "#ed7953"
             ],
             [
              0.7777777777777778,
              "#fb9f3a"
             ],
             [
              0.8888888888888888,
              "#fdca26"
             ],
             [
              1,
              "#f0f921"
             ]
            ],
            "type": "heatmapgl"
           }
          ],
          "histogram": [
           {
            "marker": {
             "pattern": {
              "fillmode": "overlay",
              "size": 10,
              "solidity": 0.2
             }
            },
            "type": "histogram"
           }
          ],
          "histogram2d": [
           {
            "colorbar": {
             "outlinewidth": 0,
             "ticks": ""
            },
            "colorscale": [
             [
              0,
              "#0d0887"
             ],
             [
              0.1111111111111111,
              "#46039f"
             ],
             [
              0.2222222222222222,
              "#7201a8"
             ],
             [
              0.3333333333333333,
              "#9c179e"
             ],
             [
              0.4444444444444444,
              "#bd3786"
             ],
             [
              0.5555555555555556,
              "#d8576b"
             ],
             [
              0.6666666666666666,
              "#ed7953"
             ],
             [
              0.7777777777777778,
              "#fb9f3a"
             ],
             [
              0.8888888888888888,
              "#fdca26"
             ],
             [
              1,
              "#f0f921"
             ]
            ],
            "type": "histogram2d"
           }
          ],
          "histogram2dcontour": [
           {
            "colorbar": {
             "outlinewidth": 0,
             "ticks": ""
            },
            "colorscale": [
             [
              0,
              "#0d0887"
             ],
             [
              0.1111111111111111,
              "#46039f"
             ],
             [
              0.2222222222222222,
              "#7201a8"
             ],
             [
              0.3333333333333333,
              "#9c179e"
             ],
             [
              0.4444444444444444,
              "#bd3786"
             ],
             [
              0.5555555555555556,
              "#d8576b"
             ],
             [
              0.6666666666666666,
              "#ed7953"
             ],
             [
              0.7777777777777778,
              "#fb9f3a"
             ],
             [
              0.8888888888888888,
              "#fdca26"
             ],
             [
              1,
              "#f0f921"
             ]
            ],
            "type": "histogram2dcontour"
           }
          ],
          "mesh3d": [
           {
            "colorbar": {
             "outlinewidth": 0,
             "ticks": ""
            },
            "type": "mesh3d"
           }
          ],
          "parcoords": [
           {
            "line": {
             "colorbar": {
              "outlinewidth": 0,
              "ticks": ""
             }
            },
            "type": "parcoords"
           }
          ],
          "pie": [
           {
            "automargin": true,
            "type": "pie"
           }
          ],
          "scatter": [
           {
            "fillpattern": {
             "fillmode": "overlay",
             "size": 10,
             "solidity": 0.2
            },
            "type": "scatter"
           }
          ],
          "scatter3d": [
           {
            "line": {
             "colorbar": {
              "outlinewidth": 0,
              "ticks": ""
             }
            },
            "marker": {
             "colorbar": {
              "outlinewidth": 0,
              "ticks": ""
             }
            },
            "type": "scatter3d"
           }
          ],
          "scattercarpet": [
           {
            "marker": {
             "colorbar": {
              "outlinewidth": 0,
              "ticks": ""
             }
            },
            "type": "scattercarpet"
           }
          ],
          "scattergeo": [
           {
            "marker": {
             "colorbar": {
              "outlinewidth": 0,
              "ticks": ""
             }
            },
            "type": "scattergeo"
           }
          ],
          "scattergl": [
           {
            "marker": {
             "colorbar": {
              "outlinewidth": 0,
              "ticks": ""
             }
            },
            "type": "scattergl"
           }
          ],
          "scattermapbox": [
           {
            "marker": {
             "colorbar": {
              "outlinewidth": 0,
              "ticks": ""
             }
            },
            "type": "scattermapbox"
           }
          ],
          "scatterpolar": [
           {
            "marker": {
             "colorbar": {
              "outlinewidth": 0,
              "ticks": ""
             }
            },
            "type": "scatterpolar"
           }
          ],
          "scatterpolargl": [
           {
            "marker": {
             "colorbar": {
              "outlinewidth": 0,
              "ticks": ""
             }
            },
            "type": "scatterpolargl"
           }
          ],
          "scatterternary": [
           {
            "marker": {
             "colorbar": {
              "outlinewidth": 0,
              "ticks": ""
             }
            },
            "type": "scatterternary"
           }
          ],
          "surface": [
           {
            "colorbar": {
             "outlinewidth": 0,
             "ticks": ""
            },
            "colorscale": [
             [
              0,
              "#0d0887"
             ],
             [
              0.1111111111111111,
              "#46039f"
             ],
             [
              0.2222222222222222,
              "#7201a8"
             ],
             [
              0.3333333333333333,
              "#9c179e"
             ],
             [
              0.4444444444444444,
              "#bd3786"
             ],
             [
              0.5555555555555556,
              "#d8576b"
             ],
             [
              0.6666666666666666,
              "#ed7953"
             ],
             [
              0.7777777777777778,
              "#fb9f3a"
             ],
             [
              0.8888888888888888,
              "#fdca26"
             ],
             [
              1,
              "#f0f921"
             ]
            ],
            "type": "surface"
           }
          ],
          "table": [
           {
            "cells": {
             "fill": {
              "color": "#EBF0F8"
             },
             "line": {
              "color": "white"
             }
            },
            "header": {
             "fill": {
              "color": "#C8D4E3"
             },
             "line": {
              "color": "white"
             }
            },
            "type": "table"
           }
          ]
         },
         "layout": {
          "annotationdefaults": {
           "arrowcolor": "#2a3f5f",
           "arrowhead": 0,
           "arrowwidth": 1
          },
          "autotypenumbers": "strict",
          "coloraxis": {
           "colorbar": {
            "outlinewidth": 0,
            "ticks": ""
           }
          },
          "colorscale": {
           "diverging": [
            [
             0,
             "#8e0152"
            ],
            [
             0.1,
             "#c51b7d"
            ],
            [
             0.2,
             "#de77ae"
            ],
            [
             0.3,
             "#f1b6da"
            ],
            [
             0.4,
             "#fde0ef"
            ],
            [
             0.5,
             "#f7f7f7"
            ],
            [
             0.6,
             "#e6f5d0"
            ],
            [
             0.7,
             "#b8e186"
            ],
            [
             0.8,
             "#7fbc41"
            ],
            [
             0.9,
             "#4d9221"
            ],
            [
             1,
             "#276419"
            ]
           ],
           "sequential": [
            [
             0,
             "#0d0887"
            ],
            [
             0.1111111111111111,
             "#46039f"
            ],
            [
             0.2222222222222222,
             "#7201a8"
            ],
            [
             0.3333333333333333,
             "#9c179e"
            ],
            [
             0.4444444444444444,
             "#bd3786"
            ],
            [
             0.5555555555555556,
             "#d8576b"
            ],
            [
             0.6666666666666666,
             "#ed7953"
            ],
            [
             0.7777777777777778,
             "#fb9f3a"
            ],
            [
             0.8888888888888888,
             "#fdca26"
            ],
            [
             1,
             "#f0f921"
            ]
           ],
           "sequentialminus": [
            [
             0,
             "#0d0887"
            ],
            [
             0.1111111111111111,
             "#46039f"
            ],
            [
             0.2222222222222222,
             "#7201a8"
            ],
            [
             0.3333333333333333,
             "#9c179e"
            ],
            [
             0.4444444444444444,
             "#bd3786"
            ],
            [
             0.5555555555555556,
             "#d8576b"
            ],
            [
             0.6666666666666666,
             "#ed7953"
            ],
            [
             0.7777777777777778,
             "#fb9f3a"
            ],
            [
             0.8888888888888888,
             "#fdca26"
            ],
            [
             1,
             "#f0f921"
            ]
           ]
          },
          "colorway": [
           "#636efa",
           "#EF553B",
           "#00cc96",
           "#ab63fa",
           "#FFA15A",
           "#19d3f3",
           "#FF6692",
           "#B6E880",
           "#FF97FF",
           "#FECB52"
          ],
          "font": {
           "color": "#2a3f5f"
          },
          "geo": {
           "bgcolor": "white",
           "lakecolor": "white",
           "landcolor": "#E5ECF6",
           "showlakes": true,
           "showland": true,
           "subunitcolor": "white"
          },
          "hoverlabel": {
           "align": "left"
          },
          "hovermode": "closest",
          "mapbox": {
           "style": "light"
          },
          "paper_bgcolor": "white",
          "plot_bgcolor": "#E5ECF6",
          "polar": {
           "angularaxis": {
            "gridcolor": "white",
            "linecolor": "white",
            "ticks": ""
           },
           "bgcolor": "#E5ECF6",
           "radialaxis": {
            "gridcolor": "white",
            "linecolor": "white",
            "ticks": ""
           }
          },
          "scene": {
           "xaxis": {
            "backgroundcolor": "#E5ECF6",
            "gridcolor": "white",
            "gridwidth": 2,
            "linecolor": "white",
            "showbackground": true,
            "ticks": "",
            "zerolinecolor": "white"
           },
           "yaxis": {
            "backgroundcolor": "#E5ECF6",
            "gridcolor": "white",
            "gridwidth": 2,
            "linecolor": "white",
            "showbackground": true,
            "ticks": "",
            "zerolinecolor": "white"
           },
           "zaxis": {
            "backgroundcolor": "#E5ECF6",
            "gridcolor": "white",
            "gridwidth": 2,
            "linecolor": "white",
            "showbackground": true,
            "ticks": "",
            "zerolinecolor": "white"
           }
          },
          "shapedefaults": {
           "line": {
            "color": "#2a3f5f"
           }
          },
          "ternary": {
           "aaxis": {
            "gridcolor": "white",
            "linecolor": "white",
            "ticks": ""
           },
           "baxis": {
            "gridcolor": "white",
            "linecolor": "white",
            "ticks": ""
           },
           "bgcolor": "#E5ECF6",
           "caxis": {
            "gridcolor": "white",
            "linecolor": "white",
            "ticks": ""
           }
          },
          "title": {
           "x": 0.05
          },
          "xaxis": {
           "automargin": true,
           "gridcolor": "white",
           "linecolor": "white",
           "ticks": "",
           "title": {
            "standoff": 15
           },
           "zerolinecolor": "white",
           "zerolinewidth": 2
          },
          "yaxis": {
           "automargin": true,
           "gridcolor": "white",
           "linecolor": "white",
           "ticks": "",
           "title": {
            "standoff": 15
           },
           "zerolinecolor": "white",
           "zerolinewidth": 2
          }
         }
        },
        "title": {
         "text": "Mean Fixed Income Allocation"
        },
        "xaxis": {
         "anchor": "y",
         "domain": [
          0,
          1
         ],
         "title": {
          "text": "STRATEGY_ID"
         }
        },
        "yaxis": {
         "anchor": "x",
         "domain": [
          0,
          1
         ],
         "title": {
          "text": "split"
         }
        }
       }
      },
      "text/html": [
       "<div>                            <div id=\"849769cb-a04e-4668-bdc0-0f1853fd4022\" class=\"plotly-graph-div\" style=\"height:525px; width:100%;\"></div>            <script type=\"text/javascript\">                require([\"plotly\"], function(Plotly) {                    window.PLOTLYENV=window.PLOTLYENV || {};                                    if (document.getElementById(\"849769cb-a04e-4668-bdc0-0f1853fd4022\")) {                    Plotly.newPlot(                        \"849769cb-a04e-4668-bdc0-0f1853fd4022\",                        [{\"alignmentgroup\":\"True\",\"hovertemplate\":\"ASSET_CLASS_ID=AGG\\u003cbr\\u003eSTRATEGY_ID=%{x}\\u003cbr\\u003esplit=%{y}\\u003cextra\\u003e\\u003c\\u002fextra\\u003e\",\"legendgroup\":\"AGG\",\"marker\":{\"color\":\"#636efa\",\"pattern\":{\"shape\":\"\"}},\"name\":\"AGG\",\"offsetgroup\":\"AGG\",\"orientation\":\"v\",\"showlegend\":true,\"textposition\":\"auto\",\"x\":[\"NDB\",\"NDCB\",\"NDLTG\",\"NDGI\"],\"xaxis\":\"x\",\"y\":[0.7538441767111174,0.7846712637557758,0.3140464704484081,0.6260778847675554],\"yaxis\":\"y\",\"type\":\"bar\"},{\"alignmentgroup\":\"True\",\"hovertemplate\":\"ASSET_CLASS_ID=TBILL\\u003cbr\\u003eSTRATEGY_ID=%{x}\\u003cbr\\u003esplit=%{y}\\u003cextra\\u003e\\u003c\\u002fextra\\u003e\",\"legendgroup\":\"TBILL\",\"marker\":{\"color\":\"#EF553B\",\"pattern\":{\"shape\":\"\"}},\"name\":\"TBILL\",\"offsetgroup\":\"TBILL\",\"orientation\":\"v\",\"showlegend\":true,\"textposition\":\"auto\",\"x\":[\"NDCB\",\"NDGI\",\"NDLTG\",\"NDB\"],\"xaxis\":\"x\",\"y\":[0.0487721266108328,0.01999082254986439,0.014588866963668167,0.022609643742205122],\"yaxis\":\"y\",\"type\":\"bar\"},{\"alignmentgroup\":\"True\",\"hovertemplate\":\"ASSET_CLASS_ID=HY\\u003cbr\\u003eSTRATEGY_ID=%{x}\\u003cbr\\u003esplit=%{y}\\u003cextra\\u003e\\u003c\\u002fextra\\u003e\",\"legendgroup\":\"HY\",\"marker\":{\"color\":\"#00cc96\",\"pattern\":{\"shape\":\"\"}},\"name\":\"HY\",\"offsetgroup\":\"HY\",\"orientation\":\"v\",\"showlegend\":true,\"textposition\":\"auto\",\"x\":[\"NDLTG\",\"NDGI\",\"NDB\",\"NDCB\"],\"xaxis\":\"x\",\"y\":[0.0709272832072761,0.06077156039999458,0.05589187905420619,0.05861157679368714],\"yaxis\":\"y\",\"type\":\"bar\"},{\"alignmentgroup\":\"True\",\"hovertemplate\":\"ASSET_CLASS_ID=LTT\\u003cbr\\u003eSTRATEGY_ID=%{x}\\u003cbr\\u003esplit=%{y}\\u003cextra\\u003e\\u003c\\u002fextra\\u003e\",\"legendgroup\":\"LTT\",\"marker\":{\"color\":\"#ab63fa\",\"pattern\":{\"shape\":\"\"}},\"name\":\"LTT\",\"offsetgroup\":\"LTT\",\"orientation\":\"v\",\"showlegend\":true,\"textposition\":\"auto\",\"x\":[\"NDLTG\",\"NDGI\",\"NDB\",\"NDCB\"],\"xaxis\":\"x\",\"y\":[0.5633682903257657,0.2603445079054369,0.1390105043110581,0.07166444527056488],\"yaxis\":\"y\",\"type\":\"bar\"},{\"alignmentgroup\":\"True\",\"hovertemplate\":\"ASSET_CLASS_ID=FRN\\u003cbr\\u003eSTRATEGY_ID=%{x}\\u003cbr\\u003esplit=%{y}\\u003cextra\\u003e\\u003c\\u002fextra\\u003e\",\"legendgroup\":\"FRN\",\"marker\":{\"color\":\"#FFA15A\",\"pattern\":{\"shape\":\"\"}},\"name\":\"FRN\",\"offsetgroup\":\"FRN\",\"orientation\":\"v\",\"showlegend\":true,\"textposition\":\"auto\",\"x\":[\"NDLTG\",\"NDCB\",\"NDB\",\"NDGI\"],\"xaxis\":\"x\",\"y\":[0.0370690890548818,0.036280587569139225,0.028643796181413172,0.03281522437714877],\"yaxis\":\"y\",\"type\":\"bar\"}],                        {\"template\":{\"data\":{\"histogram2dcontour\":[{\"type\":\"histogram2dcontour\",\"colorbar\":{\"outlinewidth\":0,\"ticks\":\"\"},\"colorscale\":[[0.0,\"#0d0887\"],[0.1111111111111111,\"#46039f\"],[0.2222222222222222,\"#7201a8\"],[0.3333333333333333,\"#9c179e\"],[0.4444444444444444,\"#bd3786\"],[0.5555555555555556,\"#d8576b\"],[0.6666666666666666,\"#ed7953\"],[0.7777777777777778,\"#fb9f3a\"],[0.8888888888888888,\"#fdca26\"],[1.0,\"#f0f921\"]]}],\"choropleth\":[{\"type\":\"choropleth\",\"colorbar\":{\"outlinewidth\":0,\"ticks\":\"\"}}],\"histogram2d\":[{\"type\":\"histogram2d\",\"colorbar\":{\"outlinewidth\":0,\"ticks\":\"\"},\"colorscale\":[[0.0,\"#0d0887\"],[0.1111111111111111,\"#46039f\"],[0.2222222222222222,\"#7201a8\"],[0.3333333333333333,\"#9c179e\"],[0.4444444444444444,\"#bd3786\"],[0.5555555555555556,\"#d8576b\"],[0.6666666666666666,\"#ed7953\"],[0.7777777777777778,\"#fb9f3a\"],[0.8888888888888888,\"#fdca26\"],[1.0,\"#f0f921\"]]}],\"heatmap\":[{\"type\":\"heatmap\",\"colorbar\":{\"outlinewidth\":0,\"ticks\":\"\"},\"colorscale\":[[0.0,\"#0d0887\"],[0.1111111111111111,\"#46039f\"],[0.2222222222222222,\"#7201a8\"],[0.3333333333333333,\"#9c179e\"],[0.4444444444444444,\"#bd3786\"],[0.5555555555555556,\"#d8576b\"],[0.6666666666666666,\"#ed7953\"],[0.7777777777777778,\"#fb9f3a\"],[0.8888888888888888,\"#fdca26\"],[1.0,\"#f0f921\"]]}],\"heatmapgl\":[{\"type\":\"heatmapgl\",\"colorbar\":{\"outlinewidth\":0,\"ticks\":\"\"},\"colorscale\":[[0.0,\"#0d0887\"],[0.1111111111111111,\"#46039f\"],[0.2222222222222222,\"#7201a8\"],[0.3333333333333333,\"#9c179e\"],[0.4444444444444444,\"#bd3786\"],[0.5555555555555556,\"#d8576b\"],[0.6666666666666666,\"#ed7953\"],[0.7777777777777778,\"#fb9f3a\"],[0.8888888888888888,\"#fdca26\"],[1.0,\"#f0f921\"]]}],\"contourcarpet\":[{\"type\":\"contourcarpet\",\"colorbar\":{\"outlinewidth\":0,\"ticks\":\"\"}}],\"contour\":[{\"type\":\"contour\",\"colorbar\":{\"outlinewidth\":0,\"ticks\":\"\"},\"colorscale\":[[0.0,\"#0d0887\"],[0.1111111111111111,\"#46039f\"],[0.2222222222222222,\"#7201a8\"],[0.3333333333333333,\"#9c179e\"],[0.4444444444444444,\"#bd3786\"],[0.5555555555555556,\"#d8576b\"],[0.6666666666666666,\"#ed7953\"],[0.7777777777777778,\"#fb9f3a\"],[0.8888888888888888,\"#fdca26\"],[1.0,\"#f0f921\"]]}],\"surface\":[{\"type\":\"surface\",\"colorbar\":{\"outlinewidth\":0,\"ticks\":\"\"},\"colorscale\":[[0.0,\"#0d0887\"],[0.1111111111111111,\"#46039f\"],[0.2222222222222222,\"#7201a8\"],[0.3333333333333333,\"#9c179e\"],[0.4444444444444444,\"#bd3786\"],[0.5555555555555556,\"#d8576b\"],[0.6666666666666666,\"#ed7953\"],[0.7777777777777778,\"#fb9f3a\"],[0.8888888888888888,\"#fdca26\"],[1.0,\"#f0f921\"]]}],\"mesh3d\":[{\"type\":\"mesh3d\",\"colorbar\":{\"outlinewidth\":0,\"ticks\":\"\"}}],\"scatter\":[{\"fillpattern\":{\"fillmode\":\"overlay\",\"size\":10,\"solidity\":0.2},\"type\":\"scatter\"}],\"parcoords\":[{\"type\":\"parcoords\",\"line\":{\"colorbar\":{\"outlinewidth\":0,\"ticks\":\"\"}}}],\"scatterpolargl\":[{\"type\":\"scatterpolargl\",\"marker\":{\"colorbar\":{\"outlinewidth\":0,\"ticks\":\"\"}}}],\"bar\":[{\"error_x\":{\"color\":\"#2a3f5f\"},\"error_y\":{\"color\":\"#2a3f5f\"},\"marker\":{\"line\":{\"color\":\"#E5ECF6\",\"width\":0.5},\"pattern\":{\"fillmode\":\"overlay\",\"size\":10,\"solidity\":0.2}},\"type\":\"bar\"}],\"scattergeo\":[{\"type\":\"scattergeo\",\"marker\":{\"colorbar\":{\"outlinewidth\":0,\"ticks\":\"\"}}}],\"scatterpolar\":[{\"type\":\"scatterpolar\",\"marker\":{\"colorbar\":{\"outlinewidth\":0,\"ticks\":\"\"}}}],\"histogram\":[{\"marker\":{\"pattern\":{\"fillmode\":\"overlay\",\"size\":10,\"solidity\":0.2}},\"type\":\"histogram\"}],\"scattergl\":[{\"type\":\"scattergl\",\"marker\":{\"colorbar\":{\"outlinewidth\":0,\"ticks\":\"\"}}}],\"scatter3d\":[{\"type\":\"scatter3d\",\"line\":{\"colorbar\":{\"outlinewidth\":0,\"ticks\":\"\"}},\"marker\":{\"colorbar\":{\"outlinewidth\":0,\"ticks\":\"\"}}}],\"scattermapbox\":[{\"type\":\"scattermapbox\",\"marker\":{\"colorbar\":{\"outlinewidth\":0,\"ticks\":\"\"}}}],\"scatterternary\":[{\"type\":\"scatterternary\",\"marker\":{\"colorbar\":{\"outlinewidth\":0,\"ticks\":\"\"}}}],\"scattercarpet\":[{\"type\":\"scattercarpet\",\"marker\":{\"colorbar\":{\"outlinewidth\":0,\"ticks\":\"\"}}}],\"carpet\":[{\"aaxis\":{\"endlinecolor\":\"#2a3f5f\",\"gridcolor\":\"white\",\"linecolor\":\"white\",\"minorgridcolor\":\"white\",\"startlinecolor\":\"#2a3f5f\"},\"baxis\":{\"endlinecolor\":\"#2a3f5f\",\"gridcolor\":\"white\",\"linecolor\":\"white\",\"minorgridcolor\":\"white\",\"startlinecolor\":\"#2a3f5f\"},\"type\":\"carpet\"}],\"table\":[{\"cells\":{\"fill\":{\"color\":\"#EBF0F8\"},\"line\":{\"color\":\"white\"}},\"header\":{\"fill\":{\"color\":\"#C8D4E3\"},\"line\":{\"color\":\"white\"}},\"type\":\"table\"}],\"barpolar\":[{\"marker\":{\"line\":{\"color\":\"#E5ECF6\",\"width\":0.5},\"pattern\":{\"fillmode\":\"overlay\",\"size\":10,\"solidity\":0.2}},\"type\":\"barpolar\"}],\"pie\":[{\"automargin\":true,\"type\":\"pie\"}]},\"layout\":{\"autotypenumbers\":\"strict\",\"colorway\":[\"#636efa\",\"#EF553B\",\"#00cc96\",\"#ab63fa\",\"#FFA15A\",\"#19d3f3\",\"#FF6692\",\"#B6E880\",\"#FF97FF\",\"#FECB52\"],\"font\":{\"color\":\"#2a3f5f\"},\"hovermode\":\"closest\",\"hoverlabel\":{\"align\":\"left\"},\"paper_bgcolor\":\"white\",\"plot_bgcolor\":\"#E5ECF6\",\"polar\":{\"bgcolor\":\"#E5ECF6\",\"angularaxis\":{\"gridcolor\":\"white\",\"linecolor\":\"white\",\"ticks\":\"\"},\"radialaxis\":{\"gridcolor\":\"white\",\"linecolor\":\"white\",\"ticks\":\"\"}},\"ternary\":{\"bgcolor\":\"#E5ECF6\",\"aaxis\":{\"gridcolor\":\"white\",\"linecolor\":\"white\",\"ticks\":\"\"},\"baxis\":{\"gridcolor\":\"white\",\"linecolor\":\"white\",\"ticks\":\"\"},\"caxis\":{\"gridcolor\":\"white\",\"linecolor\":\"white\",\"ticks\":\"\"}},\"coloraxis\":{\"colorbar\":{\"outlinewidth\":0,\"ticks\":\"\"}},\"colorscale\":{\"sequential\":[[0.0,\"#0d0887\"],[0.1111111111111111,\"#46039f\"],[0.2222222222222222,\"#7201a8\"],[0.3333333333333333,\"#9c179e\"],[0.4444444444444444,\"#bd3786\"],[0.5555555555555556,\"#d8576b\"],[0.6666666666666666,\"#ed7953\"],[0.7777777777777778,\"#fb9f3a\"],[0.8888888888888888,\"#fdca26\"],[1.0,\"#f0f921\"]],\"sequentialminus\":[[0.0,\"#0d0887\"],[0.1111111111111111,\"#46039f\"],[0.2222222222222222,\"#7201a8\"],[0.3333333333333333,\"#9c179e\"],[0.4444444444444444,\"#bd3786\"],[0.5555555555555556,\"#d8576b\"],[0.6666666666666666,\"#ed7953\"],[0.7777777777777778,\"#fb9f3a\"],[0.8888888888888888,\"#fdca26\"],[1.0,\"#f0f921\"]],\"diverging\":[[0,\"#8e0152\"],[0.1,\"#c51b7d\"],[0.2,\"#de77ae\"],[0.3,\"#f1b6da\"],[0.4,\"#fde0ef\"],[0.5,\"#f7f7f7\"],[0.6,\"#e6f5d0\"],[0.7,\"#b8e186\"],[0.8,\"#7fbc41\"],[0.9,\"#4d9221\"],[1,\"#276419\"]]},\"xaxis\":{\"gridcolor\":\"white\",\"linecolor\":\"white\",\"ticks\":\"\",\"title\":{\"standoff\":15},\"zerolinecolor\":\"white\",\"automargin\":true,\"zerolinewidth\":2},\"yaxis\":{\"gridcolor\":\"white\",\"linecolor\":\"white\",\"ticks\":\"\",\"title\":{\"standoff\":15},\"zerolinecolor\":\"white\",\"automargin\":true,\"zerolinewidth\":2},\"scene\":{\"xaxis\":{\"backgroundcolor\":\"#E5ECF6\",\"gridcolor\":\"white\",\"linecolor\":\"white\",\"showbackground\":true,\"ticks\":\"\",\"zerolinecolor\":\"white\",\"gridwidth\":2},\"yaxis\":{\"backgroundcolor\":\"#E5ECF6\",\"gridcolor\":\"white\",\"linecolor\":\"white\",\"showbackground\":true,\"ticks\":\"\",\"zerolinecolor\":\"white\",\"gridwidth\":2},\"zaxis\":{\"backgroundcolor\":\"#E5ECF6\",\"gridcolor\":\"white\",\"linecolor\":\"white\",\"showbackground\":true,\"ticks\":\"\",\"zerolinecolor\":\"white\",\"gridwidth\":2}},\"shapedefaults\":{\"line\":{\"color\":\"#2a3f5f\"}},\"annotationdefaults\":{\"arrowcolor\":\"#2a3f5f\",\"arrowhead\":0,\"arrowwidth\":1},\"geo\":{\"bgcolor\":\"white\",\"landcolor\":\"#E5ECF6\",\"subunitcolor\":\"white\",\"showland\":true,\"showlakes\":true,\"lakecolor\":\"white\"},\"title\":{\"x\":0.05},\"mapbox\":{\"style\":\"light\"}}},\"xaxis\":{\"anchor\":\"y\",\"domain\":[0.0,1.0],\"title\":{\"text\":\"STRATEGY_ID\"}},\"yaxis\":{\"anchor\":\"x\",\"domain\":[0.0,1.0],\"title\":{\"text\":\"split\"}},\"legend\":{\"title\":{\"text\":\"ASSET_CLASS_ID\"},\"tracegroupgap\":0},\"title\":{\"text\":\"Mean Fixed Income Allocation\"},\"barmode\":\"relative\"},                        {\"responsive\": true}                    ).then(function(){\n",
       "                            \n",
       "var gd = document.getElementById('849769cb-a04e-4668-bdc0-0f1853fd4022');\n",
       "var x = new MutationObserver(function (mutations, observer) {{\n",
       "        var display = window.getComputedStyle(gd).display;\n",
       "        if (!display || display === 'none') {{\n",
       "            console.log([gd, 'removed!']);\n",
       "            Plotly.purge(gd);\n",
       "            observer.disconnect();\n",
       "        }}\n",
       "}});\n",
       "\n",
       "// Listen for the removal of the full notebook cells\n",
       "var notebookContainer = gd.closest('#notebook-container');\n",
       "if (notebookContainer) {{\n",
       "    x.observe(notebookContainer, {childList: true});\n",
       "}}\n",
       "\n",
       "// Listen for the clearing of the current output cell\n",
       "var outputEl = gd.closest('.output');\n",
       "if (outputEl) {{\n",
       "    x.observe(outputEl, {childList: true});\n",
       "}}\n",
       "\n",
       "                        })                };                });            </script>        </div>"
      ]
     },
     "metadata": {},
     "output_type": "display_data"
    }
   ],
   "source": [
    "fixed_list = [\"FRN\", \"LTT\", \"TBILL\", \"AGG\", \"HY\"]\n",
    "fixed = df.filter(pl.col(\"ASSET_CLASS_ID\").is_in(fixed_list))\n",
    "\n",
    "summed = fixed.group_by([\"STRATEGY_ID\", \"DATE\"]).agg(pl.col(\"WGT\").sum())\n",
    "fixed = fixed.join(summed, on=[\"STRATEGY_ID\", \"DATE\"],\n",
    "                how=\"inner\",)\n",
    "fixed = fixed.with_columns((pl.col(\"WGT\") / pl.col(\"WGT_right\")).alias(\"split\"))\n",
    "print(fixed.filter(pl.col(\"STRATEGY_ID\").is_in([\"NDB\"])).filter(pl.col(\"DATE\").is_in([\"2022-08-01\"])))\n",
    "fixed_mean = fixed.group_by([\"STRATEGY_ID\", \"ASSET_CLASS_ID\"]).agg(pl.col(\"split\").mean())\n",
    "print(fixed_mean)\n",
    "to_plot = fixed_mean.to_pandas()\n",
    "fig = px.bar(to_plot, x='STRATEGY_ID', y='split', color='ASSET_CLASS_ID', title=\"Mean Fixed Income Allocation\")\n",
    "fig.write_html(\"fixed.html\")\n",
    "fig"
   ]
  },
  {
   "cell_type": "code",
   "execution_count": 71,
   "metadata": {},
   "outputs": [
    {
     "name": "stdout",
     "output_type": "stream",
     "text": [
      "shape: (1_172, 6)\n",
      "┌────────────┬─────────────┬────────────────┬──────────┬───────────┬──────────┐\n",
      "│ DATE       ┆ STRATEGY_ID ┆ ASSET_CLASS_ID ┆ WGT      ┆ WGT_right ┆ split    │\n",
      "│ ---        ┆ ---         ┆ ---            ┆ ---      ┆ ---       ┆ ---      │\n",
      "│ str        ┆ str         ┆ str            ┆ f64      ┆ f64       ┆ f64      │\n",
      "╞════════════╪═════════════╪════════════════╪══════════╪═══════════╪══════════╡\n",
      "│ 2000-01-01 ┆ NDCB        ┆ FRN            ┆ 0.053082 ┆ 0.593194  ┆ 0.089486 │\n",
      "│ 2000-01-01 ┆ NDB         ┆ FRN            ┆ 0.018675 ┆ 0.403862  ┆ 0.04624  │\n",
      "│ 2000-01-01 ┆ NDGI        ┆ FRN            ┆ 0.0      ┆ 0.22792   ┆ 0.0      │\n",
      "│ 2000-01-01 ┆ NDLTG       ┆ FRN            ┆ 0.0      ┆ 0.125777  ┆ 0.0      │\n",
      "│ 2000-02-01 ┆ NDCB        ┆ FRN            ┆ 0.070411 ┆ 0.59792   ┆ 0.11776  │\n",
      "│ …          ┆ …           ┆ …              ┆ …        ┆ …         ┆ …        │\n",
      "│ 2024-04-01 ┆ NDLTG       ┆ FRN            ┆ 0.0      ┆ 0.091025  ┆ 0.0      │\n",
      "│ 2024-05-01 ┆ NDCB        ┆ FRN            ┆ 0.075215 ┆ 0.631158  ┆ 0.119169 │\n",
      "│ 2024-05-01 ┆ NDB         ┆ FRN            ┆ 0.032109 ┆ 0.437416  ┆ 0.073406 │\n",
      "│ 2024-05-01 ┆ NDGI        ┆ FRN            ┆ 0.0      ┆ 0.240749  ┆ 0.0      │\n",
      "│ 2024-05-01 ┆ NDLTG       ┆ FRN            ┆ 0.0      ┆ 0.078959  ┆ 0.0      │\n",
      "└────────────┴─────────────┴────────────────┴──────────┴───────────┴──────────┘\n",
      "shape: (293, 2)\n",
      "┌────────────┬──────────┐\n",
      "│ DATE       ┆ split    │\n",
      "│ ---        ┆ ---      │\n",
      "│ str        ┆ f64      │\n",
      "╞════════════╪══════════╡\n",
      "│ 2000-01-01 ┆ 0.0      │\n",
      "│ 2000-02-01 ┆ 0.0      │\n",
      "│ 2000-03-01 ┆ 0.019567 │\n",
      "│ 2000-04-01 ┆ 0.211075 │\n",
      "│ 2000-05-01 ┆ 0.241845 │\n",
      "│ …          ┆ …        │\n",
      "│ 2024-01-01 ┆ 0.0      │\n",
      "│ 2024-02-01 ┆ 0.0      │\n",
      "│ 2024-03-01 ┆ 0.0      │\n",
      "│ 2024-04-01 ┆ 0.0      │\n",
      "│ 2024-05-01 ┆ 0.0      │\n",
      "└────────────┴──────────┘\n",
      "shape: (293, 2)\n",
      "┌────────────┬──────────┐\n",
      "│ DATE       ┆ split    │\n",
      "│ ---        ┆ ---      │\n",
      "│ str        ┆ f64      │\n",
      "╞════════════╪══════════╡\n",
      "│ 2000-01-01 ┆ 0.089486 │\n",
      "│ 2000-02-01 ┆ 0.11776  │\n",
      "│ 2000-03-01 ┆ 0.145698 │\n",
      "│ 2000-04-01 ┆ 0.254785 │\n",
      "│ 2000-05-01 ┆ 0.309791 │\n",
      "│ …          ┆ …        │\n",
      "│ 2024-01-01 ┆ 0.140865 │\n",
      "│ 2024-02-01 ┆ 0.12997  │\n",
      "│ 2024-03-01 ┆ 0.126185 │\n",
      "│ 2024-04-01 ┆ 0.123034 │\n",
      "│ 2024-05-01 ┆ 0.119169 │\n",
      "└────────────┴──────────┘\n"
     ]
    },
    {
     "data": {
      "application/vnd.plotly.v1+json": {
       "config": {
        "plotlyServerURL": "https://plot.ly"
       },
       "data": [
        {
         "alignmentgroup": "True",
         "hovertemplate": "DATE=%{x}<br>diff=%{y}<extra></extra>",
         "legendgroup": "",
         "marker": {
          "color": "#636efa",
          "pattern": {
           "shape": ""
          }
         },
         "name": "",
         "offsetgroup": "",
         "orientation": "v",
         "showlegend": false,
         "textposition": "auto",
         "type": "bar",
         "x": [
          "2022-04-01",
          "2009-06-01",
          "2014-06-01",
          "2023-10-01",
          "2017-10-01",
          "2014-05-01",
          "2004-12-01",
          "2009-03-01",
          "2013-03-01",
          "2009-07-01",
          "2007-10-01",
          "2012-11-01",
          "2003-10-01",
          "2000-08-01",
          "2016-01-01",
          "2015-09-01",
          "2010-06-01",
          "2001-01-01",
          "2016-06-01",
          "2019-11-01",
          "2023-08-01",
          "2020-10-01",
          "2019-07-01",
          "2013-09-01",
          "2002-01-01",
          "2001-07-01",
          "2021-12-01",
          "2006-11-01",
          "2017-07-01",
          "2018-08-01",
          "2016-12-01",
          "2007-05-01",
          "2011-06-01",
          "2015-01-01",
          "2018-04-01",
          "2017-08-01",
          "2000-04-01",
          "2019-04-01",
          "2010-11-01",
          "2007-08-01",
          "2003-12-01",
          "2005-06-01",
          "2006-09-01",
          "2019-10-01",
          "2005-08-01",
          "2016-08-01",
          "2000-09-01",
          "2014-11-01",
          "2015-12-01",
          "2019-06-01",
          "2011-10-01",
          "2018-12-01",
          "2000-12-01",
          "2015-07-01",
          "2004-08-01",
          "2011-04-01",
          "2008-07-01",
          "2005-07-01",
          "2006-05-01",
          "2003-06-01",
          "2000-01-01",
          "2018-11-01",
          "2002-10-01",
          "2020-09-01",
          "2010-04-01",
          "2002-12-01",
          "2004-09-01",
          "2019-09-01",
          "2023-03-01",
          "2024-05-01",
          "2020-06-01",
          "2001-11-01",
          "2003-05-01",
          "2012-12-01",
          "2021-10-01",
          "2020-11-01",
          "2022-01-01",
          "2015-08-01",
          "2014-04-01",
          "2000-10-01",
          "2011-12-01",
          "2015-04-01",
          "2014-08-01",
          "2013-10-01",
          "2017-04-01",
          "2007-01-01",
          "2010-12-01",
          "2009-01-01",
          "2005-04-01",
          "2022-06-01",
          "2006-01-01",
          "2003-07-01",
          "2005-03-01",
          "2003-11-01",
          "2010-02-01",
          "2012-03-01",
          "2016-03-01",
          "2003-02-01",
          "2015-06-01",
          "2010-07-01",
          "2014-09-01",
          "2020-08-01",
          "2018-09-01",
          "2021-11-01",
          "2002-11-01",
          "2010-03-01",
          "2008-08-01",
          "2001-10-01",
          "2013-11-01",
          "2023-04-01",
          "2014-03-01",
          "2001-02-01",
          "2006-10-01",
          "2018-05-01",
          "2005-11-01",
          "2022-07-01",
          "2002-04-01",
          "2009-09-01",
          "2023-09-01",
          "2008-12-01",
          "2004-07-01",
          "2012-01-01",
          "2016-11-01",
          "2020-02-01",
          "2022-08-01",
          "2021-01-01",
          "2004-03-01",
          "2021-09-01",
          "2007-12-01",
          "2013-07-01",
          "2012-04-01",
          "2009-08-01",
          "2004-04-01",
          "2021-03-01",
          "2008-10-01",
          "2012-06-01",
          "2008-11-01",
          "2010-09-01",
          "2023-07-01",
          "2017-02-01",
          "2017-12-01",
          "2006-03-01",
          "2008-01-01",
          "2021-08-01",
          "2007-09-01",
          "2013-12-01",
          "2021-07-01",
          "2019-03-01",
          "2017-09-01",
          "2017-11-01",
          "2021-06-01",
          "2022-10-01",
          "2000-06-01",
          "2004-05-01",
          "2022-11-01",
          "2012-09-01",
          "2009-10-01",
          "2020-01-01",
          "2024-01-01",
          "2011-08-01",
          "2005-05-01",
          "2021-04-01",
          "2014-10-01",
          "2018-01-01",
          "2011-11-01",
          "2013-06-01",
          "2001-04-01",
          "2005-02-01",
          "2004-06-01",
          "2018-10-01",
          "2014-07-01",
          "2023-05-01",
          "2006-06-01",
          "2016-04-01",
          "2007-04-01",
          "2009-02-01",
          "2015-05-01",
          "2022-09-01",
          "2008-03-01",
          "2012-05-01",
          "2020-04-01",
          "2015-10-01",
          "2022-05-01",
          "2021-02-01",
          "2011-01-01",
          "2019-01-01",
          "2023-01-01",
          "2022-12-01",
          "2002-07-01",
          "2006-07-01",
          "2009-04-01",
          "2000-07-01",
          "2002-08-01",
          "2013-05-01",
          "2001-06-01",
          "2004-10-01",
          "2024-02-01",
          "2004-01-01",
          "2016-02-01",
          "2006-04-01",
          "2019-05-01",
          "2011-02-01",
          "2004-11-01",
          "2024-04-01",
          "2014-02-01",
          "2017-01-01",
          "2005-12-01",
          "2006-12-01",
          "2013-01-01",
          "2017-06-01",
          "2012-08-01",
          "2008-02-01",
          "2000-03-01",
          "2003-09-01",
          "2002-02-01",
          "2016-05-01",
          "2023-02-01",
          "2010-05-01",
          "2012-07-01",
          "2023-11-01",
          "2007-11-01",
          "2020-07-01",
          "2011-05-01",
          "2009-05-01",
          "2018-06-01",
          "2006-02-01",
          "2007-03-01",
          "2018-02-01",
          "2022-03-01",
          "2015-03-01",
          "2019-12-01",
          "2013-02-01",
          "2005-10-01",
          "2001-05-01",
          "2008-05-01",
          "2008-09-01",
          "2004-02-01",
          "2019-08-01",
          "2000-05-01",
          "2024-03-01",
          "2020-05-01",
          "2000-11-01",
          "2016-10-01",
          "2008-04-01",
          "2012-10-01",
          "2005-09-01",
          "2019-02-01",
          "2013-04-01",
          "2006-08-01",
          "2003-04-01",
          "2023-06-01",
          "2010-10-01",
          "2014-01-01",
          "2005-01-01",
          "2015-02-01",
          "2002-06-01",
          "2003-01-01",
          "2016-07-01",
          "2015-11-01",
          "2002-03-01",
          "2013-08-01",
          "2007-02-01",
          "2017-05-01",
          "2001-03-01",
          "2007-07-01",
          "2018-07-01",
          "2010-08-01",
          "2003-03-01",
          "2023-12-01",
          "2012-02-01",
          "2003-08-01",
          "2014-12-01",
          "2001-12-01",
          "2011-09-01",
          "2021-05-01",
          "2007-06-01",
          "2009-11-01",
          "2000-02-01",
          "2008-06-01",
          "2001-09-01",
          "2002-05-01",
          "2001-08-01",
          "2002-09-01",
          "2009-12-01",
          "2011-03-01",
          "2011-07-01",
          "2018-03-01",
          "2017-03-01",
          "2020-03-01",
          "2022-02-01",
          "2010-01-01",
          "2016-09-01",
          "2020-12-01"
         ],
         "xaxis": "x",
         "y": [
          0.1307402672113366,
          0,
          2.1239827292905671e-16,
          0.16723358649358863,
          0,
          0,
          0,
          0,
          0,
          0,
          0,
          0,
          0,
          0.1647129522639269,
          0,
          3.5951081775376965e-16,
          0,
          0.4562850121942567,
          0,
          0.014926382826930132,
          0.23299096541764752,
          0.024103428541168405,
          0,
          0,
          0,
          0,
          0.03684552246455759,
          0.0803890585020835,
          0,
          0,
          0,
          0.0563267925493767,
          0,
          1.5971131442676956e-16,
          0,
          0,
          0.04371011634525318,
          0.0076464929194963935,
          1.1247384008298733e-15,
          0.042427374730199974,
          0,
          0,
          0.07979651561172843,
          0.008167286254659942,
          0,
          0,
          0.3132486215375072,
          0,
          0,
          0.011344067388976623,
          0,
          0.01591737087940487,
          0.4934791112498097,
          0,
          0,
          0,
          0,
          0,
          0.05045695685469687,
          0,
          0.08948561098601623,
          0.000632825422529033,
          0,
          0.023808434020257035,
          3.9231499922901665e-16,
          0,
          0,
          0.005509853548912407,
          0.15591305384178133,
          0.11916938148734688,
          0.05811324032349963,
          0,
          0,
          0,
          0,
          0.01733847225207887,
          0.04052063932860526,
          0,
          0,
          0.31449273554964857,
          0,
          0,
          0,
          0,
          0,
          0.0736864300577769,
          0,
          0,
          0,
          0.15651825301143873,
          0.04939800053104576,
          0,
          0,
          0,
          0,
          0,
          0,
          0,
          0,
          0,
          0,
          0.039276243132918734,
          0,
          0.006714083259073005,
          0,
          0,
          0,
          0,
          8.571685170973828e-16,
          0.21520065148350134,
          3.5630246495134985e-16,
          0.18378655767468968,
          0.0775447914120167,
          0,
          0.02070402370418365,
          0.20960134652871212,
          0,
          0,
          0.16982260217348136,
          0.004520331477649821,
          0,
          0,
          0,
          0.006280023367012099,
          0.20917016613807077,
          0.004713022489097258,
          0,
          0,
          0,
          0,
          0,
          8.544011253307653e-16,
          0,
          0,
          0,
          0,
          0,
          0,
          0.45815730114011144,
          0,
          0,
          0.08497889303187892,
          1.8128773288968424e-16,
          0,
          0,
          0,
          0,
          0.00852372366642775,
          0,
          0,
          0,
          0.23685839339336917,
          0.06054250862034222,
          4.3332903619367455e-16,
          0.2039620162255007,
          0,
          4.0298275345924183e-16,
          0,
          0.1408649197930902,
          0,
          0,
          0,
          0,
          0,
          0,
          1.1052198270523377e-15,
          0.12990210418383716,
          0,
          0,
          0,
          0,
          0.27233817156817514,
          0.04818504728869782,
          0,
          0.06358080308902422,
          0,
          0,
          0.2146578087565694,
          0,
          0,
          0.061126971674528865,
          0,
          0.14718516958453431,
          0,
          0,
          0.029632905593399893,
          0.1198294346694917,
          0.10097771738787212,
          0,
          0.0593625334179735,
          0,
          0.08681178220806263,
          0,
          0,
          0,
          0,
          0.1299702435855086,
          0,
          1.986685400469492e-16,
          0.06968508428577813,
          0.0028095393641368372,
          0,
          0,
          0.12303392054727455,
          0,
          0,
          0.029971892630478496,
          0.08585018578606489,
          1.6781247555984828e-16,
          0,
          0,
          0,
          0.12613123353722372,
          4.944870274302344e-16,
          0,
          0,
          0.13399834672724717,
          0,
          0,
          0.16277034228260004,
          0,
          0.054953462154421914,
          2.203141444335629e-16,
          0,
          0,
          0.06568426988110215,
          0.06964214045349926,
          0,
          0.08542616318244146,
          0,
          0.013001402167624706,
          0,
          0.011501027536715374,
          0.04294875442136472,
          0,
          0,
          4.3897798586006226e-16,
          0,
          0.06794532941367595,
          0.12618502392584302,
          0.06839839911688655,
          0.413139954769719,
          0,
          0,
          0,
          0.009540393810779651,
          0.024694751288433046,
          0,
          0.06797792213698098,
          0,
          0.4101603715676151,
          0,
          0,
          0,
          0,
          0,
          0,
          0,
          0,
          0,
          0,
          0.06408066593827079,
          0,
          0.06369388792858025,
          0.030267325331430183,
          0,
          0,
          0,
          0.06623592482680107,
          0,
          0,
          0,
          0,
          0,
          0,
          0.03746478551517562,
          0,
          0.11776036808676059,
          0,
          0,
          4.1135141599013345e-16,
          0,
          0,
          0,
          2.175148528609282e-16,
          2.2627840299903843e-16,
          0,
          0,
          0.014625547331742273,
          0.06265305195785272,
          0,
          0,
          0.005815234007256324
         ],
         "yaxis": "y"
        }
       ],
       "layout": {
        "barmode": "relative",
        "legend": {
         "tracegroupgap": 0
        },
        "template": {
         "data": {
          "bar": [
           {
            "error_x": {
             "color": "#2a3f5f"
            },
            "error_y": {
             "color": "#2a3f5f"
            },
            "marker": {
             "line": {
              "color": "#E5ECF6",
              "width": 0.5
             },
             "pattern": {
              "fillmode": "overlay",
              "size": 10,
              "solidity": 0.2
             }
            },
            "type": "bar"
           }
          ],
          "barpolar": [
           {
            "marker": {
             "line": {
              "color": "#E5ECF6",
              "width": 0.5
             },
             "pattern": {
              "fillmode": "overlay",
              "size": 10,
              "solidity": 0.2
             }
            },
            "type": "barpolar"
           }
          ],
          "carpet": [
           {
            "aaxis": {
             "endlinecolor": "#2a3f5f",
             "gridcolor": "white",
             "linecolor": "white",
             "minorgridcolor": "white",
             "startlinecolor": "#2a3f5f"
            },
            "baxis": {
             "endlinecolor": "#2a3f5f",
             "gridcolor": "white",
             "linecolor": "white",
             "minorgridcolor": "white",
             "startlinecolor": "#2a3f5f"
            },
            "type": "carpet"
           }
          ],
          "choropleth": [
           {
            "colorbar": {
             "outlinewidth": 0,
             "ticks": ""
            },
            "type": "choropleth"
           }
          ],
          "contour": [
           {
            "colorbar": {
             "outlinewidth": 0,
             "ticks": ""
            },
            "colorscale": [
             [
              0,
              "#0d0887"
             ],
             [
              0.1111111111111111,
              "#46039f"
             ],
             [
              0.2222222222222222,
              "#7201a8"
             ],
             [
              0.3333333333333333,
              "#9c179e"
             ],
             [
              0.4444444444444444,
              "#bd3786"
             ],
             [
              0.5555555555555556,
              "#d8576b"
             ],
             [
              0.6666666666666666,
              "#ed7953"
             ],
             [
              0.7777777777777778,
              "#fb9f3a"
             ],
             [
              0.8888888888888888,
              "#fdca26"
             ],
             [
              1,
              "#f0f921"
             ]
            ],
            "type": "contour"
           }
          ],
          "contourcarpet": [
           {
            "colorbar": {
             "outlinewidth": 0,
             "ticks": ""
            },
            "type": "contourcarpet"
           }
          ],
          "heatmap": [
           {
            "colorbar": {
             "outlinewidth": 0,
             "ticks": ""
            },
            "colorscale": [
             [
              0,
              "#0d0887"
             ],
             [
              0.1111111111111111,
              "#46039f"
             ],
             [
              0.2222222222222222,
              "#7201a8"
             ],
             [
              0.3333333333333333,
              "#9c179e"
             ],
             [
              0.4444444444444444,
              "#bd3786"
             ],
             [
              0.5555555555555556,
              "#d8576b"
             ],
             [
              0.6666666666666666,
              "#ed7953"
             ],
             [
              0.7777777777777778,
              "#fb9f3a"
             ],
             [
              0.8888888888888888,
              "#fdca26"
             ],
             [
              1,
              "#f0f921"
             ]
            ],
            "type": "heatmap"
           }
          ],
          "heatmapgl": [
           {
            "colorbar": {
             "outlinewidth": 0,
             "ticks": ""
            },
            "colorscale": [
             [
              0,
              "#0d0887"
             ],
             [
              0.1111111111111111,
              "#46039f"
             ],
             [
              0.2222222222222222,
              "#7201a8"
             ],
             [
              0.3333333333333333,
              "#9c179e"
             ],
             [
              0.4444444444444444,
              "#bd3786"
             ],
             [
              0.5555555555555556,
              "#d8576b"
             ],
             [
              0.6666666666666666,
              "#ed7953"
             ],
             [
              0.7777777777777778,
              "#fb9f3a"
             ],
             [
              0.8888888888888888,
              "#fdca26"
             ],
             [
              1,
              "#f0f921"
             ]
            ],
            "type": "heatmapgl"
           }
          ],
          "histogram": [
           {
            "marker": {
             "pattern": {
              "fillmode": "overlay",
              "size": 10,
              "solidity": 0.2
             }
            },
            "type": "histogram"
           }
          ],
          "histogram2d": [
           {
            "colorbar": {
             "outlinewidth": 0,
             "ticks": ""
            },
            "colorscale": [
             [
              0,
              "#0d0887"
             ],
             [
              0.1111111111111111,
              "#46039f"
             ],
             [
              0.2222222222222222,
              "#7201a8"
             ],
             [
              0.3333333333333333,
              "#9c179e"
             ],
             [
              0.4444444444444444,
              "#bd3786"
             ],
             [
              0.5555555555555556,
              "#d8576b"
             ],
             [
              0.6666666666666666,
              "#ed7953"
             ],
             [
              0.7777777777777778,
              "#fb9f3a"
             ],
             [
              0.8888888888888888,
              "#fdca26"
             ],
             [
              1,
              "#f0f921"
             ]
            ],
            "type": "histogram2d"
           }
          ],
          "histogram2dcontour": [
           {
            "colorbar": {
             "outlinewidth": 0,
             "ticks": ""
            },
            "colorscale": [
             [
              0,
              "#0d0887"
             ],
             [
              0.1111111111111111,
              "#46039f"
             ],
             [
              0.2222222222222222,
              "#7201a8"
             ],
             [
              0.3333333333333333,
              "#9c179e"
             ],
             [
              0.4444444444444444,
              "#bd3786"
             ],
             [
              0.5555555555555556,
              "#d8576b"
             ],
             [
              0.6666666666666666,
              "#ed7953"
             ],
             [
              0.7777777777777778,
              "#fb9f3a"
             ],
             [
              0.8888888888888888,
              "#fdca26"
             ],
             [
              1,
              "#f0f921"
             ]
            ],
            "type": "histogram2dcontour"
           }
          ],
          "mesh3d": [
           {
            "colorbar": {
             "outlinewidth": 0,
             "ticks": ""
            },
            "type": "mesh3d"
           }
          ],
          "parcoords": [
           {
            "line": {
             "colorbar": {
              "outlinewidth": 0,
              "ticks": ""
             }
            },
            "type": "parcoords"
           }
          ],
          "pie": [
           {
            "automargin": true,
            "type": "pie"
           }
          ],
          "scatter": [
           {
            "fillpattern": {
             "fillmode": "overlay",
             "size": 10,
             "solidity": 0.2
            },
            "type": "scatter"
           }
          ],
          "scatter3d": [
           {
            "line": {
             "colorbar": {
              "outlinewidth": 0,
              "ticks": ""
             }
            },
            "marker": {
             "colorbar": {
              "outlinewidth": 0,
              "ticks": ""
             }
            },
            "type": "scatter3d"
           }
          ],
          "scattercarpet": [
           {
            "marker": {
             "colorbar": {
              "outlinewidth": 0,
              "ticks": ""
             }
            },
            "type": "scattercarpet"
           }
          ],
          "scattergeo": [
           {
            "marker": {
             "colorbar": {
              "outlinewidth": 0,
              "ticks": ""
             }
            },
            "type": "scattergeo"
           }
          ],
          "scattergl": [
           {
            "marker": {
             "colorbar": {
              "outlinewidth": 0,
              "ticks": ""
             }
            },
            "type": "scattergl"
           }
          ],
          "scattermapbox": [
           {
            "marker": {
             "colorbar": {
              "outlinewidth": 0,
              "ticks": ""
             }
            },
            "type": "scattermapbox"
           }
          ],
          "scatterpolar": [
           {
            "marker": {
             "colorbar": {
              "outlinewidth": 0,
              "ticks": ""
             }
            },
            "type": "scatterpolar"
           }
          ],
          "scatterpolargl": [
           {
            "marker": {
             "colorbar": {
              "outlinewidth": 0,
              "ticks": ""
             }
            },
            "type": "scatterpolargl"
           }
          ],
          "scatterternary": [
           {
            "marker": {
             "colorbar": {
              "outlinewidth": 0,
              "ticks": ""
             }
            },
            "type": "scatterternary"
           }
          ],
          "surface": [
           {
            "colorbar": {
             "outlinewidth": 0,
             "ticks": ""
            },
            "colorscale": [
             [
              0,
              "#0d0887"
             ],
             [
              0.1111111111111111,
              "#46039f"
             ],
             [
              0.2222222222222222,
              "#7201a8"
             ],
             [
              0.3333333333333333,
              "#9c179e"
             ],
             [
              0.4444444444444444,
              "#bd3786"
             ],
             [
              0.5555555555555556,
              "#d8576b"
             ],
             [
              0.6666666666666666,
              "#ed7953"
             ],
             [
              0.7777777777777778,
              "#fb9f3a"
             ],
             [
              0.8888888888888888,
              "#fdca26"
             ],
             [
              1,
              "#f0f921"
             ]
            ],
            "type": "surface"
           }
          ],
          "table": [
           {
            "cells": {
             "fill": {
              "color": "#EBF0F8"
             },
             "line": {
              "color": "white"
             }
            },
            "header": {
             "fill": {
              "color": "#C8D4E3"
             },
             "line": {
              "color": "white"
             }
            },
            "type": "table"
           }
          ]
         },
         "layout": {
          "annotationdefaults": {
           "arrowcolor": "#2a3f5f",
           "arrowhead": 0,
           "arrowwidth": 1
          },
          "autotypenumbers": "strict",
          "coloraxis": {
           "colorbar": {
            "outlinewidth": 0,
            "ticks": ""
           }
          },
          "colorscale": {
           "diverging": [
            [
             0,
             "#8e0152"
            ],
            [
             0.1,
             "#c51b7d"
            ],
            [
             0.2,
             "#de77ae"
            ],
            [
             0.3,
             "#f1b6da"
            ],
            [
             0.4,
             "#fde0ef"
            ],
            [
             0.5,
             "#f7f7f7"
            ],
            [
             0.6,
             "#e6f5d0"
            ],
            [
             0.7,
             "#b8e186"
            ],
            [
             0.8,
             "#7fbc41"
            ],
            [
             0.9,
             "#4d9221"
            ],
            [
             1,
             "#276419"
            ]
           ],
           "sequential": [
            [
             0,
             "#0d0887"
            ],
            [
             0.1111111111111111,
             "#46039f"
            ],
            [
             0.2222222222222222,
             "#7201a8"
            ],
            [
             0.3333333333333333,
             "#9c179e"
            ],
            [
             0.4444444444444444,
             "#bd3786"
            ],
            [
             0.5555555555555556,
             "#d8576b"
            ],
            [
             0.6666666666666666,
             "#ed7953"
            ],
            [
             0.7777777777777778,
             "#fb9f3a"
            ],
            [
             0.8888888888888888,
             "#fdca26"
            ],
            [
             1,
             "#f0f921"
            ]
           ],
           "sequentialminus": [
            [
             0,
             "#0d0887"
            ],
            [
             0.1111111111111111,
             "#46039f"
            ],
            [
             0.2222222222222222,
             "#7201a8"
            ],
            [
             0.3333333333333333,
             "#9c179e"
            ],
            [
             0.4444444444444444,
             "#bd3786"
            ],
            [
             0.5555555555555556,
             "#d8576b"
            ],
            [
             0.6666666666666666,
             "#ed7953"
            ],
            [
             0.7777777777777778,
             "#fb9f3a"
            ],
            [
             0.8888888888888888,
             "#fdca26"
            ],
            [
             1,
             "#f0f921"
            ]
           ]
          },
          "colorway": [
           "#636efa",
           "#EF553B",
           "#00cc96",
           "#ab63fa",
           "#FFA15A",
           "#19d3f3",
           "#FF6692",
           "#B6E880",
           "#FF97FF",
           "#FECB52"
          ],
          "font": {
           "color": "#2a3f5f"
          },
          "geo": {
           "bgcolor": "white",
           "lakecolor": "white",
           "landcolor": "#E5ECF6",
           "showlakes": true,
           "showland": true,
           "subunitcolor": "white"
          },
          "hoverlabel": {
           "align": "left"
          },
          "hovermode": "closest",
          "mapbox": {
           "style": "light"
          },
          "paper_bgcolor": "white",
          "plot_bgcolor": "#E5ECF6",
          "polar": {
           "angularaxis": {
            "gridcolor": "white",
            "linecolor": "white",
            "ticks": ""
           },
           "bgcolor": "#E5ECF6",
           "radialaxis": {
            "gridcolor": "white",
            "linecolor": "white",
            "ticks": ""
           }
          },
          "scene": {
           "xaxis": {
            "backgroundcolor": "#E5ECF6",
            "gridcolor": "white",
            "gridwidth": 2,
            "linecolor": "white",
            "showbackground": true,
            "ticks": "",
            "zerolinecolor": "white"
           },
           "yaxis": {
            "backgroundcolor": "#E5ECF6",
            "gridcolor": "white",
            "gridwidth": 2,
            "linecolor": "white",
            "showbackground": true,
            "ticks": "",
            "zerolinecolor": "white"
           },
           "zaxis": {
            "backgroundcolor": "#E5ECF6",
            "gridcolor": "white",
            "gridwidth": 2,
            "linecolor": "white",
            "showbackground": true,
            "ticks": "",
            "zerolinecolor": "white"
           }
          },
          "shapedefaults": {
           "line": {
            "color": "#2a3f5f"
           }
          },
          "ternary": {
           "aaxis": {
            "gridcolor": "white",
            "linecolor": "white",
            "ticks": ""
           },
           "baxis": {
            "gridcolor": "white",
            "linecolor": "white",
            "ticks": ""
           },
           "bgcolor": "#E5ECF6",
           "caxis": {
            "gridcolor": "white",
            "linecolor": "white",
            "ticks": ""
           }
          },
          "title": {
           "x": 0.05
          },
          "xaxis": {
           "automargin": true,
           "gridcolor": "white",
           "linecolor": "white",
           "ticks": "",
           "title": {
            "standoff": 15
           },
           "zerolinecolor": "white",
           "zerolinewidth": 2
          },
          "yaxis": {
           "automargin": true,
           "gridcolor": "white",
           "linecolor": "white",
           "ticks": "",
           "title": {
            "standoff": 15
           },
           "zerolinecolor": "white",
           "zerolinewidth": 2
          }
         }
        },
        "title": {
         "text": "FRN Allocation Range"
        },
        "xaxis": {
         "anchor": "y",
         "domain": [
          0,
          1
         ],
         "title": {
          "text": "DATE"
         }
        },
        "yaxis": {
         "anchor": "x",
         "domain": [
          0,
          1
         ],
         "title": {
          "text": "diff"
         }
        }
       }
      },
      "text/html": [
       "<div>                            <div id=\"306b8d39-a31c-4203-abca-728a7a94a6b0\" class=\"plotly-graph-div\" style=\"height:525px; width:100%;\"></div>            <script type=\"text/javascript\">                require([\"plotly\"], function(Plotly) {                    window.PLOTLYENV=window.PLOTLYENV || {};                                    if (document.getElementById(\"306b8d39-a31c-4203-abca-728a7a94a6b0\")) {                    Plotly.newPlot(                        \"306b8d39-a31c-4203-abca-728a7a94a6b0\",                        [{\"alignmentgroup\":\"True\",\"hovertemplate\":\"DATE=%{x}\\u003cbr\\u003ediff=%{y}\\u003cextra\\u003e\\u003c\\u002fextra\\u003e\",\"legendgroup\":\"\",\"marker\":{\"color\":\"#636efa\",\"pattern\":{\"shape\":\"\"}},\"name\":\"\",\"offsetgroup\":\"\",\"orientation\":\"v\",\"showlegend\":false,\"textposition\":\"auto\",\"x\":[\"2022-04-01\",\"2009-06-01\",\"2014-06-01\",\"2023-10-01\",\"2017-10-01\",\"2014-05-01\",\"2004-12-01\",\"2009-03-01\",\"2013-03-01\",\"2009-07-01\",\"2007-10-01\",\"2012-11-01\",\"2003-10-01\",\"2000-08-01\",\"2016-01-01\",\"2015-09-01\",\"2010-06-01\",\"2001-01-01\",\"2016-06-01\",\"2019-11-01\",\"2023-08-01\",\"2020-10-01\",\"2019-07-01\",\"2013-09-01\",\"2002-01-01\",\"2001-07-01\",\"2021-12-01\",\"2006-11-01\",\"2017-07-01\",\"2018-08-01\",\"2016-12-01\",\"2007-05-01\",\"2011-06-01\",\"2015-01-01\",\"2018-04-01\",\"2017-08-01\",\"2000-04-01\",\"2019-04-01\",\"2010-11-01\",\"2007-08-01\",\"2003-12-01\",\"2005-06-01\",\"2006-09-01\",\"2019-10-01\",\"2005-08-01\",\"2016-08-01\",\"2000-09-01\",\"2014-11-01\",\"2015-12-01\",\"2019-06-01\",\"2011-10-01\",\"2018-12-01\",\"2000-12-01\",\"2015-07-01\",\"2004-08-01\",\"2011-04-01\",\"2008-07-01\",\"2005-07-01\",\"2006-05-01\",\"2003-06-01\",\"2000-01-01\",\"2018-11-01\",\"2002-10-01\",\"2020-09-01\",\"2010-04-01\",\"2002-12-01\",\"2004-09-01\",\"2019-09-01\",\"2023-03-01\",\"2024-05-01\",\"2020-06-01\",\"2001-11-01\",\"2003-05-01\",\"2012-12-01\",\"2021-10-01\",\"2020-11-01\",\"2022-01-01\",\"2015-08-01\",\"2014-04-01\",\"2000-10-01\",\"2011-12-01\",\"2015-04-01\",\"2014-08-01\",\"2013-10-01\",\"2017-04-01\",\"2007-01-01\",\"2010-12-01\",\"2009-01-01\",\"2005-04-01\",\"2022-06-01\",\"2006-01-01\",\"2003-07-01\",\"2005-03-01\",\"2003-11-01\",\"2010-02-01\",\"2012-03-01\",\"2016-03-01\",\"2003-02-01\",\"2015-06-01\",\"2010-07-01\",\"2014-09-01\",\"2020-08-01\",\"2018-09-01\",\"2021-11-01\",\"2002-11-01\",\"2010-03-01\",\"2008-08-01\",\"2001-10-01\",\"2013-11-01\",\"2023-04-01\",\"2014-03-01\",\"2001-02-01\",\"2006-10-01\",\"2018-05-01\",\"2005-11-01\",\"2022-07-01\",\"2002-04-01\",\"2009-09-01\",\"2023-09-01\",\"2008-12-01\",\"2004-07-01\",\"2012-01-01\",\"2016-11-01\",\"2020-02-01\",\"2022-08-01\",\"2021-01-01\",\"2004-03-01\",\"2021-09-01\",\"2007-12-01\",\"2013-07-01\",\"2012-04-01\",\"2009-08-01\",\"2004-04-01\",\"2021-03-01\",\"2008-10-01\",\"2012-06-01\",\"2008-11-01\",\"2010-09-01\",\"2023-07-01\",\"2017-02-01\",\"2017-12-01\",\"2006-03-01\",\"2008-01-01\",\"2021-08-01\",\"2007-09-01\",\"2013-12-01\",\"2021-07-01\",\"2019-03-01\",\"2017-09-01\",\"2017-11-01\",\"2021-06-01\",\"2022-10-01\",\"2000-06-01\",\"2004-05-01\",\"2022-11-01\",\"2012-09-01\",\"2009-10-01\",\"2020-01-01\",\"2024-01-01\",\"2011-08-01\",\"2005-05-01\",\"2021-04-01\",\"2014-10-01\",\"2018-01-01\",\"2011-11-01\",\"2013-06-01\",\"2001-04-01\",\"2005-02-01\",\"2004-06-01\",\"2018-10-01\",\"2014-07-01\",\"2023-05-01\",\"2006-06-01\",\"2016-04-01\",\"2007-04-01\",\"2009-02-01\",\"2015-05-01\",\"2022-09-01\",\"2008-03-01\",\"2012-05-01\",\"2020-04-01\",\"2015-10-01\",\"2022-05-01\",\"2021-02-01\",\"2011-01-01\",\"2019-01-01\",\"2023-01-01\",\"2022-12-01\",\"2002-07-01\",\"2006-07-01\",\"2009-04-01\",\"2000-07-01\",\"2002-08-01\",\"2013-05-01\",\"2001-06-01\",\"2004-10-01\",\"2024-02-01\",\"2004-01-01\",\"2016-02-01\",\"2006-04-01\",\"2019-05-01\",\"2011-02-01\",\"2004-11-01\",\"2024-04-01\",\"2014-02-01\",\"2017-01-01\",\"2005-12-01\",\"2006-12-01\",\"2013-01-01\",\"2017-06-01\",\"2012-08-01\",\"2008-02-01\",\"2000-03-01\",\"2003-09-01\",\"2002-02-01\",\"2016-05-01\",\"2023-02-01\",\"2010-05-01\",\"2012-07-01\",\"2023-11-01\",\"2007-11-01\",\"2020-07-01\",\"2011-05-01\",\"2009-05-01\",\"2018-06-01\",\"2006-02-01\",\"2007-03-01\",\"2018-02-01\",\"2022-03-01\",\"2015-03-01\",\"2019-12-01\",\"2013-02-01\",\"2005-10-01\",\"2001-05-01\",\"2008-05-01\",\"2008-09-01\",\"2004-02-01\",\"2019-08-01\",\"2000-05-01\",\"2024-03-01\",\"2020-05-01\",\"2000-11-01\",\"2016-10-01\",\"2008-04-01\",\"2012-10-01\",\"2005-09-01\",\"2019-02-01\",\"2013-04-01\",\"2006-08-01\",\"2003-04-01\",\"2023-06-01\",\"2010-10-01\",\"2014-01-01\",\"2005-01-01\",\"2015-02-01\",\"2002-06-01\",\"2003-01-01\",\"2016-07-01\",\"2015-11-01\",\"2002-03-01\",\"2013-08-01\",\"2007-02-01\",\"2017-05-01\",\"2001-03-01\",\"2007-07-01\",\"2018-07-01\",\"2010-08-01\",\"2003-03-01\",\"2023-12-01\",\"2012-02-01\",\"2003-08-01\",\"2014-12-01\",\"2001-12-01\",\"2011-09-01\",\"2021-05-01\",\"2007-06-01\",\"2009-11-01\",\"2000-02-01\",\"2008-06-01\",\"2001-09-01\",\"2002-05-01\",\"2001-08-01\",\"2002-09-01\",\"2009-12-01\",\"2011-03-01\",\"2011-07-01\",\"2018-03-01\",\"2017-03-01\",\"2020-03-01\",\"2022-02-01\",\"2010-01-01\",\"2016-09-01\",\"2020-12-01\"],\"xaxis\":\"x\",\"y\":[0.1307402672113366,0.0,2.1239827292905671e-16,0.16723358649358863,0.0,0.0,0.0,0.0,0.0,0.0,0.0,0.0,0.0,0.1647129522639269,0.0,3.5951081775376965e-16,0.0,0.4562850121942567,0.0,0.014926382826930132,0.23299096541764752,0.024103428541168405,0.0,0.0,0.0,0.0,0.03684552246455759,0.0803890585020835,0.0,0.0,0.0,0.0563267925493767,0.0,1.5971131442676956e-16,0.0,0.0,0.04371011634525318,0.0076464929194963935,1.1247384008298733e-15,0.042427374730199974,0.0,0.0,0.07979651561172843,0.008167286254659942,0.0,0.0,0.3132486215375072,0.0,0.0,0.011344067388976623,0.0,0.01591737087940487,0.4934791112498097,0.0,0.0,0.0,0.0,0.0,0.05045695685469687,0.0,0.08948561098601623,0.000632825422529033,0.0,0.023808434020257035,3.9231499922901665e-16,0.0,0.0,0.005509853548912407,0.15591305384178133,0.11916938148734688,0.05811324032349963,0.0,0.0,0.0,0.0,0.01733847225207887,0.04052063932860526,0.0,0.0,0.31449273554964857,0.0,0.0,0.0,0.0,0.0,0.0736864300577769,0.0,0.0,0.0,0.15651825301143873,0.04939800053104576,0.0,0.0,0.0,0.0,0.0,0.0,0.0,0.0,0.0,0.0,0.039276243132918734,0.0,0.006714083259073005,0.0,0.0,0.0,0.0,8.571685170973828e-16,0.21520065148350134,3.5630246495134985e-16,0.18378655767468968,0.0775447914120167,0.0,0.02070402370418365,0.20960134652871212,0.0,0.0,0.16982260217348136,0.004520331477649821,0.0,0.0,0.0,0.006280023367012099,0.20917016613807077,0.004713022489097258,0.0,0.0,0.0,0.0,0.0,8.544011253307653e-16,0.0,0.0,0.0,0.0,0.0,0.0,0.45815730114011144,0.0,0.0,0.08497889303187892,1.8128773288968424e-16,0.0,0.0,0.0,0.0,0.00852372366642775,0.0,0.0,0.0,0.23685839339336917,0.06054250862034222,4.3332903619367455e-16,0.2039620162255007,0.0,4.0298275345924183e-16,0.0,0.1408649197930902,0.0,0.0,0.0,0.0,0.0,0.0,1.1052198270523377e-15,0.12990210418383716,0.0,0.0,0.0,0.0,0.27233817156817514,0.04818504728869782,0.0,0.06358080308902422,0.0,0.0,0.2146578087565694,0.0,0.0,0.061126971674528865,0.0,0.14718516958453431,0.0,0.0,0.029632905593399893,0.1198294346694917,0.10097771738787212,0.0,0.0593625334179735,0.0,0.08681178220806263,0.0,0.0,0.0,0.0,0.1299702435855086,0.0,1.986685400469492e-16,0.06968508428577813,0.0028095393641368372,0.0,0.0,0.12303392054727455,0.0,0.0,0.029971892630478496,0.08585018578606489,1.6781247555984828e-16,0.0,0.0,0.0,0.12613123353722372,4.944870274302344e-16,0.0,0.0,0.13399834672724717,0.0,0.0,0.16277034228260004,0.0,0.054953462154421914,2.203141444335629e-16,0.0,0.0,0.06568426988110215,0.06964214045349926,0.0,0.08542616318244146,0.0,0.013001402167624706,0.0,0.011501027536715374,0.04294875442136472,0.0,0.0,4.3897798586006226e-16,0.0,0.06794532941367595,0.12618502392584302,0.06839839911688655,0.413139954769719,0.0,0.0,0.0,0.009540393810779651,0.024694751288433046,0.0,0.06797792213698098,0.0,0.4101603715676151,0.0,0.0,0.0,0.0,0.0,0.0,0.0,0.0,0.0,0.0,0.06408066593827079,0.0,0.06369388792858025,0.030267325331430183,0.0,0.0,0.0,0.06623592482680107,0.0,0.0,0.0,0.0,0.0,0.0,0.03746478551517562,0.0,0.11776036808676059,0.0,0.0,4.1135141599013345e-16,0.0,0.0,0.0,2.175148528609282e-16,2.2627840299903843e-16,0.0,0.0,0.014625547331742273,0.06265305195785272,0.0,0.0,0.005815234007256324],\"yaxis\":\"y\",\"type\":\"bar\"}],                        {\"template\":{\"data\":{\"histogram2dcontour\":[{\"type\":\"histogram2dcontour\",\"colorbar\":{\"outlinewidth\":0,\"ticks\":\"\"},\"colorscale\":[[0.0,\"#0d0887\"],[0.1111111111111111,\"#46039f\"],[0.2222222222222222,\"#7201a8\"],[0.3333333333333333,\"#9c179e\"],[0.4444444444444444,\"#bd3786\"],[0.5555555555555556,\"#d8576b\"],[0.6666666666666666,\"#ed7953\"],[0.7777777777777778,\"#fb9f3a\"],[0.8888888888888888,\"#fdca26\"],[1.0,\"#f0f921\"]]}],\"choropleth\":[{\"type\":\"choropleth\",\"colorbar\":{\"outlinewidth\":0,\"ticks\":\"\"}}],\"histogram2d\":[{\"type\":\"histogram2d\",\"colorbar\":{\"outlinewidth\":0,\"ticks\":\"\"},\"colorscale\":[[0.0,\"#0d0887\"],[0.1111111111111111,\"#46039f\"],[0.2222222222222222,\"#7201a8\"],[0.3333333333333333,\"#9c179e\"],[0.4444444444444444,\"#bd3786\"],[0.5555555555555556,\"#d8576b\"],[0.6666666666666666,\"#ed7953\"],[0.7777777777777778,\"#fb9f3a\"],[0.8888888888888888,\"#fdca26\"],[1.0,\"#f0f921\"]]}],\"heatmap\":[{\"type\":\"heatmap\",\"colorbar\":{\"outlinewidth\":0,\"ticks\":\"\"},\"colorscale\":[[0.0,\"#0d0887\"],[0.1111111111111111,\"#46039f\"],[0.2222222222222222,\"#7201a8\"],[0.3333333333333333,\"#9c179e\"],[0.4444444444444444,\"#bd3786\"],[0.5555555555555556,\"#d8576b\"],[0.6666666666666666,\"#ed7953\"],[0.7777777777777778,\"#fb9f3a\"],[0.8888888888888888,\"#fdca26\"],[1.0,\"#f0f921\"]]}],\"heatmapgl\":[{\"type\":\"heatmapgl\",\"colorbar\":{\"outlinewidth\":0,\"ticks\":\"\"},\"colorscale\":[[0.0,\"#0d0887\"],[0.1111111111111111,\"#46039f\"],[0.2222222222222222,\"#7201a8\"],[0.3333333333333333,\"#9c179e\"],[0.4444444444444444,\"#bd3786\"],[0.5555555555555556,\"#d8576b\"],[0.6666666666666666,\"#ed7953\"],[0.7777777777777778,\"#fb9f3a\"],[0.8888888888888888,\"#fdca26\"],[1.0,\"#f0f921\"]]}],\"contourcarpet\":[{\"type\":\"contourcarpet\",\"colorbar\":{\"outlinewidth\":0,\"ticks\":\"\"}}],\"contour\":[{\"type\":\"contour\",\"colorbar\":{\"outlinewidth\":0,\"ticks\":\"\"},\"colorscale\":[[0.0,\"#0d0887\"],[0.1111111111111111,\"#46039f\"],[0.2222222222222222,\"#7201a8\"],[0.3333333333333333,\"#9c179e\"],[0.4444444444444444,\"#bd3786\"],[0.5555555555555556,\"#d8576b\"],[0.6666666666666666,\"#ed7953\"],[0.7777777777777778,\"#fb9f3a\"],[0.8888888888888888,\"#fdca26\"],[1.0,\"#f0f921\"]]}],\"surface\":[{\"type\":\"surface\",\"colorbar\":{\"outlinewidth\":0,\"ticks\":\"\"},\"colorscale\":[[0.0,\"#0d0887\"],[0.1111111111111111,\"#46039f\"],[0.2222222222222222,\"#7201a8\"],[0.3333333333333333,\"#9c179e\"],[0.4444444444444444,\"#bd3786\"],[0.5555555555555556,\"#d8576b\"],[0.6666666666666666,\"#ed7953\"],[0.7777777777777778,\"#fb9f3a\"],[0.8888888888888888,\"#fdca26\"],[1.0,\"#f0f921\"]]}],\"mesh3d\":[{\"type\":\"mesh3d\",\"colorbar\":{\"outlinewidth\":0,\"ticks\":\"\"}}],\"scatter\":[{\"fillpattern\":{\"fillmode\":\"overlay\",\"size\":10,\"solidity\":0.2},\"type\":\"scatter\"}],\"parcoords\":[{\"type\":\"parcoords\",\"line\":{\"colorbar\":{\"outlinewidth\":0,\"ticks\":\"\"}}}],\"scatterpolargl\":[{\"type\":\"scatterpolargl\",\"marker\":{\"colorbar\":{\"outlinewidth\":0,\"ticks\":\"\"}}}],\"bar\":[{\"error_x\":{\"color\":\"#2a3f5f\"},\"error_y\":{\"color\":\"#2a3f5f\"},\"marker\":{\"line\":{\"color\":\"#E5ECF6\",\"width\":0.5},\"pattern\":{\"fillmode\":\"overlay\",\"size\":10,\"solidity\":0.2}},\"type\":\"bar\"}],\"scattergeo\":[{\"type\":\"scattergeo\",\"marker\":{\"colorbar\":{\"outlinewidth\":0,\"ticks\":\"\"}}}],\"scatterpolar\":[{\"type\":\"scatterpolar\",\"marker\":{\"colorbar\":{\"outlinewidth\":0,\"ticks\":\"\"}}}],\"histogram\":[{\"marker\":{\"pattern\":{\"fillmode\":\"overlay\",\"size\":10,\"solidity\":0.2}},\"type\":\"histogram\"}],\"scattergl\":[{\"type\":\"scattergl\",\"marker\":{\"colorbar\":{\"outlinewidth\":0,\"ticks\":\"\"}}}],\"scatter3d\":[{\"type\":\"scatter3d\",\"line\":{\"colorbar\":{\"outlinewidth\":0,\"ticks\":\"\"}},\"marker\":{\"colorbar\":{\"outlinewidth\":0,\"ticks\":\"\"}}}],\"scattermapbox\":[{\"type\":\"scattermapbox\",\"marker\":{\"colorbar\":{\"outlinewidth\":0,\"ticks\":\"\"}}}],\"scatterternary\":[{\"type\":\"scatterternary\",\"marker\":{\"colorbar\":{\"outlinewidth\":0,\"ticks\":\"\"}}}],\"scattercarpet\":[{\"type\":\"scattercarpet\",\"marker\":{\"colorbar\":{\"outlinewidth\":0,\"ticks\":\"\"}}}],\"carpet\":[{\"aaxis\":{\"endlinecolor\":\"#2a3f5f\",\"gridcolor\":\"white\",\"linecolor\":\"white\",\"minorgridcolor\":\"white\",\"startlinecolor\":\"#2a3f5f\"},\"baxis\":{\"endlinecolor\":\"#2a3f5f\",\"gridcolor\":\"white\",\"linecolor\":\"white\",\"minorgridcolor\":\"white\",\"startlinecolor\":\"#2a3f5f\"},\"type\":\"carpet\"}],\"table\":[{\"cells\":{\"fill\":{\"color\":\"#EBF0F8\"},\"line\":{\"color\":\"white\"}},\"header\":{\"fill\":{\"color\":\"#C8D4E3\"},\"line\":{\"color\":\"white\"}},\"type\":\"table\"}],\"barpolar\":[{\"marker\":{\"line\":{\"color\":\"#E5ECF6\",\"width\":0.5},\"pattern\":{\"fillmode\":\"overlay\",\"size\":10,\"solidity\":0.2}},\"type\":\"barpolar\"}],\"pie\":[{\"automargin\":true,\"type\":\"pie\"}]},\"layout\":{\"autotypenumbers\":\"strict\",\"colorway\":[\"#636efa\",\"#EF553B\",\"#00cc96\",\"#ab63fa\",\"#FFA15A\",\"#19d3f3\",\"#FF6692\",\"#B6E880\",\"#FF97FF\",\"#FECB52\"],\"font\":{\"color\":\"#2a3f5f\"},\"hovermode\":\"closest\",\"hoverlabel\":{\"align\":\"left\"},\"paper_bgcolor\":\"white\",\"plot_bgcolor\":\"#E5ECF6\",\"polar\":{\"bgcolor\":\"#E5ECF6\",\"angularaxis\":{\"gridcolor\":\"white\",\"linecolor\":\"white\",\"ticks\":\"\"},\"radialaxis\":{\"gridcolor\":\"white\",\"linecolor\":\"white\",\"ticks\":\"\"}},\"ternary\":{\"bgcolor\":\"#E5ECF6\",\"aaxis\":{\"gridcolor\":\"white\",\"linecolor\":\"white\",\"ticks\":\"\"},\"baxis\":{\"gridcolor\":\"white\",\"linecolor\":\"white\",\"ticks\":\"\"},\"caxis\":{\"gridcolor\":\"white\",\"linecolor\":\"white\",\"ticks\":\"\"}},\"coloraxis\":{\"colorbar\":{\"outlinewidth\":0,\"ticks\":\"\"}},\"colorscale\":{\"sequential\":[[0.0,\"#0d0887\"],[0.1111111111111111,\"#46039f\"],[0.2222222222222222,\"#7201a8\"],[0.3333333333333333,\"#9c179e\"],[0.4444444444444444,\"#bd3786\"],[0.5555555555555556,\"#d8576b\"],[0.6666666666666666,\"#ed7953\"],[0.7777777777777778,\"#fb9f3a\"],[0.8888888888888888,\"#fdca26\"],[1.0,\"#f0f921\"]],\"sequentialminus\":[[0.0,\"#0d0887\"],[0.1111111111111111,\"#46039f\"],[0.2222222222222222,\"#7201a8\"],[0.3333333333333333,\"#9c179e\"],[0.4444444444444444,\"#bd3786\"],[0.5555555555555556,\"#d8576b\"],[0.6666666666666666,\"#ed7953\"],[0.7777777777777778,\"#fb9f3a\"],[0.8888888888888888,\"#fdca26\"],[1.0,\"#f0f921\"]],\"diverging\":[[0,\"#8e0152\"],[0.1,\"#c51b7d\"],[0.2,\"#de77ae\"],[0.3,\"#f1b6da\"],[0.4,\"#fde0ef\"],[0.5,\"#f7f7f7\"],[0.6,\"#e6f5d0\"],[0.7,\"#b8e186\"],[0.8,\"#7fbc41\"],[0.9,\"#4d9221\"],[1,\"#276419\"]]},\"xaxis\":{\"gridcolor\":\"white\",\"linecolor\":\"white\",\"ticks\":\"\",\"title\":{\"standoff\":15},\"zerolinecolor\":\"white\",\"automargin\":true,\"zerolinewidth\":2},\"yaxis\":{\"gridcolor\":\"white\",\"linecolor\":\"white\",\"ticks\":\"\",\"title\":{\"standoff\":15},\"zerolinecolor\":\"white\",\"automargin\":true,\"zerolinewidth\":2},\"scene\":{\"xaxis\":{\"backgroundcolor\":\"#E5ECF6\",\"gridcolor\":\"white\",\"linecolor\":\"white\",\"showbackground\":true,\"ticks\":\"\",\"zerolinecolor\":\"white\",\"gridwidth\":2},\"yaxis\":{\"backgroundcolor\":\"#E5ECF6\",\"gridcolor\":\"white\",\"linecolor\":\"white\",\"showbackground\":true,\"ticks\":\"\",\"zerolinecolor\":\"white\",\"gridwidth\":2},\"zaxis\":{\"backgroundcolor\":\"#E5ECF6\",\"gridcolor\":\"white\",\"linecolor\":\"white\",\"showbackground\":true,\"ticks\":\"\",\"zerolinecolor\":\"white\",\"gridwidth\":2}},\"shapedefaults\":{\"line\":{\"color\":\"#2a3f5f\"}},\"annotationdefaults\":{\"arrowcolor\":\"#2a3f5f\",\"arrowhead\":0,\"arrowwidth\":1},\"geo\":{\"bgcolor\":\"white\",\"landcolor\":\"#E5ECF6\",\"subunitcolor\":\"white\",\"showland\":true,\"showlakes\":true,\"lakecolor\":\"white\"},\"title\":{\"x\":0.05},\"mapbox\":{\"style\":\"light\"}}},\"xaxis\":{\"anchor\":\"y\",\"domain\":[0.0,1.0],\"title\":{\"text\":\"DATE\"}},\"yaxis\":{\"anchor\":\"x\",\"domain\":[0.0,1.0],\"title\":{\"text\":\"diff\"}},\"legend\":{\"tracegroupgap\":0},\"title\":{\"text\":\"FRN Allocation Range\"},\"barmode\":\"relative\"},                        {\"responsive\": true}                    ).then(function(){\n",
       "                            \n",
       "var gd = document.getElementById('306b8d39-a31c-4203-abca-728a7a94a6b0');\n",
       "var x = new MutationObserver(function (mutations, observer) {{\n",
       "        var display = window.getComputedStyle(gd).display;\n",
       "        if (!display || display === 'none') {{\n",
       "            console.log([gd, 'removed!']);\n",
       "            Plotly.purge(gd);\n",
       "            observer.disconnect();\n",
       "        }}\n",
       "}});\n",
       "\n",
       "// Listen for the removal of the full notebook cells\n",
       "var notebookContainer = gd.closest('#notebook-container');\n",
       "if (notebookContainer) {{\n",
       "    x.observe(notebookContainer, {childList: true});\n",
       "}}\n",
       "\n",
       "// Listen for the clearing of the current output cell\n",
       "var outputEl = gd.closest('.output');\n",
       "if (outputEl) {{\n",
       "    x.observe(outputEl, {childList: true});\n",
       "}}\n",
       "\n",
       "                        })                };                });            </script>        </div>"
      ]
     },
     "metadata": {},
     "output_type": "display_data"
    },
    {
     "name": "stdout",
     "output_type": "stream",
     "text": [
      "shape: (1_172, 6)\n",
      "┌────────────┬─────────────┬────────────────┬──────────┬───────────┬──────────┐\n",
      "│ DATE       ┆ STRATEGY_ID ┆ ASSET_CLASS_ID ┆ WGT      ┆ WGT_right ┆ split    │\n",
      "│ ---        ┆ ---         ┆ ---            ┆ ---      ┆ ---       ┆ ---      │\n",
      "│ str        ┆ str         ┆ str            ┆ f64      ┆ f64       ┆ f64      │\n",
      "╞════════════╪═════════════╪════════════════╪══════════╪═══════════╪══════════╡\n",
      "│ 2000-01-01 ┆ NDCB        ┆ LTT            ┆ 0.011958 ┆ 0.593194  ┆ 0.020159 │\n",
      "│ 2000-01-01 ┆ NDB         ┆ LTT            ┆ 0.02299  ┆ 0.403862  ┆ 0.056925 │\n",
      "│ 2000-01-01 ┆ NDGI        ┆ LTT            ┆ 0.019908 ┆ 0.22792   ┆ 0.087346 │\n",
      "│ 2000-01-01 ┆ NDLTG       ┆ LTT            ┆ 0.019151 ┆ 0.125777  ┆ 0.152264 │\n",
      "│ 2000-02-01 ┆ NDCB        ┆ LTT            ┆ 0.0      ┆ 0.59792   ┆ 0.0      │\n",
      "│ …          ┆ …           ┆ …              ┆ …        ┆ …         ┆ …        │\n",
      "│ 2024-04-01 ┆ NDLTG       ┆ LTT            ┆ 0.027565 ┆ 0.091025  ┆ 0.302834 │\n",
      "│ 2024-05-01 ┆ NDCB        ┆ LTT            ┆ 0.007933 ┆ 0.631158  ┆ 0.012569 │\n",
      "│ 2024-05-01 ┆ NDB         ┆ LTT            ┆ 0.025473 ┆ 0.437416  ┆ 0.058234 │\n",
      "│ 2024-05-01 ┆ NDGI        ┆ LTT            ┆ 0.026649 ┆ 0.240749  ┆ 0.110694 │\n",
      "│ 2024-05-01 ┆ NDLTG       ┆ LTT            ┆ 0.026539 ┆ 0.078959  ┆ 0.336111 │\n",
      "└────────────┴─────────────┴────────────────┴──────────┴───────────┴──────────┘\n",
      "shape: (293, 2)\n",
      "┌────────────┬──────────┐\n",
      "│ DATE       ┆ split    │\n",
      "│ ---        ┆ ---      │\n",
      "│ str        ┆ f64      │\n",
      "╞════════════╪══════════╡\n",
      "│ 2000-01-01 ┆ 0.020159 │\n",
      "│ 2000-02-01 ┆ 0.0      │\n",
      "│ 2000-03-01 ┆ 0.0      │\n",
      "│ 2000-04-01 ┆ 0.0      │\n",
      "│ 2000-05-01 ┆ 0.0      │\n",
      "│ …          ┆ …        │\n",
      "│ 2024-01-01 ┆ 0.017221 │\n",
      "│ 2024-02-01 ┆ 0.018297 │\n",
      "│ 2024-03-01 ┆ 0.016413 │\n",
      "│ 2024-04-01 ┆ 0.014487 │\n",
      "│ 2024-05-01 ┆ 0.012569 │\n",
      "└────────────┴──────────┘\n",
      "shape: (293, 2)\n",
      "┌────────────┬──────────┐\n",
      "│ DATE       ┆ split    │\n",
      "│ ---        ┆ ---      │\n",
      "│ str        ┆ f64      │\n",
      "╞════════════╪══════════╡\n",
      "│ 2000-01-01 ┆ 0.152264 │\n",
      "│ 2000-02-01 ┆ 0.095432 │\n",
      "│ 2000-03-01 ┆ 0.088851 │\n",
      "│ 2000-04-01 ┆ 0.073492 │\n",
      "│ 2000-05-01 ┆ 0.056852 │\n",
      "│ …          ┆ …        │\n",
      "│ 2024-01-01 ┆ 0.352713 │\n",
      "│ 2024-02-01 ┆ 0.33455  │\n",
      "│ 2024-03-01 ┆ 0.30928  │\n",
      "│ 2024-04-01 ┆ 0.302834 │\n",
      "│ 2024-05-01 ┆ 0.336111 │\n",
      "└────────────┴──────────┘\n"
     ]
    },
    {
     "data": {
      "application/vnd.plotly.v1+json": {
       "config": {
        "plotlyServerURL": "https://plot.ly"
       },
       "data": [
        {
         "alignmentgroup": "True",
         "hovertemplate": "DATE=%{x}<br>diff=%{y}<extra></extra>",
         "legendgroup": "",
         "marker": {
          "color": "#636efa",
          "pattern": {
           "shape": ""
          }
         },
         "name": "",
         "offsetgroup": "",
         "orientation": "v",
         "showlegend": false,
         "textposition": "auto",
         "type": "bar",
         "x": [
          "2001-09-01",
          "2002-04-01",
          "2015-10-01",
          "2014-10-01",
          "2015-12-01",
          "2011-07-01",
          "2005-08-01",
          "2006-03-01",
          "2012-07-01",
          "2010-03-01",
          "2008-10-01",
          "2001-10-01",
          "2008-05-01",
          "2000-03-01",
          "2021-11-01",
          "2023-08-01",
          "2020-07-01",
          "2014-03-01",
          "2017-06-01",
          "2020-11-01",
          "2001-03-01",
          "2002-01-01",
          "2012-09-01",
          "2011-08-01",
          "2000-02-01",
          "2002-02-01",
          "2006-06-01",
          "2009-06-01",
          "2015-06-01",
          "2007-01-01",
          "2020-10-01",
          "2016-11-01",
          "2018-05-01",
          "2001-12-01",
          "2020-03-01",
          "2006-11-01",
          "2021-10-01",
          "2006-07-01",
          "2004-07-01",
          "2009-10-01",
          "2011-11-01",
          "2010-09-01",
          "2006-01-01",
          "2009-12-01",
          "2012-08-01",
          "2012-01-01",
          "2013-03-01",
          "2007-12-01",
          "2015-03-01",
          "2022-12-01",
          "2011-12-01",
          "2003-11-01",
          "2006-04-01",
          "2014-09-01",
          "2009-04-01",
          "2013-10-01",
          "2008-03-01",
          "2017-03-01",
          "2016-07-01",
          "2003-12-01",
          "2012-10-01",
          "2023-01-01",
          "2019-02-01",
          "2022-06-01",
          "2018-09-01",
          "2001-05-01",
          "2020-04-01",
          "2013-05-01",
          "2021-01-01",
          "2018-01-01",
          "2005-07-01",
          "2002-03-01",
          "2013-08-01",
          "2007-09-01",
          "2023-03-01",
          "2020-01-01",
          "2010-01-01",
          "2016-04-01",
          "2004-08-01",
          "2021-08-01",
          "2007-07-01",
          "2016-12-01",
          "2005-09-01",
          "2013-07-01",
          "2004-11-01",
          "2017-07-01",
          "2011-04-01",
          "2018-11-01",
          "2006-08-01",
          "2000-05-01",
          "2014-07-01",
          "2014-11-01",
          "2006-05-01",
          "2013-09-01",
          "2004-12-01",
          "2003-03-01",
          "2010-06-01",
          "2014-06-01",
          "2010-07-01",
          "2016-10-01",
          "2019-10-01",
          "2012-11-01",
          "2009-08-01",
          "2014-05-01",
          "2023-12-01",
          "2017-11-01",
          "2010-04-01",
          "2021-09-01",
          "2003-06-01",
          "2010-12-01",
          "2004-02-01",
          "2001-07-01",
          "2014-04-01",
          "2012-12-01",
          "2023-07-01",
          "2017-10-01",
          "2016-01-01",
          "2003-01-01",
          "2023-09-01",
          "2019-08-01",
          "2003-02-01",
          "2006-12-01",
          "2005-12-01",
          "2008-02-01",
          "2008-11-01",
          "2008-01-01",
          "2009-02-01",
          "2011-01-01",
          "2021-04-01",
          "2007-04-01",
          "2021-02-01",
          "2003-10-01",
          "2017-04-01",
          "2016-09-01",
          "2013-11-01",
          "2001-04-01",
          "2008-06-01",
          "2015-05-01",
          "2004-09-01",
          "2005-03-01",
          "2022-08-01",
          "2016-08-01",
          "2015-02-01",
          "2006-02-01",
          "2005-02-01",
          "2004-01-01",
          "2015-08-01",
          "2016-03-01",
          "2019-01-01",
          "2016-02-01",
          "2004-06-01",
          "2024-05-01",
          "2021-03-01",
          "2009-03-01",
          "2005-01-01",
          "2000-08-01",
          "2007-02-01",
          "2015-01-01",
          "2005-11-01",
          "2011-10-01",
          "2001-11-01",
          "2003-05-01",
          "2024-04-01",
          "2020-02-01",
          "2002-07-01",
          "2012-03-01",
          "2002-10-01",
          "2024-03-01",
          "2000-04-01",
          "2002-11-01",
          "2023-06-01",
          "2013-12-01",
          "2007-05-01",
          "2022-09-01",
          "2000-11-01",
          "2015-09-01",
          "2018-12-01",
          "2002-09-01",
          "2009-07-01",
          "2011-02-01",
          "2010-08-01",
          "2019-11-01",
          "2011-06-01",
          "2008-12-01",
          "2012-02-01",
          "2000-10-01",
          "2004-05-01",
          "2006-10-01",
          "2018-07-01",
          "2024-01-01",
          "2007-11-01",
          "2002-06-01",
          "2013-01-01",
          "2002-05-01",
          "2004-10-01",
          "2000-12-01",
          "2001-06-01",
          "2006-09-01",
          "2022-07-01",
          "2023-04-01",
          "2009-05-01",
          "2017-01-01",
          "2003-04-01",
          "2022-02-01",
          "2007-08-01",
          "2014-01-01",
          "2023-02-01",
          "2010-02-01",
          "2009-01-01",
          "2000-09-01",
          "2022-04-01",
          "2019-09-01",
          "2007-10-01",
          "2008-08-01",
          "2000-01-01",
          "2018-08-01",
          "2019-03-01",
          "2023-10-01",
          "2008-07-01",
          "2015-04-01",
          "2022-01-01",
          "2021-05-01",
          "2003-09-01",
          "2022-11-01",
          "2019-12-01",
          "2020-12-01",
          "2017-12-01",
          "2017-08-01",
          "2019-05-01",
          "2017-05-01",
          "2009-09-01",
          "2020-06-01",
          "2008-09-01",
          "2011-03-01",
          "2022-05-01",
          "2012-05-01",
          "2015-07-01",
          "2005-06-01",
          "2012-04-01",
          "2018-02-01",
          "2004-03-01",
          "2015-11-01",
          "2009-11-01",
          "2021-06-01",
          "2005-10-01",
          "2002-08-01",
          "2013-02-01",
          "2004-04-01",
          "2018-03-01",
          "2024-02-01",
          "2010-05-01",
          "2021-07-01",
          "2013-04-01",
          "2022-10-01",
          "2007-06-01",
          "2000-06-01",
          "2001-08-01",
          "2023-11-01",
          "2011-09-01",
          "2005-04-01",
          "2017-09-01",
          "2014-12-01",
          "2010-11-01",
          "2003-08-01",
          "2020-09-01",
          "2021-12-01",
          "2018-06-01",
          "2001-02-01",
          "2019-04-01",
          "2014-02-01",
          "2020-08-01",
          "2010-10-01",
          "2003-07-01",
          "2007-03-01",
          "2020-05-01",
          "2018-10-01",
          "2005-05-01",
          "2014-08-01",
          "2017-02-01",
          "2013-06-01",
          "2019-07-01",
          "2018-04-01",
          "2016-05-01",
          "2000-07-01",
          "2022-03-01",
          "2002-12-01",
          "2016-06-01",
          "2001-01-01",
          "2012-06-01",
          "2019-06-01",
          "2011-05-01",
          "2023-05-01",
          "2008-04-01"
         ],
         "xaxis": "x",
         "y": [
          0.3044340395538986,
          0.24270258540380119,
          0.4753501637536862,
          0.5467026108070997,
          0.4951696824630849,
          0.5871580393556994,
          0.348575724180884,
          0.3307223459639875,
          0.8387940125265999,
          0.5862602773220031,
          0.25804108184135754,
          0.35999441134802185,
          0.41481375516859625,
          0.0888507615891283,
          0.7040373122046538,
          0.3192915127561516,
          0.3242496468653616,
          0.5192025127207924,
          0.5205679744756707,
          0.9053590951983649,
          0.37681050699552515,
          0.31474840286663064,
          0.826627742690454,
          0.644551997784485,
          0.09543184490452411,
          0.27048503094470355,
          0.2881333808318797,
          0.03604954475746339,
          0.5562295576605916,
          0.3012674297897493,
          0.9027868512593938,
          0.651803685675892,
          0.4651267647008428,
          0.39666438383327723,
          0.6178976573400435,
          0.3026534812409667,
          0.7035723233790958,
          0.28259462265155455,
          0.27508985757308324,
          0.19205393785564853,
          0.8309932820716673,
          0.6961933737111113,
          0.3545552420190642,
          0.4552336753000481,
          0.8290752150803478,
          0.8274499080350513,
          0.8213968897486603,
          0.3068833973332063,
          0.5150158381099358,
          0.7556529581064613,
          0.7558995661049955,
          0.4099430256338795,
          0.3053304901479851,
          0.5191579282537219,
          0.0012109852030783555,
          0.6307738623366932,
          0.40616807469176525,
          0.49032434233394495,
          0.6058087938785658,
          0.38131443210373206,
          0.820076251995593,
          0.7051234638062819,
          0.5982183415072391,
          0.8537571416765156,
          0.5098180532736148,
          0.35896940553357415,
          0.4401415525760446,
          0.8175281194578874,
          0.6678282949005508,
          0.5464378678709807,
          0.3771164475237753,
          0.3058101425783724,
          0.6919300862316751,
          0.2641871657711942,
          0.6232310018098395,
          0.5831261400566073,
          0.5652581781150645,
          0.42985689975805436,
          0.27702859059886,
          0.6548800702960524,
          0.26533484130702295,
          0.5683622476619364,
          0.37123112007953457,
          0.8008261604831088,
          0.3500558761662737,
          0.5076135792481923,
          0.5343617144526682,
          0.5195305688238525,
          0.29021053987345935,
          0.056852246126993994,
          0.5021396176856724,
          0.5435637465746331,
          0.2856508687319474,
          0.6878169593039647,
          0.3445374955328398,
          0.8814608020644006,
          0.55437858420268,
          0.5156910657885655,
          0.5568491820313797,
          0.6698295745450403,
          0.8422577722026776,
          0.8202627477148342,
          0.0496559542570094,
          0.5080994244029885,
          0.389426383655501,
          0.5413220854857954,
          0.493491684888708,
          0.6604325837935617,
          0.8607019910394056,
          0.8082215676295108,
          0.34193721992699266,
          0.22439022851701768,
          0.5096765636311185,
          0.8091126399685464,
          0.30738129649312856,
          0.5405239032599782,
          0.40809095658947897,
          0.8255824330450517,
          0.41732614124081585,
          0.9203400214113933,
          0.8917420812355974,
          0.31298317096367423,
          0.37400511494584915,
          0.38096802439973404,
          0.006133738833442435,
          0.3505719008420984,
          0.04373050752103794,
          0.6480523385586229,
          0.5701455737687506,
          0.31830682469292176,
          0.671950846150448,
          0.49150791295594554,
          0.4876240172671898,
          0.656926712612725,
          0.5789726627003956,
          0.49056539860003795,
          0.40811614515579364,
          0.5307444831693764,
          0.31371361597165265,
          0.3285818053560247,
          0.9920194841745812,
          0.6597025378404647,
          0.537501145828537,
          0.337059905845333,
          0.34105214286522645,
          0.3487724214679112,
          0.5658517754644194,
          0.41997403908346953,
          0.5337906738361793,
          0.39661662431765254,
          0.3043165491085362,
          0.32354206285401377,
          0.637174508504337,
          0.008775214080908126,
          0.3352482951941398,
          0.04050687109673307,
          0.2871949601967477,
          0.5086067795425353,
          0.37030528203444735,
          0.6631344615874808,
          0.40537367619753617,
          0.840289603814441,
          0.2883474416847811,
          0.6259959386805994,
          0.2774766913457166,
          0.8524547004018144,
          0.5224137601472448,
          0.2928665433319474,
          0.07349200032291948,
          0.4158543797986325,
          0.3569753457979861,
          0.5464087745693212,
          0.3175782316604042,
          0.9923919122028855,
          0.01195216173659354,
          0.49321472940355154,
          0.5418544027565423,
          0.4288144538681476,
          0.06497446204197903,
          0.5639930040410003,
          0.6373872216372218,
          0.7078010448305732,
          0.5699537758407643,
          0,
          0.8613045502231894,
          0.056029140528302726,
          0.3385983449552074,
          0.3101389613864407,
          0.4989933540271629,
          0.33549164852787533,
          0.24426876327036676,
          0.2258556602452111,
          0.8122260139031561,
          0.2272524676316846,
          0.3294473970901376,
          0,
          0.25862366621243954,
          0.31606854255213235,
          0.9284904198947194,
          0.5605330358011457,
          0.0062825739968332605,
          0.5108362081517778,
          0.8641522500092637,
          0.933051222391027,
          0.2704627276759822,
          0.5025746102807691,
          0.6967577775109011,
          0.5824751297568711,
          0.0016135403038663664,
          0.028398556991530814,
          0.9534787483491058,
          0.9124276112814784,
          0.24177082829660465,
          0.47186787248443623,
          0.13210518143352498,
          0.49127880686462894,
          0.6019993772424092,
          0.652298423370253,
          0.44393132755395875,
          0.5317091305056456,
          0.8864763937764186,
          0.5460433743031453,
          0.48251232177508824,
          0.9086229519084018,
          0.6179021258018239,
          0.7291170675749704,
          0.5414717041371866,
          0.5018216281548233,
          0.6746133820916833,
          0.5080507372666777,
          0.06776256105713835,
          0.27515238830493605,
          0.43385967950318316,
          0.5344784655901783,
          0.8361693984128172,
          0.8459065986464828,
          0.5432851913196199,
          0.3682161771273292,
          0.851389925496918,
          0.4807308321313368,
          0.3521305477610349,
          0.5070388361056721,
          0.34525630416076464,
          0.5638986941750644,
          0.36579331199793214,
          0.3496536668433687,
          0.822354180970772,
          0.36527068366632853,
          0.4608221427663026,
          0.31625390553663896,
          0.4481710816120269,
          0.6010240214045691,
          0.8189973389420713,
          0.6920270756047198,
          0.299015899164889,
          0.06481235882435675,
          0.2305868579759885,
          0.4866174241899026,
          0.7305462967900084,
          0.31522012044129444,
          0.5346171670755594,
          0.5439561539228532,
          0.7674401052708925,
          0.5721821930561182,
          0.8291214710261897,
          0.8364140912558375,
          0.4875259715329097,
          0.20389613883627042,
          0.6735592572592123,
          0.5516509396659187,
          0.574182653914678,
          0.7634277726414394,
          0.8148970096983503,
          0.30854353590933076,
          0.21285250976753903,
          0.5042080837118432,
          0.33560995732627263,
          0.5185236943193325,
          0.48580298953280876,
          0.7962909745549552,
          0.9051401110515016,
          0.47054000053898704,
          0.4994457228187475,
          0.08332915494532661,
          0.9340397995961767,
          0.5901535119180746,
          0.5572138985229034,
          0,
          0.8425691959441712,
          0.8457071623351698,
          0.5305490170759324,
          0.5006326677571435,
          0.4288393473801299
         ],
         "yaxis": "y"
        }
       ],
       "layout": {
        "barmode": "relative",
        "legend": {
         "tracegroupgap": 0
        },
        "template": {
         "data": {
          "bar": [
           {
            "error_x": {
             "color": "#2a3f5f"
            },
            "error_y": {
             "color": "#2a3f5f"
            },
            "marker": {
             "line": {
              "color": "#E5ECF6",
              "width": 0.5
             },
             "pattern": {
              "fillmode": "overlay",
              "size": 10,
              "solidity": 0.2
             }
            },
            "type": "bar"
           }
          ],
          "barpolar": [
           {
            "marker": {
             "line": {
              "color": "#E5ECF6",
              "width": 0.5
             },
             "pattern": {
              "fillmode": "overlay",
              "size": 10,
              "solidity": 0.2
             }
            },
            "type": "barpolar"
           }
          ],
          "carpet": [
           {
            "aaxis": {
             "endlinecolor": "#2a3f5f",
             "gridcolor": "white",
             "linecolor": "white",
             "minorgridcolor": "white",
             "startlinecolor": "#2a3f5f"
            },
            "baxis": {
             "endlinecolor": "#2a3f5f",
             "gridcolor": "white",
             "linecolor": "white",
             "minorgridcolor": "white",
             "startlinecolor": "#2a3f5f"
            },
            "type": "carpet"
           }
          ],
          "choropleth": [
           {
            "colorbar": {
             "outlinewidth": 0,
             "ticks": ""
            },
            "type": "choropleth"
           }
          ],
          "contour": [
           {
            "colorbar": {
             "outlinewidth": 0,
             "ticks": ""
            },
            "colorscale": [
             [
              0,
              "#0d0887"
             ],
             [
              0.1111111111111111,
              "#46039f"
             ],
             [
              0.2222222222222222,
              "#7201a8"
             ],
             [
              0.3333333333333333,
              "#9c179e"
             ],
             [
              0.4444444444444444,
              "#bd3786"
             ],
             [
              0.5555555555555556,
              "#d8576b"
             ],
             [
              0.6666666666666666,
              "#ed7953"
             ],
             [
              0.7777777777777778,
              "#fb9f3a"
             ],
             [
              0.8888888888888888,
              "#fdca26"
             ],
             [
              1,
              "#f0f921"
             ]
            ],
            "type": "contour"
           }
          ],
          "contourcarpet": [
           {
            "colorbar": {
             "outlinewidth": 0,
             "ticks": ""
            },
            "type": "contourcarpet"
           }
          ],
          "heatmap": [
           {
            "colorbar": {
             "outlinewidth": 0,
             "ticks": ""
            },
            "colorscale": [
             [
              0,
              "#0d0887"
             ],
             [
              0.1111111111111111,
              "#46039f"
             ],
             [
              0.2222222222222222,
              "#7201a8"
             ],
             [
              0.3333333333333333,
              "#9c179e"
             ],
             [
              0.4444444444444444,
              "#bd3786"
             ],
             [
              0.5555555555555556,
              "#d8576b"
             ],
             [
              0.6666666666666666,
              "#ed7953"
             ],
             [
              0.7777777777777778,
              "#fb9f3a"
             ],
             [
              0.8888888888888888,
              "#fdca26"
             ],
             [
              1,
              "#f0f921"
             ]
            ],
            "type": "heatmap"
           }
          ],
          "heatmapgl": [
           {
            "colorbar": {
             "outlinewidth": 0,
             "ticks": ""
            },
            "colorscale": [
             [
              0,
              "#0d0887"
             ],
             [
              0.1111111111111111,
              "#46039f"
             ],
             [
              0.2222222222222222,
              "#7201a8"
             ],
             [
              0.3333333333333333,
              "#9c179e"
             ],
             [
              0.4444444444444444,
              "#bd3786"
             ],
             [
              0.5555555555555556,
              "#d8576b"
             ],
             [
              0.6666666666666666,
              "#ed7953"
             ],
             [
              0.7777777777777778,
              "#fb9f3a"
             ],
             [
              0.8888888888888888,
              "#fdca26"
             ],
             [
              1,
              "#f0f921"
             ]
            ],
            "type": "heatmapgl"
           }
          ],
          "histogram": [
           {
            "marker": {
             "pattern": {
              "fillmode": "overlay",
              "size": 10,
              "solidity": 0.2
             }
            },
            "type": "histogram"
           }
          ],
          "histogram2d": [
           {
            "colorbar": {
             "outlinewidth": 0,
             "ticks": ""
            },
            "colorscale": [
             [
              0,
              "#0d0887"
             ],
             [
              0.1111111111111111,
              "#46039f"
             ],
             [
              0.2222222222222222,
              "#7201a8"
             ],
             [
              0.3333333333333333,
              "#9c179e"
             ],
             [
              0.4444444444444444,
              "#bd3786"
             ],
             [
              0.5555555555555556,
              "#d8576b"
             ],
             [
              0.6666666666666666,
              "#ed7953"
             ],
             [
              0.7777777777777778,
              "#fb9f3a"
             ],
             [
              0.8888888888888888,
              "#fdca26"
             ],
             [
              1,
              "#f0f921"
             ]
            ],
            "type": "histogram2d"
           }
          ],
          "histogram2dcontour": [
           {
            "colorbar": {
             "outlinewidth": 0,
             "ticks": ""
            },
            "colorscale": [
             [
              0,
              "#0d0887"
             ],
             [
              0.1111111111111111,
              "#46039f"
             ],
             [
              0.2222222222222222,
              "#7201a8"
             ],
             [
              0.3333333333333333,
              "#9c179e"
             ],
             [
              0.4444444444444444,
              "#bd3786"
             ],
             [
              0.5555555555555556,
              "#d8576b"
             ],
             [
              0.6666666666666666,
              "#ed7953"
             ],
             [
              0.7777777777777778,
              "#fb9f3a"
             ],
             [
              0.8888888888888888,
              "#fdca26"
             ],
             [
              1,
              "#f0f921"
             ]
            ],
            "type": "histogram2dcontour"
           }
          ],
          "mesh3d": [
           {
            "colorbar": {
             "outlinewidth": 0,
             "ticks": ""
            },
            "type": "mesh3d"
           }
          ],
          "parcoords": [
           {
            "line": {
             "colorbar": {
              "outlinewidth": 0,
              "ticks": ""
             }
            },
            "type": "parcoords"
           }
          ],
          "pie": [
           {
            "automargin": true,
            "type": "pie"
           }
          ],
          "scatter": [
           {
            "fillpattern": {
             "fillmode": "overlay",
             "size": 10,
             "solidity": 0.2
            },
            "type": "scatter"
           }
          ],
          "scatter3d": [
           {
            "line": {
             "colorbar": {
              "outlinewidth": 0,
              "ticks": ""
             }
            },
            "marker": {
             "colorbar": {
              "outlinewidth": 0,
              "ticks": ""
             }
            },
            "type": "scatter3d"
           }
          ],
          "scattercarpet": [
           {
            "marker": {
             "colorbar": {
              "outlinewidth": 0,
              "ticks": ""
             }
            },
            "type": "scattercarpet"
           }
          ],
          "scattergeo": [
           {
            "marker": {
             "colorbar": {
              "outlinewidth": 0,
              "ticks": ""
             }
            },
            "type": "scattergeo"
           }
          ],
          "scattergl": [
           {
            "marker": {
             "colorbar": {
              "outlinewidth": 0,
              "ticks": ""
             }
            },
            "type": "scattergl"
           }
          ],
          "scattermapbox": [
           {
            "marker": {
             "colorbar": {
              "outlinewidth": 0,
              "ticks": ""
             }
            },
            "type": "scattermapbox"
           }
          ],
          "scatterpolar": [
           {
            "marker": {
             "colorbar": {
              "outlinewidth": 0,
              "ticks": ""
             }
            },
            "type": "scatterpolar"
           }
          ],
          "scatterpolargl": [
           {
            "marker": {
             "colorbar": {
              "outlinewidth": 0,
              "ticks": ""
             }
            },
            "type": "scatterpolargl"
           }
          ],
          "scatterternary": [
           {
            "marker": {
             "colorbar": {
              "outlinewidth": 0,
              "ticks": ""
             }
            },
            "type": "scatterternary"
           }
          ],
          "surface": [
           {
            "colorbar": {
             "outlinewidth": 0,
             "ticks": ""
            },
            "colorscale": [
             [
              0,
              "#0d0887"
             ],
             [
              0.1111111111111111,
              "#46039f"
             ],
             [
              0.2222222222222222,
              "#7201a8"
             ],
             [
              0.3333333333333333,
              "#9c179e"
             ],
             [
              0.4444444444444444,
              "#bd3786"
             ],
             [
              0.5555555555555556,
              "#d8576b"
             ],
             [
              0.6666666666666666,
              "#ed7953"
             ],
             [
              0.7777777777777778,
              "#fb9f3a"
             ],
             [
              0.8888888888888888,
              "#fdca26"
             ],
             [
              1,
              "#f0f921"
             ]
            ],
            "type": "surface"
           }
          ],
          "table": [
           {
            "cells": {
             "fill": {
              "color": "#EBF0F8"
             },
             "line": {
              "color": "white"
             }
            },
            "header": {
             "fill": {
              "color": "#C8D4E3"
             },
             "line": {
              "color": "white"
             }
            },
            "type": "table"
           }
          ]
         },
         "layout": {
          "annotationdefaults": {
           "arrowcolor": "#2a3f5f",
           "arrowhead": 0,
           "arrowwidth": 1
          },
          "autotypenumbers": "strict",
          "coloraxis": {
           "colorbar": {
            "outlinewidth": 0,
            "ticks": ""
           }
          },
          "colorscale": {
           "diverging": [
            [
             0,
             "#8e0152"
            ],
            [
             0.1,
             "#c51b7d"
            ],
            [
             0.2,
             "#de77ae"
            ],
            [
             0.3,
             "#f1b6da"
            ],
            [
             0.4,
             "#fde0ef"
            ],
            [
             0.5,
             "#f7f7f7"
            ],
            [
             0.6,
             "#e6f5d0"
            ],
            [
             0.7,
             "#b8e186"
            ],
            [
             0.8,
             "#7fbc41"
            ],
            [
             0.9,
             "#4d9221"
            ],
            [
             1,
             "#276419"
            ]
           ],
           "sequential": [
            [
             0,
             "#0d0887"
            ],
            [
             0.1111111111111111,
             "#46039f"
            ],
            [
             0.2222222222222222,
             "#7201a8"
            ],
            [
             0.3333333333333333,
             "#9c179e"
            ],
            [
             0.4444444444444444,
             "#bd3786"
            ],
            [
             0.5555555555555556,
             "#d8576b"
            ],
            [
             0.6666666666666666,
             "#ed7953"
            ],
            [
             0.7777777777777778,
             "#fb9f3a"
            ],
            [
             0.8888888888888888,
             "#fdca26"
            ],
            [
             1,
             "#f0f921"
            ]
           ],
           "sequentialminus": [
            [
             0,
             "#0d0887"
            ],
            [
             0.1111111111111111,
             "#46039f"
            ],
            [
             0.2222222222222222,
             "#7201a8"
            ],
            [
             0.3333333333333333,
             "#9c179e"
            ],
            [
             0.4444444444444444,
             "#bd3786"
            ],
            [
             0.5555555555555556,
             "#d8576b"
            ],
            [
             0.6666666666666666,
             "#ed7953"
            ],
            [
             0.7777777777777778,
             "#fb9f3a"
            ],
            [
             0.8888888888888888,
             "#fdca26"
            ],
            [
             1,
             "#f0f921"
            ]
           ]
          },
          "colorway": [
           "#636efa",
           "#EF553B",
           "#00cc96",
           "#ab63fa",
           "#FFA15A",
           "#19d3f3",
           "#FF6692",
           "#B6E880",
           "#FF97FF",
           "#FECB52"
          ],
          "font": {
           "color": "#2a3f5f"
          },
          "geo": {
           "bgcolor": "white",
           "lakecolor": "white",
           "landcolor": "#E5ECF6",
           "showlakes": true,
           "showland": true,
           "subunitcolor": "white"
          },
          "hoverlabel": {
           "align": "left"
          },
          "hovermode": "closest",
          "mapbox": {
           "style": "light"
          },
          "paper_bgcolor": "white",
          "plot_bgcolor": "#E5ECF6",
          "polar": {
           "angularaxis": {
            "gridcolor": "white",
            "linecolor": "white",
            "ticks": ""
           },
           "bgcolor": "#E5ECF6",
           "radialaxis": {
            "gridcolor": "white",
            "linecolor": "white",
            "ticks": ""
           }
          },
          "scene": {
           "xaxis": {
            "backgroundcolor": "#E5ECF6",
            "gridcolor": "white",
            "gridwidth": 2,
            "linecolor": "white",
            "showbackground": true,
            "ticks": "",
            "zerolinecolor": "white"
           },
           "yaxis": {
            "backgroundcolor": "#E5ECF6",
            "gridcolor": "white",
            "gridwidth": 2,
            "linecolor": "white",
            "showbackground": true,
            "ticks": "",
            "zerolinecolor": "white"
           },
           "zaxis": {
            "backgroundcolor": "#E5ECF6",
            "gridcolor": "white",
            "gridwidth": 2,
            "linecolor": "white",
            "showbackground": true,
            "ticks": "",
            "zerolinecolor": "white"
           }
          },
          "shapedefaults": {
           "line": {
            "color": "#2a3f5f"
           }
          },
          "ternary": {
           "aaxis": {
            "gridcolor": "white",
            "linecolor": "white",
            "ticks": ""
           },
           "baxis": {
            "gridcolor": "white",
            "linecolor": "white",
            "ticks": ""
           },
           "bgcolor": "#E5ECF6",
           "caxis": {
            "gridcolor": "white",
            "linecolor": "white",
            "ticks": ""
           }
          },
          "title": {
           "x": 0.05
          },
          "xaxis": {
           "automargin": true,
           "gridcolor": "white",
           "linecolor": "white",
           "ticks": "",
           "title": {
            "standoff": 15
           },
           "zerolinecolor": "white",
           "zerolinewidth": 2
          },
          "yaxis": {
           "automargin": true,
           "gridcolor": "white",
           "linecolor": "white",
           "ticks": "",
           "title": {
            "standoff": 15
           },
           "zerolinecolor": "white",
           "zerolinewidth": 2
          }
         }
        },
        "title": {
         "text": "LTT Allocation Range"
        },
        "xaxis": {
         "anchor": "y",
         "domain": [
          0,
          1
         ],
         "title": {
          "text": "DATE"
         }
        },
        "yaxis": {
         "anchor": "x",
         "domain": [
          0,
          1
         ],
         "title": {
          "text": "diff"
         }
        }
       }
      },
      "text/html": [
       "<div>                            <div id=\"6e18d7f4-6013-4c88-a4b7-959b25a2d143\" class=\"plotly-graph-div\" style=\"height:525px; width:100%;\"></div>            <script type=\"text/javascript\">                require([\"plotly\"], function(Plotly) {                    window.PLOTLYENV=window.PLOTLYENV || {};                                    if (document.getElementById(\"6e18d7f4-6013-4c88-a4b7-959b25a2d143\")) {                    Plotly.newPlot(                        \"6e18d7f4-6013-4c88-a4b7-959b25a2d143\",                        [{\"alignmentgroup\":\"True\",\"hovertemplate\":\"DATE=%{x}\\u003cbr\\u003ediff=%{y}\\u003cextra\\u003e\\u003c\\u002fextra\\u003e\",\"legendgroup\":\"\",\"marker\":{\"color\":\"#636efa\",\"pattern\":{\"shape\":\"\"}},\"name\":\"\",\"offsetgroup\":\"\",\"orientation\":\"v\",\"showlegend\":false,\"textposition\":\"auto\",\"x\":[\"2001-09-01\",\"2002-04-01\",\"2015-10-01\",\"2014-10-01\",\"2015-12-01\",\"2011-07-01\",\"2005-08-01\",\"2006-03-01\",\"2012-07-01\",\"2010-03-01\",\"2008-10-01\",\"2001-10-01\",\"2008-05-01\",\"2000-03-01\",\"2021-11-01\",\"2023-08-01\",\"2020-07-01\",\"2014-03-01\",\"2017-06-01\",\"2020-11-01\",\"2001-03-01\",\"2002-01-01\",\"2012-09-01\",\"2011-08-01\",\"2000-02-01\",\"2002-02-01\",\"2006-06-01\",\"2009-06-01\",\"2015-06-01\",\"2007-01-01\",\"2020-10-01\",\"2016-11-01\",\"2018-05-01\",\"2001-12-01\",\"2020-03-01\",\"2006-11-01\",\"2021-10-01\",\"2006-07-01\",\"2004-07-01\",\"2009-10-01\",\"2011-11-01\",\"2010-09-01\",\"2006-01-01\",\"2009-12-01\",\"2012-08-01\",\"2012-01-01\",\"2013-03-01\",\"2007-12-01\",\"2015-03-01\",\"2022-12-01\",\"2011-12-01\",\"2003-11-01\",\"2006-04-01\",\"2014-09-01\",\"2009-04-01\",\"2013-10-01\",\"2008-03-01\",\"2017-03-01\",\"2016-07-01\",\"2003-12-01\",\"2012-10-01\",\"2023-01-01\",\"2019-02-01\",\"2022-06-01\",\"2018-09-01\",\"2001-05-01\",\"2020-04-01\",\"2013-05-01\",\"2021-01-01\",\"2018-01-01\",\"2005-07-01\",\"2002-03-01\",\"2013-08-01\",\"2007-09-01\",\"2023-03-01\",\"2020-01-01\",\"2010-01-01\",\"2016-04-01\",\"2004-08-01\",\"2021-08-01\",\"2007-07-01\",\"2016-12-01\",\"2005-09-01\",\"2013-07-01\",\"2004-11-01\",\"2017-07-01\",\"2011-04-01\",\"2018-11-01\",\"2006-08-01\",\"2000-05-01\",\"2014-07-01\",\"2014-11-01\",\"2006-05-01\",\"2013-09-01\",\"2004-12-01\",\"2003-03-01\",\"2010-06-01\",\"2014-06-01\",\"2010-07-01\",\"2016-10-01\",\"2019-10-01\",\"2012-11-01\",\"2009-08-01\",\"2014-05-01\",\"2023-12-01\",\"2017-11-01\",\"2010-04-01\",\"2021-09-01\",\"2003-06-01\",\"2010-12-01\",\"2004-02-01\",\"2001-07-01\",\"2014-04-01\",\"2012-12-01\",\"2023-07-01\",\"2017-10-01\",\"2016-01-01\",\"2003-01-01\",\"2023-09-01\",\"2019-08-01\",\"2003-02-01\",\"2006-12-01\",\"2005-12-01\",\"2008-02-01\",\"2008-11-01\",\"2008-01-01\",\"2009-02-01\",\"2011-01-01\",\"2021-04-01\",\"2007-04-01\",\"2021-02-01\",\"2003-10-01\",\"2017-04-01\",\"2016-09-01\",\"2013-11-01\",\"2001-04-01\",\"2008-06-01\",\"2015-05-01\",\"2004-09-01\",\"2005-03-01\",\"2022-08-01\",\"2016-08-01\",\"2015-02-01\",\"2006-02-01\",\"2005-02-01\",\"2004-01-01\",\"2015-08-01\",\"2016-03-01\",\"2019-01-01\",\"2016-02-01\",\"2004-06-01\",\"2024-05-01\",\"2021-03-01\",\"2009-03-01\",\"2005-01-01\",\"2000-08-01\",\"2007-02-01\",\"2015-01-01\",\"2005-11-01\",\"2011-10-01\",\"2001-11-01\",\"2003-05-01\",\"2024-04-01\",\"2020-02-01\",\"2002-07-01\",\"2012-03-01\",\"2002-10-01\",\"2024-03-01\",\"2000-04-01\",\"2002-11-01\",\"2023-06-01\",\"2013-12-01\",\"2007-05-01\",\"2022-09-01\",\"2000-11-01\",\"2015-09-01\",\"2018-12-01\",\"2002-09-01\",\"2009-07-01\",\"2011-02-01\",\"2010-08-01\",\"2019-11-01\",\"2011-06-01\",\"2008-12-01\",\"2012-02-01\",\"2000-10-01\",\"2004-05-01\",\"2006-10-01\",\"2018-07-01\",\"2024-01-01\",\"2007-11-01\",\"2002-06-01\",\"2013-01-01\",\"2002-05-01\",\"2004-10-01\",\"2000-12-01\",\"2001-06-01\",\"2006-09-01\",\"2022-07-01\",\"2023-04-01\",\"2009-05-01\",\"2017-01-01\",\"2003-04-01\",\"2022-02-01\",\"2007-08-01\",\"2014-01-01\",\"2023-02-01\",\"2010-02-01\",\"2009-01-01\",\"2000-09-01\",\"2022-04-01\",\"2019-09-01\",\"2007-10-01\",\"2008-08-01\",\"2000-01-01\",\"2018-08-01\",\"2019-03-01\",\"2023-10-01\",\"2008-07-01\",\"2015-04-01\",\"2022-01-01\",\"2021-05-01\",\"2003-09-01\",\"2022-11-01\",\"2019-12-01\",\"2020-12-01\",\"2017-12-01\",\"2017-08-01\",\"2019-05-01\",\"2017-05-01\",\"2009-09-01\",\"2020-06-01\",\"2008-09-01\",\"2011-03-01\",\"2022-05-01\",\"2012-05-01\",\"2015-07-01\",\"2005-06-01\",\"2012-04-01\",\"2018-02-01\",\"2004-03-01\",\"2015-11-01\",\"2009-11-01\",\"2021-06-01\",\"2005-10-01\",\"2002-08-01\",\"2013-02-01\",\"2004-04-01\",\"2018-03-01\",\"2024-02-01\",\"2010-05-01\",\"2021-07-01\",\"2013-04-01\",\"2022-10-01\",\"2007-06-01\",\"2000-06-01\",\"2001-08-01\",\"2023-11-01\",\"2011-09-01\",\"2005-04-01\",\"2017-09-01\",\"2014-12-01\",\"2010-11-01\",\"2003-08-01\",\"2020-09-01\",\"2021-12-01\",\"2018-06-01\",\"2001-02-01\",\"2019-04-01\",\"2014-02-01\",\"2020-08-01\",\"2010-10-01\",\"2003-07-01\",\"2007-03-01\",\"2020-05-01\",\"2018-10-01\",\"2005-05-01\",\"2014-08-01\",\"2017-02-01\",\"2013-06-01\",\"2019-07-01\",\"2018-04-01\",\"2016-05-01\",\"2000-07-01\",\"2022-03-01\",\"2002-12-01\",\"2016-06-01\",\"2001-01-01\",\"2012-06-01\",\"2019-06-01\",\"2011-05-01\",\"2023-05-01\",\"2008-04-01\"],\"xaxis\":\"x\",\"y\":[0.3044340395538986,0.24270258540380119,0.4753501637536862,0.5467026108070997,0.4951696824630849,0.5871580393556994,0.348575724180884,0.3307223459639875,0.8387940125265999,0.5862602773220031,0.25804108184135754,0.35999441134802185,0.41481375516859625,0.0888507615891283,0.7040373122046538,0.3192915127561516,0.3242496468653616,0.5192025127207924,0.5205679744756707,0.9053590951983649,0.37681050699552515,0.31474840286663064,0.826627742690454,0.644551997784485,0.09543184490452411,0.27048503094470355,0.2881333808318797,0.03604954475746339,0.5562295576605916,0.3012674297897493,0.9027868512593938,0.651803685675892,0.4651267647008428,0.39666438383327723,0.6178976573400435,0.3026534812409667,0.7035723233790958,0.28259462265155455,0.27508985757308324,0.19205393785564853,0.8309932820716673,0.6961933737111113,0.3545552420190642,0.4552336753000481,0.8290752150803478,0.8274499080350513,0.8213968897486603,0.3068833973332063,0.5150158381099358,0.7556529581064613,0.7558995661049955,0.4099430256338795,0.3053304901479851,0.5191579282537219,0.0012109852030783555,0.6307738623366932,0.40616807469176525,0.49032434233394495,0.6058087938785658,0.38131443210373206,0.820076251995593,0.7051234638062819,0.5982183415072391,0.8537571416765156,0.5098180532736148,0.35896940553357415,0.4401415525760446,0.8175281194578874,0.6678282949005508,0.5464378678709807,0.3771164475237753,0.3058101425783724,0.6919300862316751,0.2641871657711942,0.6232310018098395,0.5831261400566073,0.5652581781150645,0.42985689975805436,0.27702859059886,0.6548800702960524,0.26533484130702295,0.5683622476619364,0.37123112007953457,0.8008261604831088,0.3500558761662737,0.5076135792481923,0.5343617144526682,0.5195305688238525,0.29021053987345935,0.056852246126993994,0.5021396176856724,0.5435637465746331,0.2856508687319474,0.6878169593039647,0.3445374955328398,0.8814608020644006,0.55437858420268,0.5156910657885655,0.5568491820313797,0.6698295745450403,0.8422577722026776,0.8202627477148342,0.0496559542570094,0.5080994244029885,0.389426383655501,0.5413220854857954,0.493491684888708,0.6604325837935617,0.8607019910394056,0.8082215676295108,0.34193721992699266,0.22439022851701768,0.5096765636311185,0.8091126399685464,0.30738129649312856,0.5405239032599782,0.40809095658947897,0.8255824330450517,0.41732614124081585,0.9203400214113933,0.8917420812355974,0.31298317096367423,0.37400511494584915,0.38096802439973404,0.006133738833442435,0.3505719008420984,0.04373050752103794,0.6480523385586229,0.5701455737687506,0.31830682469292176,0.671950846150448,0.49150791295594554,0.4876240172671898,0.656926712612725,0.5789726627003956,0.49056539860003795,0.40811614515579364,0.5307444831693764,0.31371361597165265,0.3285818053560247,0.9920194841745812,0.6597025378404647,0.537501145828537,0.337059905845333,0.34105214286522645,0.3487724214679112,0.5658517754644194,0.41997403908346953,0.5337906738361793,0.39661662431765254,0.3043165491085362,0.32354206285401377,0.637174508504337,0.008775214080908126,0.3352482951941398,0.04050687109673307,0.2871949601967477,0.5086067795425353,0.37030528203444735,0.6631344615874808,0.40537367619753617,0.840289603814441,0.2883474416847811,0.6259959386805994,0.2774766913457166,0.8524547004018144,0.5224137601472448,0.2928665433319474,0.07349200032291948,0.4158543797986325,0.3569753457979861,0.5464087745693212,0.3175782316604042,0.9923919122028855,0.01195216173659354,0.49321472940355154,0.5418544027565423,0.4288144538681476,0.06497446204197903,0.5639930040410003,0.6373872216372218,0.7078010448305732,0.5699537758407643,0.0,0.8613045502231894,0.056029140528302726,0.3385983449552074,0.3101389613864407,0.4989933540271629,0.33549164852787533,0.24426876327036676,0.2258556602452111,0.8122260139031561,0.2272524676316846,0.3294473970901376,0.0,0.25862366621243954,0.31606854255213235,0.9284904198947194,0.5605330358011457,0.0062825739968332605,0.5108362081517778,0.8641522500092637,0.933051222391027,0.2704627276759822,0.5025746102807691,0.6967577775109011,0.5824751297568711,0.0016135403038663664,0.028398556991530814,0.9534787483491058,0.9124276112814784,0.24177082829660465,0.47186787248443623,0.13210518143352498,0.49127880686462894,0.6019993772424092,0.652298423370253,0.44393132755395875,0.5317091305056456,0.8864763937764186,0.5460433743031453,0.48251232177508824,0.9086229519084018,0.6179021258018239,0.7291170675749704,0.5414717041371866,0.5018216281548233,0.6746133820916833,0.5080507372666777,0.06776256105713835,0.27515238830493605,0.43385967950318316,0.5344784655901783,0.8361693984128172,0.8459065986464828,0.5432851913196199,0.3682161771273292,0.851389925496918,0.4807308321313368,0.3521305477610349,0.5070388361056721,0.34525630416076464,0.5638986941750644,0.36579331199793214,0.3496536668433687,0.822354180970772,0.36527068366632853,0.4608221427663026,0.31625390553663896,0.4481710816120269,0.6010240214045691,0.8189973389420713,0.6920270756047198,0.299015899164889,0.06481235882435675,0.2305868579759885,0.4866174241899026,0.7305462967900084,0.31522012044129444,0.5346171670755594,0.5439561539228532,0.7674401052708925,0.5721821930561182,0.8291214710261897,0.8364140912558375,0.4875259715329097,0.20389613883627042,0.6735592572592123,0.5516509396659187,0.574182653914678,0.7634277726414394,0.8148970096983503,0.30854353590933076,0.21285250976753903,0.5042080837118432,0.33560995732627263,0.5185236943193325,0.48580298953280876,0.7962909745549552,0.9051401110515016,0.47054000053898704,0.4994457228187475,0.08332915494532661,0.9340397995961767,0.5901535119180746,0.5572138985229034,0.0,0.8425691959441712,0.8457071623351698,0.5305490170759324,0.5006326677571435,0.4288393473801299],\"yaxis\":\"y\",\"type\":\"bar\"}],                        {\"template\":{\"data\":{\"histogram2dcontour\":[{\"type\":\"histogram2dcontour\",\"colorbar\":{\"outlinewidth\":0,\"ticks\":\"\"},\"colorscale\":[[0.0,\"#0d0887\"],[0.1111111111111111,\"#46039f\"],[0.2222222222222222,\"#7201a8\"],[0.3333333333333333,\"#9c179e\"],[0.4444444444444444,\"#bd3786\"],[0.5555555555555556,\"#d8576b\"],[0.6666666666666666,\"#ed7953\"],[0.7777777777777778,\"#fb9f3a\"],[0.8888888888888888,\"#fdca26\"],[1.0,\"#f0f921\"]]}],\"choropleth\":[{\"type\":\"choropleth\",\"colorbar\":{\"outlinewidth\":0,\"ticks\":\"\"}}],\"histogram2d\":[{\"type\":\"histogram2d\",\"colorbar\":{\"outlinewidth\":0,\"ticks\":\"\"},\"colorscale\":[[0.0,\"#0d0887\"],[0.1111111111111111,\"#46039f\"],[0.2222222222222222,\"#7201a8\"],[0.3333333333333333,\"#9c179e\"],[0.4444444444444444,\"#bd3786\"],[0.5555555555555556,\"#d8576b\"],[0.6666666666666666,\"#ed7953\"],[0.7777777777777778,\"#fb9f3a\"],[0.8888888888888888,\"#fdca26\"],[1.0,\"#f0f921\"]]}],\"heatmap\":[{\"type\":\"heatmap\",\"colorbar\":{\"outlinewidth\":0,\"ticks\":\"\"},\"colorscale\":[[0.0,\"#0d0887\"],[0.1111111111111111,\"#46039f\"],[0.2222222222222222,\"#7201a8\"],[0.3333333333333333,\"#9c179e\"],[0.4444444444444444,\"#bd3786\"],[0.5555555555555556,\"#d8576b\"],[0.6666666666666666,\"#ed7953\"],[0.7777777777777778,\"#fb9f3a\"],[0.8888888888888888,\"#fdca26\"],[1.0,\"#f0f921\"]]}],\"heatmapgl\":[{\"type\":\"heatmapgl\",\"colorbar\":{\"outlinewidth\":0,\"ticks\":\"\"},\"colorscale\":[[0.0,\"#0d0887\"],[0.1111111111111111,\"#46039f\"],[0.2222222222222222,\"#7201a8\"],[0.3333333333333333,\"#9c179e\"],[0.4444444444444444,\"#bd3786\"],[0.5555555555555556,\"#d8576b\"],[0.6666666666666666,\"#ed7953\"],[0.7777777777777778,\"#fb9f3a\"],[0.8888888888888888,\"#fdca26\"],[1.0,\"#f0f921\"]]}],\"contourcarpet\":[{\"type\":\"contourcarpet\",\"colorbar\":{\"outlinewidth\":0,\"ticks\":\"\"}}],\"contour\":[{\"type\":\"contour\",\"colorbar\":{\"outlinewidth\":0,\"ticks\":\"\"},\"colorscale\":[[0.0,\"#0d0887\"],[0.1111111111111111,\"#46039f\"],[0.2222222222222222,\"#7201a8\"],[0.3333333333333333,\"#9c179e\"],[0.4444444444444444,\"#bd3786\"],[0.5555555555555556,\"#d8576b\"],[0.6666666666666666,\"#ed7953\"],[0.7777777777777778,\"#fb9f3a\"],[0.8888888888888888,\"#fdca26\"],[1.0,\"#f0f921\"]]}],\"surface\":[{\"type\":\"surface\",\"colorbar\":{\"outlinewidth\":0,\"ticks\":\"\"},\"colorscale\":[[0.0,\"#0d0887\"],[0.1111111111111111,\"#46039f\"],[0.2222222222222222,\"#7201a8\"],[0.3333333333333333,\"#9c179e\"],[0.4444444444444444,\"#bd3786\"],[0.5555555555555556,\"#d8576b\"],[0.6666666666666666,\"#ed7953\"],[0.7777777777777778,\"#fb9f3a\"],[0.8888888888888888,\"#fdca26\"],[1.0,\"#f0f921\"]]}],\"mesh3d\":[{\"type\":\"mesh3d\",\"colorbar\":{\"outlinewidth\":0,\"ticks\":\"\"}}],\"scatter\":[{\"fillpattern\":{\"fillmode\":\"overlay\",\"size\":10,\"solidity\":0.2},\"type\":\"scatter\"}],\"parcoords\":[{\"type\":\"parcoords\",\"line\":{\"colorbar\":{\"outlinewidth\":0,\"ticks\":\"\"}}}],\"scatterpolargl\":[{\"type\":\"scatterpolargl\",\"marker\":{\"colorbar\":{\"outlinewidth\":0,\"ticks\":\"\"}}}],\"bar\":[{\"error_x\":{\"color\":\"#2a3f5f\"},\"error_y\":{\"color\":\"#2a3f5f\"},\"marker\":{\"line\":{\"color\":\"#E5ECF6\",\"width\":0.5},\"pattern\":{\"fillmode\":\"overlay\",\"size\":10,\"solidity\":0.2}},\"type\":\"bar\"}],\"scattergeo\":[{\"type\":\"scattergeo\",\"marker\":{\"colorbar\":{\"outlinewidth\":0,\"ticks\":\"\"}}}],\"scatterpolar\":[{\"type\":\"scatterpolar\",\"marker\":{\"colorbar\":{\"outlinewidth\":0,\"ticks\":\"\"}}}],\"histogram\":[{\"marker\":{\"pattern\":{\"fillmode\":\"overlay\",\"size\":10,\"solidity\":0.2}},\"type\":\"histogram\"}],\"scattergl\":[{\"type\":\"scattergl\",\"marker\":{\"colorbar\":{\"outlinewidth\":0,\"ticks\":\"\"}}}],\"scatter3d\":[{\"type\":\"scatter3d\",\"line\":{\"colorbar\":{\"outlinewidth\":0,\"ticks\":\"\"}},\"marker\":{\"colorbar\":{\"outlinewidth\":0,\"ticks\":\"\"}}}],\"scattermapbox\":[{\"type\":\"scattermapbox\",\"marker\":{\"colorbar\":{\"outlinewidth\":0,\"ticks\":\"\"}}}],\"scatterternary\":[{\"type\":\"scatterternary\",\"marker\":{\"colorbar\":{\"outlinewidth\":0,\"ticks\":\"\"}}}],\"scattercarpet\":[{\"type\":\"scattercarpet\",\"marker\":{\"colorbar\":{\"outlinewidth\":0,\"ticks\":\"\"}}}],\"carpet\":[{\"aaxis\":{\"endlinecolor\":\"#2a3f5f\",\"gridcolor\":\"white\",\"linecolor\":\"white\",\"minorgridcolor\":\"white\",\"startlinecolor\":\"#2a3f5f\"},\"baxis\":{\"endlinecolor\":\"#2a3f5f\",\"gridcolor\":\"white\",\"linecolor\":\"white\",\"minorgridcolor\":\"white\",\"startlinecolor\":\"#2a3f5f\"},\"type\":\"carpet\"}],\"table\":[{\"cells\":{\"fill\":{\"color\":\"#EBF0F8\"},\"line\":{\"color\":\"white\"}},\"header\":{\"fill\":{\"color\":\"#C8D4E3\"},\"line\":{\"color\":\"white\"}},\"type\":\"table\"}],\"barpolar\":[{\"marker\":{\"line\":{\"color\":\"#E5ECF6\",\"width\":0.5},\"pattern\":{\"fillmode\":\"overlay\",\"size\":10,\"solidity\":0.2}},\"type\":\"barpolar\"}],\"pie\":[{\"automargin\":true,\"type\":\"pie\"}]},\"layout\":{\"autotypenumbers\":\"strict\",\"colorway\":[\"#636efa\",\"#EF553B\",\"#00cc96\",\"#ab63fa\",\"#FFA15A\",\"#19d3f3\",\"#FF6692\",\"#B6E880\",\"#FF97FF\",\"#FECB52\"],\"font\":{\"color\":\"#2a3f5f\"},\"hovermode\":\"closest\",\"hoverlabel\":{\"align\":\"left\"},\"paper_bgcolor\":\"white\",\"plot_bgcolor\":\"#E5ECF6\",\"polar\":{\"bgcolor\":\"#E5ECF6\",\"angularaxis\":{\"gridcolor\":\"white\",\"linecolor\":\"white\",\"ticks\":\"\"},\"radialaxis\":{\"gridcolor\":\"white\",\"linecolor\":\"white\",\"ticks\":\"\"}},\"ternary\":{\"bgcolor\":\"#E5ECF6\",\"aaxis\":{\"gridcolor\":\"white\",\"linecolor\":\"white\",\"ticks\":\"\"},\"baxis\":{\"gridcolor\":\"white\",\"linecolor\":\"white\",\"ticks\":\"\"},\"caxis\":{\"gridcolor\":\"white\",\"linecolor\":\"white\",\"ticks\":\"\"}},\"coloraxis\":{\"colorbar\":{\"outlinewidth\":0,\"ticks\":\"\"}},\"colorscale\":{\"sequential\":[[0.0,\"#0d0887\"],[0.1111111111111111,\"#46039f\"],[0.2222222222222222,\"#7201a8\"],[0.3333333333333333,\"#9c179e\"],[0.4444444444444444,\"#bd3786\"],[0.5555555555555556,\"#d8576b\"],[0.6666666666666666,\"#ed7953\"],[0.7777777777777778,\"#fb9f3a\"],[0.8888888888888888,\"#fdca26\"],[1.0,\"#f0f921\"]],\"sequentialminus\":[[0.0,\"#0d0887\"],[0.1111111111111111,\"#46039f\"],[0.2222222222222222,\"#7201a8\"],[0.3333333333333333,\"#9c179e\"],[0.4444444444444444,\"#bd3786\"],[0.5555555555555556,\"#d8576b\"],[0.6666666666666666,\"#ed7953\"],[0.7777777777777778,\"#fb9f3a\"],[0.8888888888888888,\"#fdca26\"],[1.0,\"#f0f921\"]],\"diverging\":[[0,\"#8e0152\"],[0.1,\"#c51b7d\"],[0.2,\"#de77ae\"],[0.3,\"#f1b6da\"],[0.4,\"#fde0ef\"],[0.5,\"#f7f7f7\"],[0.6,\"#e6f5d0\"],[0.7,\"#b8e186\"],[0.8,\"#7fbc41\"],[0.9,\"#4d9221\"],[1,\"#276419\"]]},\"xaxis\":{\"gridcolor\":\"white\",\"linecolor\":\"white\",\"ticks\":\"\",\"title\":{\"standoff\":15},\"zerolinecolor\":\"white\",\"automargin\":true,\"zerolinewidth\":2},\"yaxis\":{\"gridcolor\":\"white\",\"linecolor\":\"white\",\"ticks\":\"\",\"title\":{\"standoff\":15},\"zerolinecolor\":\"white\",\"automargin\":true,\"zerolinewidth\":2},\"scene\":{\"xaxis\":{\"backgroundcolor\":\"#E5ECF6\",\"gridcolor\":\"white\",\"linecolor\":\"white\",\"showbackground\":true,\"ticks\":\"\",\"zerolinecolor\":\"white\",\"gridwidth\":2},\"yaxis\":{\"backgroundcolor\":\"#E5ECF6\",\"gridcolor\":\"white\",\"linecolor\":\"white\",\"showbackground\":true,\"ticks\":\"\",\"zerolinecolor\":\"white\",\"gridwidth\":2},\"zaxis\":{\"backgroundcolor\":\"#E5ECF6\",\"gridcolor\":\"white\",\"linecolor\":\"white\",\"showbackground\":true,\"ticks\":\"\",\"zerolinecolor\":\"white\",\"gridwidth\":2}},\"shapedefaults\":{\"line\":{\"color\":\"#2a3f5f\"}},\"annotationdefaults\":{\"arrowcolor\":\"#2a3f5f\",\"arrowhead\":0,\"arrowwidth\":1},\"geo\":{\"bgcolor\":\"white\",\"landcolor\":\"#E5ECF6\",\"subunitcolor\":\"white\",\"showland\":true,\"showlakes\":true,\"lakecolor\":\"white\"},\"title\":{\"x\":0.05},\"mapbox\":{\"style\":\"light\"}}},\"xaxis\":{\"anchor\":\"y\",\"domain\":[0.0,1.0],\"title\":{\"text\":\"DATE\"}},\"yaxis\":{\"anchor\":\"x\",\"domain\":[0.0,1.0],\"title\":{\"text\":\"diff\"}},\"legend\":{\"tracegroupgap\":0},\"title\":{\"text\":\"LTT Allocation Range\"},\"barmode\":\"relative\"},                        {\"responsive\": true}                    ).then(function(){\n",
       "                            \n",
       "var gd = document.getElementById('6e18d7f4-6013-4c88-a4b7-959b25a2d143');\n",
       "var x = new MutationObserver(function (mutations, observer) {{\n",
       "        var display = window.getComputedStyle(gd).display;\n",
       "        if (!display || display === 'none') {{\n",
       "            console.log([gd, 'removed!']);\n",
       "            Plotly.purge(gd);\n",
       "            observer.disconnect();\n",
       "        }}\n",
       "}});\n",
       "\n",
       "// Listen for the removal of the full notebook cells\n",
       "var notebookContainer = gd.closest('#notebook-container');\n",
       "if (notebookContainer) {{\n",
       "    x.observe(notebookContainer, {childList: true});\n",
       "}}\n",
       "\n",
       "// Listen for the clearing of the current output cell\n",
       "var outputEl = gd.closest('.output');\n",
       "if (outputEl) {{\n",
       "    x.observe(outputEl, {childList: true});\n",
       "}}\n",
       "\n",
       "                        })                };                });            </script>        </div>"
      ]
     },
     "metadata": {},
     "output_type": "display_data"
    },
    {
     "name": "stdout",
     "output_type": "stream",
     "text": [
      "shape: (1_172, 6)\n",
      "┌────────────┬─────────────┬────────────────┬──────────┬───────────┬──────────┐\n",
      "│ DATE       ┆ STRATEGY_ID ┆ ASSET_CLASS_ID ┆ WGT      ┆ WGT_right ┆ split    │\n",
      "│ ---        ┆ ---         ┆ ---            ┆ ---      ┆ ---       ┆ ---      │\n",
      "│ str        ┆ str         ┆ str            ┆ f64      ┆ f64       ┆ f64      │\n",
      "╞════════════╪═════════════╪════════════════╪══════════╪═══════════╪══════════╡\n",
      "│ 2000-01-01 ┆ NDCB        ┆ TBILL          ┆ 0.018852 ┆ 0.593194  ┆ 0.031781 │\n",
      "│ 2000-01-01 ┆ NDB         ┆ TBILL          ┆ 0.0      ┆ 0.403862  ┆ 0.0      │\n",
      "│ 2000-01-01 ┆ NDGI        ┆ TBILL          ┆ 0.0      ┆ 0.22792   ┆ 0.0      │\n",
      "│ 2000-01-01 ┆ NDLTG       ┆ TBILL          ┆ 0.0      ┆ 0.125777  ┆ 0.0      │\n",
      "│ 2000-02-01 ┆ NDCB        ┆ TBILL          ┆ 0.0      ┆ 0.59792   ┆ 0.0      │\n",
      "│ …          ┆ …           ┆ …              ┆ …        ┆ …         ┆ …        │\n",
      "│ 2024-04-01 ┆ NDLTG       ┆ TBILL          ┆ 0.063459 ┆ 0.091025  ┆ 0.697166 │\n",
      "│ 2024-05-01 ┆ NDCB        ┆ TBILL          ┆ 0.19317  ┆ 0.631158  ┆ 0.306057 │\n",
      "│ 2024-05-01 ┆ NDB         ┆ TBILL          ┆ 0.148257 ┆ 0.437416  ┆ 0.338939 │\n",
      "│ 2024-05-01 ┆ NDGI        ┆ TBILL          ┆ 0.117718 ┆ 0.240749  ┆ 0.488965 │\n",
      "│ 2024-05-01 ┆ NDLTG       ┆ TBILL          ┆ 0.045212 ┆ 0.078959  ┆ 0.5726   │\n",
      "└────────────┴─────────────┴────────────────┴──────────┴───────────┴──────────┘\n",
      "shape: (293, 2)\n",
      "┌────────────┬──────────┐\n",
      "│ DATE       ┆ split    │\n",
      "│ ---        ┆ ---      │\n",
      "│ str        ┆ f64      │\n",
      "╞════════════╪══════════╡\n",
      "│ 2000-01-01 ┆ 0.0      │\n",
      "│ 2000-02-01 ┆ 0.0      │\n",
      "│ 2000-03-01 ┆ 0.0      │\n",
      "│ 2000-04-01 ┆ 0.0      │\n",
      "│ 2000-05-01 ┆ 0.0      │\n",
      "│ …          ┆ …        │\n",
      "│ 2024-01-01 ┆ 0.320401 │\n",
      "│ 2024-02-01 ┆ 0.327706 │\n",
      "│ 2024-03-01 ┆ 0.325996 │\n",
      "│ 2024-04-01 ┆ 0.330596 │\n",
      "│ 2024-05-01 ┆ 0.306057 │\n",
      "└────────────┴──────────┘\n",
      "shape: (293, 2)\n",
      "┌────────────┬──────────┐\n",
      "│ DATE       ┆ split    │\n",
      "│ ---        ┆ ---      │\n",
      "│ str        ┆ f64      │\n",
      "╞════════════╪══════════╡\n",
      "│ 2000-01-01 ┆ 0.031781 │\n",
      "│ 2000-02-01 ┆ 0.0      │\n",
      "│ 2000-03-01 ┆ 0.0      │\n",
      "│ 2000-04-01 ┆ 0.003122 │\n",
      "│ 2000-05-01 ┆ 0.0      │\n",
      "│ …          ┆ …        │\n",
      "│ 2024-01-01 ┆ 0.647287 │\n",
      "│ 2024-02-01 ┆ 0.660479 │\n",
      "│ 2024-03-01 ┆ 0.678397 │\n",
      "│ 2024-04-01 ┆ 0.697166 │\n",
      "│ 2024-05-01 ┆ 0.5726   │\n",
      "└────────────┴──────────┘\n"
     ]
    },
    {
     "data": {
      "application/vnd.plotly.v1+json": {
       "config": {
        "plotlyServerURL": "https://plot.ly"
       },
       "data": [
        {
         "alignmentgroup": "True",
         "hovertemplate": "DATE=%{x}<br>diff=%{y}<extra></extra>",
         "legendgroup": "",
         "marker": {
          "color": "#636efa",
          "pattern": {
           "shape": ""
          }
         },
         "name": "",
         "offsetgroup": "",
         "orientation": "v",
         "showlegend": false,
         "textposition": "auto",
         "type": "bar",
         "x": [
          "2018-05-01",
          "2003-06-01",
          "2015-12-01",
          "2011-04-01",
          "2012-01-01",
          "2008-04-01",
          "2020-01-01",
          "2021-06-01",
          "2019-07-01",
          "2006-09-01",
          "2012-12-01",
          "2014-08-01",
          "2009-03-01",
          "2007-03-01",
          "2011-09-01",
          "2010-12-01",
          "2022-11-01",
          "2000-10-01",
          "2018-09-01",
          "2012-07-01",
          "2007-09-01",
          "2022-01-01",
          "2008-06-01",
          "2006-05-01",
          "2023-12-01",
          "2015-01-01",
          "2019-11-01",
          "2004-07-01",
          "2006-03-01",
          "2020-05-01",
          "2000-08-01",
          "2011-07-01",
          "2011-06-01",
          "2015-04-01",
          "2014-05-01",
          "2020-10-01",
          "2015-11-01",
          "2001-08-01",
          "2006-02-01",
          "2017-10-01",
          "2018-02-01",
          "2002-08-01",
          "2020-12-01",
          "2004-12-01",
          "2021-05-01",
          "2017-06-01",
          "2004-10-01",
          "2003-02-01",
          "2006-01-01",
          "2018-04-01",
          "2021-02-01",
          "2020-06-01",
          "2004-06-01",
          "2009-02-01",
          "2011-01-01",
          "2022-04-01",
          "2007-10-01",
          "2010-03-01",
          "2016-07-01",
          "2002-02-01",
          "2012-06-01",
          "2001-09-01",
          "2015-08-01",
          "2001-07-01",
          "2017-04-01",
          "2001-05-01",
          "2021-07-01",
          "2000-07-01",
          "2020-02-01",
          "2017-01-01",
          "2019-01-01",
          "2013-09-01",
          "2022-09-01",
          "2013-01-01",
          "2011-12-01",
          "2007-04-01",
          "2015-02-01",
          "2020-09-01",
          "2023-06-01",
          "2005-02-01",
          "2012-09-01",
          "2005-09-01",
          "2014-02-01",
          "2001-06-01",
          "2017-11-01",
          "2005-11-01",
          "2003-01-01",
          "2019-09-01",
          "2003-03-01",
          "2024-01-01",
          "2002-06-01",
          "2020-04-01",
          "2018-06-01",
          "2016-06-01",
          "2016-08-01",
          "2023-05-01",
          "2005-06-01",
          "2014-01-01",
          "2002-12-01",
          "2017-05-01",
          "2007-02-01",
          "2011-05-01",
          "2004-08-01",
          "2008-03-01",
          "2020-11-01",
          "2009-10-01",
          "2015-06-01",
          "2002-05-01",
          "2016-09-01",
          "2011-03-01",
          "2012-11-01",
          "2006-10-01",
          "2005-01-01",
          "2012-04-01",
          "2017-09-01",
          "2018-11-01",
          "2000-06-01",
          "2005-10-01",
          "2016-03-01",
          "2020-03-01",
          "2014-04-01",
          "2000-01-01",
          "2010-05-01",
          "2006-08-01",
          "2011-02-01",
          "2007-12-01",
          "2009-12-01",
          "2010-08-01",
          "2014-09-01",
          "2003-05-01",
          "2010-09-01",
          "2015-09-01",
          "2005-08-01",
          "2002-10-01",
          "2008-10-01",
          "2023-08-01",
          "2015-10-01",
          "2005-07-01",
          "2001-12-01",
          "2002-04-01",
          "2005-05-01",
          "2005-03-01",
          "2016-11-01",
          "2019-03-01",
          "2021-04-01",
          "2002-03-01",
          "2014-07-01",
          "2000-11-01",
          "2013-12-01",
          "2016-01-01",
          "2012-08-01",
          "2003-12-01",
          "2012-02-01",
          "2005-04-01",
          "2002-11-01",
          "2018-01-01",
          "2014-06-01",
          "2004-04-01",
          "2007-11-01",
          "2022-07-01",
          "2012-05-01",
          "2004-02-01",
          "2011-11-01",
          "2013-08-01",
          "2023-09-01",
          "2023-11-01",
          "2016-12-01",
          "2007-06-01",
          "2009-06-01",
          "2019-06-01",
          "2009-11-01",
          "2017-02-01",
          "2016-04-01",
          "2001-10-01",
          "2006-12-01",
          "2023-03-01",
          "2024-02-01",
          "2002-07-01",
          "2021-08-01",
          "2003-07-01",
          "2009-04-01",
          "2004-09-01",
          "2023-04-01",
          "2013-11-01",
          "2004-03-01",
          "2013-04-01",
          "2017-08-01",
          "2024-05-01",
          "2022-12-01",
          "2006-06-01",
          "2004-11-01",
          "2010-01-01",
          "2002-09-01",
          "2011-10-01",
          "2018-07-01",
          "2001-04-01",
          "2003-10-01",
          "2014-12-01",
          "2006-07-01",
          "2001-11-01",
          "2017-12-01",
          "2008-12-01",
          "2008-09-01",
          "2004-01-01",
          "2005-12-01",
          "2019-08-01",
          "2023-07-01",
          "2004-05-01",
          "2010-07-01",
          "2008-02-01",
          "2001-01-01",
          "2007-08-01",
          "2022-03-01",
          "2003-04-01",
          "2013-10-01",
          "2022-08-01",
          "2009-08-01",
          "2022-06-01",
          "2014-03-01",
          "2014-10-01",
          "2000-09-01",
          "2023-10-01",
          "2003-11-01",
          "2012-10-01",
          "2009-07-01",
          "2016-10-01",
          "2019-12-01",
          "2022-02-01",
          "2014-11-01",
          "2023-02-01",
          "2009-09-01",
          "2000-04-01",
          "2001-02-01",
          "2021-03-01",
          "2013-02-01",
          "2024-03-01",
          "2018-12-01",
          "2019-02-01",
          "2008-11-01",
          "2016-02-01",
          "2015-05-01",
          "2000-05-01",
          "2021-11-01",
          "2000-02-01",
          "2022-05-01",
          "2008-08-01",
          "2015-03-01",
          "2003-09-01",
          "2013-03-01",
          "2024-04-01",
          "2015-07-01",
          "2000-12-01",
          "2019-05-01",
          "2007-01-01",
          "2008-07-01",
          "2019-04-01",
          "2022-10-01",
          "2021-09-01",
          "2020-07-01",
          "2007-07-01",
          "2009-01-01",
          "2023-01-01",
          "2010-06-01",
          "2013-05-01",
          "2011-08-01",
          "2017-03-01",
          "2012-03-01",
          "2006-04-01",
          "2021-01-01",
          "2017-07-01",
          "2007-05-01",
          "2018-10-01",
          "2018-08-01",
          "2010-10-01",
          "2009-05-01",
          "2020-08-01",
          "2021-10-01",
          "2019-10-01",
          "2000-03-01",
          "2013-06-01",
          "2010-04-01",
          "2001-03-01",
          "2021-12-01",
          "2013-07-01",
          "2003-08-01",
          "2010-02-01",
          "2010-11-01",
          "2008-01-01",
          "2008-05-01",
          "2018-03-01",
          "2016-05-01",
          "2002-01-01",
          "2006-11-01"
         ],
         "xaxis": "x",
         "y": [
          0.017580913698537454,
          0,
          0,
          1.5838690293371224e-16,
          0,
          0,
          0.1977030851368412,
          0.11630949837459581,
          0.14868696763072314,
          0.004558653444281106,
          0,
          0,
          3.409333058631709e-16,
          0.04085998187778601,
          0,
          0,
          0.21240740294176516,
          0.06525551259572625,
          0.04873887628049934,
          0,
          0,
          0.2417992417021881,
          0,
          0,
          0.16581379206817592,
          0,
          0.21195557248238237,
          0,
          0,
          0.11310573346685268,
          0.02824409217369969,
          4.021740189646062e-16,
          0,
          0,
          0,
          0.16164962696481502,
          0,
          0,
          0,
          0,
          0,
          0,
          0.17255298142857833,
          7.873859850718657e-16,
          0.10272952962675864,
          0,
          0,
          0,
          0,
          0.002796598469887276,
          0.17551528788271395,
          0.11819145667020052,
          0,
          0,
          0,
          0.24611650296592583,
          0,
          0,
          0,
          7.059036068369457e-16,
          0,
          0,
          0,
          0,
          0,
          0,
          0.1452657236869358,
          0.008680052073437347,
          0.22036361280846775,
          0,
          0.10150158400687444,
          1.5779444768980233e-16,
          0.2596112208995883,
          0,
          0,
          0.033743005030559665,
          0,
          0.16733248770897138,
          0.2663554327690966,
          0,
          0,
          0,
          0,
          0,
          0,
          0,
          0,
          0.20297410612566388,
          3.024106096638295e-16,
          0.3268859276465849,
          0,
          0.16148831870429092,
          0.03269689522431926,
          0,
          0,
          0.2714502675016677,
          0,
          0,
          0,
          0,
          0.03777733362357317,
          2.203141444335629e-16,
          0,
          1.7343353284142385e-16,
          0.1458749904311955,
          2.242154231408388e-16,
          0,
          0,
          0,
          0,
          0,
          0.0011626704333762188,
          0,
          0,
          0,
          0.05741795171791668,
          0,
          0,
          0,
          0.2328714491630587,
          0,
          0.03178066704218029,
          0,
          0,
          0,
          0,
          0,
          0,
          0,
          0,
          0,
          0,
          0,
          5.214726316589896e-16,
          0,
          0.17538000451464725,
          0,
          0,
          0,
          0,
          0,
          0,
          0,
          0.09017276857853157,
          0.10216978481837008,
          0,
          0,
          0.05868728294569986,
          0,
          0,
          0,
          0,
          0,
          0,
          0,
          0.001177131751114318,
          0,
          0,
          0,
          0.24287847991511421,
          1.53034558019315e-15,
          0,
          0,
          0,
          0.20280304537361146,
          0.24116116379793823,
          0,
          0.005027292829073938,
          0,
          0.15001553933847572,
          2.2714197597254935e-16,
          0,
          0,
          1.69500231901406e-16,
          0.037116272317323805,
          0.24059276186940937,
          0.33277250233778094,
          0,
          0.17922056476089673,
          0,
          0,
          0,
          0.257638906893179,
          0,
          0,
          0,
          0,
          0.2665428347049793,
          0.22001975268190563,
          0,
          0,
          0,
          0,
          0,
          0.03546132585719426,
          0,
          0,
          0,
          0,
          4.792169244400581e-16,
          0,
          4.664959406395028e-16,
          0,
          0,
          0,
          0.15682809520839158,
          0.3326308038670641,
          0,
          0,
          0,
          0,
          0,
          0.254954314075714,
          0,
          0,
          0.2599373738622126,
          0,
          0.24985684081726536,
          0,
          0,
          0.06478191822013514,
          0.3661514262576941,
          1.7070625335774587e-16,
          0,
          0,
          0,
          0.20914462026029917,
          0.23901112126049218,
          0,
          0.24395790346256033,
          0,
          0.00312230810023232,
          0,
          0.13585213149795364,
          0,
          0.3524007533048389,
          0.053908229740054395,
          0.09038070689728732,
          6.181838853869839e-16,
          0,
          0,
          0,
          0.1921789928629959,
          0,
          0.23685654149030091,
          0,
          0,
          0,
          0,
          0.36657003095147117,
          0,
          0.006752789709325851,
          0.12346153587019398,
          0.037838378751472904,
          0,
          0.11251203694880503,
          0.2287545098070021,
          0.1950351783399465,
          0.12569310781420476,
          0,
          0,
          0.22961517069151302,
          0,
          0,
          0,
          0,
          0,
          0,
          0.18644041065302028,
          0,
          0.024163480923795885,
          0.045968620288589015,
          0.03824922680837484,
          1.5829767687253225e-16,
          0,
          0.1600646095819603,
          0.17692103736196968,
          0.2174554705546948,
          0,
          0,
          0,
          0,
          0.21622711470020786,
          0,
          0,
          0,
          0,
          0,
          0,
          0,
          0,
          0,
          0.018407773033901516
         ],
         "yaxis": "y"
        }
       ],
       "layout": {
        "barmode": "relative",
        "legend": {
         "tracegroupgap": 0
        },
        "template": {
         "data": {
          "bar": [
           {
            "error_x": {
             "color": "#2a3f5f"
            },
            "error_y": {
             "color": "#2a3f5f"
            },
            "marker": {
             "line": {
              "color": "#E5ECF6",
              "width": 0.5
             },
             "pattern": {
              "fillmode": "overlay",
              "size": 10,
              "solidity": 0.2
             }
            },
            "type": "bar"
           }
          ],
          "barpolar": [
           {
            "marker": {
             "line": {
              "color": "#E5ECF6",
              "width": 0.5
             },
             "pattern": {
              "fillmode": "overlay",
              "size": 10,
              "solidity": 0.2
             }
            },
            "type": "barpolar"
           }
          ],
          "carpet": [
           {
            "aaxis": {
             "endlinecolor": "#2a3f5f",
             "gridcolor": "white",
             "linecolor": "white",
             "minorgridcolor": "white",
             "startlinecolor": "#2a3f5f"
            },
            "baxis": {
             "endlinecolor": "#2a3f5f",
             "gridcolor": "white",
             "linecolor": "white",
             "minorgridcolor": "white",
             "startlinecolor": "#2a3f5f"
            },
            "type": "carpet"
           }
          ],
          "choropleth": [
           {
            "colorbar": {
             "outlinewidth": 0,
             "ticks": ""
            },
            "type": "choropleth"
           }
          ],
          "contour": [
           {
            "colorbar": {
             "outlinewidth": 0,
             "ticks": ""
            },
            "colorscale": [
             [
              0,
              "#0d0887"
             ],
             [
              0.1111111111111111,
              "#46039f"
             ],
             [
              0.2222222222222222,
              "#7201a8"
             ],
             [
              0.3333333333333333,
              "#9c179e"
             ],
             [
              0.4444444444444444,
              "#bd3786"
             ],
             [
              0.5555555555555556,
              "#d8576b"
             ],
             [
              0.6666666666666666,
              "#ed7953"
             ],
             [
              0.7777777777777778,
              "#fb9f3a"
             ],
             [
              0.8888888888888888,
              "#fdca26"
             ],
             [
              1,
              "#f0f921"
             ]
            ],
            "type": "contour"
           }
          ],
          "contourcarpet": [
           {
            "colorbar": {
             "outlinewidth": 0,
             "ticks": ""
            },
            "type": "contourcarpet"
           }
          ],
          "heatmap": [
           {
            "colorbar": {
             "outlinewidth": 0,
             "ticks": ""
            },
            "colorscale": [
             [
              0,
              "#0d0887"
             ],
             [
              0.1111111111111111,
              "#46039f"
             ],
             [
              0.2222222222222222,
              "#7201a8"
             ],
             [
              0.3333333333333333,
              "#9c179e"
             ],
             [
              0.4444444444444444,
              "#bd3786"
             ],
             [
              0.5555555555555556,
              "#d8576b"
             ],
             [
              0.6666666666666666,
              "#ed7953"
             ],
             [
              0.7777777777777778,
              "#fb9f3a"
             ],
             [
              0.8888888888888888,
              "#fdca26"
             ],
             [
              1,
              "#f0f921"
             ]
            ],
            "type": "heatmap"
           }
          ],
          "heatmapgl": [
           {
            "colorbar": {
             "outlinewidth": 0,
             "ticks": ""
            },
            "colorscale": [
             [
              0,
              "#0d0887"
             ],
             [
              0.1111111111111111,
              "#46039f"
             ],
             [
              0.2222222222222222,
              "#7201a8"
             ],
             [
              0.3333333333333333,
              "#9c179e"
             ],
             [
              0.4444444444444444,
              "#bd3786"
             ],
             [
              0.5555555555555556,
              "#d8576b"
             ],
             [
              0.6666666666666666,
              "#ed7953"
             ],
             [
              0.7777777777777778,
              "#fb9f3a"
             ],
             [
              0.8888888888888888,
              "#fdca26"
             ],
             [
              1,
              "#f0f921"
             ]
            ],
            "type": "heatmapgl"
           }
          ],
          "histogram": [
           {
            "marker": {
             "pattern": {
              "fillmode": "overlay",
              "size": 10,
              "solidity": 0.2
             }
            },
            "type": "histogram"
           }
          ],
          "histogram2d": [
           {
            "colorbar": {
             "outlinewidth": 0,
             "ticks": ""
            },
            "colorscale": [
             [
              0,
              "#0d0887"
             ],
             [
              0.1111111111111111,
              "#46039f"
             ],
             [
              0.2222222222222222,
              "#7201a8"
             ],
             [
              0.3333333333333333,
              "#9c179e"
             ],
             [
              0.4444444444444444,
              "#bd3786"
             ],
             [
              0.5555555555555556,
              "#d8576b"
             ],
             [
              0.6666666666666666,
              "#ed7953"
             ],
             [
              0.7777777777777778,
              "#fb9f3a"
             ],
             [
              0.8888888888888888,
              "#fdca26"
             ],
             [
              1,
              "#f0f921"
             ]
            ],
            "type": "histogram2d"
           }
          ],
          "histogram2dcontour": [
           {
            "colorbar": {
             "outlinewidth": 0,
             "ticks": ""
            },
            "colorscale": [
             [
              0,
              "#0d0887"
             ],
             [
              0.1111111111111111,
              "#46039f"
             ],
             [
              0.2222222222222222,
              "#7201a8"
             ],
             [
              0.3333333333333333,
              "#9c179e"
             ],
             [
              0.4444444444444444,
              "#bd3786"
             ],
             [
              0.5555555555555556,
              "#d8576b"
             ],
             [
              0.6666666666666666,
              "#ed7953"
             ],
             [
              0.7777777777777778,
              "#fb9f3a"
             ],
             [
              0.8888888888888888,
              "#fdca26"
             ],
             [
              1,
              "#f0f921"
             ]
            ],
            "type": "histogram2dcontour"
           }
          ],
          "mesh3d": [
           {
            "colorbar": {
             "outlinewidth": 0,
             "ticks": ""
            },
            "type": "mesh3d"
           }
          ],
          "parcoords": [
           {
            "line": {
             "colorbar": {
              "outlinewidth": 0,
              "ticks": ""
             }
            },
            "type": "parcoords"
           }
          ],
          "pie": [
           {
            "automargin": true,
            "type": "pie"
           }
          ],
          "scatter": [
           {
            "fillpattern": {
             "fillmode": "overlay",
             "size": 10,
             "solidity": 0.2
            },
            "type": "scatter"
           }
          ],
          "scatter3d": [
           {
            "line": {
             "colorbar": {
              "outlinewidth": 0,
              "ticks": ""
             }
            },
            "marker": {
             "colorbar": {
              "outlinewidth": 0,
              "ticks": ""
             }
            },
            "type": "scatter3d"
           }
          ],
          "scattercarpet": [
           {
            "marker": {
             "colorbar": {
              "outlinewidth": 0,
              "ticks": ""
             }
            },
            "type": "scattercarpet"
           }
          ],
          "scattergeo": [
           {
            "marker": {
             "colorbar": {
              "outlinewidth": 0,
              "ticks": ""
             }
            },
            "type": "scattergeo"
           }
          ],
          "scattergl": [
           {
            "marker": {
             "colorbar": {
              "outlinewidth": 0,
              "ticks": ""
             }
            },
            "type": "scattergl"
           }
          ],
          "scattermapbox": [
           {
            "marker": {
             "colorbar": {
              "outlinewidth": 0,
              "ticks": ""
             }
            },
            "type": "scattermapbox"
           }
          ],
          "scatterpolar": [
           {
            "marker": {
             "colorbar": {
              "outlinewidth": 0,
              "ticks": ""
             }
            },
            "type": "scatterpolar"
           }
          ],
          "scatterpolargl": [
           {
            "marker": {
             "colorbar": {
              "outlinewidth": 0,
              "ticks": ""
             }
            },
            "type": "scatterpolargl"
           }
          ],
          "scatterternary": [
           {
            "marker": {
             "colorbar": {
              "outlinewidth": 0,
              "ticks": ""
             }
            },
            "type": "scatterternary"
           }
          ],
          "surface": [
           {
            "colorbar": {
             "outlinewidth": 0,
             "ticks": ""
            },
            "colorscale": [
             [
              0,
              "#0d0887"
             ],
             [
              0.1111111111111111,
              "#46039f"
             ],
             [
              0.2222222222222222,
              "#7201a8"
             ],
             [
              0.3333333333333333,
              "#9c179e"
             ],
             [
              0.4444444444444444,
              "#bd3786"
             ],
             [
              0.5555555555555556,
              "#d8576b"
             ],
             [
              0.6666666666666666,
              "#ed7953"
             ],
             [
              0.7777777777777778,
              "#fb9f3a"
             ],
             [
              0.8888888888888888,
              "#fdca26"
             ],
             [
              1,
              "#f0f921"
             ]
            ],
            "type": "surface"
           }
          ],
          "table": [
           {
            "cells": {
             "fill": {
              "color": "#EBF0F8"
             },
             "line": {
              "color": "white"
             }
            },
            "header": {
             "fill": {
              "color": "#C8D4E3"
             },
             "line": {
              "color": "white"
             }
            },
            "type": "table"
           }
          ]
         },
         "layout": {
          "annotationdefaults": {
           "arrowcolor": "#2a3f5f",
           "arrowhead": 0,
           "arrowwidth": 1
          },
          "autotypenumbers": "strict",
          "coloraxis": {
           "colorbar": {
            "outlinewidth": 0,
            "ticks": ""
           }
          },
          "colorscale": {
           "diverging": [
            [
             0,
             "#8e0152"
            ],
            [
             0.1,
             "#c51b7d"
            ],
            [
             0.2,
             "#de77ae"
            ],
            [
             0.3,
             "#f1b6da"
            ],
            [
             0.4,
             "#fde0ef"
            ],
            [
             0.5,
             "#f7f7f7"
            ],
            [
             0.6,
             "#e6f5d0"
            ],
            [
             0.7,
             "#b8e186"
            ],
            [
             0.8,
             "#7fbc41"
            ],
            [
             0.9,
             "#4d9221"
            ],
            [
             1,
             "#276419"
            ]
           ],
           "sequential": [
            [
             0,
             "#0d0887"
            ],
            [
             0.1111111111111111,
             "#46039f"
            ],
            [
             0.2222222222222222,
             "#7201a8"
            ],
            [
             0.3333333333333333,
             "#9c179e"
            ],
            [
             0.4444444444444444,
             "#bd3786"
            ],
            [
             0.5555555555555556,
             "#d8576b"
            ],
            [
             0.6666666666666666,
             "#ed7953"
            ],
            [
             0.7777777777777778,
             "#fb9f3a"
            ],
            [
             0.8888888888888888,
             "#fdca26"
            ],
            [
             1,
             "#f0f921"
            ]
           ],
           "sequentialminus": [
            [
             0,
             "#0d0887"
            ],
            [
             0.1111111111111111,
             "#46039f"
            ],
            [
             0.2222222222222222,
             "#7201a8"
            ],
            [
             0.3333333333333333,
             "#9c179e"
            ],
            [
             0.4444444444444444,
             "#bd3786"
            ],
            [
             0.5555555555555556,
             "#d8576b"
            ],
            [
             0.6666666666666666,
             "#ed7953"
            ],
            [
             0.7777777777777778,
             "#fb9f3a"
            ],
            [
             0.8888888888888888,
             "#fdca26"
            ],
            [
             1,
             "#f0f921"
            ]
           ]
          },
          "colorway": [
           "#636efa",
           "#EF553B",
           "#00cc96",
           "#ab63fa",
           "#FFA15A",
           "#19d3f3",
           "#FF6692",
           "#B6E880",
           "#FF97FF",
           "#FECB52"
          ],
          "font": {
           "color": "#2a3f5f"
          },
          "geo": {
           "bgcolor": "white",
           "lakecolor": "white",
           "landcolor": "#E5ECF6",
           "showlakes": true,
           "showland": true,
           "subunitcolor": "white"
          },
          "hoverlabel": {
           "align": "left"
          },
          "hovermode": "closest",
          "mapbox": {
           "style": "light"
          },
          "paper_bgcolor": "white",
          "plot_bgcolor": "#E5ECF6",
          "polar": {
           "angularaxis": {
            "gridcolor": "white",
            "linecolor": "white",
            "ticks": ""
           },
           "bgcolor": "#E5ECF6",
           "radialaxis": {
            "gridcolor": "white",
            "linecolor": "white",
            "ticks": ""
           }
          },
          "scene": {
           "xaxis": {
            "backgroundcolor": "#E5ECF6",
            "gridcolor": "white",
            "gridwidth": 2,
            "linecolor": "white",
            "showbackground": true,
            "ticks": "",
            "zerolinecolor": "white"
           },
           "yaxis": {
            "backgroundcolor": "#E5ECF6",
            "gridcolor": "white",
            "gridwidth": 2,
            "linecolor": "white",
            "showbackground": true,
            "ticks": "",
            "zerolinecolor": "white"
           },
           "zaxis": {
            "backgroundcolor": "#E5ECF6",
            "gridcolor": "white",
            "gridwidth": 2,
            "linecolor": "white",
            "showbackground": true,
            "ticks": "",
            "zerolinecolor": "white"
           }
          },
          "shapedefaults": {
           "line": {
            "color": "#2a3f5f"
           }
          },
          "ternary": {
           "aaxis": {
            "gridcolor": "white",
            "linecolor": "white",
            "ticks": ""
           },
           "baxis": {
            "gridcolor": "white",
            "linecolor": "white",
            "ticks": ""
           },
           "bgcolor": "#E5ECF6",
           "caxis": {
            "gridcolor": "white",
            "linecolor": "white",
            "ticks": ""
           }
          },
          "title": {
           "x": 0.05
          },
          "xaxis": {
           "automargin": true,
           "gridcolor": "white",
           "linecolor": "white",
           "ticks": "",
           "title": {
            "standoff": 15
           },
           "zerolinecolor": "white",
           "zerolinewidth": 2
          },
          "yaxis": {
           "automargin": true,
           "gridcolor": "white",
           "linecolor": "white",
           "ticks": "",
           "title": {
            "standoff": 15
           },
           "zerolinecolor": "white",
           "zerolinewidth": 2
          }
         }
        },
        "title": {
         "text": "TBILL Allocation Range"
        },
        "xaxis": {
         "anchor": "y",
         "domain": [
          0,
          1
         ],
         "title": {
          "text": "DATE"
         }
        },
        "yaxis": {
         "anchor": "x",
         "domain": [
          0,
          1
         ],
         "title": {
          "text": "diff"
         }
        }
       }
      },
      "text/html": [
       "<div>                            <div id=\"e3334d5e-8399-47e7-b8f6-c7c83780262b\" class=\"plotly-graph-div\" style=\"height:525px; width:100%;\"></div>            <script type=\"text/javascript\">                require([\"plotly\"], function(Plotly) {                    window.PLOTLYENV=window.PLOTLYENV || {};                                    if (document.getElementById(\"e3334d5e-8399-47e7-b8f6-c7c83780262b\")) {                    Plotly.newPlot(                        \"e3334d5e-8399-47e7-b8f6-c7c83780262b\",                        [{\"alignmentgroup\":\"True\",\"hovertemplate\":\"DATE=%{x}\\u003cbr\\u003ediff=%{y}\\u003cextra\\u003e\\u003c\\u002fextra\\u003e\",\"legendgroup\":\"\",\"marker\":{\"color\":\"#636efa\",\"pattern\":{\"shape\":\"\"}},\"name\":\"\",\"offsetgroup\":\"\",\"orientation\":\"v\",\"showlegend\":false,\"textposition\":\"auto\",\"x\":[\"2018-05-01\",\"2003-06-01\",\"2015-12-01\",\"2011-04-01\",\"2012-01-01\",\"2008-04-01\",\"2020-01-01\",\"2021-06-01\",\"2019-07-01\",\"2006-09-01\",\"2012-12-01\",\"2014-08-01\",\"2009-03-01\",\"2007-03-01\",\"2011-09-01\",\"2010-12-01\",\"2022-11-01\",\"2000-10-01\",\"2018-09-01\",\"2012-07-01\",\"2007-09-01\",\"2022-01-01\",\"2008-06-01\",\"2006-05-01\",\"2023-12-01\",\"2015-01-01\",\"2019-11-01\",\"2004-07-01\",\"2006-03-01\",\"2020-05-01\",\"2000-08-01\",\"2011-07-01\",\"2011-06-01\",\"2015-04-01\",\"2014-05-01\",\"2020-10-01\",\"2015-11-01\",\"2001-08-01\",\"2006-02-01\",\"2017-10-01\",\"2018-02-01\",\"2002-08-01\",\"2020-12-01\",\"2004-12-01\",\"2021-05-01\",\"2017-06-01\",\"2004-10-01\",\"2003-02-01\",\"2006-01-01\",\"2018-04-01\",\"2021-02-01\",\"2020-06-01\",\"2004-06-01\",\"2009-02-01\",\"2011-01-01\",\"2022-04-01\",\"2007-10-01\",\"2010-03-01\",\"2016-07-01\",\"2002-02-01\",\"2012-06-01\",\"2001-09-01\",\"2015-08-01\",\"2001-07-01\",\"2017-04-01\",\"2001-05-01\",\"2021-07-01\",\"2000-07-01\",\"2020-02-01\",\"2017-01-01\",\"2019-01-01\",\"2013-09-01\",\"2022-09-01\",\"2013-01-01\",\"2011-12-01\",\"2007-04-01\",\"2015-02-01\",\"2020-09-01\",\"2023-06-01\",\"2005-02-01\",\"2012-09-01\",\"2005-09-01\",\"2014-02-01\",\"2001-06-01\",\"2017-11-01\",\"2005-11-01\",\"2003-01-01\",\"2019-09-01\",\"2003-03-01\",\"2024-01-01\",\"2002-06-01\",\"2020-04-01\",\"2018-06-01\",\"2016-06-01\",\"2016-08-01\",\"2023-05-01\",\"2005-06-01\",\"2014-01-01\",\"2002-12-01\",\"2017-05-01\",\"2007-02-01\",\"2011-05-01\",\"2004-08-01\",\"2008-03-01\",\"2020-11-01\",\"2009-10-01\",\"2015-06-01\",\"2002-05-01\",\"2016-09-01\",\"2011-03-01\",\"2012-11-01\",\"2006-10-01\",\"2005-01-01\",\"2012-04-01\",\"2017-09-01\",\"2018-11-01\",\"2000-06-01\",\"2005-10-01\",\"2016-03-01\",\"2020-03-01\",\"2014-04-01\",\"2000-01-01\",\"2010-05-01\",\"2006-08-01\",\"2011-02-01\",\"2007-12-01\",\"2009-12-01\",\"2010-08-01\",\"2014-09-01\",\"2003-05-01\",\"2010-09-01\",\"2015-09-01\",\"2005-08-01\",\"2002-10-01\",\"2008-10-01\",\"2023-08-01\",\"2015-10-01\",\"2005-07-01\",\"2001-12-01\",\"2002-04-01\",\"2005-05-01\",\"2005-03-01\",\"2016-11-01\",\"2019-03-01\",\"2021-04-01\",\"2002-03-01\",\"2014-07-01\",\"2000-11-01\",\"2013-12-01\",\"2016-01-01\",\"2012-08-01\",\"2003-12-01\",\"2012-02-01\",\"2005-04-01\",\"2002-11-01\",\"2018-01-01\",\"2014-06-01\",\"2004-04-01\",\"2007-11-01\",\"2022-07-01\",\"2012-05-01\",\"2004-02-01\",\"2011-11-01\",\"2013-08-01\",\"2023-09-01\",\"2023-11-01\",\"2016-12-01\",\"2007-06-01\",\"2009-06-01\",\"2019-06-01\",\"2009-11-01\",\"2017-02-01\",\"2016-04-01\",\"2001-10-01\",\"2006-12-01\",\"2023-03-01\",\"2024-02-01\",\"2002-07-01\",\"2021-08-01\",\"2003-07-01\",\"2009-04-01\",\"2004-09-01\",\"2023-04-01\",\"2013-11-01\",\"2004-03-01\",\"2013-04-01\",\"2017-08-01\",\"2024-05-01\",\"2022-12-01\",\"2006-06-01\",\"2004-11-01\",\"2010-01-01\",\"2002-09-01\",\"2011-10-01\",\"2018-07-01\",\"2001-04-01\",\"2003-10-01\",\"2014-12-01\",\"2006-07-01\",\"2001-11-01\",\"2017-12-01\",\"2008-12-01\",\"2008-09-01\",\"2004-01-01\",\"2005-12-01\",\"2019-08-01\",\"2023-07-01\",\"2004-05-01\",\"2010-07-01\",\"2008-02-01\",\"2001-01-01\",\"2007-08-01\",\"2022-03-01\",\"2003-04-01\",\"2013-10-01\",\"2022-08-01\",\"2009-08-01\",\"2022-06-01\",\"2014-03-01\",\"2014-10-01\",\"2000-09-01\",\"2023-10-01\",\"2003-11-01\",\"2012-10-01\",\"2009-07-01\",\"2016-10-01\",\"2019-12-01\",\"2022-02-01\",\"2014-11-01\",\"2023-02-01\",\"2009-09-01\",\"2000-04-01\",\"2001-02-01\",\"2021-03-01\",\"2013-02-01\",\"2024-03-01\",\"2018-12-01\",\"2019-02-01\",\"2008-11-01\",\"2016-02-01\",\"2015-05-01\",\"2000-05-01\",\"2021-11-01\",\"2000-02-01\",\"2022-05-01\",\"2008-08-01\",\"2015-03-01\",\"2003-09-01\",\"2013-03-01\",\"2024-04-01\",\"2015-07-01\",\"2000-12-01\",\"2019-05-01\",\"2007-01-01\",\"2008-07-01\",\"2019-04-01\",\"2022-10-01\",\"2021-09-01\",\"2020-07-01\",\"2007-07-01\",\"2009-01-01\",\"2023-01-01\",\"2010-06-01\",\"2013-05-01\",\"2011-08-01\",\"2017-03-01\",\"2012-03-01\",\"2006-04-01\",\"2021-01-01\",\"2017-07-01\",\"2007-05-01\",\"2018-10-01\",\"2018-08-01\",\"2010-10-01\",\"2009-05-01\",\"2020-08-01\",\"2021-10-01\",\"2019-10-01\",\"2000-03-01\",\"2013-06-01\",\"2010-04-01\",\"2001-03-01\",\"2021-12-01\",\"2013-07-01\",\"2003-08-01\",\"2010-02-01\",\"2010-11-01\",\"2008-01-01\",\"2008-05-01\",\"2018-03-01\",\"2016-05-01\",\"2002-01-01\",\"2006-11-01\"],\"xaxis\":\"x\",\"y\":[0.017580913698537454,0.0,0.0,1.5838690293371224e-16,0.0,0.0,0.1977030851368412,0.11630949837459581,0.14868696763072314,0.004558653444281106,0.0,0.0,3.409333058631709e-16,0.04085998187778601,0.0,0.0,0.21240740294176516,0.06525551259572625,0.04873887628049934,0.0,0.0,0.2417992417021881,0.0,0.0,0.16581379206817592,0.0,0.21195557248238237,0.0,0.0,0.11310573346685268,0.02824409217369969,4.021740189646062e-16,0.0,0.0,0.0,0.16164962696481502,0.0,0.0,0.0,0.0,0.0,0.0,0.17255298142857833,7.873859850718657e-16,0.10272952962675864,0.0,0.0,0.0,0.0,0.002796598469887276,0.17551528788271395,0.11819145667020052,0.0,0.0,0.0,0.24611650296592583,0.0,0.0,0.0,7.059036068369457e-16,0.0,0.0,0.0,0.0,0.0,0.0,0.1452657236869358,0.008680052073437347,0.22036361280846775,0.0,0.10150158400687444,1.5779444768980233e-16,0.2596112208995883,0.0,0.0,0.033743005030559665,0.0,0.16733248770897138,0.2663554327690966,0.0,0.0,0.0,0.0,0.0,0.0,0.0,0.0,0.20297410612566388,3.024106096638295e-16,0.3268859276465849,0.0,0.16148831870429092,0.03269689522431926,0.0,0.0,0.2714502675016677,0.0,0.0,0.0,0.0,0.03777733362357317,2.203141444335629e-16,0.0,1.7343353284142385e-16,0.1458749904311955,2.242154231408388e-16,0.0,0.0,0.0,0.0,0.0,0.0011626704333762188,0.0,0.0,0.0,0.05741795171791668,0.0,0.0,0.0,0.2328714491630587,0.0,0.03178066704218029,0.0,0.0,0.0,0.0,0.0,0.0,0.0,0.0,0.0,0.0,0.0,5.214726316589896e-16,0.0,0.17538000451464725,0.0,0.0,0.0,0.0,0.0,0.0,0.0,0.09017276857853157,0.10216978481837008,0.0,0.0,0.05868728294569986,0.0,0.0,0.0,0.0,0.0,0.0,0.0,0.001177131751114318,0.0,0.0,0.0,0.24287847991511421,1.53034558019315e-15,0.0,0.0,0.0,0.20280304537361146,0.24116116379793823,0.0,0.005027292829073938,0.0,0.15001553933847572,2.2714197597254935e-16,0.0,0.0,1.69500231901406e-16,0.037116272317323805,0.24059276186940937,0.33277250233778094,0.0,0.17922056476089673,0.0,0.0,0.0,0.257638906893179,0.0,0.0,0.0,0.0,0.2665428347049793,0.22001975268190563,0.0,0.0,0.0,0.0,0.0,0.03546132585719426,0.0,0.0,0.0,0.0,4.792169244400581e-16,0.0,4.664959406395028e-16,0.0,0.0,0.0,0.15682809520839158,0.3326308038670641,0.0,0.0,0.0,0.0,0.0,0.254954314075714,0.0,0.0,0.2599373738622126,0.0,0.24985684081726536,0.0,0.0,0.06478191822013514,0.3661514262576941,1.7070625335774587e-16,0.0,0.0,0.0,0.20914462026029917,0.23901112126049218,0.0,0.24395790346256033,0.0,0.00312230810023232,0.0,0.13585213149795364,0.0,0.3524007533048389,0.053908229740054395,0.09038070689728732,6.181838853869839e-16,0.0,0.0,0.0,0.1921789928629959,0.0,0.23685654149030091,0.0,0.0,0.0,0.0,0.36657003095147117,0.0,0.006752789709325851,0.12346153587019398,0.037838378751472904,0.0,0.11251203694880503,0.2287545098070021,0.1950351783399465,0.12569310781420476,0.0,0.0,0.22961517069151302,0.0,0.0,0.0,0.0,0.0,0.0,0.18644041065302028,0.0,0.024163480923795885,0.045968620288589015,0.03824922680837484,1.5829767687253225e-16,0.0,0.1600646095819603,0.17692103736196968,0.2174554705546948,0.0,0.0,0.0,0.0,0.21622711470020786,0.0,0.0,0.0,0.0,0.0,0.0,0.0,0.0,0.0,0.018407773033901516],\"yaxis\":\"y\",\"type\":\"bar\"}],                        {\"template\":{\"data\":{\"histogram2dcontour\":[{\"type\":\"histogram2dcontour\",\"colorbar\":{\"outlinewidth\":0,\"ticks\":\"\"},\"colorscale\":[[0.0,\"#0d0887\"],[0.1111111111111111,\"#46039f\"],[0.2222222222222222,\"#7201a8\"],[0.3333333333333333,\"#9c179e\"],[0.4444444444444444,\"#bd3786\"],[0.5555555555555556,\"#d8576b\"],[0.6666666666666666,\"#ed7953\"],[0.7777777777777778,\"#fb9f3a\"],[0.8888888888888888,\"#fdca26\"],[1.0,\"#f0f921\"]]}],\"choropleth\":[{\"type\":\"choropleth\",\"colorbar\":{\"outlinewidth\":0,\"ticks\":\"\"}}],\"histogram2d\":[{\"type\":\"histogram2d\",\"colorbar\":{\"outlinewidth\":0,\"ticks\":\"\"},\"colorscale\":[[0.0,\"#0d0887\"],[0.1111111111111111,\"#46039f\"],[0.2222222222222222,\"#7201a8\"],[0.3333333333333333,\"#9c179e\"],[0.4444444444444444,\"#bd3786\"],[0.5555555555555556,\"#d8576b\"],[0.6666666666666666,\"#ed7953\"],[0.7777777777777778,\"#fb9f3a\"],[0.8888888888888888,\"#fdca26\"],[1.0,\"#f0f921\"]]}],\"heatmap\":[{\"type\":\"heatmap\",\"colorbar\":{\"outlinewidth\":0,\"ticks\":\"\"},\"colorscale\":[[0.0,\"#0d0887\"],[0.1111111111111111,\"#46039f\"],[0.2222222222222222,\"#7201a8\"],[0.3333333333333333,\"#9c179e\"],[0.4444444444444444,\"#bd3786\"],[0.5555555555555556,\"#d8576b\"],[0.6666666666666666,\"#ed7953\"],[0.7777777777777778,\"#fb9f3a\"],[0.8888888888888888,\"#fdca26\"],[1.0,\"#f0f921\"]]}],\"heatmapgl\":[{\"type\":\"heatmapgl\",\"colorbar\":{\"outlinewidth\":0,\"ticks\":\"\"},\"colorscale\":[[0.0,\"#0d0887\"],[0.1111111111111111,\"#46039f\"],[0.2222222222222222,\"#7201a8\"],[0.3333333333333333,\"#9c179e\"],[0.4444444444444444,\"#bd3786\"],[0.5555555555555556,\"#d8576b\"],[0.6666666666666666,\"#ed7953\"],[0.7777777777777778,\"#fb9f3a\"],[0.8888888888888888,\"#fdca26\"],[1.0,\"#f0f921\"]]}],\"contourcarpet\":[{\"type\":\"contourcarpet\",\"colorbar\":{\"outlinewidth\":0,\"ticks\":\"\"}}],\"contour\":[{\"type\":\"contour\",\"colorbar\":{\"outlinewidth\":0,\"ticks\":\"\"},\"colorscale\":[[0.0,\"#0d0887\"],[0.1111111111111111,\"#46039f\"],[0.2222222222222222,\"#7201a8\"],[0.3333333333333333,\"#9c179e\"],[0.4444444444444444,\"#bd3786\"],[0.5555555555555556,\"#d8576b\"],[0.6666666666666666,\"#ed7953\"],[0.7777777777777778,\"#fb9f3a\"],[0.8888888888888888,\"#fdca26\"],[1.0,\"#f0f921\"]]}],\"surface\":[{\"type\":\"surface\",\"colorbar\":{\"outlinewidth\":0,\"ticks\":\"\"},\"colorscale\":[[0.0,\"#0d0887\"],[0.1111111111111111,\"#46039f\"],[0.2222222222222222,\"#7201a8\"],[0.3333333333333333,\"#9c179e\"],[0.4444444444444444,\"#bd3786\"],[0.5555555555555556,\"#d8576b\"],[0.6666666666666666,\"#ed7953\"],[0.7777777777777778,\"#fb9f3a\"],[0.8888888888888888,\"#fdca26\"],[1.0,\"#f0f921\"]]}],\"mesh3d\":[{\"type\":\"mesh3d\",\"colorbar\":{\"outlinewidth\":0,\"ticks\":\"\"}}],\"scatter\":[{\"fillpattern\":{\"fillmode\":\"overlay\",\"size\":10,\"solidity\":0.2},\"type\":\"scatter\"}],\"parcoords\":[{\"type\":\"parcoords\",\"line\":{\"colorbar\":{\"outlinewidth\":0,\"ticks\":\"\"}}}],\"scatterpolargl\":[{\"type\":\"scatterpolargl\",\"marker\":{\"colorbar\":{\"outlinewidth\":0,\"ticks\":\"\"}}}],\"bar\":[{\"error_x\":{\"color\":\"#2a3f5f\"},\"error_y\":{\"color\":\"#2a3f5f\"},\"marker\":{\"line\":{\"color\":\"#E5ECF6\",\"width\":0.5},\"pattern\":{\"fillmode\":\"overlay\",\"size\":10,\"solidity\":0.2}},\"type\":\"bar\"}],\"scattergeo\":[{\"type\":\"scattergeo\",\"marker\":{\"colorbar\":{\"outlinewidth\":0,\"ticks\":\"\"}}}],\"scatterpolar\":[{\"type\":\"scatterpolar\",\"marker\":{\"colorbar\":{\"outlinewidth\":0,\"ticks\":\"\"}}}],\"histogram\":[{\"marker\":{\"pattern\":{\"fillmode\":\"overlay\",\"size\":10,\"solidity\":0.2}},\"type\":\"histogram\"}],\"scattergl\":[{\"type\":\"scattergl\",\"marker\":{\"colorbar\":{\"outlinewidth\":0,\"ticks\":\"\"}}}],\"scatter3d\":[{\"type\":\"scatter3d\",\"line\":{\"colorbar\":{\"outlinewidth\":0,\"ticks\":\"\"}},\"marker\":{\"colorbar\":{\"outlinewidth\":0,\"ticks\":\"\"}}}],\"scattermapbox\":[{\"type\":\"scattermapbox\",\"marker\":{\"colorbar\":{\"outlinewidth\":0,\"ticks\":\"\"}}}],\"scatterternary\":[{\"type\":\"scatterternary\",\"marker\":{\"colorbar\":{\"outlinewidth\":0,\"ticks\":\"\"}}}],\"scattercarpet\":[{\"type\":\"scattercarpet\",\"marker\":{\"colorbar\":{\"outlinewidth\":0,\"ticks\":\"\"}}}],\"carpet\":[{\"aaxis\":{\"endlinecolor\":\"#2a3f5f\",\"gridcolor\":\"white\",\"linecolor\":\"white\",\"minorgridcolor\":\"white\",\"startlinecolor\":\"#2a3f5f\"},\"baxis\":{\"endlinecolor\":\"#2a3f5f\",\"gridcolor\":\"white\",\"linecolor\":\"white\",\"minorgridcolor\":\"white\",\"startlinecolor\":\"#2a3f5f\"},\"type\":\"carpet\"}],\"table\":[{\"cells\":{\"fill\":{\"color\":\"#EBF0F8\"},\"line\":{\"color\":\"white\"}},\"header\":{\"fill\":{\"color\":\"#C8D4E3\"},\"line\":{\"color\":\"white\"}},\"type\":\"table\"}],\"barpolar\":[{\"marker\":{\"line\":{\"color\":\"#E5ECF6\",\"width\":0.5},\"pattern\":{\"fillmode\":\"overlay\",\"size\":10,\"solidity\":0.2}},\"type\":\"barpolar\"}],\"pie\":[{\"automargin\":true,\"type\":\"pie\"}]},\"layout\":{\"autotypenumbers\":\"strict\",\"colorway\":[\"#636efa\",\"#EF553B\",\"#00cc96\",\"#ab63fa\",\"#FFA15A\",\"#19d3f3\",\"#FF6692\",\"#B6E880\",\"#FF97FF\",\"#FECB52\"],\"font\":{\"color\":\"#2a3f5f\"},\"hovermode\":\"closest\",\"hoverlabel\":{\"align\":\"left\"},\"paper_bgcolor\":\"white\",\"plot_bgcolor\":\"#E5ECF6\",\"polar\":{\"bgcolor\":\"#E5ECF6\",\"angularaxis\":{\"gridcolor\":\"white\",\"linecolor\":\"white\",\"ticks\":\"\"},\"radialaxis\":{\"gridcolor\":\"white\",\"linecolor\":\"white\",\"ticks\":\"\"}},\"ternary\":{\"bgcolor\":\"#E5ECF6\",\"aaxis\":{\"gridcolor\":\"white\",\"linecolor\":\"white\",\"ticks\":\"\"},\"baxis\":{\"gridcolor\":\"white\",\"linecolor\":\"white\",\"ticks\":\"\"},\"caxis\":{\"gridcolor\":\"white\",\"linecolor\":\"white\",\"ticks\":\"\"}},\"coloraxis\":{\"colorbar\":{\"outlinewidth\":0,\"ticks\":\"\"}},\"colorscale\":{\"sequential\":[[0.0,\"#0d0887\"],[0.1111111111111111,\"#46039f\"],[0.2222222222222222,\"#7201a8\"],[0.3333333333333333,\"#9c179e\"],[0.4444444444444444,\"#bd3786\"],[0.5555555555555556,\"#d8576b\"],[0.6666666666666666,\"#ed7953\"],[0.7777777777777778,\"#fb9f3a\"],[0.8888888888888888,\"#fdca26\"],[1.0,\"#f0f921\"]],\"sequentialminus\":[[0.0,\"#0d0887\"],[0.1111111111111111,\"#46039f\"],[0.2222222222222222,\"#7201a8\"],[0.3333333333333333,\"#9c179e\"],[0.4444444444444444,\"#bd3786\"],[0.5555555555555556,\"#d8576b\"],[0.6666666666666666,\"#ed7953\"],[0.7777777777777778,\"#fb9f3a\"],[0.8888888888888888,\"#fdca26\"],[1.0,\"#f0f921\"]],\"diverging\":[[0,\"#8e0152\"],[0.1,\"#c51b7d\"],[0.2,\"#de77ae\"],[0.3,\"#f1b6da\"],[0.4,\"#fde0ef\"],[0.5,\"#f7f7f7\"],[0.6,\"#e6f5d0\"],[0.7,\"#b8e186\"],[0.8,\"#7fbc41\"],[0.9,\"#4d9221\"],[1,\"#276419\"]]},\"xaxis\":{\"gridcolor\":\"white\",\"linecolor\":\"white\",\"ticks\":\"\",\"title\":{\"standoff\":15},\"zerolinecolor\":\"white\",\"automargin\":true,\"zerolinewidth\":2},\"yaxis\":{\"gridcolor\":\"white\",\"linecolor\":\"white\",\"ticks\":\"\",\"title\":{\"standoff\":15},\"zerolinecolor\":\"white\",\"automargin\":true,\"zerolinewidth\":2},\"scene\":{\"xaxis\":{\"backgroundcolor\":\"#E5ECF6\",\"gridcolor\":\"white\",\"linecolor\":\"white\",\"showbackground\":true,\"ticks\":\"\",\"zerolinecolor\":\"white\",\"gridwidth\":2},\"yaxis\":{\"backgroundcolor\":\"#E5ECF6\",\"gridcolor\":\"white\",\"linecolor\":\"white\",\"showbackground\":true,\"ticks\":\"\",\"zerolinecolor\":\"white\",\"gridwidth\":2},\"zaxis\":{\"backgroundcolor\":\"#E5ECF6\",\"gridcolor\":\"white\",\"linecolor\":\"white\",\"showbackground\":true,\"ticks\":\"\",\"zerolinecolor\":\"white\",\"gridwidth\":2}},\"shapedefaults\":{\"line\":{\"color\":\"#2a3f5f\"}},\"annotationdefaults\":{\"arrowcolor\":\"#2a3f5f\",\"arrowhead\":0,\"arrowwidth\":1},\"geo\":{\"bgcolor\":\"white\",\"landcolor\":\"#E5ECF6\",\"subunitcolor\":\"white\",\"showland\":true,\"showlakes\":true,\"lakecolor\":\"white\"},\"title\":{\"x\":0.05},\"mapbox\":{\"style\":\"light\"}}},\"xaxis\":{\"anchor\":\"y\",\"domain\":[0.0,1.0],\"title\":{\"text\":\"DATE\"}},\"yaxis\":{\"anchor\":\"x\",\"domain\":[0.0,1.0],\"title\":{\"text\":\"diff\"}},\"legend\":{\"tracegroupgap\":0},\"title\":{\"text\":\"TBILL Allocation Range\"},\"barmode\":\"relative\"},                        {\"responsive\": true}                    ).then(function(){\n",
       "                            \n",
       "var gd = document.getElementById('e3334d5e-8399-47e7-b8f6-c7c83780262b');\n",
       "var x = new MutationObserver(function (mutations, observer) {{\n",
       "        var display = window.getComputedStyle(gd).display;\n",
       "        if (!display || display === 'none') {{\n",
       "            console.log([gd, 'removed!']);\n",
       "            Plotly.purge(gd);\n",
       "            observer.disconnect();\n",
       "        }}\n",
       "}});\n",
       "\n",
       "// Listen for the removal of the full notebook cells\n",
       "var notebookContainer = gd.closest('#notebook-container');\n",
       "if (notebookContainer) {{\n",
       "    x.observe(notebookContainer, {childList: true});\n",
       "}}\n",
       "\n",
       "// Listen for the clearing of the current output cell\n",
       "var outputEl = gd.closest('.output');\n",
       "if (outputEl) {{\n",
       "    x.observe(outputEl, {childList: true});\n",
       "}}\n",
       "\n",
       "                        })                };                });            </script>        </div>"
      ]
     },
     "metadata": {},
     "output_type": "display_data"
    },
    {
     "name": "stdout",
     "output_type": "stream",
     "text": [
      "shape: (1_172, 6)\n",
      "┌────────────┬─────────────┬────────────────┬──────────┬───────────┬──────────┐\n",
      "│ DATE       ┆ STRATEGY_ID ┆ ASSET_CLASS_ID ┆ WGT      ┆ WGT_right ┆ split    │\n",
      "│ ---        ┆ ---         ┆ ---            ┆ ---      ┆ ---       ┆ ---      │\n",
      "│ str        ┆ str         ┆ str            ┆ f64      ┆ f64       ┆ f64      │\n",
      "╞════════════╪═════════════╪════════════════╪══════════╪═══════════╪══════════╡\n",
      "│ 2000-01-01 ┆ NDCB        ┆ AGG            ┆ 0.509302 ┆ 0.593194  ┆ 0.858575 │\n",
      "│ 2000-01-01 ┆ NDB         ┆ AGG            ┆ 0.362198 ┆ 0.403862  ┆ 0.896835 │\n",
      "│ 2000-01-01 ┆ NDGI        ┆ AGG            ┆ 0.208012 ┆ 0.22792   ┆ 0.912654 │\n",
      "│ 2000-01-01 ┆ NDLTG       ┆ AGG            ┆ 0.106626 ┆ 0.125777  ┆ 0.847736 │\n",
      "│ 2000-02-01 ┆ NDCB        ┆ AGG            ┆ 0.527509 ┆ 0.59792   ┆ 0.88224  │\n",
      "│ …          ┆ …           ┆ …              ┆ …        ┆ …         ┆ …        │\n",
      "│ 2024-04-01 ┆ NDLTG       ┆ AGG            ┆ 0.0      ┆ 0.091025  ┆ 0.0      │\n",
      "│ 2024-05-01 ┆ NDCB        ┆ AGG            ┆ 0.35484  ┆ 0.631158  ┆ 0.562205 │\n",
      "│ 2024-05-01 ┆ NDB         ┆ AGG            ┆ 0.231577 ┆ 0.437416  ┆ 0.529421 │\n",
      "│ 2024-05-01 ┆ NDGI        ┆ AGG            ┆ 0.096382 ┆ 0.240749  ┆ 0.400341 │\n",
      "│ 2024-05-01 ┆ NDLTG       ┆ AGG            ┆ 0.007208 ┆ 0.078959  ┆ 0.091289 │\n",
      "└────────────┴─────────────┴────────────────┴──────────┴───────────┴──────────┘\n",
      "shape: (293, 2)\n",
      "┌────────────┬──────────┐\n",
      "│ DATE       ┆ split    │\n",
      "│ ---        ┆ ---      │\n",
      "│ str        ┆ f64      │\n",
      "╞════════════╪══════════╡\n",
      "│ 2000-01-01 ┆ 0.847736 │\n",
      "│ 2000-02-01 ┆ 0.88224  │\n",
      "│ 2000-03-01 ┆ 0.854302 │\n",
      "│ 2000-04-01 ┆ 0.671723 │\n",
      "│ 2000-05-01 ┆ 0.633357 │\n",
      "│ …          ┆ …        │\n",
      "│ 2024-01-01 ┆ 0.0      │\n",
      "│ 2024-02-01 ┆ 0.004971 │\n",
      "│ 2024-03-01 ┆ 0.012323 │\n",
      "│ 2024-04-01 ┆ 0.0      │\n",
      "│ 2024-05-01 ┆ 0.091289 │\n",
      "└────────────┴──────────┘\n",
      "shape: (293, 2)\n",
      "┌────────────┬──────────┐\n",
      "│ DATE       ┆ split    │\n",
      "│ ---        ┆ ---      │\n",
      "│ str        ┆ f64      │\n",
      "╞════════════╪══════════╡\n",
      "│ 2000-01-01 ┆ 0.912654 │\n",
      "│ 2000-02-01 ┆ 0.943038 │\n",
      "│ 2000-03-01 ┆ 0.903016 │\n",
      "│ 2000-04-01 ┆ 0.788925 │\n",
      "│ 2000-05-01 ┆ 0.758155 │\n",
      "│ …          ┆ …        │\n",
      "│ 2024-01-01 ┆ 0.521513 │\n",
      "│ 2024-02-01 ┆ 0.524027 │\n",
      "│ 2024-03-01 ┆ 0.531405 │\n",
      "│ 2024-04-01 ┆ 0.531884 │\n",
      "│ 2024-05-01 ┆ 0.562205 │\n",
      "└────────────┴──────────┘\n"
     ]
    },
    {
     "data": {
      "application/vnd.plotly.v1+json": {
       "config": {
        "plotlyServerURL": "https://plot.ly"
       },
       "data": [
        {
         "alignmentgroup": "True",
         "hovertemplate": "DATE=%{x}<br>diff=%{y}<extra></extra>",
         "legendgroup": "",
         "marker": {
          "color": "#636efa",
          "pattern": {
           "shape": ""
          }
         },
         "name": "",
         "offsetgroup": "",
         "orientation": "v",
         "showlegend": false,
         "textposition": "auto",
         "type": "bar",
         "x": [
          "2010-01-01",
          "2003-08-01",
          "2004-12-01",
          "2006-01-01",
          "2010-10-01",
          "2007-05-01",
          "2015-11-01",
          "2004-11-01",
          "2004-10-01",
          "2022-07-01",
          "2003-02-01",
          "2012-04-01",
          "2012-11-01",
          "2024-03-01",
          "2019-05-01",
          "2012-07-01",
          "2014-07-01",
          "2018-11-01",
          "2002-07-01",
          "2018-06-01",
          "2016-12-01",
          "2007-03-01",
          "2017-12-01",
          "2020-11-01",
          "2013-04-01",
          "2007-10-01",
          "2011-12-01",
          "2007-11-01",
          "2018-12-01",
          "2018-04-01",
          "2002-08-01",
          "2005-02-01",
          "2000-12-01",
          "2024-02-01",
          "2005-03-01",
          "2000-05-01",
          "2019-01-01",
          "2002-11-01",
          "2003-03-01",
          "2005-07-01",
          "2010-07-01",
          "2005-06-01",
          "2000-11-01",
          "2006-11-01",
          "2011-05-01",
          "2022-02-01",
          "2021-09-01",
          "2011-03-01",
          "2007-12-01",
          "2014-04-01",
          "2006-02-01",
          "2014-02-01",
          "2014-10-01",
          "2021-02-01",
          "2007-07-01",
          "2023-06-01",
          "2016-01-01",
          "2017-08-01",
          "2007-06-01",
          "2005-09-01",
          "2008-08-01",
          "2002-12-01",
          "2018-08-01",
          "2015-01-01",
          "2000-01-01",
          "2024-05-01",
          "2003-10-01",
          "2016-05-01",
          "2009-06-01",
          "2008-02-01",
          "2007-01-01",
          "2009-05-01",
          "2009-07-01",
          "2015-02-01",
          "2000-10-01",
          "2016-06-01",
          "2020-01-01",
          "2013-06-01",
          "2023-04-01",
          "2019-03-01",
          "2004-06-01",
          "2004-07-01",
          "2019-10-01",
          "2017-11-01",
          "2009-03-01",
          "2010-04-01",
          "2005-04-01",
          "2022-10-01",
          "2017-06-01",
          "2010-05-01",
          "2010-08-01",
          "2021-05-01",
          "2004-08-01",
          "2004-05-01",
          "2016-03-01",
          "2008-04-01",
          "2020-10-01",
          "2001-09-01",
          "2019-08-01",
          "2015-09-01",
          "2020-03-01",
          "2014-06-01",
          "2014-11-01",
          "2021-12-01",
          "2000-06-01",
          "2016-07-01",
          "2000-09-01",
          "2002-09-01",
          "2018-02-01",
          "2017-10-01",
          "2017-04-01",
          "2012-03-01",
          "2009-11-01",
          "2002-02-01",
          "2001-06-01",
          "2011-04-01",
          "2017-03-01",
          "2006-09-01",
          "2007-08-01",
          "2012-02-01",
          "2023-12-01",
          "2022-12-01",
          "2006-10-01",
          "2011-10-01",
          "2009-08-01",
          "2011-09-01",
          "2010-12-01",
          "2000-08-01",
          "2023-05-01",
          "2022-03-01",
          "2003-01-01",
          "2015-10-01",
          "2006-05-01",
          "2009-09-01",
          "2013-02-01",
          "2008-07-01",
          "2001-10-01",
          "2001-08-01",
          "2014-05-01",
          "2024-01-01",
          "2009-10-01",
          "2013-05-01",
          "2019-02-01",
          "2001-11-01",
          "2004-04-01",
          "2005-11-01",
          "2012-12-01",
          "2010-09-01",
          "2010-02-01",
          "2017-09-01",
          "2013-12-01",
          "2008-12-01",
          "2011-01-01",
          "2003-09-01",
          "2009-02-01",
          "2022-04-01",
          "2002-06-01",
          "2021-10-01",
          "2013-10-01",
          "2013-01-01",
          "2017-01-01",
          "2022-06-01",
          "2019-07-01",
          "2023-07-01",
          "2005-12-01",
          "2016-09-01",
          "2006-12-01",
          "2003-04-01",
          "2020-04-01",
          "2018-01-01",
          "2016-02-01",
          "2006-07-01",
          "2006-03-01",
          "2019-09-01",
          "2018-10-01",
          "2015-04-01",
          "2015-07-01",
          "2019-11-01",
          "2016-11-01",
          "2007-09-01",
          "2002-03-01",
          "2013-07-01",
          "2003-07-01",
          "2014-12-01",
          "2020-08-01",
          "2021-07-01",
          "2015-06-01",
          "2023-01-01",
          "2017-07-01",
          "2001-05-01",
          "2002-04-01",
          "2003-06-01",
          "2013-08-01",
          "2023-10-01",
          "2001-01-01",
          "2013-09-01",
          "2009-04-01",
          "2017-05-01",
          "2022-05-01",
          "2013-03-01",
          "2008-10-01",
          "2003-05-01",
          "2004-09-01",
          "2023-09-01",
          "2018-03-01",
          "2000-04-01",
          "2018-07-01",
          "2008-05-01",
          "2002-01-01",
          "2002-05-01",
          "2012-06-01",
          "2017-02-01",
          "2019-12-01",
          "2023-03-01",
          "2014-03-01",
          "2020-09-01",
          "2014-09-01",
          "2004-03-01",
          "2011-02-01",
          "2006-04-01",
          "2005-05-01",
          "2014-08-01",
          "2023-08-01",
          "2008-09-01",
          "2016-10-01",
          "2023-11-01",
          "2004-01-01",
          "2008-03-01",
          "2012-08-01",
          "2020-02-01",
          "2021-03-01",
          "2001-02-01",
          "2011-06-01",
          "2010-11-01",
          "2013-11-01",
          "2021-06-01",
          "2003-12-01",
          "2016-08-01",
          "2019-06-01",
          "2021-11-01",
          "2009-12-01",
          "2019-04-01",
          "2020-06-01",
          "2007-04-01",
          "2005-01-01",
          "2003-11-01",
          "2011-11-01",
          "2010-06-01",
          "2015-12-01",
          "2010-03-01",
          "2021-04-01",
          "2005-10-01",
          "2021-08-01",
          "2000-02-01",
          "2011-07-01",
          "2001-04-01",
          "2007-02-01",
          "2004-02-01",
          "2008-06-01",
          "2012-10-01",
          "2012-09-01",
          "2015-05-01",
          "2012-05-01",
          "2022-11-01",
          "2006-06-01",
          "2001-12-01",
          "2001-03-01",
          "2024-04-01",
          "2022-01-01",
          "2020-12-01",
          "2000-03-01",
          "2014-01-01",
          "2008-11-01",
          "2006-08-01",
          "2008-01-01",
          "2022-09-01",
          "2000-07-01",
          "2018-05-01",
          "2015-03-01",
          "2023-02-01",
          "2022-08-01",
          "2018-09-01",
          "2021-01-01",
          "2011-08-01",
          "2020-07-01",
          "2012-01-01",
          "2001-07-01",
          "2002-10-01",
          "2016-04-01",
          "2015-08-01",
          "2005-08-01",
          "2009-01-01",
          "2020-05-01"
         ],
         "xaxis": "x",
         "y": [
          0.40719200779071507,
          0.5721821930561184,
          0.34453749553284063,
          0.3051572414880185,
          0.6581770413106219,
          0.24527628434525428,
          0.46300100129209965,
          0.35005587616627354,
          0.3294473970901376,
          0.6759712223743749,
          0.7392959693894976,
          0.7727377087861428,
          0.8043244043428591,
          0.5190822727109433,
          0.5806836758414486,
          0.736490639332587,
          0.5021396176856724,
          0.46147979168340675,
          0.23452236346133526,
          0.45482907630859065,
          0.5683622476619363,
          0.23412809731094408,
          0.5414717041371866,
          0.6873765561970225,
          0.8189973389420714,
          0.24177082829660546,
          0.7254429368278142,
          0.24426876327036773,
          0.4477489496499439,
          0.46774340206909965,
          0.31940293014719373,
          0.34105214286522645,
          0.5217865773079251,
          0.5190561642889114,
          0.32858180535602555,
          0.12479757554066973,
          0.4333291919324636,
          0.6296220250186912,
          0.7492760461632579,
          0.37711644752377493,
          0.4483423602434013,
          0.3682161771273291,
          0.35676808062702675,
          0.21594613502531612,
          0.5305490170759322,
          0.8405349695041578,
          0.5704439485407715,
          0.5344784655901783,
          0.306883397333206,
          0.5096765636311185,
          0.27137563596423075,
          0.5516509396659187,
          0.5467026108070996,
          0.5988958202764382,
          0.23506751597559294,
          0.48163450974086647,
          0.538840710715368,
          0.5018216281548233,
          0.2565238208206395,
          0.36169072626875465,
          0.33716097092651637,
          0.5355411230738427,
          0.45302958005625393,
          0.5086067795425351,
          0.06491747869485676,
          0.4709155160716462,
          0.49150791295594554,
          0.6047619688460453,
          0.4338012745339534,
          0.3809680243997339,
          0.22315829639753682,
          0.3387050922133789,
          0.5035200193962088,
          0.5375011458285371,
          0.305266363482225,
          0.5850942172323346,
          0.39714046796425345,
          0.7962909745549563,
          0.5092540074233535,
          0.48514106392890144,
          0.3043165491085361,
          0.27508985757308324,
          0.6249653298066844,
          0.5413220854857954,
          0.2778166670292543,
          0.4178986022342597,
          0.31522012044129444,
          0.5673456311934771,
          0.5205679744756708,
          0.4157748802124675,
          0.5320591936503671,
          0.470064556335492,
          0.27702859059885987,
          0.33859834495520746,
          0.5550116578881168,
          0.40000301620070267,
          0.6754308556205576,
          0.24122580789362869,
          0.8016476301873726,
          0.4932147294035516,
          0.3607833237409917,
          0.5156910657885656,
          0.5435637465746328,
          0.7429259989895827,
          0.12063652233841671,
          0.619099635694671,
          0.27686526030890274,
          0.44223997516503527,
          0.4807308321313369,
          0.5405239032599782,
          0.4876240172671898,
          0.7500800921216203,
          0.6571189118224922,
          0.18730125152650345,
          0.18356956644070177,
          0.534361714452668,
          0.490324342333945,
          0.23330212297681863,
          0.22803535294578203,
          0.723344298963362,
          0.48900425089687594,
          0.5609309789010641,
          0.2314314995410478,
          0.663813943967916,
          0.5642710661251177,
          0.6717349261164478,
          0.7425384028767118,
          0.1769757311869603,
          0.4905154167599878,
          0.830685682390799,
          0.6153873514174049,
          0.4549733714419552,
          0.2351939118772507,
          0.5913007973233657,
          0.822354180970772,
          0.37762986344500615,
          0.33194915562641575,
          0.15727110739576178,
          0.5080994244029884,
          0.52151265638137,
          0.6333431421658288,
          0.8175281194578875,
          0.48450824694969463,
          0.35398475464746704,
          0.3652706836663284,
          0.3496012583302637,
          0.8091126399685461,
          0.5817578479842221,
          0.4526919456285417,
          0.5346171670755593,
          0.5464087745693211,
          0.3983647642045655,
          0.623450929337358,
          0.4825123217750883,
          0.3358928711319434,
          0.8398961241979603,
          0.22585566024521098,
          0.6135845093979955,
          0.6307738623366932,
          0.812226013903156,
          0.5108362081517778,
          0.6503501687110879,
          0.7738070974807731,
          0.47970569963175674,
          0.34403322231537037,
          0.5829798932309027,
          0.2139597269517428,
          0.8197476239215452,
          0.6403867983476933,
          0.5452607361198665,
          0.5016136887675124,
          0.22323208923358118,
          0.24574345293210853,
          0.7154277664079638,
          0.4582394634232541,
          0.5317091305056457,
          0.5432851913196199,
          0.5045706189420063,
          0.6392656184679352,
          0.26418716577119417,
          0.22064831382232708,
          0.8008261604831088,
          0.8148970096983502,
          0.5439561539228532,
          0.6598431282922737,
          0.5158628259051543,
          0.5562295576605916,
          0.5446831679502235,
          0.5076135792481924,
          0.2502852106984781,
          0.2124028940920658,
          0.8607019910394057,
          0.6919300862316752,
          0.5232876458013449,
          0.533926619504065,
          0.6878169593039645,
          0.2747675968474259,
          0.5080507372666776,
          0.6810714271586411,
          0.8213968897486602,
          0.6891697991387817,
          0.840289603814441,
          0.3137136159716527,
          0.494754429781174,
          0.46082214276630273,
          0.1172021166681726,
          0.46353202816996864,
          0.4148137551685962,
          0.18435318989049065,
          0.2272524676316845,
          0.7441425365456219,
          0.4858029895328087,
          0.41420848896201096,
          0.540344757943318,
          0.5192025127207924,
          0.6159711988260478,
          0.5191579282537218,
          0.3521305477610349,
          0.5639930040410002,
          0.23564540586220706,
          0.33560995732627263,
          0.5185236943193323,
          0.4862024331661021,
          0.4225298445197539,
          0.6302918313621579,
          0.4831072922439278,
          0.3487724214679113,
          0.4061680746917651,
          0.7439109474118245,
          0.40063121572534743,
          0.5629988813196598,
          0.2672875306133442,
          0.5699537758407645,
          0.7056026276982384,
          0.5789726627003964,
          0.4835769281938074,
          0.38131443210373206,
          0.5516876424726906,
          0.7106062630761565,
          0.6130436369586412,
          0.6695797670589458,
          0.5488033040904707,
          0.6071299790807202,
          0.24512049291091553,
          0.3352482951941398,
          0.4099430256338793,
          0.7351095890401373,
          0.46397902529806034,
          0.5103638015977447,
          0.46512486220986143,
          0.49692539509106076,
          0.35429228446121686,
          0.5648102852255699,
          0.06079882524674329,
          0.5871580393556995,
          0.28963151968060646,
          0.21562357663289933,
          0.34193721992699266,
          0.40811614515579364,
          0.7799687962037334,
          0.7576944920183689,
          0.5307444831693766,
          0.7842212534707241,
          0.5712407969757347,
          0.23994833354318157,
          0.23057894997766215,
          0.25750403452394677,
          0.5318835520889776,
          0.7951887132220371,
          0.6345586369817444,
          0.04871439425559532,
          0.5025746102807698,
          0.542535378395989,
          0.22223261773647918,
          0.3505719008420983,
          0.5909822627963058,
          0.16146088507995204,
          0.4475458510023052,
          0.5150158381099357,
          0.551472921932005,
          0.6252552608685692,
          0.4610791769931151,
          0.5949128201126248,
          0.644551997784485,
          0.6112621269145931,
          0.7165938875886089,
          0.15190661063465893,
          0.6671099334830604,
          0.6324000936794827,
          0.5658517754644192,
          0.348575724180884,
          0.34722292338449356,
          0.5888448587842204
         ],
         "yaxis": "y"
        }
       ],
       "layout": {
        "barmode": "relative",
        "legend": {
         "tracegroupgap": 0
        },
        "template": {
         "data": {
          "bar": [
           {
            "error_x": {
             "color": "#2a3f5f"
            },
            "error_y": {
             "color": "#2a3f5f"
            },
            "marker": {
             "line": {
              "color": "#E5ECF6",
              "width": 0.5
             },
             "pattern": {
              "fillmode": "overlay",
              "size": 10,
              "solidity": 0.2
             }
            },
            "type": "bar"
           }
          ],
          "barpolar": [
           {
            "marker": {
             "line": {
              "color": "#E5ECF6",
              "width": 0.5
             },
             "pattern": {
              "fillmode": "overlay",
              "size": 10,
              "solidity": 0.2
             }
            },
            "type": "barpolar"
           }
          ],
          "carpet": [
           {
            "aaxis": {
             "endlinecolor": "#2a3f5f",
             "gridcolor": "white",
             "linecolor": "white",
             "minorgridcolor": "white",
             "startlinecolor": "#2a3f5f"
            },
            "baxis": {
             "endlinecolor": "#2a3f5f",
             "gridcolor": "white",
             "linecolor": "white",
             "minorgridcolor": "white",
             "startlinecolor": "#2a3f5f"
            },
            "type": "carpet"
           }
          ],
          "choropleth": [
           {
            "colorbar": {
             "outlinewidth": 0,
             "ticks": ""
            },
            "type": "choropleth"
           }
          ],
          "contour": [
           {
            "colorbar": {
             "outlinewidth": 0,
             "ticks": ""
            },
            "colorscale": [
             [
              0,
              "#0d0887"
             ],
             [
              0.1111111111111111,
              "#46039f"
             ],
             [
              0.2222222222222222,
              "#7201a8"
             ],
             [
              0.3333333333333333,
              "#9c179e"
             ],
             [
              0.4444444444444444,
              "#bd3786"
             ],
             [
              0.5555555555555556,
              "#d8576b"
             ],
             [
              0.6666666666666666,
              "#ed7953"
             ],
             [
              0.7777777777777778,
              "#fb9f3a"
             ],
             [
              0.8888888888888888,
              "#fdca26"
             ],
             [
              1,
              "#f0f921"
             ]
            ],
            "type": "contour"
           }
          ],
          "contourcarpet": [
           {
            "colorbar": {
             "outlinewidth": 0,
             "ticks": ""
            },
            "type": "contourcarpet"
           }
          ],
          "heatmap": [
           {
            "colorbar": {
             "outlinewidth": 0,
             "ticks": ""
            },
            "colorscale": [
             [
              0,
              "#0d0887"
             ],
             [
              0.1111111111111111,
              "#46039f"
             ],
             [
              0.2222222222222222,
              "#7201a8"
             ],
             [
              0.3333333333333333,
              "#9c179e"
             ],
             [
              0.4444444444444444,
              "#bd3786"
             ],
             [
              0.5555555555555556,
              "#d8576b"
             ],
             [
              0.6666666666666666,
              "#ed7953"
             ],
             [
              0.7777777777777778,
              "#fb9f3a"
             ],
             [
              0.8888888888888888,
              "#fdca26"
             ],
             [
              1,
              "#f0f921"
             ]
            ],
            "type": "heatmap"
           }
          ],
          "heatmapgl": [
           {
            "colorbar": {
             "outlinewidth": 0,
             "ticks": ""
            },
            "colorscale": [
             [
              0,
              "#0d0887"
             ],
             [
              0.1111111111111111,
              "#46039f"
             ],
             [
              0.2222222222222222,
              "#7201a8"
             ],
             [
              0.3333333333333333,
              "#9c179e"
             ],
             [
              0.4444444444444444,
              "#bd3786"
             ],
             [
              0.5555555555555556,
              "#d8576b"
             ],
             [
              0.6666666666666666,
              "#ed7953"
             ],
             [
              0.7777777777777778,
              "#fb9f3a"
             ],
             [
              0.8888888888888888,
              "#fdca26"
             ],
             [
              1,
              "#f0f921"
             ]
            ],
            "type": "heatmapgl"
           }
          ],
          "histogram": [
           {
            "marker": {
             "pattern": {
              "fillmode": "overlay",
              "size": 10,
              "solidity": 0.2
             }
            },
            "type": "histogram"
           }
          ],
          "histogram2d": [
           {
            "colorbar": {
             "outlinewidth": 0,
             "ticks": ""
            },
            "colorscale": [
             [
              0,
              "#0d0887"
             ],
             [
              0.1111111111111111,
              "#46039f"
             ],
             [
              0.2222222222222222,
              "#7201a8"
             ],
             [
              0.3333333333333333,
              "#9c179e"
             ],
             [
              0.4444444444444444,
              "#bd3786"
             ],
             [
              0.5555555555555556,
              "#d8576b"
             ],
             [
              0.6666666666666666,
              "#ed7953"
             ],
             [
              0.7777777777777778,
              "#fb9f3a"
             ],
             [
              0.8888888888888888,
              "#fdca26"
             ],
             [
              1,
              "#f0f921"
             ]
            ],
            "type": "histogram2d"
           }
          ],
          "histogram2dcontour": [
           {
            "colorbar": {
             "outlinewidth": 0,
             "ticks": ""
            },
            "colorscale": [
             [
              0,
              "#0d0887"
             ],
             [
              0.1111111111111111,
              "#46039f"
             ],
             [
              0.2222222222222222,
              "#7201a8"
             ],
             [
              0.3333333333333333,
              "#9c179e"
             ],
             [
              0.4444444444444444,
              "#bd3786"
             ],
             [
              0.5555555555555556,
              "#d8576b"
             ],
             [
              0.6666666666666666,
              "#ed7953"
             ],
             [
              0.7777777777777778,
              "#fb9f3a"
             ],
             [
              0.8888888888888888,
              "#fdca26"
             ],
             [
              1,
              "#f0f921"
             ]
            ],
            "type": "histogram2dcontour"
           }
          ],
          "mesh3d": [
           {
            "colorbar": {
             "outlinewidth": 0,
             "ticks": ""
            },
            "type": "mesh3d"
           }
          ],
          "parcoords": [
           {
            "line": {
             "colorbar": {
              "outlinewidth": 0,
              "ticks": ""
             }
            },
            "type": "parcoords"
           }
          ],
          "pie": [
           {
            "automargin": true,
            "type": "pie"
           }
          ],
          "scatter": [
           {
            "fillpattern": {
             "fillmode": "overlay",
             "size": 10,
             "solidity": 0.2
            },
            "type": "scatter"
           }
          ],
          "scatter3d": [
           {
            "line": {
             "colorbar": {
              "outlinewidth": 0,
              "ticks": ""
             }
            },
            "marker": {
             "colorbar": {
              "outlinewidth": 0,
              "ticks": ""
             }
            },
            "type": "scatter3d"
           }
          ],
          "scattercarpet": [
           {
            "marker": {
             "colorbar": {
              "outlinewidth": 0,
              "ticks": ""
             }
            },
            "type": "scattercarpet"
           }
          ],
          "scattergeo": [
           {
            "marker": {
             "colorbar": {
              "outlinewidth": 0,
              "ticks": ""
             }
            },
            "type": "scattergeo"
           }
          ],
          "scattergl": [
           {
            "marker": {
             "colorbar": {
              "outlinewidth": 0,
              "ticks": ""
             }
            },
            "type": "scattergl"
           }
          ],
          "scattermapbox": [
           {
            "marker": {
             "colorbar": {
              "outlinewidth": 0,
              "ticks": ""
             }
            },
            "type": "scattermapbox"
           }
          ],
          "scatterpolar": [
           {
            "marker": {
             "colorbar": {
              "outlinewidth": 0,
              "ticks": ""
             }
            },
            "type": "scatterpolar"
           }
          ],
          "scatterpolargl": [
           {
            "marker": {
             "colorbar": {
              "outlinewidth": 0,
              "ticks": ""
             }
            },
            "type": "scatterpolargl"
           }
          ],
          "scatterternary": [
           {
            "marker": {
             "colorbar": {
              "outlinewidth": 0,
              "ticks": ""
             }
            },
            "type": "scatterternary"
           }
          ],
          "surface": [
           {
            "colorbar": {
             "outlinewidth": 0,
             "ticks": ""
            },
            "colorscale": [
             [
              0,
              "#0d0887"
             ],
             [
              0.1111111111111111,
              "#46039f"
             ],
             [
              0.2222222222222222,
              "#7201a8"
             ],
             [
              0.3333333333333333,
              "#9c179e"
             ],
             [
              0.4444444444444444,
              "#bd3786"
             ],
             [
              0.5555555555555556,
              "#d8576b"
             ],
             [
              0.6666666666666666,
              "#ed7953"
             ],
             [
              0.7777777777777778,
              "#fb9f3a"
             ],
             [
              0.8888888888888888,
              "#fdca26"
             ],
             [
              1,
              "#f0f921"
             ]
            ],
            "type": "surface"
           }
          ],
          "table": [
           {
            "cells": {
             "fill": {
              "color": "#EBF0F8"
             },
             "line": {
              "color": "white"
             }
            },
            "header": {
             "fill": {
              "color": "#C8D4E3"
             },
             "line": {
              "color": "white"
             }
            },
            "type": "table"
           }
          ]
         },
         "layout": {
          "annotationdefaults": {
           "arrowcolor": "#2a3f5f",
           "arrowhead": 0,
           "arrowwidth": 1
          },
          "autotypenumbers": "strict",
          "coloraxis": {
           "colorbar": {
            "outlinewidth": 0,
            "ticks": ""
           }
          },
          "colorscale": {
           "diverging": [
            [
             0,
             "#8e0152"
            ],
            [
             0.1,
             "#c51b7d"
            ],
            [
             0.2,
             "#de77ae"
            ],
            [
             0.3,
             "#f1b6da"
            ],
            [
             0.4,
             "#fde0ef"
            ],
            [
             0.5,
             "#f7f7f7"
            ],
            [
             0.6,
             "#e6f5d0"
            ],
            [
             0.7,
             "#b8e186"
            ],
            [
             0.8,
             "#7fbc41"
            ],
            [
             0.9,
             "#4d9221"
            ],
            [
             1,
             "#276419"
            ]
           ],
           "sequential": [
            [
             0,
             "#0d0887"
            ],
            [
             0.1111111111111111,
             "#46039f"
            ],
            [
             0.2222222222222222,
             "#7201a8"
            ],
            [
             0.3333333333333333,
             "#9c179e"
            ],
            [
             0.4444444444444444,
             "#bd3786"
            ],
            [
             0.5555555555555556,
             "#d8576b"
            ],
            [
             0.6666666666666666,
             "#ed7953"
            ],
            [
             0.7777777777777778,
             "#fb9f3a"
            ],
            [
             0.8888888888888888,
             "#fdca26"
            ],
            [
             1,
             "#f0f921"
            ]
           ],
           "sequentialminus": [
            [
             0,
             "#0d0887"
            ],
            [
             0.1111111111111111,
             "#46039f"
            ],
            [
             0.2222222222222222,
             "#7201a8"
            ],
            [
             0.3333333333333333,
             "#9c179e"
            ],
            [
             0.4444444444444444,
             "#bd3786"
            ],
            [
             0.5555555555555556,
             "#d8576b"
            ],
            [
             0.6666666666666666,
             "#ed7953"
            ],
            [
             0.7777777777777778,
             "#fb9f3a"
            ],
            [
             0.8888888888888888,
             "#fdca26"
            ],
            [
             1,
             "#f0f921"
            ]
           ]
          },
          "colorway": [
           "#636efa",
           "#EF553B",
           "#00cc96",
           "#ab63fa",
           "#FFA15A",
           "#19d3f3",
           "#FF6692",
           "#B6E880",
           "#FF97FF",
           "#FECB52"
          ],
          "font": {
           "color": "#2a3f5f"
          },
          "geo": {
           "bgcolor": "white",
           "lakecolor": "white",
           "landcolor": "#E5ECF6",
           "showlakes": true,
           "showland": true,
           "subunitcolor": "white"
          },
          "hoverlabel": {
           "align": "left"
          },
          "hovermode": "closest",
          "mapbox": {
           "style": "light"
          },
          "paper_bgcolor": "white",
          "plot_bgcolor": "#E5ECF6",
          "polar": {
           "angularaxis": {
            "gridcolor": "white",
            "linecolor": "white",
            "ticks": ""
           },
           "bgcolor": "#E5ECF6",
           "radialaxis": {
            "gridcolor": "white",
            "linecolor": "white",
            "ticks": ""
           }
          },
          "scene": {
           "xaxis": {
            "backgroundcolor": "#E5ECF6",
            "gridcolor": "white",
            "gridwidth": 2,
            "linecolor": "white",
            "showbackground": true,
            "ticks": "",
            "zerolinecolor": "white"
           },
           "yaxis": {
            "backgroundcolor": "#E5ECF6",
            "gridcolor": "white",
            "gridwidth": 2,
            "linecolor": "white",
            "showbackground": true,
            "ticks": "",
            "zerolinecolor": "white"
           },
           "zaxis": {
            "backgroundcolor": "#E5ECF6",
            "gridcolor": "white",
            "gridwidth": 2,
            "linecolor": "white",
            "showbackground": true,
            "ticks": "",
            "zerolinecolor": "white"
           }
          },
          "shapedefaults": {
           "line": {
            "color": "#2a3f5f"
           }
          },
          "ternary": {
           "aaxis": {
            "gridcolor": "white",
            "linecolor": "white",
            "ticks": ""
           },
           "baxis": {
            "gridcolor": "white",
            "linecolor": "white",
            "ticks": ""
           },
           "bgcolor": "#E5ECF6",
           "caxis": {
            "gridcolor": "white",
            "linecolor": "white",
            "ticks": ""
           }
          },
          "title": {
           "x": 0.05
          },
          "xaxis": {
           "automargin": true,
           "gridcolor": "white",
           "linecolor": "white",
           "ticks": "",
           "title": {
            "standoff": 15
           },
           "zerolinecolor": "white",
           "zerolinewidth": 2
          },
          "yaxis": {
           "automargin": true,
           "gridcolor": "white",
           "linecolor": "white",
           "ticks": "",
           "title": {
            "standoff": 15
           },
           "zerolinecolor": "white",
           "zerolinewidth": 2
          }
         }
        },
        "title": {
         "text": "AGG Allocation Range"
        },
        "xaxis": {
         "anchor": "y",
         "domain": [
          0,
          1
         ],
         "title": {
          "text": "DATE"
         }
        },
        "yaxis": {
         "anchor": "x",
         "domain": [
          0,
          1
         ],
         "title": {
          "text": "diff"
         }
        }
       }
      },
      "text/html": [
       "<div>                            <div id=\"e301c92b-fc8e-4a30-ae0b-445e11f7b2c9\" class=\"plotly-graph-div\" style=\"height:525px; width:100%;\"></div>            <script type=\"text/javascript\">                require([\"plotly\"], function(Plotly) {                    window.PLOTLYENV=window.PLOTLYENV || {};                                    if (document.getElementById(\"e301c92b-fc8e-4a30-ae0b-445e11f7b2c9\")) {                    Plotly.newPlot(                        \"e301c92b-fc8e-4a30-ae0b-445e11f7b2c9\",                        [{\"alignmentgroup\":\"True\",\"hovertemplate\":\"DATE=%{x}\\u003cbr\\u003ediff=%{y}\\u003cextra\\u003e\\u003c\\u002fextra\\u003e\",\"legendgroup\":\"\",\"marker\":{\"color\":\"#636efa\",\"pattern\":{\"shape\":\"\"}},\"name\":\"\",\"offsetgroup\":\"\",\"orientation\":\"v\",\"showlegend\":false,\"textposition\":\"auto\",\"x\":[\"2010-01-01\",\"2003-08-01\",\"2004-12-01\",\"2006-01-01\",\"2010-10-01\",\"2007-05-01\",\"2015-11-01\",\"2004-11-01\",\"2004-10-01\",\"2022-07-01\",\"2003-02-01\",\"2012-04-01\",\"2012-11-01\",\"2024-03-01\",\"2019-05-01\",\"2012-07-01\",\"2014-07-01\",\"2018-11-01\",\"2002-07-01\",\"2018-06-01\",\"2016-12-01\",\"2007-03-01\",\"2017-12-01\",\"2020-11-01\",\"2013-04-01\",\"2007-10-01\",\"2011-12-01\",\"2007-11-01\",\"2018-12-01\",\"2018-04-01\",\"2002-08-01\",\"2005-02-01\",\"2000-12-01\",\"2024-02-01\",\"2005-03-01\",\"2000-05-01\",\"2019-01-01\",\"2002-11-01\",\"2003-03-01\",\"2005-07-01\",\"2010-07-01\",\"2005-06-01\",\"2000-11-01\",\"2006-11-01\",\"2011-05-01\",\"2022-02-01\",\"2021-09-01\",\"2011-03-01\",\"2007-12-01\",\"2014-04-01\",\"2006-02-01\",\"2014-02-01\",\"2014-10-01\",\"2021-02-01\",\"2007-07-01\",\"2023-06-01\",\"2016-01-01\",\"2017-08-01\",\"2007-06-01\",\"2005-09-01\",\"2008-08-01\",\"2002-12-01\",\"2018-08-01\",\"2015-01-01\",\"2000-01-01\",\"2024-05-01\",\"2003-10-01\",\"2016-05-01\",\"2009-06-01\",\"2008-02-01\",\"2007-01-01\",\"2009-05-01\",\"2009-07-01\",\"2015-02-01\",\"2000-10-01\",\"2016-06-01\",\"2020-01-01\",\"2013-06-01\",\"2023-04-01\",\"2019-03-01\",\"2004-06-01\",\"2004-07-01\",\"2019-10-01\",\"2017-11-01\",\"2009-03-01\",\"2010-04-01\",\"2005-04-01\",\"2022-10-01\",\"2017-06-01\",\"2010-05-01\",\"2010-08-01\",\"2021-05-01\",\"2004-08-01\",\"2004-05-01\",\"2016-03-01\",\"2008-04-01\",\"2020-10-01\",\"2001-09-01\",\"2019-08-01\",\"2015-09-01\",\"2020-03-01\",\"2014-06-01\",\"2014-11-01\",\"2021-12-01\",\"2000-06-01\",\"2016-07-01\",\"2000-09-01\",\"2002-09-01\",\"2018-02-01\",\"2017-10-01\",\"2017-04-01\",\"2012-03-01\",\"2009-11-01\",\"2002-02-01\",\"2001-06-01\",\"2011-04-01\",\"2017-03-01\",\"2006-09-01\",\"2007-08-01\",\"2012-02-01\",\"2023-12-01\",\"2022-12-01\",\"2006-10-01\",\"2011-10-01\",\"2009-08-01\",\"2011-09-01\",\"2010-12-01\",\"2000-08-01\",\"2023-05-01\",\"2022-03-01\",\"2003-01-01\",\"2015-10-01\",\"2006-05-01\",\"2009-09-01\",\"2013-02-01\",\"2008-07-01\",\"2001-10-01\",\"2001-08-01\",\"2014-05-01\",\"2024-01-01\",\"2009-10-01\",\"2013-05-01\",\"2019-02-01\",\"2001-11-01\",\"2004-04-01\",\"2005-11-01\",\"2012-12-01\",\"2010-09-01\",\"2010-02-01\",\"2017-09-01\",\"2013-12-01\",\"2008-12-01\",\"2011-01-01\",\"2003-09-01\",\"2009-02-01\",\"2022-04-01\",\"2002-06-01\",\"2021-10-01\",\"2013-10-01\",\"2013-01-01\",\"2017-01-01\",\"2022-06-01\",\"2019-07-01\",\"2023-07-01\",\"2005-12-01\",\"2016-09-01\",\"2006-12-01\",\"2003-04-01\",\"2020-04-01\",\"2018-01-01\",\"2016-02-01\",\"2006-07-01\",\"2006-03-01\",\"2019-09-01\",\"2018-10-01\",\"2015-04-01\",\"2015-07-01\",\"2019-11-01\",\"2016-11-01\",\"2007-09-01\",\"2002-03-01\",\"2013-07-01\",\"2003-07-01\",\"2014-12-01\",\"2020-08-01\",\"2021-07-01\",\"2015-06-01\",\"2023-01-01\",\"2017-07-01\",\"2001-05-01\",\"2002-04-01\",\"2003-06-01\",\"2013-08-01\",\"2023-10-01\",\"2001-01-01\",\"2013-09-01\",\"2009-04-01\",\"2017-05-01\",\"2022-05-01\",\"2013-03-01\",\"2008-10-01\",\"2003-05-01\",\"2004-09-01\",\"2023-09-01\",\"2018-03-01\",\"2000-04-01\",\"2018-07-01\",\"2008-05-01\",\"2002-01-01\",\"2002-05-01\",\"2012-06-01\",\"2017-02-01\",\"2019-12-01\",\"2023-03-01\",\"2014-03-01\",\"2020-09-01\",\"2014-09-01\",\"2004-03-01\",\"2011-02-01\",\"2006-04-01\",\"2005-05-01\",\"2014-08-01\",\"2023-08-01\",\"2008-09-01\",\"2016-10-01\",\"2023-11-01\",\"2004-01-01\",\"2008-03-01\",\"2012-08-01\",\"2020-02-01\",\"2021-03-01\",\"2001-02-01\",\"2011-06-01\",\"2010-11-01\",\"2013-11-01\",\"2021-06-01\",\"2003-12-01\",\"2016-08-01\",\"2019-06-01\",\"2021-11-01\",\"2009-12-01\",\"2019-04-01\",\"2020-06-01\",\"2007-04-01\",\"2005-01-01\",\"2003-11-01\",\"2011-11-01\",\"2010-06-01\",\"2015-12-01\",\"2010-03-01\",\"2021-04-01\",\"2005-10-01\",\"2021-08-01\",\"2000-02-01\",\"2011-07-01\",\"2001-04-01\",\"2007-02-01\",\"2004-02-01\",\"2008-06-01\",\"2012-10-01\",\"2012-09-01\",\"2015-05-01\",\"2012-05-01\",\"2022-11-01\",\"2006-06-01\",\"2001-12-01\",\"2001-03-01\",\"2024-04-01\",\"2022-01-01\",\"2020-12-01\",\"2000-03-01\",\"2014-01-01\",\"2008-11-01\",\"2006-08-01\",\"2008-01-01\",\"2022-09-01\",\"2000-07-01\",\"2018-05-01\",\"2015-03-01\",\"2023-02-01\",\"2022-08-01\",\"2018-09-01\",\"2021-01-01\",\"2011-08-01\",\"2020-07-01\",\"2012-01-01\",\"2001-07-01\",\"2002-10-01\",\"2016-04-01\",\"2015-08-01\",\"2005-08-01\",\"2009-01-01\",\"2020-05-01\"],\"xaxis\":\"x\",\"y\":[0.40719200779071507,0.5721821930561184,0.34453749553284063,0.3051572414880185,0.6581770413106219,0.24527628434525428,0.46300100129209965,0.35005587616627354,0.3294473970901376,0.6759712223743749,0.7392959693894976,0.7727377087861428,0.8043244043428591,0.5190822727109433,0.5806836758414486,0.736490639332587,0.5021396176856724,0.46147979168340675,0.23452236346133526,0.45482907630859065,0.5683622476619363,0.23412809731094408,0.5414717041371866,0.6873765561970225,0.8189973389420714,0.24177082829660546,0.7254429368278142,0.24426876327036773,0.4477489496499439,0.46774340206909965,0.31940293014719373,0.34105214286522645,0.5217865773079251,0.5190561642889114,0.32858180535602555,0.12479757554066973,0.4333291919324636,0.6296220250186912,0.7492760461632579,0.37711644752377493,0.4483423602434013,0.3682161771273291,0.35676808062702675,0.21594613502531612,0.5305490170759322,0.8405349695041578,0.5704439485407715,0.5344784655901783,0.306883397333206,0.5096765636311185,0.27137563596423075,0.5516509396659187,0.5467026108070996,0.5988958202764382,0.23506751597559294,0.48163450974086647,0.538840710715368,0.5018216281548233,0.2565238208206395,0.36169072626875465,0.33716097092651637,0.5355411230738427,0.45302958005625393,0.5086067795425351,0.06491747869485676,0.4709155160716462,0.49150791295594554,0.6047619688460453,0.4338012745339534,0.3809680243997339,0.22315829639753682,0.3387050922133789,0.5035200193962088,0.5375011458285371,0.305266363482225,0.5850942172323346,0.39714046796425345,0.7962909745549563,0.5092540074233535,0.48514106392890144,0.3043165491085361,0.27508985757308324,0.6249653298066844,0.5413220854857954,0.2778166670292543,0.4178986022342597,0.31522012044129444,0.5673456311934771,0.5205679744756708,0.4157748802124675,0.5320591936503671,0.470064556335492,0.27702859059885987,0.33859834495520746,0.5550116578881168,0.40000301620070267,0.6754308556205576,0.24122580789362869,0.8016476301873726,0.4932147294035516,0.3607833237409917,0.5156910657885656,0.5435637465746328,0.7429259989895827,0.12063652233841671,0.619099635694671,0.27686526030890274,0.44223997516503527,0.4807308321313369,0.5405239032599782,0.4876240172671898,0.7500800921216203,0.6571189118224922,0.18730125152650345,0.18356956644070177,0.534361714452668,0.490324342333945,0.23330212297681863,0.22803535294578203,0.723344298963362,0.48900425089687594,0.5609309789010641,0.2314314995410478,0.663813943967916,0.5642710661251177,0.6717349261164478,0.7425384028767118,0.1769757311869603,0.4905154167599878,0.830685682390799,0.6153873514174049,0.4549733714419552,0.2351939118772507,0.5913007973233657,0.822354180970772,0.37762986344500615,0.33194915562641575,0.15727110739576178,0.5080994244029884,0.52151265638137,0.6333431421658288,0.8175281194578875,0.48450824694969463,0.35398475464746704,0.3652706836663284,0.3496012583302637,0.8091126399685461,0.5817578479842221,0.4526919456285417,0.5346171670755593,0.5464087745693211,0.3983647642045655,0.623450929337358,0.4825123217750883,0.3358928711319434,0.8398961241979603,0.22585566024521098,0.6135845093979955,0.6307738623366932,0.812226013903156,0.5108362081517778,0.6503501687110879,0.7738070974807731,0.47970569963175674,0.34403322231537037,0.5829798932309027,0.2139597269517428,0.8197476239215452,0.6403867983476933,0.5452607361198665,0.5016136887675124,0.22323208923358118,0.24574345293210853,0.7154277664079638,0.4582394634232541,0.5317091305056457,0.5432851913196199,0.5045706189420063,0.6392656184679352,0.26418716577119417,0.22064831382232708,0.8008261604831088,0.8148970096983502,0.5439561539228532,0.6598431282922737,0.5158628259051543,0.5562295576605916,0.5446831679502235,0.5076135792481924,0.2502852106984781,0.2124028940920658,0.8607019910394057,0.6919300862316752,0.5232876458013449,0.533926619504065,0.6878169593039645,0.2747675968474259,0.5080507372666776,0.6810714271586411,0.8213968897486602,0.6891697991387817,0.840289603814441,0.3137136159716527,0.494754429781174,0.46082214276630273,0.1172021166681726,0.46353202816996864,0.4148137551685962,0.18435318989049065,0.2272524676316845,0.7441425365456219,0.4858029895328087,0.41420848896201096,0.540344757943318,0.5192025127207924,0.6159711988260478,0.5191579282537218,0.3521305477610349,0.5639930040410002,0.23564540586220706,0.33560995732627263,0.5185236943193323,0.4862024331661021,0.4225298445197539,0.6302918313621579,0.4831072922439278,0.3487724214679113,0.4061680746917651,0.7439109474118245,0.40063121572534743,0.5629988813196598,0.2672875306133442,0.5699537758407645,0.7056026276982384,0.5789726627003964,0.4835769281938074,0.38131443210373206,0.5516876424726906,0.7106062630761565,0.6130436369586412,0.6695797670589458,0.5488033040904707,0.6071299790807202,0.24512049291091553,0.3352482951941398,0.4099430256338793,0.7351095890401373,0.46397902529806034,0.5103638015977447,0.46512486220986143,0.49692539509106076,0.35429228446121686,0.5648102852255699,0.06079882524674329,0.5871580393556995,0.28963151968060646,0.21562357663289933,0.34193721992699266,0.40811614515579364,0.7799687962037334,0.7576944920183689,0.5307444831693766,0.7842212534707241,0.5712407969757347,0.23994833354318157,0.23057894997766215,0.25750403452394677,0.5318835520889776,0.7951887132220371,0.6345586369817444,0.04871439425559532,0.5025746102807698,0.542535378395989,0.22223261773647918,0.3505719008420983,0.5909822627963058,0.16146088507995204,0.4475458510023052,0.5150158381099357,0.551472921932005,0.6252552608685692,0.4610791769931151,0.5949128201126248,0.644551997784485,0.6112621269145931,0.7165938875886089,0.15190661063465893,0.6671099334830604,0.6324000936794827,0.5658517754644192,0.348575724180884,0.34722292338449356,0.5888448587842204],\"yaxis\":\"y\",\"type\":\"bar\"}],                        {\"template\":{\"data\":{\"histogram2dcontour\":[{\"type\":\"histogram2dcontour\",\"colorbar\":{\"outlinewidth\":0,\"ticks\":\"\"},\"colorscale\":[[0.0,\"#0d0887\"],[0.1111111111111111,\"#46039f\"],[0.2222222222222222,\"#7201a8\"],[0.3333333333333333,\"#9c179e\"],[0.4444444444444444,\"#bd3786\"],[0.5555555555555556,\"#d8576b\"],[0.6666666666666666,\"#ed7953\"],[0.7777777777777778,\"#fb9f3a\"],[0.8888888888888888,\"#fdca26\"],[1.0,\"#f0f921\"]]}],\"choropleth\":[{\"type\":\"choropleth\",\"colorbar\":{\"outlinewidth\":0,\"ticks\":\"\"}}],\"histogram2d\":[{\"type\":\"histogram2d\",\"colorbar\":{\"outlinewidth\":0,\"ticks\":\"\"},\"colorscale\":[[0.0,\"#0d0887\"],[0.1111111111111111,\"#46039f\"],[0.2222222222222222,\"#7201a8\"],[0.3333333333333333,\"#9c179e\"],[0.4444444444444444,\"#bd3786\"],[0.5555555555555556,\"#d8576b\"],[0.6666666666666666,\"#ed7953\"],[0.7777777777777778,\"#fb9f3a\"],[0.8888888888888888,\"#fdca26\"],[1.0,\"#f0f921\"]]}],\"heatmap\":[{\"type\":\"heatmap\",\"colorbar\":{\"outlinewidth\":0,\"ticks\":\"\"},\"colorscale\":[[0.0,\"#0d0887\"],[0.1111111111111111,\"#46039f\"],[0.2222222222222222,\"#7201a8\"],[0.3333333333333333,\"#9c179e\"],[0.4444444444444444,\"#bd3786\"],[0.5555555555555556,\"#d8576b\"],[0.6666666666666666,\"#ed7953\"],[0.7777777777777778,\"#fb9f3a\"],[0.8888888888888888,\"#fdca26\"],[1.0,\"#f0f921\"]]}],\"heatmapgl\":[{\"type\":\"heatmapgl\",\"colorbar\":{\"outlinewidth\":0,\"ticks\":\"\"},\"colorscale\":[[0.0,\"#0d0887\"],[0.1111111111111111,\"#46039f\"],[0.2222222222222222,\"#7201a8\"],[0.3333333333333333,\"#9c179e\"],[0.4444444444444444,\"#bd3786\"],[0.5555555555555556,\"#d8576b\"],[0.6666666666666666,\"#ed7953\"],[0.7777777777777778,\"#fb9f3a\"],[0.8888888888888888,\"#fdca26\"],[1.0,\"#f0f921\"]]}],\"contourcarpet\":[{\"type\":\"contourcarpet\",\"colorbar\":{\"outlinewidth\":0,\"ticks\":\"\"}}],\"contour\":[{\"type\":\"contour\",\"colorbar\":{\"outlinewidth\":0,\"ticks\":\"\"},\"colorscale\":[[0.0,\"#0d0887\"],[0.1111111111111111,\"#46039f\"],[0.2222222222222222,\"#7201a8\"],[0.3333333333333333,\"#9c179e\"],[0.4444444444444444,\"#bd3786\"],[0.5555555555555556,\"#d8576b\"],[0.6666666666666666,\"#ed7953\"],[0.7777777777777778,\"#fb9f3a\"],[0.8888888888888888,\"#fdca26\"],[1.0,\"#f0f921\"]]}],\"surface\":[{\"type\":\"surface\",\"colorbar\":{\"outlinewidth\":0,\"ticks\":\"\"},\"colorscale\":[[0.0,\"#0d0887\"],[0.1111111111111111,\"#46039f\"],[0.2222222222222222,\"#7201a8\"],[0.3333333333333333,\"#9c179e\"],[0.4444444444444444,\"#bd3786\"],[0.5555555555555556,\"#d8576b\"],[0.6666666666666666,\"#ed7953\"],[0.7777777777777778,\"#fb9f3a\"],[0.8888888888888888,\"#fdca26\"],[1.0,\"#f0f921\"]]}],\"mesh3d\":[{\"type\":\"mesh3d\",\"colorbar\":{\"outlinewidth\":0,\"ticks\":\"\"}}],\"scatter\":[{\"fillpattern\":{\"fillmode\":\"overlay\",\"size\":10,\"solidity\":0.2},\"type\":\"scatter\"}],\"parcoords\":[{\"type\":\"parcoords\",\"line\":{\"colorbar\":{\"outlinewidth\":0,\"ticks\":\"\"}}}],\"scatterpolargl\":[{\"type\":\"scatterpolargl\",\"marker\":{\"colorbar\":{\"outlinewidth\":0,\"ticks\":\"\"}}}],\"bar\":[{\"error_x\":{\"color\":\"#2a3f5f\"},\"error_y\":{\"color\":\"#2a3f5f\"},\"marker\":{\"line\":{\"color\":\"#E5ECF6\",\"width\":0.5},\"pattern\":{\"fillmode\":\"overlay\",\"size\":10,\"solidity\":0.2}},\"type\":\"bar\"}],\"scattergeo\":[{\"type\":\"scattergeo\",\"marker\":{\"colorbar\":{\"outlinewidth\":0,\"ticks\":\"\"}}}],\"scatterpolar\":[{\"type\":\"scatterpolar\",\"marker\":{\"colorbar\":{\"outlinewidth\":0,\"ticks\":\"\"}}}],\"histogram\":[{\"marker\":{\"pattern\":{\"fillmode\":\"overlay\",\"size\":10,\"solidity\":0.2}},\"type\":\"histogram\"}],\"scattergl\":[{\"type\":\"scattergl\",\"marker\":{\"colorbar\":{\"outlinewidth\":0,\"ticks\":\"\"}}}],\"scatter3d\":[{\"type\":\"scatter3d\",\"line\":{\"colorbar\":{\"outlinewidth\":0,\"ticks\":\"\"}},\"marker\":{\"colorbar\":{\"outlinewidth\":0,\"ticks\":\"\"}}}],\"scattermapbox\":[{\"type\":\"scattermapbox\",\"marker\":{\"colorbar\":{\"outlinewidth\":0,\"ticks\":\"\"}}}],\"scatterternary\":[{\"type\":\"scatterternary\",\"marker\":{\"colorbar\":{\"outlinewidth\":0,\"ticks\":\"\"}}}],\"scattercarpet\":[{\"type\":\"scattercarpet\",\"marker\":{\"colorbar\":{\"outlinewidth\":0,\"ticks\":\"\"}}}],\"carpet\":[{\"aaxis\":{\"endlinecolor\":\"#2a3f5f\",\"gridcolor\":\"white\",\"linecolor\":\"white\",\"minorgridcolor\":\"white\",\"startlinecolor\":\"#2a3f5f\"},\"baxis\":{\"endlinecolor\":\"#2a3f5f\",\"gridcolor\":\"white\",\"linecolor\":\"white\",\"minorgridcolor\":\"white\",\"startlinecolor\":\"#2a3f5f\"},\"type\":\"carpet\"}],\"table\":[{\"cells\":{\"fill\":{\"color\":\"#EBF0F8\"},\"line\":{\"color\":\"white\"}},\"header\":{\"fill\":{\"color\":\"#C8D4E3\"},\"line\":{\"color\":\"white\"}},\"type\":\"table\"}],\"barpolar\":[{\"marker\":{\"line\":{\"color\":\"#E5ECF6\",\"width\":0.5},\"pattern\":{\"fillmode\":\"overlay\",\"size\":10,\"solidity\":0.2}},\"type\":\"barpolar\"}],\"pie\":[{\"automargin\":true,\"type\":\"pie\"}]},\"layout\":{\"autotypenumbers\":\"strict\",\"colorway\":[\"#636efa\",\"#EF553B\",\"#00cc96\",\"#ab63fa\",\"#FFA15A\",\"#19d3f3\",\"#FF6692\",\"#B6E880\",\"#FF97FF\",\"#FECB52\"],\"font\":{\"color\":\"#2a3f5f\"},\"hovermode\":\"closest\",\"hoverlabel\":{\"align\":\"left\"},\"paper_bgcolor\":\"white\",\"plot_bgcolor\":\"#E5ECF6\",\"polar\":{\"bgcolor\":\"#E5ECF6\",\"angularaxis\":{\"gridcolor\":\"white\",\"linecolor\":\"white\",\"ticks\":\"\"},\"radialaxis\":{\"gridcolor\":\"white\",\"linecolor\":\"white\",\"ticks\":\"\"}},\"ternary\":{\"bgcolor\":\"#E5ECF6\",\"aaxis\":{\"gridcolor\":\"white\",\"linecolor\":\"white\",\"ticks\":\"\"},\"baxis\":{\"gridcolor\":\"white\",\"linecolor\":\"white\",\"ticks\":\"\"},\"caxis\":{\"gridcolor\":\"white\",\"linecolor\":\"white\",\"ticks\":\"\"}},\"coloraxis\":{\"colorbar\":{\"outlinewidth\":0,\"ticks\":\"\"}},\"colorscale\":{\"sequential\":[[0.0,\"#0d0887\"],[0.1111111111111111,\"#46039f\"],[0.2222222222222222,\"#7201a8\"],[0.3333333333333333,\"#9c179e\"],[0.4444444444444444,\"#bd3786\"],[0.5555555555555556,\"#d8576b\"],[0.6666666666666666,\"#ed7953\"],[0.7777777777777778,\"#fb9f3a\"],[0.8888888888888888,\"#fdca26\"],[1.0,\"#f0f921\"]],\"sequentialminus\":[[0.0,\"#0d0887\"],[0.1111111111111111,\"#46039f\"],[0.2222222222222222,\"#7201a8\"],[0.3333333333333333,\"#9c179e\"],[0.4444444444444444,\"#bd3786\"],[0.5555555555555556,\"#d8576b\"],[0.6666666666666666,\"#ed7953\"],[0.7777777777777778,\"#fb9f3a\"],[0.8888888888888888,\"#fdca26\"],[1.0,\"#f0f921\"]],\"diverging\":[[0,\"#8e0152\"],[0.1,\"#c51b7d\"],[0.2,\"#de77ae\"],[0.3,\"#f1b6da\"],[0.4,\"#fde0ef\"],[0.5,\"#f7f7f7\"],[0.6,\"#e6f5d0\"],[0.7,\"#b8e186\"],[0.8,\"#7fbc41\"],[0.9,\"#4d9221\"],[1,\"#276419\"]]},\"xaxis\":{\"gridcolor\":\"white\",\"linecolor\":\"white\",\"ticks\":\"\",\"title\":{\"standoff\":15},\"zerolinecolor\":\"white\",\"automargin\":true,\"zerolinewidth\":2},\"yaxis\":{\"gridcolor\":\"white\",\"linecolor\":\"white\",\"ticks\":\"\",\"title\":{\"standoff\":15},\"zerolinecolor\":\"white\",\"automargin\":true,\"zerolinewidth\":2},\"scene\":{\"xaxis\":{\"backgroundcolor\":\"#E5ECF6\",\"gridcolor\":\"white\",\"linecolor\":\"white\",\"showbackground\":true,\"ticks\":\"\",\"zerolinecolor\":\"white\",\"gridwidth\":2},\"yaxis\":{\"backgroundcolor\":\"#E5ECF6\",\"gridcolor\":\"white\",\"linecolor\":\"white\",\"showbackground\":true,\"ticks\":\"\",\"zerolinecolor\":\"white\",\"gridwidth\":2},\"zaxis\":{\"backgroundcolor\":\"#E5ECF6\",\"gridcolor\":\"white\",\"linecolor\":\"white\",\"showbackground\":true,\"ticks\":\"\",\"zerolinecolor\":\"white\",\"gridwidth\":2}},\"shapedefaults\":{\"line\":{\"color\":\"#2a3f5f\"}},\"annotationdefaults\":{\"arrowcolor\":\"#2a3f5f\",\"arrowhead\":0,\"arrowwidth\":1},\"geo\":{\"bgcolor\":\"white\",\"landcolor\":\"#E5ECF6\",\"subunitcolor\":\"white\",\"showland\":true,\"showlakes\":true,\"lakecolor\":\"white\"},\"title\":{\"x\":0.05},\"mapbox\":{\"style\":\"light\"}}},\"xaxis\":{\"anchor\":\"y\",\"domain\":[0.0,1.0],\"title\":{\"text\":\"DATE\"}},\"yaxis\":{\"anchor\":\"x\",\"domain\":[0.0,1.0],\"title\":{\"text\":\"diff\"}},\"legend\":{\"tracegroupgap\":0},\"title\":{\"text\":\"AGG Allocation Range\"},\"barmode\":\"relative\"},                        {\"responsive\": true}                    ).then(function(){\n",
       "                            \n",
       "var gd = document.getElementById('e301c92b-fc8e-4a30-ae0b-445e11f7b2c9');\n",
       "var x = new MutationObserver(function (mutations, observer) {{\n",
       "        var display = window.getComputedStyle(gd).display;\n",
       "        if (!display || display === 'none') {{\n",
       "            console.log([gd, 'removed!']);\n",
       "            Plotly.purge(gd);\n",
       "            observer.disconnect();\n",
       "        }}\n",
       "}});\n",
       "\n",
       "// Listen for the removal of the full notebook cells\n",
       "var notebookContainer = gd.closest('#notebook-container');\n",
       "if (notebookContainer) {{\n",
       "    x.observe(notebookContainer, {childList: true});\n",
       "}}\n",
       "\n",
       "// Listen for the clearing of the current output cell\n",
       "var outputEl = gd.closest('.output');\n",
       "if (outputEl) {{\n",
       "    x.observe(outputEl, {childList: true});\n",
       "}}\n",
       "\n",
       "                        })                };                });            </script>        </div>"
      ]
     },
     "metadata": {},
     "output_type": "display_data"
    },
    {
     "name": "stdout",
     "output_type": "stream",
     "text": [
      "shape: (1_172, 6)\n",
      "┌────────────┬─────────────┬────────────────┬─────┬───────────┬───────┐\n",
      "│ DATE       ┆ STRATEGY_ID ┆ ASSET_CLASS_ID ┆ WGT ┆ WGT_right ┆ split │\n",
      "│ ---        ┆ ---         ┆ ---            ┆ --- ┆ ---       ┆ ---   │\n",
      "│ str        ┆ str         ┆ str            ┆ f64 ┆ f64       ┆ f64   │\n",
      "╞════════════╪═════════════╪════════════════╪═════╪═══════════╪═══════╡\n",
      "│ 2000-01-01 ┆ NDCB        ┆ HY             ┆ 0.0 ┆ 0.593194  ┆ 0.0   │\n",
      "│ 2000-01-01 ┆ NDB         ┆ HY             ┆ 0.0 ┆ 0.403862  ┆ 0.0   │\n",
      "│ 2000-01-01 ┆ NDGI        ┆ HY             ┆ 0.0 ┆ 0.22792   ┆ 0.0   │\n",
      "│ 2000-01-01 ┆ NDLTG       ┆ HY             ┆ 0.0 ┆ 0.125777  ┆ 0.0   │\n",
      "│ 2000-02-01 ┆ NDCB        ┆ HY             ┆ 0.0 ┆ 0.59792   ┆ 0.0   │\n",
      "│ …          ┆ …           ┆ …              ┆ …   ┆ …         ┆ …     │\n",
      "│ 2024-04-01 ┆ NDLTG       ┆ HY             ┆ 0.0 ┆ 0.091025  ┆ 0.0   │\n",
      "│ 2024-05-01 ┆ NDCB        ┆ HY             ┆ 0.0 ┆ 0.631158  ┆ 0.0   │\n",
      "│ 2024-05-01 ┆ NDB         ┆ HY             ┆ 0.0 ┆ 0.437416  ┆ 0.0   │\n",
      "│ 2024-05-01 ┆ NDGI        ┆ HY             ┆ 0.0 ┆ 0.240749  ┆ 0.0   │\n",
      "│ 2024-05-01 ┆ NDLTG       ┆ HY             ┆ 0.0 ┆ 0.078959  ┆ 0.0   │\n",
      "└────────────┴─────────────┴────────────────┴─────┴───────────┴───────┘\n",
      "shape: (293, 2)\n",
      "┌────────────┬───────┐\n",
      "│ DATE       ┆ split │\n",
      "│ ---        ┆ ---   │\n",
      "│ str        ┆ f64   │\n",
      "╞════════════╪═══════╡\n",
      "│ 2000-01-01 ┆ 0.0   │\n",
      "│ 2000-02-01 ┆ 0.0   │\n",
      "│ 2000-03-01 ┆ 0.0   │\n",
      "│ 2000-04-01 ┆ 0.0   │\n",
      "│ 2000-05-01 ┆ 0.0   │\n",
      "│ …          ┆ …     │\n",
      "│ 2024-01-01 ┆ 0.0   │\n",
      "│ 2024-02-01 ┆ 0.0   │\n",
      "│ 2024-03-01 ┆ 0.0   │\n",
      "│ 2024-04-01 ┆ 0.0   │\n",
      "│ 2024-05-01 ┆ 0.0   │\n",
      "└────────────┴───────┘\n",
      "shape: (293, 2)\n",
      "┌────────────┬───────┐\n",
      "│ DATE       ┆ split │\n",
      "│ ---        ┆ ---   │\n",
      "│ str        ┆ f64   │\n",
      "╞════════════╪═══════╡\n",
      "│ 2000-01-01 ┆ 0.0   │\n",
      "│ 2000-02-01 ┆ 0.0   │\n",
      "│ 2000-03-01 ┆ 0.0   │\n",
      "│ 2000-04-01 ┆ 0.0   │\n",
      "│ 2000-05-01 ┆ 0.0   │\n",
      "│ …          ┆ …     │\n",
      "│ 2024-01-01 ┆ 0.0   │\n",
      "│ 2024-02-01 ┆ 0.0   │\n",
      "│ 2024-03-01 ┆ 0.0   │\n",
      "│ 2024-04-01 ┆ 0.0   │\n",
      "│ 2024-05-01 ┆ 0.0   │\n",
      "└────────────┴───────┘\n"
     ]
    },
    {
     "data": {
      "application/vnd.plotly.v1+json": {
       "config": {
        "plotlyServerURL": "https://plot.ly"
       },
       "data": [
        {
         "alignmentgroup": "True",
         "hovertemplate": "DATE=%{x}<br>diff=%{y}<extra></extra>",
         "legendgroup": "",
         "marker": {
          "color": "#636efa",
          "pattern": {
           "shape": ""
          }
         },
         "name": "",
         "offsetgroup": "",
         "orientation": "v",
         "showlegend": false,
         "textposition": "auto",
         "type": "bar",
         "x": [
          "2011-02-01",
          "2022-06-01",
          "2020-05-01",
          "2010-04-01",
          "2002-08-01",
          "2017-11-01",
          "2000-09-01",
          "2009-02-01",
          "2006-06-01",
          "2021-08-01",
          "2019-10-01",
          "2022-02-01",
          "2015-03-01",
          "2004-10-01",
          "2006-12-01",
          "2001-11-01",
          "2023-03-01",
          "2024-03-01",
          "2007-01-01",
          "2003-08-01",
          "2007-11-01",
          "2020-04-01",
          "2020-07-01",
          "2021-06-01",
          "2011-08-01",
          "2005-02-01",
          "2009-07-01",
          "2002-04-01",
          "2005-09-01",
          "2008-02-01",
          "2013-03-01",
          "2022-03-01",
          "2011-12-01",
          "2013-10-01",
          "2010-06-01",
          "2020-03-01",
          "2016-09-01",
          "2004-09-01",
          "2020-12-01",
          "2003-03-01",
          "2019-02-01",
          "2020-10-01",
          "2010-10-01",
          "2009-04-01",
          "2021-09-01",
          "2006-10-01",
          "2016-03-01",
          "2012-08-01",
          "2016-06-01",
          "2017-02-01",
          "2020-11-01",
          "2008-03-01",
          "2003-11-01",
          "2015-04-01",
          "2023-06-01",
          "2000-08-01",
          "2016-07-01",
          "2023-07-01",
          "2018-05-01",
          "2012-05-01",
          "2017-09-01",
          "2018-09-01",
          "2017-07-01",
          "2018-03-01",
          "2017-05-01",
          "2007-05-01",
          "2002-02-01",
          "2003-12-01",
          "2022-11-01",
          "2021-01-01",
          "2002-10-01",
          "2001-07-01",
          "2005-01-01",
          "2004-01-01",
          "2019-09-01",
          "2005-03-01",
          "2004-02-01",
          "2015-07-01",
          "2013-11-01",
          "2001-05-01",
          "2022-08-01",
          "2015-11-01",
          "2015-06-01",
          "2018-06-01",
          "2005-05-01",
          "2018-07-01",
          "2007-04-01",
          "2013-04-01",
          "2008-09-01",
          "2013-08-01",
          "2017-12-01",
          "2015-09-01",
          "2009-03-01",
          "2021-04-01",
          "2019-03-01",
          "2016-11-01",
          "2006-01-01",
          "2011-01-01",
          "2006-08-01",
          "2014-07-01",
          "2023-12-01",
          "2018-04-01",
          "2016-05-01",
          "2024-04-01",
          "2017-06-01",
          "2022-05-01",
          "2023-09-01",
          "2004-04-01",
          "2008-12-01",
          "2003-05-01",
          "2015-10-01",
          "2002-01-01",
          "2013-02-01",
          "2000-05-01",
          "2023-02-01",
          "2003-06-01",
          "2012-11-01",
          "2021-12-01",
          "2012-12-01",
          "2024-05-01",
          "2005-11-01",
          "2015-12-01",
          "2023-01-01",
          "2003-04-01",
          "2006-04-01",
          "2009-08-01",
          "2011-11-01",
          "2016-10-01",
          "2000-10-01",
          "2006-02-01",
          "2000-03-01",
          "2005-08-01",
          "2001-06-01",
          "2007-03-01",
          "2019-12-01",
          "2006-07-01",
          "2000-12-01",
          "2016-12-01",
          "2010-07-01",
          "2003-07-01",
          "2004-12-01",
          "2005-07-01",
          "2009-01-01",
          "2001-01-01",
          "2011-10-01",
          "2010-05-01",
          "2003-02-01",
          "2010-11-01",
          "2018-10-01",
          "2000-04-01",
          "2011-09-01",
          "2007-02-01",
          "2004-06-01",
          "2010-09-01",
          "2012-07-01",
          "2023-10-01",
          "2008-05-01",
          "2000-01-01",
          "2014-01-01",
          "2012-06-01",
          "2012-03-01",
          "2004-05-01",
          "2001-08-01",
          "2014-04-01",
          "2009-05-01",
          "2017-01-01",
          "2023-04-01",
          "2013-01-01",
          "2009-06-01",
          "2019-04-01",
          "2021-03-01",
          "2007-07-01",
          "2002-09-01",
          "2015-08-01",
          "2021-07-01",
          "2008-10-01",
          "2010-12-01",
          "2003-10-01",
          "2016-01-01",
          "2000-07-01",
          "2016-08-01",
          "2016-04-01",
          "2022-10-01",
          "2011-03-01",
          "2018-11-01",
          "2022-12-01",
          "2002-07-01",
          "2023-08-01",
          "2007-10-01",
          "2002-03-01",
          "2023-05-01",
          "2007-09-01",
          "2009-09-01",
          "2001-10-01",
          "2007-06-01",
          "2018-01-01",
          "2001-04-01",
          "2019-05-01",
          "2003-09-01",
          "2011-05-01",
          "2015-05-01",
          "2013-12-01",
          "2020-01-01",
          "2014-06-01",
          "2014-09-01",
          "2020-06-01",
          "2014-12-01",
          "2008-06-01",
          "2002-11-01",
          "2004-07-01",
          "2010-03-01",
          "2012-02-01",
          "2024-01-01",
          "2005-12-01",
          "2013-05-01",
          "2001-12-01",
          "2004-08-01",
          "2021-05-01",
          "2018-02-01",
          "2019-06-01",
          "2002-05-01",
          "2014-10-01",
          "2022-01-01",
          "2018-08-01",
          "2019-01-01",
          "2012-01-01",
          "2012-04-01",
          "2006-05-01",
          "2021-02-01",
          "2017-08-01",
          "2008-11-01",
          "2020-09-01",
          "2008-07-01",
          "2015-01-01",
          "2022-04-01",
          "2012-10-01",
          "2024-02-01",
          "2019-11-01",
          "2005-04-01",
          "2010-01-01",
          "2011-04-01",
          "2006-11-01",
          "2017-03-01",
          "2001-03-01",
          "2017-10-01",
          "2014-11-01",
          "2005-06-01",
          "2014-05-01",
          "2021-11-01",
          "2001-02-01",
          "2013-06-01",
          "2003-01-01",
          "2019-08-01",
          "2023-11-01",
          "2012-09-01",
          "2002-12-01",
          "2004-11-01",
          "2014-02-01",
          "2008-04-01",
          "2000-11-01",
          "2022-09-01",
          "2013-09-01",
          "2020-08-01",
          "2010-02-01",
          "2008-01-01",
          "2009-11-01",
          "2008-08-01",
          "2016-02-01",
          "2020-02-01",
          "2018-12-01",
          "2022-07-01",
          "2006-03-01",
          "2011-07-01",
          "2005-10-01",
          "2009-12-01",
          "2015-02-01",
          "2000-06-01",
          "2010-08-01",
          "2002-06-01",
          "2013-07-01",
          "2017-04-01",
          "2021-10-01",
          "2007-12-01",
          "2009-10-01",
          "2014-03-01",
          "2000-02-01",
          "2004-03-01",
          "2006-09-01",
          "2007-08-01",
          "2019-07-01",
          "2011-06-01",
          "2014-08-01",
          "2001-09-01"
         ],
         "xaxis": "x",
         "y": [
          0,
          0,
          0.5574964816004206,
          0.0755930826544484,
          0.039924426805021035,
          0,
          0,
          0.3680330646327543,
          1.7705780249876096e-16,
          0,
          0.03923524319899098,
          0,
          0,
          4.444718918858636e-16,
          0,
          0.05188332078028124,
          0.023901399229832993,
          0,
          1.7316734138735081e-16,
          0,
          7.328164937768147e-16,
          0.3679011958084898,
          0.4454498887675665,
          0,
          0,
          0,
          0.555174518926628,
          0.030299691311735426,
          0,
          0,
          0,
          0,
          0.05078894378202364,
          0,
          0.0903995589046197,
          0.010248748600333979,
          0.07394681938182224,
          0,
          0.04825307479563701,
          0.1321847559011427,
          0.06685911571438456,
          0.14516209895144636,
          0.10525073133081714,
          0.2759785820505043,
          0,
          2.6830608324767328e-16,
          0.13503761880464715,
          0.08516426766852335,
          0.02788031870943128,
          0,
          0.13893367139121648,
          0,
          0,
          0,
          0.01914577485563808,
          0,
          0.014577472159029214,
          0,
          0,
          0.061685345175760034,
          0,
          1.65016861480453e-16,
          0,
          0,
          0,
          0,
          0.09203982325364947,
          4.58450931350139e-16,
          0.034510702086634815,
          0,
          0.1446961733358153,
          0.08241918296922307,
          2.51903391982653e-16,
          4.447707884307885e-16,
          0.06950249328727999,
          8.413736548322307e-16,
          0,
          0,
          0,
          0.1173052117231846,
          0,
          0.04403783481357245,
          0,
          0,
          0,
          0,
          1.7438583991032902e-16,
          0,
          0.03181601149319291,
          0,
          0,
          0,
          0.28497456049633707,
          0,
          0.0879109112913129,
          0.012538067207956853,
          0,
          0.024601409221264876,
          8.879698115186218e-16,
          0,
          0,
          0,
          0.10531624602729783,
          0,
          0,
          0,
          0,
          0,
          0.4028850956822152,
          0,
          0.02037679231173116,
          0.13039521297613996,
          0,
          0,
          0.02457370403004277,
          0,
          0.015938343371975156,
          0,
          1.693639615661479e-16,
          0,
          0,
          0.06251189373811876,
          0.0395037636930307,
          0.044404626087718564,
          2.698336291613389e-16,
          0.5659107229682336,
          0.09852501402675776,
          0.03953774318288246,
          0,
          0,
          0,
          0,
          0.0763200297269154,
          0,
          0,
          0,
          0.06102067038488336,
          0,
          0.10850682178797846,
          0,
          0,
          5.221441970100614e-16,
          0.34883646368835985,
          0.07764160730980815,
          0.05110196672082701,
          0.032396201399559565,
          0.15244611184609974,
          0.06183747757265514,
          0,
          0,
          0.058811370673560646,
          0,
          0,
          0.11443552572688913,
          0.10230337319401303,
          0,
          0,
          0,
          7.867131597765334e-16,
          0.0984266593985495,
          0.10237460828019417,
          0,
          0.07931523414695492,
          0,
          0.34498766621021215,
          0,
          0.01754503222969584,
          0,
          0.46468263981694,
          0.09366193471724552,
          0,
          0,
          0.020512568143619403,
          0,
          0,
          0.43112871729742425,
          0.06568316475279919,
          0,
          0.1460958204378945,
          0,
          0.10801489536777398,
          0.20254319392142842,
          0.25727386224844406,
          0,
          0,
          0.05376928710857504,
          0.04295432788438139,
          0,
          7.373324281416113e-16,
          0.0937611314773326,
          0.011005155063663166,
          0,
          0.5464784924966168,
          0.048470196433237606,
          4.712927147784558e-16,
          0,
          0.08363321166585454,
          0.08071390507670627,
          4.944870274302344e-16,
          1.5851104683602467e-16,
          0,
          0,
          0,
          0,
          0,
          0.4956446382240715,
          0,
          0,
          0.21376764522005887,
          0,
          0.12113541511214163,
          0.157222911297121,
          0,
          1.8226977798292533e-16,
          2.410158496538063e-16,
          0.16608543385561514,
          0,
          0,
          0,
          0.08583352073178696,
          1.702869671479949e-16,
          0,
          0,
          0,
          0.0629767077498502,
          0.1374179162134208,
          0.0786522167107754,
          0,
          0,
          0,
          0.5425353783959883,
          0.13062044084078425,
          0.0663014641089526,
          0,
          0,
          0.04010745579185944,
          0,
          0.007703170309211159,
          0,
          0.16332274583085465,
          0,
          5.031684843645558e-16,
          0,
          0.08192301578985793,
          0,
          1.573069308563648e-16,
          0,
          3.6025073696550877e-16,
          0,
          0.12039516589761598,
          0,
          0.210195081627647,
          0.09089802260292881,
          0.0015342864414689189,
          0.06893325067208517,
          0.06552590645662212,
          0,
          0,
          0.028836331179427344,
          0.009636752933585966,
          0,
          0,
          0.22615887574092775,
          0.12978318412832948,
          0,
          0.31186260766172735,
          0.13470690155791998,
          0.1070960738068194,
          0,
          0.034690165469584276,
          0.06569025864090576,
          5.20926967302366e-16,
          0,
          0,
          0.2143460917588978,
          0,
          0,
          0.10532802798685474,
          0,
          0,
          0,
          0,
          1.7845325048879548e-16,
          0.44128920431018015,
          0,
          0,
          0,
          9.266903452761757e-16,
          0,
          0.1015572168168751,
          0,
          0,
          0.06320823166026984
         ],
         "yaxis": "y"
        }
       ],
       "layout": {
        "barmode": "relative",
        "legend": {
         "tracegroupgap": 0
        },
        "template": {
         "data": {
          "bar": [
           {
            "error_x": {
             "color": "#2a3f5f"
            },
            "error_y": {
             "color": "#2a3f5f"
            },
            "marker": {
             "line": {
              "color": "#E5ECF6",
              "width": 0.5
             },
             "pattern": {
              "fillmode": "overlay",
              "size": 10,
              "solidity": 0.2
             }
            },
            "type": "bar"
           }
          ],
          "barpolar": [
           {
            "marker": {
             "line": {
              "color": "#E5ECF6",
              "width": 0.5
             },
             "pattern": {
              "fillmode": "overlay",
              "size": 10,
              "solidity": 0.2
             }
            },
            "type": "barpolar"
           }
          ],
          "carpet": [
           {
            "aaxis": {
             "endlinecolor": "#2a3f5f",
             "gridcolor": "white",
             "linecolor": "white",
             "minorgridcolor": "white",
             "startlinecolor": "#2a3f5f"
            },
            "baxis": {
             "endlinecolor": "#2a3f5f",
             "gridcolor": "white",
             "linecolor": "white",
             "minorgridcolor": "white",
             "startlinecolor": "#2a3f5f"
            },
            "type": "carpet"
           }
          ],
          "choropleth": [
           {
            "colorbar": {
             "outlinewidth": 0,
             "ticks": ""
            },
            "type": "choropleth"
           }
          ],
          "contour": [
           {
            "colorbar": {
             "outlinewidth": 0,
             "ticks": ""
            },
            "colorscale": [
             [
              0,
              "#0d0887"
             ],
             [
              0.1111111111111111,
              "#46039f"
             ],
             [
              0.2222222222222222,
              "#7201a8"
             ],
             [
              0.3333333333333333,
              "#9c179e"
             ],
             [
              0.4444444444444444,
              "#bd3786"
             ],
             [
              0.5555555555555556,
              "#d8576b"
             ],
             [
              0.6666666666666666,
              "#ed7953"
             ],
             [
              0.7777777777777778,
              "#fb9f3a"
             ],
             [
              0.8888888888888888,
              "#fdca26"
             ],
             [
              1,
              "#f0f921"
             ]
            ],
            "type": "contour"
           }
          ],
          "contourcarpet": [
           {
            "colorbar": {
             "outlinewidth": 0,
             "ticks": ""
            },
            "type": "contourcarpet"
           }
          ],
          "heatmap": [
           {
            "colorbar": {
             "outlinewidth": 0,
             "ticks": ""
            },
            "colorscale": [
             [
              0,
              "#0d0887"
             ],
             [
              0.1111111111111111,
              "#46039f"
             ],
             [
              0.2222222222222222,
              "#7201a8"
             ],
             [
              0.3333333333333333,
              "#9c179e"
             ],
             [
              0.4444444444444444,
              "#bd3786"
             ],
             [
              0.5555555555555556,
              "#d8576b"
             ],
             [
              0.6666666666666666,
              "#ed7953"
             ],
             [
              0.7777777777777778,
              "#fb9f3a"
             ],
             [
              0.8888888888888888,
              "#fdca26"
             ],
             [
              1,
              "#f0f921"
             ]
            ],
            "type": "heatmap"
           }
          ],
          "heatmapgl": [
           {
            "colorbar": {
             "outlinewidth": 0,
             "ticks": ""
            },
            "colorscale": [
             [
              0,
              "#0d0887"
             ],
             [
              0.1111111111111111,
              "#46039f"
             ],
             [
              0.2222222222222222,
              "#7201a8"
             ],
             [
              0.3333333333333333,
              "#9c179e"
             ],
             [
              0.4444444444444444,
              "#bd3786"
             ],
             [
              0.5555555555555556,
              "#d8576b"
             ],
             [
              0.6666666666666666,
              "#ed7953"
             ],
             [
              0.7777777777777778,
              "#fb9f3a"
             ],
             [
              0.8888888888888888,
              "#fdca26"
             ],
             [
              1,
              "#f0f921"
             ]
            ],
            "type": "heatmapgl"
           }
          ],
          "histogram": [
           {
            "marker": {
             "pattern": {
              "fillmode": "overlay",
              "size": 10,
              "solidity": 0.2
             }
            },
            "type": "histogram"
           }
          ],
          "histogram2d": [
           {
            "colorbar": {
             "outlinewidth": 0,
             "ticks": ""
            },
            "colorscale": [
             [
              0,
              "#0d0887"
             ],
             [
              0.1111111111111111,
              "#46039f"
             ],
             [
              0.2222222222222222,
              "#7201a8"
             ],
             [
              0.3333333333333333,
              "#9c179e"
             ],
             [
              0.4444444444444444,
              "#bd3786"
             ],
             [
              0.5555555555555556,
              "#d8576b"
             ],
             [
              0.6666666666666666,
              "#ed7953"
             ],
             [
              0.7777777777777778,
              "#fb9f3a"
             ],
             [
              0.8888888888888888,
              "#fdca26"
             ],
             [
              1,
              "#f0f921"
             ]
            ],
            "type": "histogram2d"
           }
          ],
          "histogram2dcontour": [
           {
            "colorbar": {
             "outlinewidth": 0,
             "ticks": ""
            },
            "colorscale": [
             [
              0,
              "#0d0887"
             ],
             [
              0.1111111111111111,
              "#46039f"
             ],
             [
              0.2222222222222222,
              "#7201a8"
             ],
             [
              0.3333333333333333,
              "#9c179e"
             ],
             [
              0.4444444444444444,
              "#bd3786"
             ],
             [
              0.5555555555555556,
              "#d8576b"
             ],
             [
              0.6666666666666666,
              "#ed7953"
             ],
             [
              0.7777777777777778,
              "#fb9f3a"
             ],
             [
              0.8888888888888888,
              "#fdca26"
             ],
             [
              1,
              "#f0f921"
             ]
            ],
            "type": "histogram2dcontour"
           }
          ],
          "mesh3d": [
           {
            "colorbar": {
             "outlinewidth": 0,
             "ticks": ""
            },
            "type": "mesh3d"
           }
          ],
          "parcoords": [
           {
            "line": {
             "colorbar": {
              "outlinewidth": 0,
              "ticks": ""
             }
            },
            "type": "parcoords"
           }
          ],
          "pie": [
           {
            "automargin": true,
            "type": "pie"
           }
          ],
          "scatter": [
           {
            "fillpattern": {
             "fillmode": "overlay",
             "size": 10,
             "solidity": 0.2
            },
            "type": "scatter"
           }
          ],
          "scatter3d": [
           {
            "line": {
             "colorbar": {
              "outlinewidth": 0,
              "ticks": ""
             }
            },
            "marker": {
             "colorbar": {
              "outlinewidth": 0,
              "ticks": ""
             }
            },
            "type": "scatter3d"
           }
          ],
          "scattercarpet": [
           {
            "marker": {
             "colorbar": {
              "outlinewidth": 0,
              "ticks": ""
             }
            },
            "type": "scattercarpet"
           }
          ],
          "scattergeo": [
           {
            "marker": {
             "colorbar": {
              "outlinewidth": 0,
              "ticks": ""
             }
            },
            "type": "scattergeo"
           }
          ],
          "scattergl": [
           {
            "marker": {
             "colorbar": {
              "outlinewidth": 0,
              "ticks": ""
             }
            },
            "type": "scattergl"
           }
          ],
          "scattermapbox": [
           {
            "marker": {
             "colorbar": {
              "outlinewidth": 0,
              "ticks": ""
             }
            },
            "type": "scattermapbox"
           }
          ],
          "scatterpolar": [
           {
            "marker": {
             "colorbar": {
              "outlinewidth": 0,
              "ticks": ""
             }
            },
            "type": "scatterpolar"
           }
          ],
          "scatterpolargl": [
           {
            "marker": {
             "colorbar": {
              "outlinewidth": 0,
              "ticks": ""
             }
            },
            "type": "scatterpolargl"
           }
          ],
          "scatterternary": [
           {
            "marker": {
             "colorbar": {
              "outlinewidth": 0,
              "ticks": ""
             }
            },
            "type": "scatterternary"
           }
          ],
          "surface": [
           {
            "colorbar": {
             "outlinewidth": 0,
             "ticks": ""
            },
            "colorscale": [
             [
              0,
              "#0d0887"
             ],
             [
              0.1111111111111111,
              "#46039f"
             ],
             [
              0.2222222222222222,
              "#7201a8"
             ],
             [
              0.3333333333333333,
              "#9c179e"
             ],
             [
              0.4444444444444444,
              "#bd3786"
             ],
             [
              0.5555555555555556,
              "#d8576b"
             ],
             [
              0.6666666666666666,
              "#ed7953"
             ],
             [
              0.7777777777777778,
              "#fb9f3a"
             ],
             [
              0.8888888888888888,
              "#fdca26"
             ],
             [
              1,
              "#f0f921"
             ]
            ],
            "type": "surface"
           }
          ],
          "table": [
           {
            "cells": {
             "fill": {
              "color": "#EBF0F8"
             },
             "line": {
              "color": "white"
             }
            },
            "header": {
             "fill": {
              "color": "#C8D4E3"
             },
             "line": {
              "color": "white"
             }
            },
            "type": "table"
           }
          ]
         },
         "layout": {
          "annotationdefaults": {
           "arrowcolor": "#2a3f5f",
           "arrowhead": 0,
           "arrowwidth": 1
          },
          "autotypenumbers": "strict",
          "coloraxis": {
           "colorbar": {
            "outlinewidth": 0,
            "ticks": ""
           }
          },
          "colorscale": {
           "diverging": [
            [
             0,
             "#8e0152"
            ],
            [
             0.1,
             "#c51b7d"
            ],
            [
             0.2,
             "#de77ae"
            ],
            [
             0.3,
             "#f1b6da"
            ],
            [
             0.4,
             "#fde0ef"
            ],
            [
             0.5,
             "#f7f7f7"
            ],
            [
             0.6,
             "#e6f5d0"
            ],
            [
             0.7,
             "#b8e186"
            ],
            [
             0.8,
             "#7fbc41"
            ],
            [
             0.9,
             "#4d9221"
            ],
            [
             1,
             "#276419"
            ]
           ],
           "sequential": [
            [
             0,
             "#0d0887"
            ],
            [
             0.1111111111111111,
             "#46039f"
            ],
            [
             0.2222222222222222,
             "#7201a8"
            ],
            [
             0.3333333333333333,
             "#9c179e"
            ],
            [
             0.4444444444444444,
             "#bd3786"
            ],
            [
             0.5555555555555556,
             "#d8576b"
            ],
            [
             0.6666666666666666,
             "#ed7953"
            ],
            [
             0.7777777777777778,
             "#fb9f3a"
            ],
            [
             0.8888888888888888,
             "#fdca26"
            ],
            [
             1,
             "#f0f921"
            ]
           ],
           "sequentialminus": [
            [
             0,
             "#0d0887"
            ],
            [
             0.1111111111111111,
             "#46039f"
            ],
            [
             0.2222222222222222,
             "#7201a8"
            ],
            [
             0.3333333333333333,
             "#9c179e"
            ],
            [
             0.4444444444444444,
             "#bd3786"
            ],
            [
             0.5555555555555556,
             "#d8576b"
            ],
            [
             0.6666666666666666,
             "#ed7953"
            ],
            [
             0.7777777777777778,
             "#fb9f3a"
            ],
            [
             0.8888888888888888,
             "#fdca26"
            ],
            [
             1,
             "#f0f921"
            ]
           ]
          },
          "colorway": [
           "#636efa",
           "#EF553B",
           "#00cc96",
           "#ab63fa",
           "#FFA15A",
           "#19d3f3",
           "#FF6692",
           "#B6E880",
           "#FF97FF",
           "#FECB52"
          ],
          "font": {
           "color": "#2a3f5f"
          },
          "geo": {
           "bgcolor": "white",
           "lakecolor": "white",
           "landcolor": "#E5ECF6",
           "showlakes": true,
           "showland": true,
           "subunitcolor": "white"
          },
          "hoverlabel": {
           "align": "left"
          },
          "hovermode": "closest",
          "mapbox": {
           "style": "light"
          },
          "paper_bgcolor": "white",
          "plot_bgcolor": "#E5ECF6",
          "polar": {
           "angularaxis": {
            "gridcolor": "white",
            "linecolor": "white",
            "ticks": ""
           },
           "bgcolor": "#E5ECF6",
           "radialaxis": {
            "gridcolor": "white",
            "linecolor": "white",
            "ticks": ""
           }
          },
          "scene": {
           "xaxis": {
            "backgroundcolor": "#E5ECF6",
            "gridcolor": "white",
            "gridwidth": 2,
            "linecolor": "white",
            "showbackground": true,
            "ticks": "",
            "zerolinecolor": "white"
           },
           "yaxis": {
            "backgroundcolor": "#E5ECF6",
            "gridcolor": "white",
            "gridwidth": 2,
            "linecolor": "white",
            "showbackground": true,
            "ticks": "",
            "zerolinecolor": "white"
           },
           "zaxis": {
            "backgroundcolor": "#E5ECF6",
            "gridcolor": "white",
            "gridwidth": 2,
            "linecolor": "white",
            "showbackground": true,
            "ticks": "",
            "zerolinecolor": "white"
           }
          },
          "shapedefaults": {
           "line": {
            "color": "#2a3f5f"
           }
          },
          "ternary": {
           "aaxis": {
            "gridcolor": "white",
            "linecolor": "white",
            "ticks": ""
           },
           "baxis": {
            "gridcolor": "white",
            "linecolor": "white",
            "ticks": ""
           },
           "bgcolor": "#E5ECF6",
           "caxis": {
            "gridcolor": "white",
            "linecolor": "white",
            "ticks": ""
           }
          },
          "title": {
           "x": 0.05
          },
          "xaxis": {
           "automargin": true,
           "gridcolor": "white",
           "linecolor": "white",
           "ticks": "",
           "title": {
            "standoff": 15
           },
           "zerolinecolor": "white",
           "zerolinewidth": 2
          },
          "yaxis": {
           "automargin": true,
           "gridcolor": "white",
           "linecolor": "white",
           "ticks": "",
           "title": {
            "standoff": 15
           },
           "zerolinecolor": "white",
           "zerolinewidth": 2
          }
         }
        },
        "title": {
         "text": "HY Allocation Range"
        },
        "xaxis": {
         "anchor": "y",
         "domain": [
          0,
          1
         ],
         "title": {
          "text": "DATE"
         }
        },
        "yaxis": {
         "anchor": "x",
         "domain": [
          0,
          1
         ],
         "title": {
          "text": "diff"
         }
        }
       }
      },
      "text/html": [
       "<div>                            <div id=\"b35858d9-df12-40d1-87a5-918b3229d79d\" class=\"plotly-graph-div\" style=\"height:525px; width:100%;\"></div>            <script type=\"text/javascript\">                require([\"plotly\"], function(Plotly) {                    window.PLOTLYENV=window.PLOTLYENV || {};                                    if (document.getElementById(\"b35858d9-df12-40d1-87a5-918b3229d79d\")) {                    Plotly.newPlot(                        \"b35858d9-df12-40d1-87a5-918b3229d79d\",                        [{\"alignmentgroup\":\"True\",\"hovertemplate\":\"DATE=%{x}\\u003cbr\\u003ediff=%{y}\\u003cextra\\u003e\\u003c\\u002fextra\\u003e\",\"legendgroup\":\"\",\"marker\":{\"color\":\"#636efa\",\"pattern\":{\"shape\":\"\"}},\"name\":\"\",\"offsetgroup\":\"\",\"orientation\":\"v\",\"showlegend\":false,\"textposition\":\"auto\",\"x\":[\"2011-02-01\",\"2022-06-01\",\"2020-05-01\",\"2010-04-01\",\"2002-08-01\",\"2017-11-01\",\"2000-09-01\",\"2009-02-01\",\"2006-06-01\",\"2021-08-01\",\"2019-10-01\",\"2022-02-01\",\"2015-03-01\",\"2004-10-01\",\"2006-12-01\",\"2001-11-01\",\"2023-03-01\",\"2024-03-01\",\"2007-01-01\",\"2003-08-01\",\"2007-11-01\",\"2020-04-01\",\"2020-07-01\",\"2021-06-01\",\"2011-08-01\",\"2005-02-01\",\"2009-07-01\",\"2002-04-01\",\"2005-09-01\",\"2008-02-01\",\"2013-03-01\",\"2022-03-01\",\"2011-12-01\",\"2013-10-01\",\"2010-06-01\",\"2020-03-01\",\"2016-09-01\",\"2004-09-01\",\"2020-12-01\",\"2003-03-01\",\"2019-02-01\",\"2020-10-01\",\"2010-10-01\",\"2009-04-01\",\"2021-09-01\",\"2006-10-01\",\"2016-03-01\",\"2012-08-01\",\"2016-06-01\",\"2017-02-01\",\"2020-11-01\",\"2008-03-01\",\"2003-11-01\",\"2015-04-01\",\"2023-06-01\",\"2000-08-01\",\"2016-07-01\",\"2023-07-01\",\"2018-05-01\",\"2012-05-01\",\"2017-09-01\",\"2018-09-01\",\"2017-07-01\",\"2018-03-01\",\"2017-05-01\",\"2007-05-01\",\"2002-02-01\",\"2003-12-01\",\"2022-11-01\",\"2021-01-01\",\"2002-10-01\",\"2001-07-01\",\"2005-01-01\",\"2004-01-01\",\"2019-09-01\",\"2005-03-01\",\"2004-02-01\",\"2015-07-01\",\"2013-11-01\",\"2001-05-01\",\"2022-08-01\",\"2015-11-01\",\"2015-06-01\",\"2018-06-01\",\"2005-05-01\",\"2018-07-01\",\"2007-04-01\",\"2013-04-01\",\"2008-09-01\",\"2013-08-01\",\"2017-12-01\",\"2015-09-01\",\"2009-03-01\",\"2021-04-01\",\"2019-03-01\",\"2016-11-01\",\"2006-01-01\",\"2011-01-01\",\"2006-08-01\",\"2014-07-01\",\"2023-12-01\",\"2018-04-01\",\"2016-05-01\",\"2024-04-01\",\"2017-06-01\",\"2022-05-01\",\"2023-09-01\",\"2004-04-01\",\"2008-12-01\",\"2003-05-01\",\"2015-10-01\",\"2002-01-01\",\"2013-02-01\",\"2000-05-01\",\"2023-02-01\",\"2003-06-01\",\"2012-11-01\",\"2021-12-01\",\"2012-12-01\",\"2024-05-01\",\"2005-11-01\",\"2015-12-01\",\"2023-01-01\",\"2003-04-01\",\"2006-04-01\",\"2009-08-01\",\"2011-11-01\",\"2016-10-01\",\"2000-10-01\",\"2006-02-01\",\"2000-03-01\",\"2005-08-01\",\"2001-06-01\",\"2007-03-01\",\"2019-12-01\",\"2006-07-01\",\"2000-12-01\",\"2016-12-01\",\"2010-07-01\",\"2003-07-01\",\"2004-12-01\",\"2005-07-01\",\"2009-01-01\",\"2001-01-01\",\"2011-10-01\",\"2010-05-01\",\"2003-02-01\",\"2010-11-01\",\"2018-10-01\",\"2000-04-01\",\"2011-09-01\",\"2007-02-01\",\"2004-06-01\",\"2010-09-01\",\"2012-07-01\",\"2023-10-01\",\"2008-05-01\",\"2000-01-01\",\"2014-01-01\",\"2012-06-01\",\"2012-03-01\",\"2004-05-01\",\"2001-08-01\",\"2014-04-01\",\"2009-05-01\",\"2017-01-01\",\"2023-04-01\",\"2013-01-01\",\"2009-06-01\",\"2019-04-01\",\"2021-03-01\",\"2007-07-01\",\"2002-09-01\",\"2015-08-01\",\"2021-07-01\",\"2008-10-01\",\"2010-12-01\",\"2003-10-01\",\"2016-01-01\",\"2000-07-01\",\"2016-08-01\",\"2016-04-01\",\"2022-10-01\",\"2011-03-01\",\"2018-11-01\",\"2022-12-01\",\"2002-07-01\",\"2023-08-01\",\"2007-10-01\",\"2002-03-01\",\"2023-05-01\",\"2007-09-01\",\"2009-09-01\",\"2001-10-01\",\"2007-06-01\",\"2018-01-01\",\"2001-04-01\",\"2019-05-01\",\"2003-09-01\",\"2011-05-01\",\"2015-05-01\",\"2013-12-01\",\"2020-01-01\",\"2014-06-01\",\"2014-09-01\",\"2020-06-01\",\"2014-12-01\",\"2008-06-01\",\"2002-11-01\",\"2004-07-01\",\"2010-03-01\",\"2012-02-01\",\"2024-01-01\",\"2005-12-01\",\"2013-05-01\",\"2001-12-01\",\"2004-08-01\",\"2021-05-01\",\"2018-02-01\",\"2019-06-01\",\"2002-05-01\",\"2014-10-01\",\"2022-01-01\",\"2018-08-01\",\"2019-01-01\",\"2012-01-01\",\"2012-04-01\",\"2006-05-01\",\"2021-02-01\",\"2017-08-01\",\"2008-11-01\",\"2020-09-01\",\"2008-07-01\",\"2015-01-01\",\"2022-04-01\",\"2012-10-01\",\"2024-02-01\",\"2019-11-01\",\"2005-04-01\",\"2010-01-01\",\"2011-04-01\",\"2006-11-01\",\"2017-03-01\",\"2001-03-01\",\"2017-10-01\",\"2014-11-01\",\"2005-06-01\",\"2014-05-01\",\"2021-11-01\",\"2001-02-01\",\"2013-06-01\",\"2003-01-01\",\"2019-08-01\",\"2023-11-01\",\"2012-09-01\",\"2002-12-01\",\"2004-11-01\",\"2014-02-01\",\"2008-04-01\",\"2000-11-01\",\"2022-09-01\",\"2013-09-01\",\"2020-08-01\",\"2010-02-01\",\"2008-01-01\",\"2009-11-01\",\"2008-08-01\",\"2016-02-01\",\"2020-02-01\",\"2018-12-01\",\"2022-07-01\",\"2006-03-01\",\"2011-07-01\",\"2005-10-01\",\"2009-12-01\",\"2015-02-01\",\"2000-06-01\",\"2010-08-01\",\"2002-06-01\",\"2013-07-01\",\"2017-04-01\",\"2021-10-01\",\"2007-12-01\",\"2009-10-01\",\"2014-03-01\",\"2000-02-01\",\"2004-03-01\",\"2006-09-01\",\"2007-08-01\",\"2019-07-01\",\"2011-06-01\",\"2014-08-01\",\"2001-09-01\"],\"xaxis\":\"x\",\"y\":[0.0,0.0,0.5574964816004206,0.0755930826544484,0.039924426805021035,0.0,0.0,0.3680330646327543,1.7705780249876096e-16,0.0,0.03923524319899098,0.0,0.0,4.444718918858636e-16,0.0,0.05188332078028124,0.023901399229832993,0.0,1.7316734138735081e-16,0.0,7.328164937768147e-16,0.3679011958084898,0.4454498887675665,0.0,0.0,0.0,0.555174518926628,0.030299691311735426,0.0,0.0,0.0,0.0,0.05078894378202364,0.0,0.0903995589046197,0.010248748600333979,0.07394681938182224,0.0,0.04825307479563701,0.1321847559011427,0.06685911571438456,0.14516209895144636,0.10525073133081714,0.2759785820505043,0.0,2.6830608324767328e-16,0.13503761880464715,0.08516426766852335,0.02788031870943128,0.0,0.13893367139121648,0.0,0.0,0.0,0.01914577485563808,0.0,0.014577472159029214,0.0,0.0,0.061685345175760034,0.0,1.65016861480453e-16,0.0,0.0,0.0,0.0,0.09203982325364947,4.58450931350139e-16,0.034510702086634815,0.0,0.1446961733358153,0.08241918296922307,2.51903391982653e-16,4.447707884307885e-16,0.06950249328727999,8.413736548322307e-16,0.0,0.0,0.0,0.1173052117231846,0.0,0.04403783481357245,0.0,0.0,0.0,0.0,1.7438583991032902e-16,0.0,0.03181601149319291,0.0,0.0,0.0,0.28497456049633707,0.0,0.0879109112913129,0.012538067207956853,0.0,0.024601409221264876,8.879698115186218e-16,0.0,0.0,0.0,0.10531624602729783,0.0,0.0,0.0,0.0,0.0,0.4028850956822152,0.0,0.02037679231173116,0.13039521297613996,0.0,0.0,0.02457370403004277,0.0,0.015938343371975156,0.0,1.693639615661479e-16,0.0,0.0,0.06251189373811876,0.0395037636930307,0.044404626087718564,2.698336291613389e-16,0.5659107229682336,0.09852501402675776,0.03953774318288246,0.0,0.0,0.0,0.0,0.0763200297269154,0.0,0.0,0.0,0.06102067038488336,0.0,0.10850682178797846,0.0,0.0,5.221441970100614e-16,0.34883646368835985,0.07764160730980815,0.05110196672082701,0.032396201399559565,0.15244611184609974,0.06183747757265514,0.0,0.0,0.058811370673560646,0.0,0.0,0.11443552572688913,0.10230337319401303,0.0,0.0,0.0,7.867131597765334e-16,0.0984266593985495,0.10237460828019417,0.0,0.07931523414695492,0.0,0.34498766621021215,0.0,0.01754503222969584,0.0,0.46468263981694,0.09366193471724552,0.0,0.0,0.020512568143619403,0.0,0.0,0.43112871729742425,0.06568316475279919,0.0,0.1460958204378945,0.0,0.10801489536777398,0.20254319392142842,0.25727386224844406,0.0,0.0,0.05376928710857504,0.04295432788438139,0.0,7.373324281416113e-16,0.0937611314773326,0.011005155063663166,0.0,0.5464784924966168,0.048470196433237606,4.712927147784558e-16,0.0,0.08363321166585454,0.08071390507670627,4.944870274302344e-16,1.5851104683602467e-16,0.0,0.0,0.0,0.0,0.0,0.4956446382240715,0.0,0.0,0.21376764522005887,0.0,0.12113541511214163,0.157222911297121,0.0,1.8226977798292533e-16,2.410158496538063e-16,0.16608543385561514,0.0,0.0,0.0,0.08583352073178696,1.702869671479949e-16,0.0,0.0,0.0,0.0629767077498502,0.1374179162134208,0.0786522167107754,0.0,0.0,0.0,0.5425353783959883,0.13062044084078425,0.0663014641089526,0.0,0.0,0.04010745579185944,0.0,0.007703170309211159,0.0,0.16332274583085465,0.0,5.031684843645558e-16,0.0,0.08192301578985793,0.0,1.573069308563648e-16,0.0,3.6025073696550877e-16,0.0,0.12039516589761598,0.0,0.210195081627647,0.09089802260292881,0.0015342864414689189,0.06893325067208517,0.06552590645662212,0.0,0.0,0.028836331179427344,0.009636752933585966,0.0,0.0,0.22615887574092775,0.12978318412832948,0.0,0.31186260766172735,0.13470690155791998,0.1070960738068194,0.0,0.034690165469584276,0.06569025864090576,5.20926967302366e-16,0.0,0.0,0.2143460917588978,0.0,0.0,0.10532802798685474,0.0,0.0,0.0,0.0,1.7845325048879548e-16,0.44128920431018015,0.0,0.0,0.0,9.266903452761757e-16,0.0,0.1015572168168751,0.0,0.0,0.06320823166026984],\"yaxis\":\"y\",\"type\":\"bar\"}],                        {\"template\":{\"data\":{\"histogram2dcontour\":[{\"type\":\"histogram2dcontour\",\"colorbar\":{\"outlinewidth\":0,\"ticks\":\"\"},\"colorscale\":[[0.0,\"#0d0887\"],[0.1111111111111111,\"#46039f\"],[0.2222222222222222,\"#7201a8\"],[0.3333333333333333,\"#9c179e\"],[0.4444444444444444,\"#bd3786\"],[0.5555555555555556,\"#d8576b\"],[0.6666666666666666,\"#ed7953\"],[0.7777777777777778,\"#fb9f3a\"],[0.8888888888888888,\"#fdca26\"],[1.0,\"#f0f921\"]]}],\"choropleth\":[{\"type\":\"choropleth\",\"colorbar\":{\"outlinewidth\":0,\"ticks\":\"\"}}],\"histogram2d\":[{\"type\":\"histogram2d\",\"colorbar\":{\"outlinewidth\":0,\"ticks\":\"\"},\"colorscale\":[[0.0,\"#0d0887\"],[0.1111111111111111,\"#46039f\"],[0.2222222222222222,\"#7201a8\"],[0.3333333333333333,\"#9c179e\"],[0.4444444444444444,\"#bd3786\"],[0.5555555555555556,\"#d8576b\"],[0.6666666666666666,\"#ed7953\"],[0.7777777777777778,\"#fb9f3a\"],[0.8888888888888888,\"#fdca26\"],[1.0,\"#f0f921\"]]}],\"heatmap\":[{\"type\":\"heatmap\",\"colorbar\":{\"outlinewidth\":0,\"ticks\":\"\"},\"colorscale\":[[0.0,\"#0d0887\"],[0.1111111111111111,\"#46039f\"],[0.2222222222222222,\"#7201a8\"],[0.3333333333333333,\"#9c179e\"],[0.4444444444444444,\"#bd3786\"],[0.5555555555555556,\"#d8576b\"],[0.6666666666666666,\"#ed7953\"],[0.7777777777777778,\"#fb9f3a\"],[0.8888888888888888,\"#fdca26\"],[1.0,\"#f0f921\"]]}],\"heatmapgl\":[{\"type\":\"heatmapgl\",\"colorbar\":{\"outlinewidth\":0,\"ticks\":\"\"},\"colorscale\":[[0.0,\"#0d0887\"],[0.1111111111111111,\"#46039f\"],[0.2222222222222222,\"#7201a8\"],[0.3333333333333333,\"#9c179e\"],[0.4444444444444444,\"#bd3786\"],[0.5555555555555556,\"#d8576b\"],[0.6666666666666666,\"#ed7953\"],[0.7777777777777778,\"#fb9f3a\"],[0.8888888888888888,\"#fdca26\"],[1.0,\"#f0f921\"]]}],\"contourcarpet\":[{\"type\":\"contourcarpet\",\"colorbar\":{\"outlinewidth\":0,\"ticks\":\"\"}}],\"contour\":[{\"type\":\"contour\",\"colorbar\":{\"outlinewidth\":0,\"ticks\":\"\"},\"colorscale\":[[0.0,\"#0d0887\"],[0.1111111111111111,\"#46039f\"],[0.2222222222222222,\"#7201a8\"],[0.3333333333333333,\"#9c179e\"],[0.4444444444444444,\"#bd3786\"],[0.5555555555555556,\"#d8576b\"],[0.6666666666666666,\"#ed7953\"],[0.7777777777777778,\"#fb9f3a\"],[0.8888888888888888,\"#fdca26\"],[1.0,\"#f0f921\"]]}],\"surface\":[{\"type\":\"surface\",\"colorbar\":{\"outlinewidth\":0,\"ticks\":\"\"},\"colorscale\":[[0.0,\"#0d0887\"],[0.1111111111111111,\"#46039f\"],[0.2222222222222222,\"#7201a8\"],[0.3333333333333333,\"#9c179e\"],[0.4444444444444444,\"#bd3786\"],[0.5555555555555556,\"#d8576b\"],[0.6666666666666666,\"#ed7953\"],[0.7777777777777778,\"#fb9f3a\"],[0.8888888888888888,\"#fdca26\"],[1.0,\"#f0f921\"]]}],\"mesh3d\":[{\"type\":\"mesh3d\",\"colorbar\":{\"outlinewidth\":0,\"ticks\":\"\"}}],\"scatter\":[{\"fillpattern\":{\"fillmode\":\"overlay\",\"size\":10,\"solidity\":0.2},\"type\":\"scatter\"}],\"parcoords\":[{\"type\":\"parcoords\",\"line\":{\"colorbar\":{\"outlinewidth\":0,\"ticks\":\"\"}}}],\"scatterpolargl\":[{\"type\":\"scatterpolargl\",\"marker\":{\"colorbar\":{\"outlinewidth\":0,\"ticks\":\"\"}}}],\"bar\":[{\"error_x\":{\"color\":\"#2a3f5f\"},\"error_y\":{\"color\":\"#2a3f5f\"},\"marker\":{\"line\":{\"color\":\"#E5ECF6\",\"width\":0.5},\"pattern\":{\"fillmode\":\"overlay\",\"size\":10,\"solidity\":0.2}},\"type\":\"bar\"}],\"scattergeo\":[{\"type\":\"scattergeo\",\"marker\":{\"colorbar\":{\"outlinewidth\":0,\"ticks\":\"\"}}}],\"scatterpolar\":[{\"type\":\"scatterpolar\",\"marker\":{\"colorbar\":{\"outlinewidth\":0,\"ticks\":\"\"}}}],\"histogram\":[{\"marker\":{\"pattern\":{\"fillmode\":\"overlay\",\"size\":10,\"solidity\":0.2}},\"type\":\"histogram\"}],\"scattergl\":[{\"type\":\"scattergl\",\"marker\":{\"colorbar\":{\"outlinewidth\":0,\"ticks\":\"\"}}}],\"scatter3d\":[{\"type\":\"scatter3d\",\"line\":{\"colorbar\":{\"outlinewidth\":0,\"ticks\":\"\"}},\"marker\":{\"colorbar\":{\"outlinewidth\":0,\"ticks\":\"\"}}}],\"scattermapbox\":[{\"type\":\"scattermapbox\",\"marker\":{\"colorbar\":{\"outlinewidth\":0,\"ticks\":\"\"}}}],\"scatterternary\":[{\"type\":\"scatterternary\",\"marker\":{\"colorbar\":{\"outlinewidth\":0,\"ticks\":\"\"}}}],\"scattercarpet\":[{\"type\":\"scattercarpet\",\"marker\":{\"colorbar\":{\"outlinewidth\":0,\"ticks\":\"\"}}}],\"carpet\":[{\"aaxis\":{\"endlinecolor\":\"#2a3f5f\",\"gridcolor\":\"white\",\"linecolor\":\"white\",\"minorgridcolor\":\"white\",\"startlinecolor\":\"#2a3f5f\"},\"baxis\":{\"endlinecolor\":\"#2a3f5f\",\"gridcolor\":\"white\",\"linecolor\":\"white\",\"minorgridcolor\":\"white\",\"startlinecolor\":\"#2a3f5f\"},\"type\":\"carpet\"}],\"table\":[{\"cells\":{\"fill\":{\"color\":\"#EBF0F8\"},\"line\":{\"color\":\"white\"}},\"header\":{\"fill\":{\"color\":\"#C8D4E3\"},\"line\":{\"color\":\"white\"}},\"type\":\"table\"}],\"barpolar\":[{\"marker\":{\"line\":{\"color\":\"#E5ECF6\",\"width\":0.5},\"pattern\":{\"fillmode\":\"overlay\",\"size\":10,\"solidity\":0.2}},\"type\":\"barpolar\"}],\"pie\":[{\"automargin\":true,\"type\":\"pie\"}]},\"layout\":{\"autotypenumbers\":\"strict\",\"colorway\":[\"#636efa\",\"#EF553B\",\"#00cc96\",\"#ab63fa\",\"#FFA15A\",\"#19d3f3\",\"#FF6692\",\"#B6E880\",\"#FF97FF\",\"#FECB52\"],\"font\":{\"color\":\"#2a3f5f\"},\"hovermode\":\"closest\",\"hoverlabel\":{\"align\":\"left\"},\"paper_bgcolor\":\"white\",\"plot_bgcolor\":\"#E5ECF6\",\"polar\":{\"bgcolor\":\"#E5ECF6\",\"angularaxis\":{\"gridcolor\":\"white\",\"linecolor\":\"white\",\"ticks\":\"\"},\"radialaxis\":{\"gridcolor\":\"white\",\"linecolor\":\"white\",\"ticks\":\"\"}},\"ternary\":{\"bgcolor\":\"#E5ECF6\",\"aaxis\":{\"gridcolor\":\"white\",\"linecolor\":\"white\",\"ticks\":\"\"},\"baxis\":{\"gridcolor\":\"white\",\"linecolor\":\"white\",\"ticks\":\"\"},\"caxis\":{\"gridcolor\":\"white\",\"linecolor\":\"white\",\"ticks\":\"\"}},\"coloraxis\":{\"colorbar\":{\"outlinewidth\":0,\"ticks\":\"\"}},\"colorscale\":{\"sequential\":[[0.0,\"#0d0887\"],[0.1111111111111111,\"#46039f\"],[0.2222222222222222,\"#7201a8\"],[0.3333333333333333,\"#9c179e\"],[0.4444444444444444,\"#bd3786\"],[0.5555555555555556,\"#d8576b\"],[0.6666666666666666,\"#ed7953\"],[0.7777777777777778,\"#fb9f3a\"],[0.8888888888888888,\"#fdca26\"],[1.0,\"#f0f921\"]],\"sequentialminus\":[[0.0,\"#0d0887\"],[0.1111111111111111,\"#46039f\"],[0.2222222222222222,\"#7201a8\"],[0.3333333333333333,\"#9c179e\"],[0.4444444444444444,\"#bd3786\"],[0.5555555555555556,\"#d8576b\"],[0.6666666666666666,\"#ed7953\"],[0.7777777777777778,\"#fb9f3a\"],[0.8888888888888888,\"#fdca26\"],[1.0,\"#f0f921\"]],\"diverging\":[[0,\"#8e0152\"],[0.1,\"#c51b7d\"],[0.2,\"#de77ae\"],[0.3,\"#f1b6da\"],[0.4,\"#fde0ef\"],[0.5,\"#f7f7f7\"],[0.6,\"#e6f5d0\"],[0.7,\"#b8e186\"],[0.8,\"#7fbc41\"],[0.9,\"#4d9221\"],[1,\"#276419\"]]},\"xaxis\":{\"gridcolor\":\"white\",\"linecolor\":\"white\",\"ticks\":\"\",\"title\":{\"standoff\":15},\"zerolinecolor\":\"white\",\"automargin\":true,\"zerolinewidth\":2},\"yaxis\":{\"gridcolor\":\"white\",\"linecolor\":\"white\",\"ticks\":\"\",\"title\":{\"standoff\":15},\"zerolinecolor\":\"white\",\"automargin\":true,\"zerolinewidth\":2},\"scene\":{\"xaxis\":{\"backgroundcolor\":\"#E5ECF6\",\"gridcolor\":\"white\",\"linecolor\":\"white\",\"showbackground\":true,\"ticks\":\"\",\"zerolinecolor\":\"white\",\"gridwidth\":2},\"yaxis\":{\"backgroundcolor\":\"#E5ECF6\",\"gridcolor\":\"white\",\"linecolor\":\"white\",\"showbackground\":true,\"ticks\":\"\",\"zerolinecolor\":\"white\",\"gridwidth\":2},\"zaxis\":{\"backgroundcolor\":\"#E5ECF6\",\"gridcolor\":\"white\",\"linecolor\":\"white\",\"showbackground\":true,\"ticks\":\"\",\"zerolinecolor\":\"white\",\"gridwidth\":2}},\"shapedefaults\":{\"line\":{\"color\":\"#2a3f5f\"}},\"annotationdefaults\":{\"arrowcolor\":\"#2a3f5f\",\"arrowhead\":0,\"arrowwidth\":1},\"geo\":{\"bgcolor\":\"white\",\"landcolor\":\"#E5ECF6\",\"subunitcolor\":\"white\",\"showland\":true,\"showlakes\":true,\"lakecolor\":\"white\"},\"title\":{\"x\":0.05},\"mapbox\":{\"style\":\"light\"}}},\"xaxis\":{\"anchor\":\"y\",\"domain\":[0.0,1.0],\"title\":{\"text\":\"DATE\"}},\"yaxis\":{\"anchor\":\"x\",\"domain\":[0.0,1.0],\"title\":{\"text\":\"diff\"}},\"legend\":{\"tracegroupgap\":0},\"title\":{\"text\":\"HY Allocation Range\"},\"barmode\":\"relative\"},                        {\"responsive\": true}                    ).then(function(){\n",
       "                            \n",
       "var gd = document.getElementById('b35858d9-df12-40d1-87a5-918b3229d79d');\n",
       "var x = new MutationObserver(function (mutations, observer) {{\n",
       "        var display = window.getComputedStyle(gd).display;\n",
       "        if (!display || display === 'none') {{\n",
       "            console.log([gd, 'removed!']);\n",
       "            Plotly.purge(gd);\n",
       "            observer.disconnect();\n",
       "        }}\n",
       "}});\n",
       "\n",
       "// Listen for the removal of the full notebook cells\n",
       "var notebookContainer = gd.closest('#notebook-container');\n",
       "if (notebookContainer) {{\n",
       "    x.observe(notebookContainer, {childList: true});\n",
       "}}\n",
       "\n",
       "// Listen for the clearing of the current output cell\n",
       "var outputEl = gd.closest('.output');\n",
       "if (outputEl) {{\n",
       "    x.observe(outputEl, {childList: true});\n",
       "}}\n",
       "\n",
       "                        })                };                });            </script>        </div>"
      ]
     },
     "metadata": {},
     "output_type": "display_data"
    }
   ],
   "source": [
    "for asset in fixed_list:\n",
    "    min = fixed.filter(pl.col(\"ASSET_CLASS_ID\").is_in([asset]))\n",
    "    min = min.group_by([\"DATE\"]).agg(pl.col(\"split\").min())\n",
    "\n",
    "    max = fixed.filter(pl.col(\"ASSET_CLASS_ID\").is_in([asset]))\n",
    "    max = max.group_by([\"DATE\"]).agg(pl.col(\"split\").max())\n",
    "    print(max.sort(\"DATE\"))\n",
    "\n",
    "    diff = min.join(max, on=[\"DATE\"], how=\"inner\")\n",
    "    print(diff.sort(\"DATE\"))\n",
    "    diff = diff.with_columns((pl.col(\"split_right\") - pl.col(\"split\")).alias(\"diff\"))\n",
    "    diff.sort(\"DATE\")\n",
    "    diff = diff.to_pandas()\n",
    "    fig = px.bar(diff, x='DATE', y='diff', title=asset + \" Allocation Range\")   \n",
    "    fig.show()"
   ]
  }
 ],
 "metadata": {
  "kernelspec": {
   "display_name": "wip-qgRpHQ0A-py3.10",
   "language": "python",
   "name": "python3"
  },
  "language_info": {
   "codemirror_mode": {
    "name": "ipython",
    "version": 3
   },
   "file_extension": ".py",
   "mimetype": "text/x-python",
   "name": "python",
   "nbconvert_exporter": "python",
   "pygments_lexer": "ipython3",
   "version": "3.10.12"
  }
 },
 "nbformat": 4,
 "nbformat_minor": 2
}
